{
 "cells": [
  {
   "cell_type": "markdown",
   "metadata": {},
   "source": [
    "# Query LLM to generate dataset\n",
    "\n",
    "This is the code used to create our main datasets of LLM measurements.\n",
    "The `load_dataset` function automatically downloads and preprocesses the `cpd_debates` if they were not yet."
   ]
  },
  {
   "cell_type": "code",
   "execution_count": 1,
   "metadata": {},
   "outputs": [],
   "source": [
    "import os\n",
    "import numpy as np\n",
    "import pandas as pd\n",
    "import random\n",
    "import matplotlib.pyplot as plt\n",
    "import seaborn as sns\n",
    "\n",
    "\n",
    "\n",
    "from datasets.llm_measurements.query_llm import load_dataset, get_slice_metadata, get_speaker_slice_metadata, get_contextual_slice_measurements, get_contextual_speaker_measurements\n",
    "\n",
    "\n",
    "\n",
    "experiment_folder = 'datasets/llm_measurements/experiments'\n",
    "\n",
    "\n",
    "\n",
    "# set OpenAI API key from file\n",
    "with open('.key', 'r') as file:\n",
    "    key = file.read().replace('\\n', '')\n",
    "    os.environ['OPENAI_API_KEY'] = key"
   ]
  },
  {
   "cell_type": "markdown",
   "metadata": {},
   "source": [
    "## Run Experiments\n",
    "\n",
    "In the following we prompt the LLM to get our measurements.\n",
    "Since we cache the prompt response pairs you should be able to run this for free unless you modify something."
   ]
  },
  {
   "cell_type": "code",
   "execution_count": 2,
   "metadata": {},
   "outputs": [
    {
     "name": "stdout",
     "output_type": "stream",
     "text": [
      "Loaded:\n",
      "\tDebates: 47\n",
      "\tSlices: 419\n",
      "\tParagraphs: 8836\n",
      "Only keeping slice_size=2500:\n",
      "\tDebates: 47\n",
      "\tSlices: 419\n",
      "\tParagraphs: 8836\n",
      "\n",
      "\n",
      "Found 185 distinct speakers.\n",
      "Found 1664 total speaker occurrences.\n",
      "Counter({'LEHRER': 87, 'BARACK OBAMA': 59, 'DONALD TRUMP': 58, 'GEORGE H. BUSH': 58, 'GEORGE W. BUSH': 57, 'WILLIAM CLINTON': 52, 'JOE BIDEN': 47, 'ALBERT GORE': 39, 'AUDIENCE QUESTION': 37, 'MODERATOR': 37, 'JIMMY CARTER': 33, 'HILLARY CLINTON': 32, 'RONALD REAGAN': 32, 'MITT ROMNEY': 31, 'PEROT': 31, 'SCHIEFFER': 28, 'JOHN KERRY': 28, 'JOHN MCCAIN': 28, 'WALLACE': 25, 'RICHARD NIXON': 24, 'GERALD FORD': 24, 'JOHN KENNEDY': 23, 'RADDATZ': 21, 'MICHAEL PENCE': 21, 'IFILL': 20, 'ROBERT DOLE': 20, 'DANFORTH QUAYLE': 19, 'WALTERS': 19, 'MICHAEL DUKAKIS': 18, 'RICHARD CHENEY': 18, 'WALTER MONDALE': 17, 'NEWMAN': 16, 'VANOCUR': 16, 'SMITH': 16, 'MASHEK': 14, 'BROKAW': 14, 'COMPTON': 12, 'QUIJANO': 12, 'TIM KAINE': 12, 'WELKER': 12, 'SIMPSON': 11, 'CROWLEY': 11, 'HOLT': 11, 'PAUL RYAN': 11, 'BRUNO': 10, 'STOCKDALE': 10, 'COOPER': 10, 'SARAH PALIN': 10, 'JOHN EDWARDS': 10, 'GIBSON': 10, 'McGEE': 9, 'SHAW': 9, 'MEMBER OF AUDIENCE': 9, 'KAMALA HARRIS': 9, 'PAGE': 9, 'LLOYD BENTSEN': 9, 'WOODRUFF': 9, 'GERALDINE FERRARO': 8, 'JOSEPH LIEBERMAN': 8, 'GORE': 8, 'JACK KEMP': 8, 'FRANKEL': 8, 'FREDERICK': 8, 'REYNOLDS': 7, 'GROER': 7, 'TREWHITT': 7, 'SPEAKERS': 6, 'SAWYER': 6, 'SHADEL': 6, 'HOWE': 6, 'DREW': 6, 'ANDERSON': 6, 'MOYERS': 6, 'MARGOLIS': 6, 'WIEGHART': 5, 'WARNER': 5, 'MITCHELL': 5, 'KRAFT': 5, 'MAYNARD': 5, 'NELSON': 5, 'VALERIANI': 5, 'VON FREMD': 4, 'DRUMMOND': 4, 'GANNON': 4, 'WHITE': 4, 'QUARLES': 4, 'BOYD': 4, 'KALB': 4, 'KONDRACKE': 4, 'MORGAN': 4, 'JENNINGS': 4, 'BARNES': 3, 'CATER': 3, 'EDWARDS': 3, 'GOVERNOR WILLIAM CLINTON': 3, 'AUDIENCE MEMBER': 3, 'GEYER': 3, 'ROOK': 3, 'HUME': 3, 'NIVEN': 3, 'SPIVAK': 3, 'LEVY': 3, 'WARREN': 3, 'HILLIARD': 3, 'RIDINGS': 2, 'CHANCELLOR': 2, 'CRONKITE': 2, 'GREENBERG, SYNDICATED COLUMNIST': 2, 'GOLDEN': 2, 'THOMAS': 2, 'FLEMING': 2, 'NOVINS': 2, 'VOICE': 2, 'STONE': 2, 'ELLIS': 2, 'BRONSING': 2, 'DEGENHART': 2, 'GRABEL': 2, 'DR. BERKLEY': 2, 'GONZALEZ': 2, 'BURNS': 2, 'DUBE': 2, 'UNIDENTIFIED MALE': 1, 'BILL SHADEL, MODERATOR': 1, 'QUINCY HOWE, MODERATOR': 1, 'SINGISER': 1, 'EDWIN NEWMAN, MODERATOR': 1, 'CAROLE SIMPSON': 1, 'GEORGE H. BUSH GEORGE GEORGE H. BUSH': 1, 'ROSS PEROT': 1, 'DOROTHY S. RIDINGS': 1, 'CAROL LOOMIS, BOARD OF EDITORS, FORTUNE MAGAZINE': 1, 'GOV. RONALD RONALD REAGAN': 1, 'LOOMIS': 1, 'RUTH J. HINERFELD, CHAIR, LEAGUE OF WOMEN VOTERS EDUCATION FUND': 1, 'CHARLES CORDDRY, MILITARY CORRESPONDENT, THE SUN, BALTIMORE': 1, 'GREENBERG': 1, 'CORDDRY': 1, 'MAY': 1, 'QUINN': 1, 'GOLDEN, EDITORIAL WRITER, THE NEW YORK TIMES': 1, 'JIM LEHRER': 1, 'GIBBONS': 1, 'FRANK McGEE, MODERATOR': 1, 'HOWARD K. SMITH, MODERATOR': 1, 'SENATOR JOHN KENNEDY': 1, 'MARVIN STONE, U.S. NEWS AND WORLD REPORT': 1, 'RUTH HINERFELD, LEAGUE OF WOMEN VOTERS, EDUCATION FUND': 1, 'SMITH, ABC NEWS': 1, 'ELLIS, CHRISTIAN SCIENCE MONITOR': 1, 'WILLIAM HILLIARD, PORTLAND OREGONIAN': 1, 'BARBARA WALTERS': 1, 'HARRY ELLIS': 1, 'SANDER VANOCUR': 1, 'DAHLE': 1, 'OTIS': 1, 'BALDI': 1, 'WASHINGTON': 1, 'FARLEY': 1, 'JACOBS': 1, 'HORSTMAN': 1, 'LAURENT': 1, 'O’BRIEN': 1, 'HUBB': 1, 'VARNER': 1, 'BARROW': 1, 'FOWLER': 1, 'LONG': 1, 'MICHAELSON': 1, 'McAFEE': 1, 'KELLY': 1, 'MILLIGAN': 1, 'DELGADO': 1, 'FLECK': 1, 'JOHNSON': 1, 'NAUDIN': 1, 'DAVID': 1, 'SANDERS': 1, 'GIANNOTTI': 1, 'GOLDFARB': 1, 'O’CONNOR': 1, 'STRATEGOS': 1, 'KITE': 1, 'SIEFERT': 1, 'FREDERIC': 1})\n"
     ]
    }
   ],
   "source": [
    "from datasets.llm_measurements.query_llm import load_chatbot, load_paragraphs, slices_to_single_slice_variable_prompt, slices_and_speakers_to_single_speaker_variable_prompt, slices_and_speakers_to_multi_speaker_variable_multi_speaker_prompt, slices_and_speaker_to_multi_speaker_variable_prompt, run_experiment\n",
    "\n",
    "\n",
    "\n",
    "# create chatbot (GPT-3.5-turbo from OpenAI)\n",
    "bot = load_chatbot()\n",
    "# bot = load_chatbot(output_file_suffix='pertubation')\n",
    "\n",
    "debates_d, slices_d, paragraphs_d = load_dataset() # loads the preprocessed dataset of cpd debates\n",
    "print(f'Loaded:\\n\\tDebates: {len(debates_d)}\\n\\tSlices: {len(slices_d)}\\n\\tParagraphs: {len(paragraphs_d)}')\n",
    "\n",
    "# remove all that are too long\n",
    "debates = list(debates_d.values())\n",
    "# slices = [slice for slice in slices_d.values() if slice['slice_size'] == 250 or slice['slice_size'] == 500]\n",
    "slices = [slice for slice in slices_d.values() if slice['slice_size'] == 2500]\n",
    "paragraphs = load_paragraphs(slices)\n",
    "\n",
    "print(f'Only keeping slice_size=2500:\\n\\tDebates: {len(debates)}\\n\\tSlices: {len(slices)}\\n\\tParagraphs: {len(paragraphs)}')\n",
    "\n",
    "# count speaker occurrences\n",
    "from collections import Counter\n",
    "speakers = Counter()\n",
    "for slice in slices:\n",
    "    speakers.update(slice['speakers'])\n",
    "print('\\n')\n",
    "print(f'Found {len(speakers)} distinct speakers.')\n",
    "print(f'Found {sum(speakers.values())} total speaker occurrences.')\n",
    "print(speakers)"
   ]
  },
  {
   "cell_type": "code",
   "execution_count": 3,
   "metadata": {},
   "outputs": [
    {
     "name": "stdout",
     "output_type": "stream",
     "text": [
      "Looking at subset:\n",
      "\tDebates: 47\n",
      "\tSlices: 150\n",
      "\tParagraphs: 8836\n",
      "\n",
      "\n",
      "\n",
      "SINGLE [SLICE OBSERVABLE] EXPERIMENT\n",
      "Running 750 prompts.\n",
      "\n",
      "Batch 1/1\n",
      "\n",
      "Bot cost:\n",
      "[Info] Spent $0.000 for 0 tokens (in: 0, out: 0) and 0 requests. Throughput: 0.0 tokens/s and 0.0 requests/second.\n",
      "\n",
      "\n",
      "\n",
      "WHOLE SLICE, SINGLE SPEAKER, SINGLE [SPEAKER OBSERVABLE] EXPERIMENT\n",
      "Running 60770 prompts.\n",
      "\n",
      "Batch 1/31\n",
      "\n",
      "Batch 2/31\n",
      "\n",
      "Batch 3/31\n",
      "\n",
      "Batch 4/31\n",
      "\n",
      "Batch 5/31\n",
      "\n",
      "Batch 6/31\n",
      "\n",
      "Batch 7/31\n",
      "\n",
      "Batch 8/31\n",
      "\n",
      "Batch 9/31\n",
      "\n",
      "Batch 10/31\n",
      "\n",
      "Batch 11/31\n",
      "\n",
      "Batch 12/31\n",
      "\n",
      "Batch 13/31\n",
      "\n",
      "Batch 14/31\n",
      "\n",
      "Batch 15/31\n",
      "\n",
      "Batch 16/31\n",
      "\n",
      "Batch 17/31\n",
      "\n",
      "Batch 18/31\n",
      "\n",
      "Batch 19/31\n",
      "\n",
      "Batch 20/31\n",
      "\n",
      "Batch 21/31\n",
      "\n",
      "Batch 22/31\n",
      "\n",
      "Batch 23/31\n",
      "\n",
      "Batch 24/31\n",
      "\n",
      "Batch 25/31\n",
      "\n",
      "Batch 26/31\n",
      "\n",
      "Batch 27/31\n",
      "\n",
      "Batch 28/31\n",
      "\n",
      "Batch 29/31\n",
      "\n",
      "Batch 30/31\n",
      "\n",
      "Batch 31/31\n",
      "\n",
      "Bot cost:\n",
      "[Info] Spent $0.000 for 0 tokens (in: 0, out: 0) and 0 requests. Throughput: 0.0 tokens/s and 0.0 requests/second.\n"
     ]
    }
   ],
   "source": [
    "from datasets.llm_measurements.observables import slice_variables, speaker_variables, multi_speaker_variables_groups\n",
    "\n",
    "\n",
    "\n",
    "# define parameters\n",
    "experiment_name = 'all_variables_150_slices_single_speaker_single_variable'\n",
    "possible_speakers = None # if None then all, otherwise a white list\n",
    "# possible_speakers = all presidential candidates\n",
    "num_slices = 150\n",
    "\n",
    "\n",
    "\n",
    "# only taking subset of paragraphs at random\n",
    "random.seed(42)\n",
    "random.shuffle(slices)\n",
    "slices = slices[:num_slices]\n",
    "\n",
    "print(f'Looking at subset:\\n\\tDebates: {len(debates)}\\n\\tSlices: {len(slices)}\\n\\tParagraphs: {len(paragraphs)}')\n",
    "\n",
    "\n",
    "\n",
    "print(\"\\n\\n\\nSINGLE [SLICE OBSERVABLE] EXPERIMENT\")\n",
    "prompts = []\n",
    "for slice_variable in slice_variables.values():\n",
    "    prompts += slices_to_single_slice_variable_prompt(slices, slice_variable)\n",
    "\n",
    "SS_SSLO_measurements = await run_experiment(bot, prompts)\n",
    "\n",
    "# add metadata to measurements\n",
    "metadata = {\n",
    "    'is_slice_variable': True,\n",
    "    'is_measured_variable': True,\n",
    "}\n",
    "SS_SSLO_measurements = [{**m, **metadata} for m in SS_SSLO_measurements]\n",
    "\n",
    "\n",
    "\n",
    "print(\"\\n\\n\\nWHOLE SLICE, SINGLE SPEAKER, SINGLE [SPEAKER OBSERVABLE] EXPERIMENT\")\n",
    "prompts = []\n",
    "for speaker_observable in speaker_variables.values():\n",
    "    prompts += slices_and_speakers_to_single_speaker_variable_prompt(slices, speaker_observable, possible_speakers=possible_speakers)\n",
    "\n",
    "SS_SSO_measurements = await run_experiment(bot, prompts)\n",
    "\n",
    "# add metadata to measurements\n",
    "metadata = {\n",
    "    'is_slice_variable': False,\n",
    "    'is_measured_variable': True,\n",
    "}\n",
    "SS_SSO_measurements = [{**m, **metadata} for m in SS_SSO_measurements]"
   ]
  },
  {
   "cell_type": "code",
   "execution_count": 4,
   "metadata": {},
   "outputs": [
    {
     "name": "stdout",
     "output_type": "stream",
     "text": [
      "Saved experiment to datasets/llm_measurements/experiments/all_variables_150_slices_single_speaker_single_variable.pkl\n",
      "\n",
      "\n",
      "(69790, 38)\n",
      "\n",
      "Index(['slice_id', 'prompt_type', 'speaker', 'datatype', 'detailed_name',\n",
      "       'name', 'description', 'value', 'is_slice_variable',\n",
      "       'is_measured_variable', 'debate_id', 'num_tokens', 'num_parts',\n",
      "       'speakers', 'index', 'slice_size', 'slice_overlap_ratio',\n",
      "       'slice_cutoff_ratio', 'start_token_index', 'end_token_index',\n",
      "       'speaker_quantitative_contribution',\n",
      "       'speaker_quantitative_contribution_ratio', 'speaker_num_parts',\n",
      "       'speaker_num_parts_ratio', 'debate_total_electoral_votes',\n",
      "       'debate_total_popular_votes', 'debate_elected_party', 'debate_year',\n",
      "       'speaker_party', 'speaker_avg_part_size', 'speaker_electoral_votes',\n",
      "       'speaker_electoral_votes_ratio', 'speaker_popular_votes',\n",
      "       'speaker_popular_votes_ratio', 'speaker_won_election',\n",
      "       'speaker_is_president_candidate', 'speaker_is_vice_president_candidate',\n",
      "       'speaker_is_candidate'],\n",
      "      dtype='object')\n",
      "\n",
      "['egotistical (benefit)', 'persuasiveness (convincing)', 'clarity (understandable)', 'clarity (easiness)', 'clarity (clarity)', 'contribution (quality)', 'contribution (quantity)', 'truthfulness (thruthullness)', 'bias (bias)', 'manipulation (manipulation)', 'manipulation (underhanded)', 'evasiveness (avoid)', 'evasiveness (ignore)', 'evasiveness (dodge)', 'evasiveness (evade)', 'relevant (relevant)', 'relevance (relevance)', 'conciseness (efficiency)', 'conciseness (concise)', 'use of evidence (evidence)', 'emotional appeal (emotional)', 'objectivity (unbiased)', 'sensationalism (exaggerated)', 'controversiality (controversial)', 'coherence (coherent)', 'consistency (consistent)', 'factuality (factual)', 'completeness (complete)', 'quality of sources (reliable)', 'balance (balanced)', 'tone is professional (tone)', 'tone is conversational (tone)', 'tone is academic (tone)', 'accessibility (accessibility)', 'engagement (engagement)', 'adherence to rules (adherence)', 'respectfulness (respectfulness)', 'interruptions (interruptions)', 'time management (time management)', 'responsiveness (responsiveness)', 'decorum (decorum)', 'venue respect (venue respect)', 'language appropriateness (language appropriateness)', 'contextual awareness (contextual awareness)', 'confidence (confidence)', 'fair play (fair play)', 'listening skills (listening skills)', 'civil discourse (civil discourse)', 'respect for diverse opinions (respect for diverse opinions)', 'preparation (preparation)', 'resonance (resonance)', 'authenticity (authenticity)', 'empathy (empathy)', 'innovation (innovation)', 'outreach (penetration)', 'outreach (relatability)', 'outreach (accessibility)', 'outreach (amplification)', 'outreach (cultural relevance)', 'outreach (resonance)', 'logical (logic argument)', 'logical (sound)', 'general score (argue)', 'general score (argument)', 'general score (quality)', 'general score (voting)', 'academic score (argue)', 'academic score (argument)', 'academic score (structure)', 'election score (voting)', 'election score (election)', 'US election score (argue)', 'US election score (argument)', 'US election score (voting)', 'US election score (election)', 'society score (reach)', 'pro democratic (argument)', 'pro republican (argument)', 'pro neutral (argument)', 'pro democratic (benefit)', 'pro republican (benefit)', 'pro neutral (benefit)', 'impact on audience (impact)', 'positive impact on audience (impact)', 'impact on economy (impact)', 'positive impact on economy (impact)', 'impact on society (impact)', 'positive impact on society (impact)', 'impact on environment (impact)', 'positive impact on environment (impact)', 'impact on politics (impact)', 'positive impact on politics (impact)', 'impact on rich population (impact)', 'positive impact on rich population (impact)', 'impact on poor population (impact)', 'positive impact on poor population (impact)', 'positive impact on USA (impact)', 'positive impact on army funding (impact)', 'positive impact on China (impact)', 'positive impact on Russia (impact)', 'positive impact on Western Europe (impact)', 'positive impact on World (impact)', 'positive impact on Middle East (impact)', 'content quality (filler)', 'content quality (speaker)', 'content quality (dataset)', 'topic predictiveness (usefullness)', 'topic (max3)', 'debate_id', 'num_tokens', 'num_parts', 'slice_size', 'speaker_quantitative_contribution', 'speaker_quantitative_contribution_ratio', 'speaker_num_parts', 'speaker_num_parts_ratio', 'speaker_party', 'speaker_electoral_votes', 'speaker_electoral_votes_ratio', 'speaker_popular_votes', 'speaker_popular_votes_ratio', 'speaker_won_election', 'speaker_is_president_candidate', 'speaker_is_vice_president_candidate', 'speaker_is_candidate']\n",
      "\n"
     ]
    },
    {
     "data": {
      "text/html": [
       "<div>\n",
       "<style scoped>\n",
       "    .dataframe tbody tr th:only-of-type {\n",
       "        vertical-align: middle;\n",
       "    }\n",
       "\n",
       "    .dataframe tbody tr th {\n",
       "        vertical-align: top;\n",
       "    }\n",
       "\n",
       "    .dataframe thead th {\n",
       "        text-align: right;\n",
       "    }\n",
       "</style>\n",
       "<table border=\"1\" class=\"dataframe\">\n",
       "  <thead>\n",
       "    <tr style=\"text-align: right;\">\n",
       "      <th></th>\n",
       "      <th>slice_id</th>\n",
       "      <th>prompt_type</th>\n",
       "      <th>speaker</th>\n",
       "      <th>datatype</th>\n",
       "      <th>detailed_name</th>\n",
       "      <th>name</th>\n",
       "      <th>description</th>\n",
       "      <th>value</th>\n",
       "      <th>is_slice_variable</th>\n",
       "      <th>is_measured_variable</th>\n",
       "      <th>...</th>\n",
       "      <th>speaker_party</th>\n",
       "      <th>speaker_avg_part_size</th>\n",
       "      <th>speaker_electoral_votes</th>\n",
       "      <th>speaker_electoral_votes_ratio</th>\n",
       "      <th>speaker_popular_votes</th>\n",
       "      <th>speaker_popular_votes_ratio</th>\n",
       "      <th>speaker_won_election</th>\n",
       "      <th>speaker_is_president_candidate</th>\n",
       "      <th>speaker_is_vice_president_candidate</th>\n",
       "      <th>speaker_is_candidate</th>\n",
       "    </tr>\n",
       "  </thead>\n",
       "  <tbody>\n",
       "    <tr>\n",
       "      <th>0</th>\n",
       "      <td>di26-ss2500_so0.1_co0.05_si8</td>\n",
       "      <td>SingleSpeakerVariable_SingleSpeaker_Prompt</td>\n",
       "      <td>BROKAW</td>\n",
       "      <td>float</td>\n",
       "      <td>egotistical (benefit)</td>\n",
       "      <td>egotistical</td>\n",
       "      <td>How much do the speaker's arguments benefit th...</td>\n",
       "      <td>0.5</td>\n",
       "      <td>False</td>\n",
       "      <td>True</td>\n",
       "      <td>...</td>\n",
       "      <td>UNKNOWN</td>\n",
       "      <td>123.00</td>\n",
       "      <td>0.0</td>\n",
       "      <td>0.000000</td>\n",
       "      <td>0.0</td>\n",
       "      <td>0.00000</td>\n",
       "      <td>0.0</td>\n",
       "      <td>0.0</td>\n",
       "      <td>0.0</td>\n",
       "      <td>0.0</td>\n",
       "    </tr>\n",
       "    <tr>\n",
       "      <th>1</th>\n",
       "      <td>di26-ss2500_so0.1_co0.05_si8</td>\n",
       "      <td>SingleSpeakerVariable_SingleSpeaker_Prompt</td>\n",
       "      <td>DANFORTH QUAYLE</td>\n",
       "      <td>float</td>\n",
       "      <td>egotistical (benefit)</td>\n",
       "      <td>egotistical</td>\n",
       "      <td>How much do the speaker's arguments benefit th...</td>\n",
       "      <td>0.8</td>\n",
       "      <td>False</td>\n",
       "      <td>True</td>\n",
       "      <td>...</td>\n",
       "      <td>REPUBLICAN</td>\n",
       "      <td>192.40</td>\n",
       "      <td>426.0</td>\n",
       "      <td>0.793296</td>\n",
       "      <td>48900000.0</td>\n",
       "      <td>0.53914</td>\n",
       "      <td>1.0</td>\n",
       "      <td>0.0</td>\n",
       "      <td>1.0</td>\n",
       "      <td>1.0</td>\n",
       "    </tr>\n",
       "    <tr>\n",
       "      <th>2</th>\n",
       "      <td>di26-ss2500_so0.1_co0.05_si8</td>\n",
       "      <td>SingleSpeakerVariable_SingleSpeaker_Prompt</td>\n",
       "      <td>LLOYD BENTSEN</td>\n",
       "      <td>float</td>\n",
       "      <td>egotistical (benefit)</td>\n",
       "      <td>egotistical</td>\n",
       "      <td>How much do the speaker's arguments benefit th...</td>\n",
       "      <td>0.5</td>\n",
       "      <td>False</td>\n",
       "      <td>True</td>\n",
       "      <td>...</td>\n",
       "      <td>DEMOCRAT</td>\n",
       "      <td>201.80</td>\n",
       "      <td>111.0</td>\n",
       "      <td>0.206704</td>\n",
       "      <td>41800000.0</td>\n",
       "      <td>0.46086</td>\n",
       "      <td>0.0</td>\n",
       "      <td>0.0</td>\n",
       "      <td>1.0</td>\n",
       "      <td>1.0</td>\n",
       "    </tr>\n",
       "    <tr>\n",
       "      <th>3</th>\n",
       "      <td>di26-ss2500_so0.1_co0.05_si8</td>\n",
       "      <td>SingleSpeakerVariable_SingleSpeaker_Prompt</td>\n",
       "      <td>WOODRUFF</td>\n",
       "      <td>float</td>\n",
       "      <td>egotistical (benefit)</td>\n",
       "      <td>egotistical</td>\n",
       "      <td>How much do the speaker's arguments benefit th...</td>\n",
       "      <td>0.5</td>\n",
       "      <td>False</td>\n",
       "      <td>True</td>\n",
       "      <td>...</td>\n",
       "      <td>UNKNOWN</td>\n",
       "      <td>20.30</td>\n",
       "      <td>0.0</td>\n",
       "      <td>0.000000</td>\n",
       "      <td>0.0</td>\n",
       "      <td>0.00000</td>\n",
       "      <td>0.0</td>\n",
       "      <td>0.0</td>\n",
       "      <td>0.0</td>\n",
       "      <td>0.0</td>\n",
       "    </tr>\n",
       "    <tr>\n",
       "      <th>4</th>\n",
       "      <td>di33-ss2500_so0.1_co0.05_si9</td>\n",
       "      <td>SingleSpeakerVariable_SingleSpeaker_Prompt</td>\n",
       "      <td>LEHRER</td>\n",
       "      <td>float</td>\n",
       "      <td>egotistical (benefit)</td>\n",
       "      <td>egotistical</td>\n",
       "      <td>How much do the speaker's arguments benefit th...</td>\n",
       "      <td>0.5</td>\n",
       "      <td>False</td>\n",
       "      <td>True</td>\n",
       "      <td>...</td>\n",
       "      <td>UNKNOWN</td>\n",
       "      <td>16.25</td>\n",
       "      <td>0.0</td>\n",
       "      <td>0.000000</td>\n",
       "      <td>0.0</td>\n",
       "      <td>0.00000</td>\n",
       "      <td>0.0</td>\n",
       "      <td>0.0</td>\n",
       "      <td>0.0</td>\n",
       "      <td>0.0</td>\n",
       "    </tr>\n",
       "  </tbody>\n",
       "</table>\n",
       "<p>5 rows × 38 columns</p>\n",
       "</div>"
      ],
      "text/plain": [
       "                       slice_id                                 prompt_type   \n",
       "0  di26-ss2500_so0.1_co0.05_si8  SingleSpeakerVariable_SingleSpeaker_Prompt  \\\n",
       "1  di26-ss2500_so0.1_co0.05_si8  SingleSpeakerVariable_SingleSpeaker_Prompt   \n",
       "2  di26-ss2500_so0.1_co0.05_si8  SingleSpeakerVariable_SingleSpeaker_Prompt   \n",
       "3  di26-ss2500_so0.1_co0.05_si8  SingleSpeakerVariable_SingleSpeaker_Prompt   \n",
       "4  di33-ss2500_so0.1_co0.05_si9  SingleSpeakerVariable_SingleSpeaker_Prompt   \n",
       "\n",
       "           speaker datatype          detailed_name         name   \n",
       "0           BROKAW    float  egotistical (benefit)  egotistical  \\\n",
       "1  DANFORTH QUAYLE    float  egotistical (benefit)  egotistical   \n",
       "2    LLOYD BENTSEN    float  egotistical (benefit)  egotistical   \n",
       "3         WOODRUFF    float  egotistical (benefit)  egotistical   \n",
       "4           LEHRER    float  egotistical (benefit)  egotistical   \n",
       "\n",
       "                                         description value  is_slice_variable   \n",
       "0  How much do the speaker's arguments benefit th...   0.5              False  \\\n",
       "1  How much do the speaker's arguments benefit th...   0.8              False   \n",
       "2  How much do the speaker's arguments benefit th...   0.5              False   \n",
       "3  How much do the speaker's arguments benefit th...   0.5              False   \n",
       "4  How much do the speaker's arguments benefit th...   0.5              False   \n",
       "\n",
       "   is_measured_variable  ... speaker_party  speaker_avg_part_size   \n",
       "0                  True  ...       UNKNOWN                 123.00  \\\n",
       "1                  True  ...    REPUBLICAN                 192.40   \n",
       "2                  True  ...      DEMOCRAT                 201.80   \n",
       "3                  True  ...       UNKNOWN                  20.30   \n",
       "4                  True  ...       UNKNOWN                  16.25   \n",
       "\n",
       "   speaker_electoral_votes speaker_electoral_votes_ratio   \n",
       "0                      0.0                      0.000000  \\\n",
       "1                    426.0                      0.793296   \n",
       "2                    111.0                      0.206704   \n",
       "3                      0.0                      0.000000   \n",
       "4                      0.0                      0.000000   \n",
       "\n",
       "   speaker_popular_votes  speaker_popular_votes_ratio  speaker_won_election   \n",
       "0                    0.0                      0.00000                   0.0  \\\n",
       "1             48900000.0                      0.53914                   1.0   \n",
       "2             41800000.0                      0.46086                   0.0   \n",
       "3                    0.0                      0.00000                   0.0   \n",
       "4                    0.0                      0.00000                   0.0   \n",
       "\n",
       "   speaker_is_president_candidate  speaker_is_vice_president_candidate   \n",
       "0                             0.0                                  0.0  \\\n",
       "1                             0.0                                  1.0   \n",
       "2                             0.0                                  1.0   \n",
       "3                             0.0                                  0.0   \n",
       "4                             0.0                                  0.0   \n",
       "\n",
       "   speaker_is_candidate  \n",
       "0                   0.0  \n",
       "1                   1.0  \n",
       "2                   1.0  \n",
       "3                   0.0  \n",
       "4                   0.0  \n",
       "\n",
       "[5 rows x 38 columns]"
      ]
     },
     "execution_count": 4,
     "metadata": {},
     "output_type": "execute_result"
    }
   ],
   "source": [
    "# add the contextual variables\n",
    "contextual_slice_measurements = get_contextual_slice_measurements(slices_d, slices)\n",
    "\n",
    "metadata = {\n",
    "    'is_slice_variable': True,\n",
    "    'is_measured_variable': False,\n",
    "}\n",
    "contextual_slice_measurements = [{**m, **metadata} for m in contextual_slice_measurements]\n",
    "\n",
    "\n",
    "contextual_speaker_measurements = get_contextual_speaker_measurements(slices_d, slices)\n",
    "\n",
    "metadata = {\n",
    "    'is_slice_variable': False,\n",
    "    'is_measured_variable': False,\n",
    "}\n",
    "contextual_speaker_measurements = [{**m, **metadata} for m in contextual_speaker_measurements]\n",
    "\n",
    "\n",
    "\n",
    "# collect into one experiment\n",
    "experiment_1 =  SS_SSO_measurements + SS_SSLO_measurements + contextual_slice_measurements + contextual_speaker_measurements\n",
    "\n",
    "\n",
    "# add metadata for the slices and spekeakers of each measurement\n",
    "for e in experiment_1:\n",
    "    slice_id = e['slice_id']\n",
    "    if 'speaker' in e:\n",
    "        speaker = e['speaker']\n",
    "        e.update(get_speaker_slice_metadata(slices_d, slice_id, speaker))\n",
    "    else:\n",
    "        e.update(get_slice_metadata(slices_d, slice_id))\n",
    "\n",
    "\n",
    "# turn into dataframe and save (csv does not work well for the columns with shared types)\n",
    "experiment_1_df = pd.DataFrame(experiment_1)\n",
    "experiment_1_df.to_pickle(f'{experiment_folder}/{experiment_name}.pkl')\n",
    "print(f'Saved experiment to {experiment_folder}/{experiment_name}.pkl\\n\\n')\n",
    "\n",
    "# print some info\n",
    "print(experiment_1_df.shape)\n",
    "print()\n",
    "print(experiment_1_df.columns)\n",
    "print()\n",
    "# print unique detailed_names\n",
    "print(list(experiment_1_df['detailed_name'].unique()))\n",
    "print()\n",
    "experiment_1_df.head()"
   ]
  },
  {
   "cell_type": "markdown",
   "metadata": {},
   "source": [
    "### Extra experiments with other prompts\n",
    "\n",
    "Now we want to get a second dataset using prompting methods that get the values of several values and/or several speakers in a single query."
   ]
  },
  {
   "cell_type": "code",
   "execution_count": 5,
   "metadata": {},
   "outputs": [
    {
     "name": "stdout",
     "output_type": "stream",
     "text": [
      "Looking at subset:\n",
      "\tDebates: 47\n",
      "\tSlices: 50\n",
      "\tParagraphs: 8836\n",
      "\n",
      "\n",
      "\n",
      "WHOLE SLICE, MULTI SPEAKER, SINGLE [SPEAKER OBSERVABLE] EXPERIMENT\n",
      "Running 5150 prompts.\n",
      "\n",
      "Batch 1/3\n",
      "[ERROR] Failed to parse response: Expected a float value between 0 and 1, but got 2.0!\n",
      "\t[ERROR] Failed to get response: Expected a float value between 0 and 1, but got 2.0!\n",
      "\t[ERROR] Failed response: {\n",
      "\t\"KAMALA HARRIS\": {\n",
      "\t\t\"interruptions\": 2.0\n",
      "\t},\n",
      "\t\"PAGE\": {\n",
      "\t\t\"interruptions\": 0.0\n",
      "\t},\n",
      "\t\"MICHAEL PENCE\": {\n",
      "\t\t\"interruptions\": 4.0\n",
      "\t}\n",
      "}\n",
      "\n",
      "\n",
      "\n",
      "[ERROR] Failed to parse response: Expected a float value between 0 and 1, but got 2.0!\n",
      "\t[ERROR] Failed to get response: Expected a float value between 0 and 1, but got 2.0!\n",
      "\t[ERROR] Failed response: {\n",
      "\t\"AUDIENCE QUESTION\": {\n",
      "\t\t\"interruptions\": 0.0\n",
      "\t},\n",
      "\t\"PEROT\": {\n",
      "\t\t\"interruptions\": 2.0\n",
      "\t},\n",
      "\t\"GEORGE H. BUSH\": {\n",
      "\t\t\"interruptions\": 1.0\n",
      "\t},\n",
      "\t\"WILLIAM CLINTON\": {\n",
      "\t\t\"interruptions\": 0.0\n",
      "\t},\n",
      "\t\"SIMPSON\": {\n",
      "\t\t\"interruptions\": 2.0\n",
      "\t}\n",
      "}\n",
      "\n",
      "\n",
      "\n",
      "\n",
      "Batch 2/3\n",
      "\n",
      "Batch 3/3\n",
      "[ERROR] Failed to parse response: speaker MEMBER OF AUDIENCE not found in response!\n",
      "\t[ERROR] Failed to get response: speaker MEMBER OF AUDIENCE not found in response!\n",
      "\t[ERROR] Failed response: {\n",
      "\t\"ALBERT GORE\": {\n",
      "\t\t\"positive impact on army funding\": 1.0\n",
      "\t},\n",
      "\t\"GEORGE W. BUSH\": {\n",
      "\t\t\"positive impact on army funding\": 0.0\n",
      "\t}\n",
      "}\n",
      "\n",
      "\n",
      "\n",
      "\n",
      "Bot cost:\n",
      "[Info] Spent $0.000 for 0 tokens (in: 0, out: 0) and 0 requests. Throughput: 0.0 tokens/s and 0.0 requests/second.\n",
      "\n",
      "\n",
      "\n",
      "WHOLE SLICE, SINGLE SPEAKER, MULTI [SPEAKER OBSERVABLE] EXPERIMENT\n",
      "Running 192 prompts.\n",
      "\n",
      "Batch 1/1\n",
      "\n",
      "Bot cost:\n",
      "[Info] Spent $0.000 for 0 tokens (in: 0, out: 0) and 0 requests. Throughput: 0.0 tokens/s and 0.0 requests/second.\n",
      "Running 192 prompts.\n",
      "\n",
      "Batch 1/1\n",
      "\n",
      "Bot cost:\n",
      "[Info] Spent $0.000 for 0 tokens (in: 0, out: 0) and 0 requests. Throughput: 0.0 tokens/s and 0.0 requests/second.\n",
      "Running 192 prompts.\n",
      "\n",
      "Batch 1/1\n",
      "\n",
      "Bot cost:\n",
      "[Info] Spent $0.000 for 0 tokens (in: 0, out: 0) and 0 requests. Throughput: 0.0 tokens/s and 0.0 requests/second.\n",
      "Running 192 prompts.\n",
      "\n",
      "Batch 1/1\n",
      "\n",
      "Bot cost:\n",
      "[Info] Spent $0.000 for 0 tokens (in: 0, out: 0) and 0 requests. Throughput: 0.0 tokens/s and 0.0 requests/second.\n",
      "Running 192 prompts.\n",
      "\n",
      "Batch 1/1\n",
      "\n",
      "Bot cost:\n",
      "[Info] Spent $0.000 for 0 tokens (in: 0, out: 0) and 0 requests. Throughput: 0.0 tokens/s and 0.0 requests/second.\n",
      "Running 192 prompts.\n",
      "\n",
      "Batch 1/1\n",
      "\n",
      "Bot cost:\n",
      "[Info] Spent $0.000 for 0 tokens (in: 0, out: 0) and 0 requests. Throughput: 0.0 tokens/s and 0.0 requests/second.\n",
      "Running 192 prompts.\n",
      "\n",
      "Batch 1/1\n",
      "\n",
      "Bot cost:\n",
      "[Info] Spent $0.000 for 0 tokens (in: 0, out: 0) and 0 requests. Throughput: 0.0 tokens/s and 0.0 requests/second.\n",
      "Running 192 prompts.\n",
      "\n",
      "Batch 1/1\n",
      "\n",
      "Bot cost:\n",
      "[Info] Spent $0.000 for 0 tokens (in: 0, out: 0) and 0 requests. Throughput: 0.0 tokens/s and 0.0 requests/second.\n"
     ]
    }
   ],
   "source": [
    "# define parameters\n",
    "experiment_name = 'all_variables_150_slices_single_speaker_50_slices_multi_speaker_multi_variable'\n",
    "possible_speakers = None # if None then all, otherwise a white list\n",
    "# possible_speakers = all presidential candidates\n",
    "num_slices = 50\n",
    "\n",
    "slices = slices[:num_slices] # only keep 50 for this experiment\n",
    "\n",
    "print(f'Looking at subset:\\n\\tDebates: {len(debates)}\\n\\tSlices: {len(slices)}\\n\\tParagraphs: {len(paragraphs)}')\n",
    "\n",
    "\n",
    "\n",
    "print(\"\\n\\n\\nWHOLE SLICE, MULTI SPEAKER, SINGLE [SPEAKER OBSERVABLE] EXPERIMENT\")\n",
    "prompts = []\n",
    "for speaker_observable in speaker_variables.values():\n",
    "    prompts += slices_and_speakers_to_multi_speaker_variable_multi_speaker_prompt(slices, [speaker_observable])\n",
    "\n",
    "MS_SSO_measurements = await run_experiment(bot, prompts)\n",
    "\n",
    "# add metadata to measurements\n",
    "metadata = {\n",
    "    'is_slice_variable': False,\n",
    "    'is_measured_variable': True,\n",
    "}\n",
    "MS_SSO_measurements = [{**m, **metadata} for m in MS_SSO_measurements]\n",
    "\n",
    "\n",
    "print(\"\\n\\n\\nWHOLE SLICE, SINGLE SPEAKER, MULTI [SPEAKER OBSERVABLE] EXPERIMENT\")\n",
    "SS_MSO_measurements = {}\n",
    "for key, multi_speaker_observables_group in multi_speaker_variables_groups.items():\n",
    "    prompts = slices_and_speaker_to_multi_speaker_variable_prompt(slices, multi_speaker_observables_group)\n",
    "\n",
    "    SS_MSO_measurements[key] = await run_experiment(bot, prompts)\n",
    "\n",
    "    # add metadata to measurements\n",
    "    metadata = {\n",
    "        'is_slice_variable': False,\n",
    "        'is_measured_variable': True,\n",
    "        'group_name': key,\n",
    "    }\n",
    "    SS_MSO_measurements[key] = [{**m, **metadata} for m in SS_MSO_measurements[key]]"
   ]
  },
  {
   "cell_type": "code",
   "execution_count": 6,
   "metadata": {},
   "outputs": [
    {
     "name": "stdout",
     "output_type": "stream",
     "text": [
      "Saved experiment to datasets/llm_measurements/experiments/all_variables_150_slices_single_speaker_50_slices_multi_speaker_multi_variable.pkl\n",
      "\n",
      "\n",
      "(27068, 39)\n",
      "\n",
      "Index(['slice_id', 'prompt_type', 'speaker', 'datatype', 'detailed_name',\n",
      "       'name', 'description', 'value', 'is_slice_variable',\n",
      "       'is_measured_variable', 'debate_id', 'num_tokens', 'num_parts',\n",
      "       'speakers', 'index', 'slice_size', 'slice_overlap_ratio',\n",
      "       'slice_cutoff_ratio', 'start_token_index', 'end_token_index',\n",
      "       'speaker_quantitative_contribution',\n",
      "       'speaker_quantitative_contribution_ratio', 'speaker_num_parts',\n",
      "       'speaker_num_parts_ratio', 'debate_total_electoral_votes',\n",
      "       'debate_total_popular_votes', 'debate_elected_party', 'debate_year',\n",
      "       'speaker_party', 'speaker_avg_part_size', 'speaker_electoral_votes',\n",
      "       'speaker_electoral_votes_ratio', 'speaker_popular_votes',\n",
      "       'speaker_popular_votes_ratio', 'speaker_won_election',\n",
      "       'speaker_is_president_candidate', 'speaker_is_vice_president_candidate',\n",
      "       'speaker_is_candidate', 'group_name'],\n",
      "      dtype='object')\n",
      "\n",
      "['egotistical (benefit)', 'persuasiveness (convincing)', 'clarity (understandable)', 'clarity (easiness)', 'clarity (clarity)', 'contribution (quality)', 'contribution (quantity)', 'truthfulness (thruthullness)', 'bias (bias)', 'manipulation (manipulation)', 'manipulation (underhanded)', 'evasiveness (avoid)', 'evasiveness (ignore)', 'evasiveness (dodge)', 'evasiveness (evade)', 'relevant (relevant)', 'relevance (relevance)', 'conciseness (efficiency)', 'conciseness (concise)', 'use of evidence (evidence)', 'emotional appeal (emotional)', 'objectivity (unbiased)', 'sensationalism (exaggerated)', 'controversiality (controversial)', 'coherence (coherent)', 'consistency (consistent)', 'factuality (factual)', 'completeness (complete)', 'quality of sources (reliable)', 'balance (balanced)', 'tone is professional (tone)', 'tone is conversational (tone)', 'tone is academic (tone)', 'accessibility (accessibility)', 'engagement (engagement)', 'adherence to rules (adherence)', 'respectfulness (respectfulness)', 'interruptions (interruptions)', 'time management (time management)', 'responsiveness (responsiveness)', 'decorum (decorum)', 'venue respect (venue respect)', 'language appropriateness (language appropriateness)', 'contextual awareness (contextual awareness)', 'confidence (confidence)', 'fair play (fair play)', 'listening skills (listening skills)', 'civil discourse (civil discourse)', 'respect for diverse opinions (respect for diverse opinions)', 'preparation (preparation)', 'resonance (resonance)', 'authenticity (authenticity)', 'empathy (empathy)', 'innovation (innovation)', 'outreach (penetration)', 'outreach (relatability)', 'outreach (accessibility)', 'outreach (amplification)', 'outreach (cultural relevance)', 'outreach (resonance)', 'logical (logic argument)', 'logical (sound)', 'general score (argue)', 'general score (argument)', 'general score (quality)', 'general score (voting)', 'academic score (argue)', 'academic score (argument)', 'academic score (structure)', 'election score (voting)', 'election score (election)', 'US election score (argue)', 'US election score (argument)', 'US election score (voting)', 'US election score (election)', 'society score (reach)', 'pro democratic (argument)', 'pro republican (argument)', 'pro neutral (argument)', 'pro democratic (benefit)', 'pro republican (benefit)', 'pro neutral (benefit)', 'impact on audience (impact)', 'positive impact on audience (impact)', 'impact on economy (impact)', 'positive impact on economy (impact)', 'impact on society (impact)', 'positive impact on society (impact)', 'impact on environment (impact)', 'positive impact on environment (impact)', 'impact on politics (impact)', 'positive impact on politics (impact)', 'impact on rich population (impact)', 'positive impact on rich population (impact)', 'impact on poor population (impact)', 'positive impact on poor population (impact)', 'positive impact on USA (impact)', 'positive impact on army funding (impact)', 'positive impact on China (impact)', 'positive impact on Russia (impact)', 'positive impact on Western Europe (impact)', 'positive impact on World (impact)', 'positive impact on Middle East (impact)', 'debate_id', 'num_tokens', 'num_parts', 'slice_size', 'speaker_quantitative_contribution', 'speaker_quantitative_contribution_ratio', 'speaker_num_parts', 'speaker_num_parts_ratio', 'speaker_party', 'speaker_electoral_votes', 'speaker_electoral_votes_ratio', 'speaker_popular_votes', 'speaker_popular_votes_ratio', 'speaker_won_election', 'speaker_is_president_candidate', 'speaker_is_vice_president_candidate', 'speaker_is_candidate']\n",
      "\n"
     ]
    },
    {
     "data": {
      "text/html": [
       "<div>\n",
       "<style scoped>\n",
       "    .dataframe tbody tr th:only-of-type {\n",
       "        vertical-align: middle;\n",
       "    }\n",
       "\n",
       "    .dataframe tbody tr th {\n",
       "        vertical-align: top;\n",
       "    }\n",
       "\n",
       "    .dataframe thead th {\n",
       "        text-align: right;\n",
       "    }\n",
       "</style>\n",
       "<table border=\"1\" class=\"dataframe\">\n",
       "  <thead>\n",
       "    <tr style=\"text-align: right;\">\n",
       "      <th></th>\n",
       "      <th>slice_id</th>\n",
       "      <th>prompt_type</th>\n",
       "      <th>speaker</th>\n",
       "      <th>datatype</th>\n",
       "      <th>detailed_name</th>\n",
       "      <th>name</th>\n",
       "      <th>description</th>\n",
       "      <th>value</th>\n",
       "      <th>is_slice_variable</th>\n",
       "      <th>is_measured_variable</th>\n",
       "      <th>...</th>\n",
       "      <th>speaker_avg_part_size</th>\n",
       "      <th>speaker_electoral_votes</th>\n",
       "      <th>speaker_electoral_votes_ratio</th>\n",
       "      <th>speaker_popular_votes</th>\n",
       "      <th>speaker_popular_votes_ratio</th>\n",
       "      <th>speaker_won_election</th>\n",
       "      <th>speaker_is_president_candidate</th>\n",
       "      <th>speaker_is_vice_president_candidate</th>\n",
       "      <th>speaker_is_candidate</th>\n",
       "      <th>group_name</th>\n",
       "    </tr>\n",
       "  </thead>\n",
       "  <tbody>\n",
       "    <tr>\n",
       "      <th>0</th>\n",
       "      <td>di26-ss2500_so0.1_co0.05_si8</td>\n",
       "      <td>MultiSpeakerVariables_MultiSpeakers_Prompt</td>\n",
       "      <td>BROKAW</td>\n",
       "      <td>float</td>\n",
       "      <td>egotistical (benefit)</td>\n",
       "      <td>egotistical</td>\n",
       "      <td>How much do the speaker's arguments benefit th...</td>\n",
       "      <td>0.5</td>\n",
       "      <td>False</td>\n",
       "      <td>True</td>\n",
       "      <td>...</td>\n",
       "      <td>123.00</td>\n",
       "      <td>0.0</td>\n",
       "      <td>0.000000</td>\n",
       "      <td>0.0</td>\n",
       "      <td>0.000000</td>\n",
       "      <td>0.0</td>\n",
       "      <td>0.0</td>\n",
       "      <td>0.0</td>\n",
       "      <td>0.0</td>\n",
       "      <td>NaN</td>\n",
       "    </tr>\n",
       "    <tr>\n",
       "      <th>1</th>\n",
       "      <td>di26-ss2500_so0.1_co0.05_si8</td>\n",
       "      <td>MultiSpeakerVariables_MultiSpeakers_Prompt</td>\n",
       "      <td>LLOYD BENTSEN</td>\n",
       "      <td>float</td>\n",
       "      <td>egotistical (benefit)</td>\n",
       "      <td>egotistical</td>\n",
       "      <td>How much do the speaker's arguments benefit th...</td>\n",
       "      <td>0.7</td>\n",
       "      <td>False</td>\n",
       "      <td>True</td>\n",
       "      <td>...</td>\n",
       "      <td>201.80</td>\n",
       "      <td>111.0</td>\n",
       "      <td>0.206704</td>\n",
       "      <td>41800000.0</td>\n",
       "      <td>0.460860</td>\n",
       "      <td>0.0</td>\n",
       "      <td>0.0</td>\n",
       "      <td>1.0</td>\n",
       "      <td>1.0</td>\n",
       "      <td>NaN</td>\n",
       "    </tr>\n",
       "    <tr>\n",
       "      <th>2</th>\n",
       "      <td>di26-ss2500_so0.1_co0.05_si8</td>\n",
       "      <td>MultiSpeakerVariables_MultiSpeakers_Prompt</td>\n",
       "      <td>DANFORTH QUAYLE</td>\n",
       "      <td>float</td>\n",
       "      <td>egotistical (benefit)</td>\n",
       "      <td>egotistical</td>\n",
       "      <td>How much do the speaker's arguments benefit th...</td>\n",
       "      <td>0.8</td>\n",
       "      <td>False</td>\n",
       "      <td>True</td>\n",
       "      <td>...</td>\n",
       "      <td>192.40</td>\n",
       "      <td>426.0</td>\n",
       "      <td>0.793296</td>\n",
       "      <td>48900000.0</td>\n",
       "      <td>0.539140</td>\n",
       "      <td>1.0</td>\n",
       "      <td>0.0</td>\n",
       "      <td>1.0</td>\n",
       "      <td>1.0</td>\n",
       "      <td>NaN</td>\n",
       "    </tr>\n",
       "    <tr>\n",
       "      <th>3</th>\n",
       "      <td>di26-ss2500_so0.1_co0.05_si8</td>\n",
       "      <td>MultiSpeakerVariables_MultiSpeakers_Prompt</td>\n",
       "      <td>WOODRUFF</td>\n",
       "      <td>float</td>\n",
       "      <td>egotistical (benefit)</td>\n",
       "      <td>egotistical</td>\n",
       "      <td>How much do the speaker's arguments benefit th...</td>\n",
       "      <td>0.5</td>\n",
       "      <td>False</td>\n",
       "      <td>True</td>\n",
       "      <td>...</td>\n",
       "      <td>20.30</td>\n",
       "      <td>0.0</td>\n",
       "      <td>0.000000</td>\n",
       "      <td>0.0</td>\n",
       "      <td>0.000000</td>\n",
       "      <td>0.0</td>\n",
       "      <td>0.0</td>\n",
       "      <td>0.0</td>\n",
       "      <td>0.0</td>\n",
       "      <td>NaN</td>\n",
       "    </tr>\n",
       "    <tr>\n",
       "      <th>4</th>\n",
       "      <td>di33-ss2500_so0.1_co0.05_si9</td>\n",
       "      <td>MultiSpeakerVariables_MultiSpeakers_Prompt</td>\n",
       "      <td>WILLIAM CLINTON</td>\n",
       "      <td>float</td>\n",
       "      <td>egotistical (benefit)</td>\n",
       "      <td>egotistical</td>\n",
       "      <td>How much do the speaker's arguments benefit th...</td>\n",
       "      <td>0.9</td>\n",
       "      <td>False</td>\n",
       "      <td>True</td>\n",
       "      <td>...</td>\n",
       "      <td>292.75</td>\n",
       "      <td>379.0</td>\n",
       "      <td>0.704461</td>\n",
       "      <td>47400000.0</td>\n",
       "      <td>0.547344</td>\n",
       "      <td>1.0</td>\n",
       "      <td>1.0</td>\n",
       "      <td>0.0</td>\n",
       "      <td>1.0</td>\n",
       "      <td>NaN</td>\n",
       "    </tr>\n",
       "  </tbody>\n",
       "</table>\n",
       "<p>5 rows × 39 columns</p>\n",
       "</div>"
      ],
      "text/plain": [
       "                       slice_id                                 prompt_type   \n",
       "0  di26-ss2500_so0.1_co0.05_si8  MultiSpeakerVariables_MultiSpeakers_Prompt  \\\n",
       "1  di26-ss2500_so0.1_co0.05_si8  MultiSpeakerVariables_MultiSpeakers_Prompt   \n",
       "2  di26-ss2500_so0.1_co0.05_si8  MultiSpeakerVariables_MultiSpeakers_Prompt   \n",
       "3  di26-ss2500_so0.1_co0.05_si8  MultiSpeakerVariables_MultiSpeakers_Prompt   \n",
       "4  di33-ss2500_so0.1_co0.05_si9  MultiSpeakerVariables_MultiSpeakers_Prompt   \n",
       "\n",
       "           speaker datatype          detailed_name         name   \n",
       "0           BROKAW    float  egotistical (benefit)  egotistical  \\\n",
       "1    LLOYD BENTSEN    float  egotistical (benefit)  egotistical   \n",
       "2  DANFORTH QUAYLE    float  egotistical (benefit)  egotistical   \n",
       "3         WOODRUFF    float  egotistical (benefit)  egotistical   \n",
       "4  WILLIAM CLINTON    float  egotistical (benefit)  egotistical   \n",
       "\n",
       "                                         description value  is_slice_variable   \n",
       "0  How much do the speaker's arguments benefit th...   0.5              False  \\\n",
       "1  How much do the speaker's arguments benefit th...   0.7              False   \n",
       "2  How much do the speaker's arguments benefit th...   0.8              False   \n",
       "3  How much do the speaker's arguments benefit th...   0.5              False   \n",
       "4  How much do the speaker's arguments benefit th...   0.9              False   \n",
       "\n",
       "   is_measured_variable  ... speaker_avg_part_size  speaker_electoral_votes   \n",
       "0                  True  ...                123.00                      0.0  \\\n",
       "1                  True  ...                201.80                    111.0   \n",
       "2                  True  ...                192.40                    426.0   \n",
       "3                  True  ...                 20.30                      0.0   \n",
       "4                  True  ...                292.75                    379.0   \n",
       "\n",
       "   speaker_electoral_votes_ratio speaker_popular_votes   \n",
       "0                       0.000000                   0.0  \\\n",
       "1                       0.206704            41800000.0   \n",
       "2                       0.793296            48900000.0   \n",
       "3                       0.000000                   0.0   \n",
       "4                       0.704461            47400000.0   \n",
       "\n",
       "   speaker_popular_votes_ratio  speaker_won_election   \n",
       "0                     0.000000                   0.0  \\\n",
       "1                     0.460860                   0.0   \n",
       "2                     0.539140                   1.0   \n",
       "3                     0.000000                   0.0   \n",
       "4                     0.547344                   1.0   \n",
       "\n",
       "   speaker_is_president_candidate  speaker_is_vice_president_candidate   \n",
       "0                             0.0                                  0.0  \\\n",
       "1                             0.0                                  1.0   \n",
       "2                             0.0                                  1.0   \n",
       "3                             0.0                                  0.0   \n",
       "4                             1.0                                  0.0   \n",
       "\n",
       "   speaker_is_candidate  group_name  \n",
       "0                   0.0         NaN  \n",
       "1                   1.0         NaN  \n",
       "2                   1.0         NaN  \n",
       "3                   0.0         NaN  \n",
       "4                   1.0         NaN  \n",
       "\n",
       "[5 rows x 39 columns]"
      ]
     },
     "execution_count": 6,
     "metadata": {},
     "output_type": "execute_result"
    }
   ],
   "source": [
    "# add the contextual variables\n",
    "contextual_slice_measurements = get_contextual_slice_measurements(slices_d, slices)\n",
    "\n",
    "metadata = {\n",
    "    'is_slice_variable': True,\n",
    "    'is_measured_variable': False,\n",
    "}\n",
    "contextual_slice_measurements = [{**m, **metadata} for m in contextual_slice_measurements]\n",
    "\n",
    "\n",
    "contextual_speaker_measurements = get_contextual_speaker_measurements(slices_d, slices)\n",
    "\n",
    "metadata = {\n",
    "    'is_slice_variable': False,\n",
    "    'is_measured_variable': False,\n",
    "}\n",
    "contextual_speaker_measurements = [{**m, **metadata} for m in contextual_speaker_measurements]\n",
    "\n",
    "\n",
    "\n",
    "# collect into one experiment\n",
    "experiment_2 = MS_SSO_measurements + [m for sublist in SS_MSO_measurements.values() for m in sublist] + contextual_slice_measurements + contextual_speaker_measurements\n",
    "\n",
    "\n",
    "# add metadata for the slices and spekeakers of each measurement\n",
    "for e in experiment_2:\n",
    "    slice_id = e['slice_id']\n",
    "    if 'speaker' in e:\n",
    "        speaker = e['speaker']\n",
    "        e.update(get_speaker_slice_metadata(slices_d, slice_id, speaker))\n",
    "    else:\n",
    "        e.update(get_slice_metadata(slices_d, slice_id))\n",
    "\n",
    "\n",
    "# turn into dataframe and save (csv does not work well for the columns with shared types)\n",
    "experiment_2_df = pd.DataFrame(experiment_2)\n",
    "experiment_2_df.to_pickle(f'{experiment_folder}/{experiment_name}.pkl')\n",
    "print(f'Saved experiment to {experiment_folder}/{experiment_name}.pkl\\n\\n')\n",
    "\n",
    "# print some info\n",
    "print(experiment_2_df.shape)\n",
    "print()\n",
    "print(experiment_2_df.columns)\n",
    "print()\n",
    "# print unique detailed_names\n",
    "print(list(experiment_2_df['detailed_name'].unique()))\n",
    "print()\n",
    "experiment_2_df.head()"
   ]
  },
  {
   "cell_type": "markdown",
   "metadata": {},
   "source": [
    "### Quick demo of loading and analysis"
   ]
  },
  {
   "cell_type": "code",
   "execution_count": 7,
   "metadata": {},
   "outputs": [
    {
     "name": "stdout",
     "output_type": "stream",
     "text": [
      "(69790, 38)\n",
      "Index(['slice_id', 'prompt_type', 'speaker', 'datatype', 'detailed_name',\n",
      "       'name', 'description', 'value', 'is_slice_variable',\n",
      "       'is_measured_variable', 'debate_id', 'num_tokens', 'num_parts',\n",
      "       'speakers', 'index', 'slice_size', 'slice_overlap_ratio',\n",
      "       'slice_cutoff_ratio', 'start_token_index', 'end_token_index',\n",
      "       'speaker_quantitative_contribution',\n",
      "       'speaker_quantitative_contribution_ratio', 'speaker_num_parts',\n",
      "       'speaker_num_parts_ratio', 'debate_total_electoral_votes',\n",
      "       'debate_total_popular_votes', 'debate_elected_party', 'debate_year',\n",
      "       'speaker_party', 'speaker_avg_part_size', 'speaker_electoral_votes',\n",
      "       'speaker_electoral_votes_ratio', 'speaker_popular_votes',\n",
      "       'speaker_popular_votes_ratio', 'speaker_won_election',\n",
      "       'speaker_is_president_candidate', 'speaker_is_vice_president_candidate',\n",
      "       'speaker_is_candidate'],\n",
      "      dtype='object')\n"
     ]
    }
   ],
   "source": [
    "# load from pkl\n",
    "experiment_name = 'all_variables_150_slices_single_speaker_single_variable'\n",
    "\n",
    "measurements = pd.read_pickle(f'{experiment_folder}/{experiment_name}.pkl')\n",
    "\n",
    "# print summary\n",
    "print(measurements.shape)\n",
    "print(measurements.columns)"
   ]
  },
  {
   "cell_type": "code",
   "execution_count": 8,
   "metadata": {},
   "outputs": [
    {
     "name": "stdout",
     "output_type": "stream",
     "text": [
      "speaker\n",
      "LEHRER                         3828\n",
      "BARACK OBAMA                   3248\n",
      "DONALD TRUMP                   2320\n",
      "GEORGE H. BUSH                 2204\n",
      "WILLIAM CLINTON                2088\n",
      "JOHN MCCAIN                    1972\n",
      "JOE BIDEN                      1972\n",
      "AUDIENCE QUESTION              1972\n",
      "RONALD REAGAN                  1508\n",
      "GEORGE W. BUSH                 1392\n",
      "PEROT                          1392\n",
      "MITT ROMNEY                    1276\n",
      "BROKAW                         1160\n",
      "JOHN KENNEDY                   1160\n",
      "RICHARD NIXON                  1160\n",
      "HILLARY CLINTON                1160\n",
      "MODERATOR                      1160\n",
      "JIMMY CARTER                   1160\n",
      "DANFORTH QUAYLE                1044\n",
      "ALBERT GORE                    1044\n",
      "MICHAEL PENCE                  928\n",
      "SCHIEFFER                      928\n",
      "IFILL                          928\n",
      "SMITH                          812\n",
      "RICHARD CHENEY                 812\n",
      "WALLACE                        812\n",
      "RADDATZ                        812\n",
      "LLOYD BENTSEN                  696\n",
      "WOODRUFF                       696\n",
      "ROBERT DOLE                    696\n",
      "COMPTON                        696\n",
      "GERALD FORD                    696\n",
      "WALTER MONDALE                 696\n",
      "JOHN KERRY                     696\n",
      "QUIJANO                        580\n",
      "TIM KAINE                      580\n",
      "WELKER                         580\n",
      "GORE                           580\n",
      "JACK KEMP                      580\n",
      "VANOCUR                        580\n",
      "WALTERS                        580\n",
      "MARGOLIS                       580\n",
      "SARAH PALIN                    580\n",
      "COOPER                         580\n",
      "NEWMAN                         580\n",
      "MICHAEL DUKAKIS                580\n",
      "SHAW                           580\n",
      "JOSEPH LIEBERMAN               464\n",
      "HOWE                           464\n",
      "SIMPSON                        464\n",
      "\n",
      "...\n",
      "\n",
      "\n",
      "\n",
      "prompt_type\n",
      "SingleSpeakerVariable_SingleSpeaker_Prompt 60770\n",
      "SingleSliceVariable_Prompt     750\n",
      "                           nan 0\n",
      "\n",
      "\n",
      "\n",
      "detailed_name\n",
      "egotistical (benefit)          590\n",
      "persuasiveness (convincing)    590\n",
      "clarity (understandable)       590\n",
      "clarity (easiness)             590\n",
      "clarity (clarity)              590\n",
      "contribution (quality)         590\n",
      "contribution (quantity)        590\n",
      "truthfulness (thruthullness)   590\n",
      "bias (bias)                    590\n",
      "manipulation (manipulation)    590\n",
      "manipulation (underhanded)     590\n",
      "evasiveness (avoid)            590\n",
      "evasiveness (ignore)           590\n",
      "evasiveness (dodge)            590\n",
      "evasiveness (evade)            590\n",
      "relevant (relevant)            590\n",
      "relevance (relevance)          590\n",
      "conciseness (efficiency)       590\n",
      "conciseness (concise)          590\n",
      "use of evidence (evidence)     590\n",
      "emotional appeal (emotional)   590\n",
      "objectivity (unbiased)         590\n",
      "sensationalism (exaggerated)   590\n",
      "controversiality (controversial) 590\n",
      "coherence (coherent)           590\n",
      "consistency (consistent)       590\n",
      "factuality (factual)           590\n",
      "completeness (complete)        590\n",
      "quality of sources (reliable)  590\n",
      "balance (balanced)             590\n",
      "tone is professional (tone)    590\n",
      "tone is conversational (tone)  590\n",
      "tone is academic (tone)        590\n",
      "accessibility (accessibility)  590\n",
      "engagement (engagement)        590\n",
      "adherence to rules (adherence) 590\n",
      "respectfulness (respectfulness) 590\n",
      "interruptions (interruptions)  590\n",
      "time management (time management) 590\n",
      "responsiveness (responsiveness) 590\n",
      "decorum (decorum)              590\n",
      "venue respect (venue respect)  590\n",
      "language appropriateness (language appropriateness) 590\n",
      "contextual awareness (contextual awareness) 590\n",
      "confidence (confidence)        590\n",
      "fair play (fair play)          590\n",
      "listening skills (listening skills) 590\n",
      "civil discourse (civil discourse) 590\n",
      "respect for diverse opinions (respect for diverse opinions) 590\n",
      "preparation (preparation)      590\n",
      "\n",
      "...\n",
      "\n",
      "\n",
      "\n",
      "name\n",
      "outreach US                    3540\n",
      "evasiveness                    2360\n",
      "score                          2360\n",
      "US election score              2360\n",
      "clarity                        1770\n",
      "academic score                 1770\n",
      "contribution                   1180\n",
      "manipulation                   1180\n",
      "relevance                      1180\n",
      "conciseness                    1180\n",
      "logical                        1180\n",
      "election score                 1180\n",
      "pro democratic                 1180\n",
      "pro republican                 1180\n",
      "pro neutral                    1180\n",
      "egotistical                    590\n",
      "persuasiveness                 590\n",
      "truthfulness                   590\n",
      "bias                           590\n",
      "use of evidence                590\n",
      "emotional appeal               590\n",
      "objectivity                    590\n",
      "sensationalism                 590\n",
      "controversiality               590\n",
      "coherence                      590\n",
      "consistency                    590\n",
      "factuality                     590\n",
      "completeness                   590\n",
      "quality of sources             590\n",
      "balance                        590\n",
      "tone is professional           590\n",
      "tone is conversational         590\n",
      "tone is academic               590\n",
      "accessibility                  590\n",
      "engagement                     590\n",
      "adherence to rules             590\n",
      "respectfulness                 590\n",
      "interruptions                  590\n",
      "time management                590\n",
      "responsiveness                 590\n",
      "decorum                        590\n",
      "venue respect                  590\n",
      "language appropriateness       590\n",
      "contextual awareness           590\n",
      "confidence                     590\n",
      "fair play                      590\n",
      "listening skills               590\n",
      "civil discourse                590\n",
      "respect for diverse opinions   590\n",
      "preparation                    590\n",
      "\n",
      "...\n",
      "\n",
      "\n",
      "\n",
      "value\n",
      "                           0.5 25059\n",
      "                           0.8 17283\n",
      "                           0.0 9362\n",
      "                           1.0 5834\n",
      "                           0.7 3705\n",
      "                           0.9 2121\n",
      "                           0.2 1241\n",
      "UNKNOWN                        298\n",
      "                           0.6 274\n",
      "                          2500 150\n",
      "REPUBLICAN                     150\n",
      "DEMOCRAT                       142\n",
      "                           0.3 141\n",
      "                             4 78\n",
      "                             3 68\n",
      "                             2 55\n",
      "                             5 54\n",
      "                             6 52\n",
      "                             7 38\n",
      "            0.3333333333333333 32\n",
      "                            11 28\n",
      "                           306 28\n",
      "            0.5687732342007435 28\n",
      "                           232 28\n",
      "            0.4312267657992565 28\n",
      "                             9 28\n",
      "                             8 26\n",
      "                           0.4 23\n",
      "                            13 23\n",
      "                           365 23\n",
      "                          0.25 23\n",
      "            0.6784386617100372 22\n",
      "                      66900000 22\n",
      "            0.5343450479233227 22\n",
      "                           173 22\n",
      "            0.3215613382899628 22\n",
      "                      58300000 22\n",
      "           0.46565495207667734 22\n",
      "                      39100000 21\n",
      "                            14 20\n",
      "                            16 19\n",
      "                            10 19\n",
      "                            15 18\n",
      "                            17 18\n",
      "FOREIGN POLICY                 15\n",
      "                      63000000 15\n",
      "            0.4891304347826087 15\n",
      "                      65800000 15\n",
      "            0.5108695652173914 15\n",
      "                           370 15\n",
      "\n",
      "...\n",
      "\n",
      "\n",
      "\n",
      "speaker_party\n",
      "UNKNOWN                        34568\n",
      "REPUBLICAN                     17400\n",
      "DEMOCRAT                       16472\n",
      "                           nan 0\n",
      "\n",
      "\n",
      "\n"
     ]
    }
   ],
   "source": [
    "# for each column print unique classes with their counts\n",
    "for column in ['speaker', 'prompt_type', 'detailed_name', 'name', 'value', 'speaker_party']:\n",
    "    print(column)\n",
    "\n",
    "    sorted_unqiue_counts = sorted([(value, sum(measurements[column] == value)) for value in measurements[column].unique()], key=lambda x: x[1], reverse=True)\n",
    "\n",
    "    for value, count in sorted_unqiue_counts[:50]:\n",
    "        example_entry = measurements[measurements[column] == value]\n",
    "        print(f'{value:30} {count}')\n",
    "    if len(sorted_unqiue_counts) > 50:\n",
    "        print('\\n...')\n",
    "    print('\\n\\n')"
   ]
  },
  {
   "cell_type": "markdown",
   "metadata": {},
   "source": [
    "## Working with the data\n",
    "\n",
    "Now we want to group the measurements by slice_ids and speaker pairs which will give us a more usable format to work with.\n",
    "This is then the d-dimensional space we will work with."
   ]
  },
  {
   "cell_type": "code",
   "execution_count": 9,
   "metadata": {},
   "outputs": [
    {
     "name": "stdout",
     "output_type": "stream",
     "text": [
      "Dropping topic (max3) because it has too many categories (100)!\n",
      "Dropping debate_id because it has too many categories (45)!\n",
      "Creating flag for speaker_party == DEMOCRAT\n",
      "Creating flag for speaker_party == REPUBLICAN\n",
      "Creating flag for speaker_party == UNKNOWN\n"
     ]
    },
    {
     "data": {
      "text/html": [
       "<div>\n",
       "<style scoped>\n",
       "    .dataframe tbody tr th:only-of-type {\n",
       "        vertical-align: middle;\n",
       "    }\n",
       "\n",
       "    .dataframe tbody tr th {\n",
       "        vertical-align: top;\n",
       "    }\n",
       "\n",
       "    .dataframe thead th {\n",
       "        text-align: right;\n",
       "    }\n",
       "</style>\n",
       "<table border=\"1\" class=\"dataframe\">\n",
       "  <thead>\n",
       "    <tr style=\"text-align: right;\">\n",
       "      <th></th>\n",
       "      <th>slice_id</th>\n",
       "      <th>speaker</th>\n",
       "      <th>content quality (filler)</th>\n",
       "      <th>content quality (speaker)</th>\n",
       "      <th>content quality (dataset)</th>\n",
       "      <th>topic predictiveness (usefullness)</th>\n",
       "      <th>num_tokens</th>\n",
       "      <th>num_parts</th>\n",
       "      <th>slice_size</th>\n",
       "      <th>egotistical (benefit)</th>\n",
       "      <th>...</th>\n",
       "      <th>speaker_electoral_votes_ratio</th>\n",
       "      <th>speaker_popular_votes</th>\n",
       "      <th>speaker_popular_votes_ratio</th>\n",
       "      <th>speaker_won_election</th>\n",
       "      <th>speaker_is_president_candidate</th>\n",
       "      <th>speaker_is_vice_president_candidate</th>\n",
       "      <th>speaker_is_candidate</th>\n",
       "      <th>speaker_party_IS_DEMOCRAT</th>\n",
       "      <th>speaker_party_IS_REPUBLICAN</th>\n",
       "      <th>speaker_party_IS_UNKNOWN</th>\n",
       "    </tr>\n",
       "  </thead>\n",
       "  <tbody>\n",
       "    <tr>\n",
       "      <th>0</th>\n",
       "      <td>di0-ss2500_so0.1_co0.05_si2</td>\n",
       "      <td>BARACK OBAMA</td>\n",
       "      <td>0.8</td>\n",
       "      <td>0.8</td>\n",
       "      <td>0.8</td>\n",
       "      <td>1.0</td>\n",
       "      <td>2468</td>\n",
       "      <td>18</td>\n",
       "      <td>2500</td>\n",
       "      <td>0.5</td>\n",
       "      <td>...</td>\n",
       "      <td>0.6171</td>\n",
       "      <td>62600000</td>\n",
       "      <td>0.51438</td>\n",
       "      <td>1</td>\n",
       "      <td>1</td>\n",
       "      <td>0</td>\n",
       "      <td>1</td>\n",
       "      <td>1.0</td>\n",
       "      <td>0.0</td>\n",
       "      <td>0.0</td>\n",
       "    </tr>\n",
       "    <tr>\n",
       "      <th>1</th>\n",
       "      <td>di0-ss2500_so0.1_co0.05_si2</td>\n",
       "      <td>MITT ROMNEY</td>\n",
       "      <td>0.8</td>\n",
       "      <td>0.8</td>\n",
       "      <td>0.8</td>\n",
       "      <td>1.0</td>\n",
       "      <td>2468</td>\n",
       "      <td>18</td>\n",
       "      <td>2500</td>\n",
       "      <td>0.8</td>\n",
       "      <td>...</td>\n",
       "      <td>0.3829</td>\n",
       "      <td>59100000</td>\n",
       "      <td>0.48562</td>\n",
       "      <td>0</td>\n",
       "      <td>1</td>\n",
       "      <td>0</td>\n",
       "      <td>1</td>\n",
       "      <td>0.0</td>\n",
       "      <td>1.0</td>\n",
       "      <td>0.0</td>\n",
       "    </tr>\n",
       "    <tr>\n",
       "      <th>2</th>\n",
       "      <td>di0-ss2500_so0.1_co0.05_si2</td>\n",
       "      <td>SCHIEFFER</td>\n",
       "      <td>0.8</td>\n",
       "      <td>0.8</td>\n",
       "      <td>0.8</td>\n",
       "      <td>1.0</td>\n",
       "      <td>2468</td>\n",
       "      <td>18</td>\n",
       "      <td>2500</td>\n",
       "      <td>0.5</td>\n",
       "      <td>...</td>\n",
       "      <td>0.0000</td>\n",
       "      <td>0</td>\n",
       "      <td>0.00000</td>\n",
       "      <td>0</td>\n",
       "      <td>0</td>\n",
       "      <td>0</td>\n",
       "      <td>0</td>\n",
       "      <td>0.0</td>\n",
       "      <td>0.0</td>\n",
       "      <td>1.0</td>\n",
       "    </tr>\n",
       "    <tr>\n",
       "      <th>3</th>\n",
       "      <td>di0-ss2500_so0.1_co0.05_si6</td>\n",
       "      <td>BARACK OBAMA</td>\n",
       "      <td>0.8</td>\n",
       "      <td>0.8</td>\n",
       "      <td>0.8</td>\n",
       "      <td>0.8</td>\n",
       "      <td>2297</td>\n",
       "      <td>23</td>\n",
       "      <td>2500</td>\n",
       "      <td>0.5</td>\n",
       "      <td>...</td>\n",
       "      <td>0.6171</td>\n",
       "      <td>62600000</td>\n",
       "      <td>0.51438</td>\n",
       "      <td>1</td>\n",
       "      <td>1</td>\n",
       "      <td>0</td>\n",
       "      <td>1</td>\n",
       "      <td>1.0</td>\n",
       "      <td>0.0</td>\n",
       "      <td>0.0</td>\n",
       "    </tr>\n",
       "    <tr>\n",
       "      <th>4</th>\n",
       "      <td>di0-ss2500_so0.1_co0.05_si6</td>\n",
       "      <td>MITT ROMNEY</td>\n",
       "      <td>0.8</td>\n",
       "      <td>0.8</td>\n",
       "      <td>0.8</td>\n",
       "      <td>0.8</td>\n",
       "      <td>2297</td>\n",
       "      <td>23</td>\n",
       "      <td>2500</td>\n",
       "      <td>0.8</td>\n",
       "      <td>...</td>\n",
       "      <td>0.3829</td>\n",
       "      <td>59100000</td>\n",
       "      <td>0.48562</td>\n",
       "      <td>0</td>\n",
       "      <td>1</td>\n",
       "      <td>0</td>\n",
       "      <td>1</td>\n",
       "      <td>0.0</td>\n",
       "      <td>1.0</td>\n",
       "      <td>0.0</td>\n",
       "    </tr>\n",
       "  </tbody>\n",
       "</table>\n",
       "<p>5 rows × 127 columns</p>\n",
       "</div>"
      ],
      "text/plain": [
       "                      slice_id       speaker  content quality (filler)   \n",
       "0  di0-ss2500_so0.1_co0.05_si2  BARACK OBAMA                       0.8  \\\n",
       "1  di0-ss2500_so0.1_co0.05_si2   MITT ROMNEY                       0.8   \n",
       "2  di0-ss2500_so0.1_co0.05_si2     SCHIEFFER                       0.8   \n",
       "3  di0-ss2500_so0.1_co0.05_si6  BARACK OBAMA                       0.8   \n",
       "4  di0-ss2500_so0.1_co0.05_si6   MITT ROMNEY                       0.8   \n",
       "\n",
       "   content quality (speaker)  content quality (dataset)   \n",
       "0                        0.8                        0.8  \\\n",
       "1                        0.8                        0.8   \n",
       "2                        0.8                        0.8   \n",
       "3                        0.8                        0.8   \n",
       "4                        0.8                        0.8   \n",
       "\n",
       "   topic predictiveness (usefullness)  num_tokens  num_parts  slice_size   \n",
       "0                                 1.0        2468         18        2500  \\\n",
       "1                                 1.0        2468         18        2500   \n",
       "2                                 1.0        2468         18        2500   \n",
       "3                                 0.8        2297         23        2500   \n",
       "4                                 0.8        2297         23        2500   \n",
       "\n",
       "   egotistical (benefit)  ...  speaker_electoral_votes_ratio   \n",
       "0                    0.5  ...                         0.6171  \\\n",
       "1                    0.8  ...                         0.3829   \n",
       "2                    0.5  ...                         0.0000   \n",
       "3                    0.5  ...                         0.6171   \n",
       "4                    0.8  ...                         0.3829   \n",
       "\n",
       "   speaker_popular_votes  speaker_popular_votes_ratio  speaker_won_election   \n",
       "0               62600000                      0.51438                     1  \\\n",
       "1               59100000                      0.48562                     0   \n",
       "2                      0                      0.00000                     0   \n",
       "3               62600000                      0.51438                     1   \n",
       "4               59100000                      0.48562                     0   \n",
       "\n",
       "   speaker_is_president_candidate  speaker_is_vice_president_candidate   \n",
       "0                               1                                    0  \\\n",
       "1                               1                                    0   \n",
       "2                               0                                    0   \n",
       "3                               1                                    0   \n",
       "4                               1                                    0   \n",
       "\n",
       "   speaker_is_candidate  speaker_party_IS_DEMOCRAT   \n",
       "0                     1                        1.0  \\\n",
       "1                     1                        0.0   \n",
       "2                     0                        0.0   \n",
       "3                     1                        1.0   \n",
       "4                     1                        0.0   \n",
       "\n",
       "   speaker_party_IS_REPUBLICAN  speaker_party_IS_UNKNOWN  \n",
       "0                          0.0                       0.0  \n",
       "1                          1.0                       0.0  \n",
       "2                          0.0                       1.0  \n",
       "3                          0.0                       0.0  \n",
       "4                          1.0                       0.0  \n",
       "\n",
       "[5 rows x 127 columns]"
      ]
     },
     "execution_count": 9,
     "metadata": {},
     "output_type": "execute_result"
    }
   ],
   "source": [
    "measurements = pd.read_pickle(f'{experiment_folder}/{experiment_name}.pkl')\n",
    "\n",
    "# use the metadata to filter the data\n",
    "measurements.rename(columns={'detailed_name': 'val_name'}, inplace=True)\n",
    "\n",
    "variable_keys = measurements['val_name'].unique()\n",
    "\n",
    "# collect mapping of slice_id -> slice_measurements\n",
    "slice_measurements = dict()\n",
    "for slice_id, df in measurements[measurements['is_slice_variable']].groupby('slice_id'):\n",
    "    slice_measurements[slice_id] = dict()\n",
    "    for val_name, value in zip(df['val_name'], df['value']):\n",
    "        assert(val_name not in slice_measurements[slice_id])\n",
    "        slice_measurements[slice_id][val_name] = value\n",
    "\n",
    "# collect mapping of (slice_id, speaker) -> speaker_measurements\n",
    "data = []\n",
    "for (slice_id, speaker), df in measurements[~measurements['is_slice_variable']].groupby(['slice_id', 'speaker']):\n",
    "    # add slice measurements and metadata\n",
    "    row = {'slice_id': slice_id, 'speaker': speaker, **slice_measurements[slice_id]}\n",
    "    for val_name, value in zip(df['val_name'], df['value']):\n",
    "        if val_name in row:\n",
    "            print(val_name, row[val_name], value)\n",
    "        assert(val_name not in row)\n",
    "        row[val_name] = value\n",
    "    data += [row]\n",
    "\n",
    "data = pd.DataFrame(data)\n",
    "assert(sum(data.isna().sum()) == 0)\n",
    "\n",
    "# turn all rows that are string and not float into flags for each of their categories\n",
    "for column in variable_keys:\n",
    "    if data[column].dtype == 'object':\n",
    "        # drop if too many categories\n",
    "        if len(data[column].unique()) > 8:\n",
    "            print(f'Dropping {column} because it has too many categories ({len(data[column].unique())})!')\n",
    "            data.drop(columns=[column], inplace=True)\n",
    "            continue\n",
    "        for category in data[column].unique():\n",
    "            print(f'Creating flag for {column} == {category}')\n",
    "            data[f'{column}_IS_{category}'] = (data[column] == category).astype(float)\n",
    "            data = data.copy() # defragment\n",
    "        data.drop(columns=[column], inplace=True)\n",
    "\n",
    "data.head()"
   ]
  },
  {
   "cell_type": "code",
   "execution_count": 10,
   "metadata": {},
   "outputs": [
    {
     "name": "stdout",
     "output_type": "stream",
     "text": [
      "(590, 127)\n",
      "Saved experiment data to datasets/llm_measurements/experiments/all_variables_150_slices_single_speaker_single_variable_candidates_only.pkl\n",
      "\n",
      "\n",
      "(292, 126)\n"
     ]
    }
   ],
   "source": [
    "print(data.shape)\n",
    "\n",
    "# remove non candidate speakers\n",
    "data = data[data['speaker_party_IS_UNKNOWN']==0]\n",
    "data = data.drop(columns=['speaker_party_IS_UNKNOWN'])\n",
    "\n",
    "# save to pickle\n",
    "experiment_name = 'all_variables_150_slices_single_speaker_single_variable_candidates_only'\n",
    "data.to_pickle(f'{experiment_folder}/{experiment_name}.pkl')\n",
    "print(f'Saved experiment data to {experiment_folder}/{experiment_name}.pkl\\n\\n')\n",
    "\n",
    "print(data.shape)"
   ]
  },
  {
   "cell_type": "code",
   "execution_count": 11,
   "metadata": {},
   "outputs": [
    {
     "name": "stdout",
     "output_type": "stream",
     "text": [
      "Created content quality from ['content quality (filler)', 'content quality (speaker)', 'content quality (dataset)']\n",
      "Created topic predictiveness from ['topic predictiveness (usefullness)']\n",
      "Created egotistical from ['egotistical (benefit)']\n",
      "Created persuasiveness from ['persuasiveness (convincing)']\n",
      "Created clarity from ['clarity (understandable)', 'clarity (easiness)', 'clarity (clarity)']\n",
      "Created contribution from ['contribution (quality)', 'contribution (quantity)']\n",
      "Created truthfulness from ['truthfulness (thruthullness)']\n",
      "Created bias from ['bias (bias)']\n",
      "Created manipulation from ['manipulation (manipulation)', 'manipulation (underhanded)']\n",
      "Created evasiveness from ['evasiveness (avoid)', 'evasiveness (ignore)', 'evasiveness (dodge)', 'evasiveness (evade)']\n",
      "Created relevant from ['relevant (relevant)']\n",
      "Created relevance from ['relevance (relevance)']\n",
      "Created conciseness from ['conciseness (efficiency)', 'conciseness (concise)']\n",
      "Created use of evidence from ['use of evidence (evidence)']\n",
      "Created emotional appeal from ['emotional appeal (emotional)']\n",
      "Created objectivity from ['objectivity (unbiased)']\n",
      "Created sensationalism from ['sensationalism (exaggerated)']\n",
      "Created controversiality from ['controversiality (controversial)']\n",
      "Created coherence from ['coherence (coherent)']\n",
      "Created consistency from ['consistency (consistent)']\n",
      "Created factuality from ['factuality (factual)']\n",
      "Created completeness from ['completeness (complete)']\n",
      "Created quality of sources from ['quality of sources (reliable)']\n",
      "Created balance from ['balance (balanced)']\n",
      "Created tone is professional from ['tone is professional (tone)']\n",
      "Created tone is conversational from ['tone is conversational (tone)']\n",
      "Created tone is academic from ['tone is academic (tone)']\n",
      "Created accessibility from ['accessibility (accessibility)']\n",
      "Created engagement from ['engagement (engagement)']\n",
      "Created adherence to rules from ['adherence to rules (adherence)']\n",
      "Created respectfulness from ['respectfulness (respectfulness)']\n",
      "Created interruptions from ['interruptions (interruptions)']\n",
      "Created time management from ['time management (time management)']\n",
      "Created responsiveness from ['responsiveness (responsiveness)']\n",
      "Created decorum from ['decorum (decorum)']\n",
      "Created venue respect from ['venue respect (venue respect)']\n",
      "Created language appropriateness from ['language appropriateness (language appropriateness)']\n",
      "Created contextual awareness from ['contextual awareness (contextual awareness)']\n",
      "Created confidence from ['confidence (confidence)']\n",
      "Created fair play from ['fair play (fair play)']\n",
      "Created listening skills from ['listening skills (listening skills)']\n",
      "Created civil discourse from ['civil discourse (civil discourse)']\n",
      "Created respect for diverse opinions from ['respect for diverse opinions (respect for diverse opinions)']\n",
      "Created preparation from ['preparation (preparation)']\n",
      "Created resonance from ['resonance (resonance)']\n",
      "Created authenticity from ['authenticity (authenticity)']\n",
      "Created empathy from ['empathy (empathy)']\n",
      "Created innovation from ['innovation (innovation)']\n",
      "Created outreach from ['outreach (penetration)', 'outreach (relatability)', 'outreach (accessibility)', 'outreach (amplification)', 'outreach (cultural relevance)', 'outreach (resonance)']\n",
      "Created logical from ['logical (logic argument)', 'logical (sound)']\n",
      "Created general score from ['general score (argue)', 'general score (argument)', 'general score (quality)', 'general score (voting)']\n",
      "Created academic score from ['academic score (argue)', 'academic score (argument)', 'academic score (structure)']\n",
      "Created election score from ['election score (voting)', 'election score (election)']\n",
      "Created US election score from ['US election score (argue)', 'US election score (argument)', 'US election score (voting)', 'US election score (election)']\n",
      "Created society score from ['society score (reach)']\n",
      "Created pro democratic from ['pro democratic (argument)', 'pro democratic (benefit)']\n",
      "Created pro republican from ['pro republican (argument)', 'pro republican (benefit)']\n",
      "Created pro neutral from ['pro neutral (argument)', 'pro neutral (benefit)']\n",
      "Created impact on audience from ['impact on audience (impact)']\n",
      "Created positive impact on audience from ['positive impact on audience (impact)']\n",
      "Created impact on economy from ['impact on economy (impact)']\n",
      "Created positive impact on economy from ['positive impact on economy (impact)']\n",
      "Created impact on society from ['impact on society (impact)']\n",
      "Created positive impact on society from ['positive impact on society (impact)']\n",
      "Created impact on environment from ['impact on environment (impact)']\n",
      "Created positive impact on environment from ['positive impact on environment (impact)']\n",
      "Created impact on politics from ['impact on politics (impact)']\n",
      "Created positive impact on politics from ['positive impact on politics (impact)']\n",
      "Created impact on rich population from ['impact on rich population (impact)']\n",
      "Created positive impact on rich population from ['positive impact on rich population (impact)']\n",
      "Created impact on poor population from ['impact on poor population (impact)']\n",
      "Created positive impact on poor population from ['positive impact on poor population (impact)']\n",
      "Created positive impact on USA from ['positive impact on USA (impact)']\n",
      "Created positive impact on army funding from ['positive impact on army funding (impact)']\n",
      "Created positive impact on China from ['positive impact on China (impact)']\n",
      "Created positive impact on Russia from ['positive impact on Russia (impact)']\n",
      "Created positive impact on Western Europe from ['positive impact on Western Europe (impact)']\n",
      "Created positive impact on World from ['positive impact on World (impact)']\n",
      "Created positive impact on Middle East from ['positive impact on Middle East (impact)']\n",
      "Saved experiment data to datasets/llm_measurements/experiments/all_variables_150_slices_single_speaker_single_variable_candidates_only_averaged.pkl\n",
      "\n",
      "\n",
      "(292, 98)\n"
     ]
    }
   ],
   "source": [
    "# for each name that starts the same, f.e. 'gneral score (argue)', ... Just average them together into 'general score'\n",
    "new_columns = dict()\n",
    "for column in data.columns:\n",
    "    if ' (' not in column:\n",
    "        continue\n",
    "    name = column.split(' (')[0]\n",
    "    if name not in new_columns:\n",
    "        new_columns[name] = []\n",
    "    new_columns[name].append(column)\n",
    "# add new and remove old\n",
    "for name, columns in new_columns.items():\n",
    "    data[name] = data[columns].mean(axis=1)\n",
    "    data.drop(columns=columns, inplace=True)\n",
    "    print(f'Created {name} from {columns}')\n",
    "\n",
    "experiment_name = 'all_variables_150_slices_single_speaker_single_variable_candidates_only_averaged'\n",
    "data.to_pickle(f'{experiment_folder}/{experiment_name}.pkl')\n",
    "print(f'Saved experiment data to {experiment_folder}/{experiment_name}.pkl\\n\\n')\n",
    "print(data.shape)"
   ]
  },
  {
   "cell_type": "code",
   "execution_count": 12,
   "metadata": {},
   "outputs": [
    {
     "name": "stdout",
     "output_type": "stream",
     "text": [
      "Created general score from ['general score (argue)', 'general score (argument)', 'general score (quality)', 'general score (voting)']\n",
      "Created academic score from ['academic score (argue)', 'academic score (argument)', 'academic score (structure)']\n",
      "Created election score from ['election score (voting)', 'election score (election)']\n",
      "Created US election score from ['US election score (argue)', 'US election score (argument)', 'US election score (voting)', 'US election score (election)']\n",
      "Created society score from ['society score (reach)']\n"
     ]
    },
    {
     "data": {
      "text/plain": [
       "<matplotlib.legend.Legend at 0x751bf4839a50>"
      ]
     },
     "execution_count": 12,
     "metadata": {},
     "output_type": "execute_result"
    },
    {
     "data": {
      "image/png": "[encoded data removed]",
      "text/plain": [
       "<Figure size 800x400 with 1 Axes>"
      ]
     },
     "metadata": {},
     "output_type": "display_data"
    }
   ],
   "source": [
    "# violin plot of speaker party vs score\n",
    "experiment_name = 'all_variables_150_slices_single_speaker_single_variable_candidates_only'\n",
    "df_tmp = pd.read_pickle(f'{experiment_folder}/{experiment_name}.pkl')\n",
    "# add averaged entries for each score\n",
    "all_scores = []\n",
    "new_columns = dict()\n",
    "for column in df_tmp.columns:\n",
    "    if 'score' not in column:\n",
    "        continue\n",
    "    all_scores.append(column)\n",
    "    name = column.split(' (')[0]\n",
    "    if name not in new_columns:\n",
    "        new_columns[name] = []\n",
    "    new_columns[name].append(column)\n",
    "# add new\n",
    "for name, columns in new_columns.items():\n",
    "    df_tmp[name] = df_tmp[columns].mean(axis=1)\n",
    "    print(f'Created {name} from {columns}')\n",
    "\n",
    "scores = list(new_columns.keys()) + all_scores\n",
    "\n",
    "# overwrite for final plot\n",
    "scores = ['general score', 'academic score', 'election score', 'election score (election)']\n",
    "\n",
    "df_tmp['Speaker Party'] = 'Unknown'\n",
    "df_tmp.loc[df_tmp['speaker_party_IS_DEMOCRAT'] == 1, 'Speaker Party'] = 'Democrat'\n",
    "df_tmp.loc[df_tmp['speaker_party_IS_REPUBLICAN'] == 1, 'Speaker Party'] = 'Republican'\n",
    "\n",
    "df_tmp = df_tmp.melt(id_vars=['Speaker Party'], value_vars=scores)\n",
    "\n",
    "# make it so that quart lines more visible, text bigger, and colors slightly transparent\n",
    "# plt.rcParams.update({'font.size': 23})\n",
    "# plt.rcParams.update({'patch.linewidth': 0.5})\n",
    "light_red = (1, 0.8, 0.8)\n",
    "light_blue = (0.8, 0.8, 1)\n",
    "\n",
    "sns.set(style=\"whitegrid\")\n",
    "fig = sns.catplot(x='variable', y='value', hue='Speaker Party', kind=\"violin\", data=df_tmp,\n",
    "                height=4, aspect=2, split=True,\n",
    "                cut=0,\n",
    "                # normalize violin hue categories\n",
    "                # common_norm=True,\n",
    "                density_norm='area', legend=False,\n",
    "                inner='quart', palette={'Democrat': light_red, 'Republican': light_blue})\n",
    "                # inner='quart', palette={'Democrat': 'red', 'Republican': 'blue'})\n",
    "\n",
    "# fig.set_xticklabels(rotation=15)\n",
    "# remove x axis label\n",
    "plt.xlabel('')\n",
    "# x tick label sizes\n",
    "plt.xticks(fontsize=18)\n",
    "# y tick label sizes\n",
    "plt.yticks(fontsize=18)\n",
    "plt.ylabel('Value', fontsize=18)\n",
    "\n",
    "# replace space with newline in x tick labels\n",
    "labels = [label.get_text().replace(' ', '\\n') for label in plt.gca().get_xticklabels()]\n",
    "plt.gca().set_xticklabels(labels)\n",
    "\n",
    "# put legend in bottom left\n",
    "plt.legend(title='Speaker Party', loc='lower left', fontsize=12)"
   ]
  },
  {
   "cell_type": "code",
   "execution_count": 13,
   "metadata": {},
   "outputs": [
    {
     "name": "stdout",
     "output_type": "stream",
     "text": [
      "speaker_party_IS_DEMOCRAT                          1.000\n",
      "pro democratic (benefit)                           0.954\n",
      "pro democratic (argument)                          0.832\n",
      "empathy (empathy)                                  0.744\n",
      "positive impact on poor population (impact)        0.726\n",
      "positive impact on World (impact)                  0.639\n",
      "positive impact on society (impact)                0.625\n",
      "positive impact on politics (impact)               0.595\n",
      "listening skills (listening skills)                0.570\n",
      "outreach (relatability)                            0.556\n",
      "civil discourse (civil discourse)                  0.549\n",
      "positive impact on USA (impact)                    0.544\n",
      "outreach (penetration)                             0.525\n",
      "resonance (resonance)                              0.521\n",
      "positive impact on environment (impact)            0.518\n",
      "pro neutral (benefit)                              0.509\n",
      "impact on society (impact)                         0.482\n",
      "positive impact on audience (impact)               0.480\n",
      "general score (argument)                           0.467\n",
      "respectfulness (respectfulness)                    0.454\n",
      "impact on poor population (impact)                 0.449\n",
      "relevant (relevant)                                0.448\n",
      "positive impact on Western Europe (impact)         0.448\n",
      "outreach (resonance)                               0.437\n",
      "US election score (argument)                       0.434\n",
      "factuality (factual)                               0.425\n",
      "academic score (argument)                          0.412\n",
      "logical (sound)                                    0.410\n",
      "persuasiveness (convincing)                        0.404\n",
      "outreach (accessibility)                           0.399\n",
      "positive impact on Middle East (impact)            0.390\n",
      "authenticity (authenticity)                        0.390\n",
      "innovation (innovation)                            0.389\n",
      "preparation (preparation)                          0.388\n",
      "relevance (relevance)                              0.385\n",
      "general score (argue)                              0.383\n",
      "respect for diverse opinions (respect for diverse opinions) 0.376\n",
      "contextual awareness (contextual awareness)        0.375\n",
      "logical (logic argument)                           0.368\n",
      "decorum (decorum)                                  0.360\n",
      "use of evidence (evidence)                         0.357\n",
      "general score (voting)                             0.347\n",
      "contribution (quality)                             0.338\n",
      "responsiveness (responsiveness)                    0.338\n",
      "coherence (coherent)                               0.337\n",
      "academic score (structure)                         0.336\n",
      "consistency (consistent)                           0.333\n",
      "positive impact on China (impact)                  0.333\n",
      "US election score (voting)                         0.325\n",
      "impact on audience (impact)                        0.325\n",
      "election score (voting)                            0.324\n",
      "US election score (argue)                          0.323\n",
      "outreach (cultural relevance)                      0.315\n",
      "truthfulness (thruthullness)                       0.305\n",
      "impact on environment (impact)                     0.304\n",
      "clarity (clarity)                                  0.290\n",
      "contribution (quantity)                            0.279\n",
      "conciseness (efficiency)                           0.275\n",
      "academic score (argue)                             0.275\n",
      "clarity (understandable)                           0.274\n",
      "clarity (easiness)                                 0.261\n",
      "language appropriateness (language appropriateness) 0.242\n",
      "tone is professional (tone)                        0.234\n",
      "objectivity (unbiased)                             0.229\n",
      "pro neutral (argument)                             0.228\n",
      "fair play (fair play)                              0.218\n",
      "venue respect (venue respect)                      0.217\n",
      "impact on politics (impact)                        0.213\n",
      "speaker_won_election                               0.199\n",
      "completeness (complete)                            0.194\n",
      "tone is conversational (tone)                      0.191\n",
      "election score (election)                          0.183\n",
      "adherence to rules (adherence)                     0.182\n",
      "speaker_popular_votes_ratio                        0.177\n",
      "general score (quality)                            0.172\n",
      "balance (balanced)                                 0.172\n",
      "confidence (confidence)                            0.168\n",
      "accessibility (accessibility)                      0.166\n",
      "society score (reach)                              0.157\n",
      "emotional appeal (emotional)                       0.147\n",
      "time management (time management)                  0.140\n",
      "engagement (engagement)                            0.138\n",
      "positive impact on Russia (impact)                 0.116\n",
      "conciseness (concise)                              0.115\n",
      "quality of sources (reliable)                      0.099\n",
      "speaker_popular_votes                              0.095\n",
      "outreach (amplification)                           0.079\n",
      "positive impact on economy (impact)                0.066\n",
      "speaker_electoral_votes_ratio                      0.048\n",
      "speaker_electoral_votes                            0.047\n",
      "content quality (dataset)                          0.026\n",
      "speaker_is_president_candidate                     0.024\n",
      "US election score (election)                       0.022\n",
      "num_parts                                          0.020\n",
      "content quality (speaker)                          0.012\n",
      "tone is academic (tone)                            0.000\n",
      "topic predictiveness (usefullness)                 -0.001\n",
      "num_tokens                                         -0.003\n",
      "content quality (filler)                           -0.009\n",
      "speaker_is_vice_president_candidate                -0.024\n",
      "controversiality (controversial)                   -0.093\n",
      "speaker_quantitative_contribution                  -0.103\n",
      "speaker_quantitative_contribution_ratio            -0.107\n",
      "speaker_num_parts                                  -0.117\n",
      "impact on economy (impact)                         -0.123\n",
      "sensationalism (exaggerated)                       -0.186\n",
      "evasiveness (avoid)                                -0.233\n",
      "evasiveness (evade)                                -0.260\n",
      "speaker_num_parts_ratio                            -0.260\n",
      "interruptions (interruptions)                      -0.268\n",
      "positive impact on army funding (impact)           -0.285\n",
      "bias (bias)                                        -0.287\n",
      "evasiveness (ignore)                               -0.296\n",
      "evasiveness (dodge)                                -0.304\n",
      "manipulation (manipulation)                        -0.412\n",
      "manipulation (underhanded)                         -0.425\n",
      "impact on rich population (impact)                 -0.453\n",
      "egotistical (benefit)                              -0.611\n",
      "pro republican (argument)                          -0.855\n",
      "positive impact on rich population (impact)        -0.881\n",
      "pro republican (benefit)                           -0.895\n",
      "speaker_party_IS_REPUBLICAN                        -1.000\n"
     ]
    }
   ],
   "source": [
    "# example plot of speaker_party vs. rest correlation heatmap\n",
    "import seaborn as snsimage\n",
    "import matplotlib.pyplot as plt\n",
    "\n",
    "data = pd.read_pickle(f'{experiment_folder}/all_variables_150_slices_single_speaker_single_variable_candidates_only.pkl')\n",
    "\n",
    "# calculate the correlation matrix\n",
    "data = data.drop(columns=['slice_id', 'speaker'])\n",
    "\n",
    "corr = data.corr()\n",
    "\n",
    "corr.dropna(axis=0, how='all', inplace=True)\n",
    "corr.dropna(axis=1, how='all', inplace=True)\n",
    "\n",
    "sub_corr = corr['speaker_party_IS_DEMOCRAT'].sort_values(ascending=False)\n",
    "\n",
    "for key, value in sub_corr.items():\n",
    "    print(f'{key:50} {value:.3f}')"
   ]
  },
  {
   "cell_type": "code",
   "execution_count": 14,
   "metadata": {},
   "outputs": [
    {
     "data": {
      "text/plain": [
       "<Axes: >"
      ]
     },
     "execution_count": 14,
     "metadata": {},
     "output_type": "execute_result"
    },
    {
     "data": {
      "image/png": "[encoded data removed]",
      "text/plain": [
       "<Figure size 640x480 with 2 Axes>"
      ]
     },
     "metadata": {},
     "output_type": "display_data"
    }
   ],
   "source": [
    "# plot the heatmap of a subset of the correlation matrix\n",
    "columns = ['speaker_party_IS_DEMOCRAT', 'general score (argue)', 'manipulation (manipulation)', 'persuasiveness (convincing)', 'adherence to rules (adherence)', 'respectfulness (respectfulness)']\n",
    "\n",
    "corr_sub = corr.loc[columns, columns]\n",
    "\n",
    "# plt.figure(figsize=(10, 10))\n",
    "sns.heatmap(corr_sub, annot=True, cmap='coolwarm', center=0, fmt='.2f')"
   ]
  },
  {
   "cell_type": "code",
   "execution_count": 24,
   "metadata": {},
   "outputs": [
    {
     "name": "stdout",
     "output_type": "stream",
     "text": [
      "94\n",
      "94\n",
      "88\n",
      "64\n",
      "66\n",
      "Index(['speaker_party_IS_DEMOCRAT', 'general score', 'outreach',\n",
      "       'persuasiveness', 'empathy', 'authenticity', 'decorum',\n",
      "       'tone is professional', 'resonance', 'preparation', 'logical',\n",
      "       'clarity', 'egotistical', 'relevant', 'contextual awareness',\n",
      "       'listening skills', 'civil discourse', 'coherence', 'respectfulness',\n",
      "       'responsiveness', 'pro neutral', 'language appropriateness',\n",
      "       'evasiveness', 'adherence to rules', 'factuality', 'contribution',\n",
      "       'manipulation', 'completeness', 'respect for diverse opinions',\n",
      "       'sensationalism', 'use of evidence', 'objectivity', 'interruptions',\n",
      "       'consistency', 'conciseness', 'venue respect', 'accessibility',\n",
      "       'innovation', 'relevance', 'fair play', 'time management',\n",
      "       'speaker_num_parts', 'bias', 'truthfulness', 'tone is academic',\n",
      "       'num_parts', 'content quality', 'speaker_num_parts_ratio', 'balance',\n",
      "       'quality of sources', 'speaker_popular_votes_ratio', 'controversiality',\n",
      "       'confidence', 'engagement', 'speaker_won_election',\n",
      "       'tone is conversational', 'emotional appeal', 'num_tokens',\n",
      "       'topic predictiveness', 'speaker_electoral_votes_ratio',\n",
      "       'speaker_electoral_votes', 'speaker_quantitative_contribution_ratio',\n",
      "       'speaker_quantitative_contribution', 'speaker_popular_votes',\n",
      "       'speaker_is_vice_president_candidate',\n",
      "       'speaker_is_president_candidate'],\n",
      "      dtype='object')\n"
     ]
    },
    {
     "name": "stderr",
     "output_type": "stream",
     "text": [
      "100%|██████████| 2211/2211 [00:13<00:00, 166.35it/s]\n"
     ]
    }
   ],
   "source": [
    "import pingouin as pg\n",
    "\n",
    "# create matrix where entry (i, j) is the partial correlation between i and j given all other variables\n",
    "dp = data.copy()[corr.columns]\n",
    "\n",
    "# for each name that starts the same, f.e. 'gneral score (argue)', ... Just average them together into 'general score'\n",
    "new_columns = dict()\n",
    "for column in dp.columns:\n",
    "    if ' (' not in column:\n",
    "        continue\n",
    "    name = column.split(' (')[0]\n",
    "    if name not in new_columns:\n",
    "        new_columns[name] = []\n",
    "    new_columns[name].append(column)\n",
    "# add new and remove old\n",
    "for name, columns in new_columns.items():\n",
    "    dp[name] = dp[columns].mean(axis=1)\n",
    "    dp.drop(columns=columns, inplace=True)\n",
    "\n",
    "# print(dp.columns)\n",
    "print(len(dp.columns))\n",
    "\n",
    "new_corr = dp.corr()\n",
    "\n",
    "cols = new_corr.columns\n",
    "\n",
    "blacklist = [column for column in cols if 'impact' in column or 'score' in column]\n",
    "\n",
    "\n",
    "available_columns = new_corr.loc[:, ['speaker_party_IS_DEMOCRAT', 'general score']].abs().max(axis=1).sort_values(ascending=False)\n",
    "print(len(available_columns))\n",
    "# remove > 0.8 and < 0.2\n",
    "# available_columns = available_columns[(available_columns > 0.2) & (available_columns < 0.8)]\n",
    "available_columns = available_columns[(available_columns < 0.8)]\n",
    "\n",
    "print(len(available_columns))\n",
    "available_columns = list(available_columns.index)\n",
    "available_columns = [column for column in available_columns if column not in blacklist]\n",
    "print(len(available_columns))\n",
    "\n",
    "cols = ['speaker_party_IS_DEMOCRAT', 'general score'] + available_columns\n",
    "cols = cols[:80]\n",
    "\n",
    "cols = new_corr[cols].columns\n",
    "\n",
    "print(len(cols))\n",
    "print(cols)\n",
    "\n",
    "pcm = pd.DataFrame(index=cols, columns=cols, dtype=float)\n",
    "\n",
    "# use 2d tqdm\n",
    "from tqdm import tqdm\n",
    "\n",
    "for ii, jj in tqdm([(ii, jj) for ii in range(len(cols)) for jj in range(len(cols)) if ii <= jj]):\n",
    "    i = cols[ii]\n",
    "    j = cols[jj]\n",
    "    if i == j:\n",
    "        pcm[i][j] = 1\n",
    "    else:\n",
    "        # remove all that are too correlated\n",
    "        conf_corr = new_corr.loc[cols, [i, j]].abs().max(axis=1)\n",
    "        conf = list(cols[(conf_corr < 0.9)])\n",
    "        assert(i not in conf)\n",
    "        assert(j not in conf)\n",
    "        assert(len(conf) > len(cols)//2)\n",
    "        \n",
    "        val = pg.partial_corr(data=dp, x=i, y=j, covar=conf)\n",
    "        # print(val)\n",
    "        pcm[i][j] = val['r'].values[0]\n",
    "        pcm[j][i] = val['r'].values[0]\n",
    "\n",
    "# pcm = pg.partial_corr(data=dp, x=dp.columns, y=dp.columns, covar=dp.columns)\n",
    "\n",
    "# result = pg.partial_corr(data=data, x='A', y='B', covar=['C1', 'C2', ...])\n",
    "# pcm"
   ]
  },
  {
   "cell_type": "code",
   "execution_count": 25,
   "metadata": {},
   "outputs": [
    {
     "name": "stderr",
     "output_type": "stream",
     "text": [
      "/home/david/Desktop/LLM-Political-Study-Private/utils/network_utils.py:45: RuntimeWarning:\n",
      "\n",
      "divide by zero encountered in scalar divide\n",
      "\n",
      "/home/david/Desktop/LLM-Political-Study-Private/utils/network_utils.py:45: RuntimeWarning:\n",
      "\n",
      "invalid value encountered in scalar divide\n",
      "\n",
      "/home/david/Desktop/LLM-Political-Study-Private/.venv/lib/python3.11/site-packages/numpy/core/_methods.py:118: RuntimeWarning:\n",
      "\n",
      "invalid value encountered in reduce\n",
      "\n"
     ]
    }
   ],
   "source": [
    "import pandas as pd\n",
    "import pingouin as pg\n",
    "import networkx as nx\n",
    "import statsmodels.api as sm\n",
    "import matplotlib.pyplot as plt\n",
    "\n",
    "\n",
    "\n",
    "from utils.network_utils import *\n",
    "\n",
    "\n",
    "\n",
    "dis_matrix, _, _ = compute_distance_matrix_from_df(new_corr.loc[cols, cols])"
   ]
  },
  {
   "cell_type": "code",
   "execution_count": 26,
   "metadata": {},
   "outputs": [
    {
     "data": {
      "text/plain": [
       "Index(['speaker_party_IS_DEMOCRAT', 'general score', 'outreach',\n",
       "       'persuasiveness', 'empathy', 'authenticity', 'decorum',\n",
       "       'tone is professional', 'resonance', 'preparation', 'logical',\n",
       "       'clarity', 'egotistical', 'relevant', 'contextual awareness',\n",
       "       'listening skills', 'civil discourse', 'coherence', 'respectfulness',\n",
       "       'responsiveness', 'pro neutral', 'language appropriateness',\n",
       "       'evasiveness', 'adherence to rules', 'factuality', 'contribution',\n",
       "       'manipulation', 'completeness', 'respect for diverse opinions',\n",
       "       'sensationalism', 'use of evidence', 'objectivity', 'interruptions',\n",
       "       'consistency', 'conciseness', 'venue respect', 'accessibility',\n",
       "       'innovation', 'relevance', 'fair play', 'time management',\n",
       "       'speaker_num_parts', 'bias', 'truthfulness', 'tone is academic',\n",
       "       'num_parts', 'content quality', 'speaker_num_parts_ratio', 'balance',\n",
       "       'quality of sources', 'speaker_popular_votes_ratio', 'controversiality',\n",
       "       'confidence', 'engagement', 'speaker_won_election',\n",
       "       'tone is conversational', 'emotional appeal', 'num_tokens',\n",
       "       'topic predictiveness', 'speaker_electoral_votes_ratio',\n",
       "       'speaker_electoral_votes', 'speaker_quantitative_contribution_ratio',\n",
       "       'speaker_quantitative_contribution', 'speaker_popular_votes',\n",
       "       'speaker_is_vice_president_candidate',\n",
       "       'speaker_is_president_candidate'],\n",
       "      dtype='object')"
      ]
     },
     "execution_count": 26,
     "metadata": {},
     "output_type": "execute_result"
    }
   ],
   "source": [
    "dis_matrix.columns"
   ]
  },
  {
   "cell_type": "code",
   "execution_count": 27,
   "metadata": {},
   "outputs": [
    {
     "data": {
      "text/plain": [
       "speaker_party_IS_DEMOCRAT    1.000000\n",
       "interruptions                0.998334\n",
       "manipulation                 0.996233\n",
       "egotistical                  0.983326\n",
       "bias                         0.958437\n",
       "                               ...   \n",
       "respectfulness              -0.922743\n",
       "emotional appeal            -0.926059\n",
       "balance                     -0.962812\n",
       "civil discourse             -0.971658\n",
       "speaker_won_election        -0.986730\n",
       "Name: speaker_party_IS_DEMOCRAT, Length: 66, dtype: float64"
      ]
     },
     "execution_count": 27,
     "metadata": {},
     "output_type": "execute_result"
    }
   ],
   "source": [
    "pcm.loc[:,'speaker_party_IS_DEMOCRAT'].sort_values(ascending=False)"
   ]
  },
  {
   "cell_type": "code",
   "execution_count": 28,
   "metadata": {},
   "outputs": [
    {
     "data": {
      "application/vnd.plotly.v1+json": {
       "config": {
        "plotlyServerURL": "https://plot.ly"
       },
       "data": [
        {
         "arrangement": "freeform",
         "link": {
          "arrowlen": 15,
          "color": [
           "rgba(121, 9, 254, 0.3)",
           "rgba(67, 92, 250, 0.3)",
           "rgba(59, 103, 249, 0.3)",
           "rgba(51, 115, 248, 0.3)",
           "rgba(43, 126, 246, 0.3)",
           "rgba(37, 134, 245, 0.3)",
           "rgba(29, 144, 243, 0.3)",
           "rgba(21, 154, 241, 0.3)",
           "rgba(13, 164, 239, 0.3)",
           "rgba(5, 174, 237, 0.3)",
           "rgba(0, 180, 235, 0.3)",
           "rgba(8, 189, 232, 0.3)",
           "rgba(16, 197, 230, 0.3)",
           "rgba(24, 205, 227, 0.3)",
           "rgba(32, 212, 224, 0.3)",
           "rgba(40, 219, 221, 0.3)",
           "rgba(46, 223, 219, 0.3)",
           "rgba(54, 229, 215, 0.3)",
           "rgba(62, 234, 212, 0.3)",
           "rgba(70, 239, 209, 0.3)",
           "rgba(78, 243, 205, 0.3)",
           "rgba(84, 246, 202, 0.3)",
           "rgba(92, 249, 198, 0.3)",
           "rgba(100, 251, 194, 0.3)",
           "rgba(108, 253, 190, 0.3)",
           "rgba(116, 254, 186, 0.3)",
           "rgba(124, 254, 181, 0.3)",
           "rgba(130, 254, 178, 0.3)",
           "rgba(138, 254, 174, 0.3)",
           "rgba(146, 253, 169, 0.3)",
           "rgba(154, 251, 164, 0.3)",
           "rgba(162, 249, 159, 0.3)",
           "rgba(170, 246, 154, 0.3)",
           "rgba(176, 243, 151, 0.3)",
           "rgba(184, 239, 146, 0.3)",
           "rgba(208, 223, 130, 0.3)",
           "rgba(222, 212, 120, 0.3)",
           "rgba(238, 197, 109, 0.3)",
           "rgba(246, 189, 103, 0.3)",
           "rgba(254, 180, 97, 0.3)",
           "rgba(255, 174, 93, 0.3)",
           "rgba(255, 164, 87, 0.3)",
           "rgba(255, 154, 81, 0.3)",
           "rgba(255, 144, 75, 0.3)",
           "rgba(255, 134, 69, 0.3)",
           "rgba(255, 115, 59, 0.3)",
           "rgba(255, 103, 53, 0.3)",
           "rgba(255, 92, 46, 0.3)",
           "rgba(255, 80, 40, 0.3)",
           "rgba(255, 68, 34, 0.3)",
           "rgba(255, 59, 29, 0.3)",
           "rgba(255, 46, 23, 0.3)",
           "rgba(255, 34, 17, 0.3)",
           "rgba(121, 9, 254, 0.3)",
           "rgba(59, 103, 249, 0.3)",
           "rgba(192, 234, 140, 0.3)",
           "rgba(32, 212, 224, 0.3)",
           "rgba(116, 254, 186, 0.3)",
           "rgba(154, 251, 164, 0.3)",
           "rgba(54, 229, 215, 0.3)",
           "rgba(100, 251, 194, 0.3)",
           "rgba(255, 68, 34, 0.3)",
           "rgba(255, 34, 17, 0.3)",
           "rgba(255, 80, 40, 0.3)",
           "rgba(29, 144, 243, 0.3)",
           "rgba(100, 251, 194, 0.3)",
           "rgba(192, 234, 140, 0.3)",
           "rgba(170, 246, 154, 0.3)",
           "rgba(121, 9, 254, 0.3)",
           "rgba(32, 212, 224, 0.3)",
           "rgba(54, 229, 215, 0.3)",
           "rgba(121, 9, 254, 0.3)",
           "rgba(255, 34, 17, 0.3)",
           "rgba(146, 253, 169, 0.3)",
           "rgba(116, 254, 186, 0.3)",
           "rgba(255, 46, 23, 0.3)",
           "rgba(54, 229, 215, 0.3)",
           "rgba(121, 9, 254, 0.3)",
           "rgba(184, 239, 146, 0.3)",
           "rgba(121, 9, 254, 0.3)",
           "rgba(70, 239, 209, 0.3)",
           "rgba(40, 219, 221, 0.3)",
           "rgba(21, 154, 241, 0.3)",
           "rgba(121, 9, 254, 0.3)",
           "rgba(255, 164, 87, 0.3)",
           "rgba(255, 103, 53, 0.3)",
           "rgba(21, 154, 241, 0.3)",
           "rgba(184, 239, 146, 0.3)",
           "rgba(214, 219, 126, 0.3)",
           "rgba(170, 246, 154, 0.3)",
           "rgba(214, 219, 126, 0.3)",
           "rgba(29, 144, 243, 0.3)",
           "rgba(214, 219, 126, 0.3)",
           "rgba(124, 254, 181, 0.3)",
           "rgba(162, 249, 159, 0.3)",
           "rgba(113, 21, 254, 0.3)",
           "rgba(121, 9, 254, 0.3)",
           "rgba(46, 223, 219, 0.3)",
           "rgba(0, 180, 235, 0.3)",
           "rgba(84, 246, 202, 0.3)"
          ],
          "source": [
           0,
           7,
           8,
           9,
           10,
           11,
           12,
           13,
           14,
           15,
           16,
           17,
           18,
           19,
           20,
           21,
           22,
           23,
           24,
           25,
           26,
           27,
           28,
           29,
           30,
           31,
           32,
           33,
           34,
           35,
           36,
           37,
           38,
           39,
           40,
           43,
           45,
           47,
           48,
           49,
           50,
           51,
           52,
           53,
           54,
           56,
           57,
           58,
           59,
           60,
           61,
           62,
           63,
           0,
           8,
           41,
           20,
           31,
           36,
           23,
           29,
           60,
           63,
           59,
           12,
           29,
           41,
           38,
           0,
           20,
           23,
           0,
           63,
           35,
           31,
           62,
           23,
           0,
           40,
           0,
           25,
           21,
           13,
           0,
           51,
           57,
           13,
           40,
           44,
           38,
           44,
           12,
           44,
           32,
           37,
           1,
           0,
           22,
           16,
           27
          ],
          "target": [
           64,
           64,
           64,
           64,
           64,
           64,
           64,
           64,
           64,
           64,
           64,
           64,
           64,
           64,
           64,
           64,
           64,
           64,
           64,
           64,
           64,
           65,
           64,
           64,
           64,
           64,
           64,
           64,
           64,
           64,
           64,
           64,
           64,
           64,
           64,
           64,
           65,
           64,
           64,
           64,
           64,
           64,
           64,
           64,
           64,
           65,
           65,
           65,
           64,
           64,
           64,
           64,
           64,
           4,
           2,
           32,
           2,
           5,
           11,
           6,
           6,
           50,
           32,
           50,
           4,
           7,
           6,
           2,
           15,
           10,
           7,
           2,
           41,
           18,
           6,
           61,
           22,
           16,
           21,
           8,
           2,
           6,
           1,
           12,
           6,
           41,
           2,
           11,
           6,
           10,
           32,
           16,
           7,
           6,
           2,
           2,
           10,
           6,
           10,
           22
          ],
          "value": [
           null,
           null,
           null,
           null,
           null,
           null,
           null,
           null,
           null,
           null,
           null,
           null,
           null,
           null,
           null,
           null,
           null,
           null,
           null,
           null,
           null,
           null,
           null,
           null,
           null,
           null,
           null,
           null,
           null,
           null,
           null,
           null,
           null,
           null,
           null,
           null,
           null,
           null,
           null,
           null,
           null,
           null,
           null,
           null,
           null,
           null,
           null,
           null,
           null,
           null,
           null,
           null,
           null,
           0.8880576251062398,
           0.7895008180309239,
           0.7629934377970298,
           0.7596755939520803,
           0.7532619199412078,
           0.746410222899095,
           0.7435420503913949,
           0.7307374662597853,
           0.7174463188633017,
           0.7135133728883207,
           0.7134668011720987,
           0.6976149142960613,
           0.6955942031193512,
           0.6929820381124746,
           0.68992457576536,
           0.6870762782339725,
           0.686358652573732,
           0.6815582551564472,
           0.6784627543318716,
           0.678094277337809,
           0.6777108188905949,
           0.6750425952547837,
           0.6725576020384855,
           0.6716576743758942,
           0.6706455230355707,
           0.6694700652918624,
           0.6652909376935163,
           0.6642165839134011,
           0.6606853420658285,
           0.6577654242937804,
           0.654926717553552,
           0.6539152356261722,
           0.6521730121761254,
           0.6497370788508431,
           0.6494299266592071,
           0.6463514440581911,
           0.6452770944590107,
           0.6442333920102673,
           0.6420982896214703,
           0.6420702931009374,
           0.6398915825850765,
           0.6393186135287249,
           0.6386738793707886,
           0.6378385870758971,
           0.6343581622360296,
           0.6332192199875472,
           0.6324612910029734
          ]
         },
         "node": {
          "color": [
           "rgba(121, 9, 254, 0.7)",
           "rgba(113, 21, 254, 0.7)",
           "rgba(105, 34, 254, 0.7)",
           "rgba(97, 46, 253, 0.7)",
           "rgba(89, 59, 253, 0.7)",
           "rgba(83, 68, 252, 0.7)",
           "rgba(75, 80, 251, 0.7)",
           "rgba(67, 92, 250, 0.7)",
           "rgba(59, 103, 249, 0.7)",
           "rgba(51, 115, 248, 0.7)",
           "rgba(43, 126, 246, 0.7)",
           "rgba(37, 134, 245, 0.7)",
           "rgba(29, 144, 243, 0.7)",
           "rgba(21, 154, 241, 0.7)",
           "rgba(13, 164, 239, 0.7)",
           "rgba(5, 174, 237, 0.7)",
           "rgba(0, 180, 235, 0.7)",
           "rgba(8, 189, 232, 0.7)",
           "rgba(16, 197, 230, 0.7)",
           "rgba(24, 205, 227, 0.7)",
           "rgba(32, 212, 224, 0.7)",
           "rgba(40, 219, 221, 0.7)",
           "rgba(46, 223, 219, 0.7)",
           "rgba(54, 229, 215, 0.7)",
           "rgba(62, 234, 212, 0.7)",
           "rgba(70, 239, 209, 0.7)",
           "rgba(78, 243, 205, 0.7)",
           "rgba(84, 246, 202, 0.7)",
           "rgba(92, 249, 198, 0.7)",
           "rgba(100, 251, 194, 0.7)",
           "rgba(108, 253, 190, 0.7)",
           "rgba(116, 254, 186, 0.7)",
           "rgba(124, 254, 181, 0.7)",
           "rgba(130, 254, 178, 0.7)",
           "rgba(138, 254, 174, 0.7)",
           "rgba(146, 253, 169, 0.7)",
           "rgba(154, 251, 164, 0.7)",
           "rgba(162, 249, 159, 0.7)",
           "rgba(170, 246, 154, 0.7)",
           "rgba(176, 243, 151, 0.7)",
           "rgba(184, 239, 146, 0.7)",
           "rgba(192, 234, 140, 0.7)",
           "rgba(200, 229, 135, 0.7)",
           "rgba(208, 223, 130, 0.7)",
           "rgba(214, 219, 126, 0.7)",
           "rgba(222, 212, 120, 0.7)",
           "rgba(230, 205, 115, 0.7)",
           "rgba(238, 197, 109, 0.7)",
           "rgba(246, 189, 103, 0.7)",
           "rgba(254, 180, 97, 0.7)",
           "rgba(255, 174, 93, 0.7)",
           "rgba(255, 164, 87, 0.7)",
           "rgba(255, 154, 81, 0.7)",
           "rgba(255, 144, 75, 0.7)",
           "rgba(255, 134, 69, 0.7)",
           "rgba(255, 126, 65, 0.7)",
           "rgba(255, 115, 59, 0.7)",
           "rgba(255, 103, 53, 0.7)",
           "rgba(255, 92, 46, 0.7)",
           "rgba(255, 80, 40, 0.7)",
           "rgba(255, 68, 34, 0.7)",
           "rgba(255, 59, 29, 0.7)",
           "rgba(255, 46, 23, 0.7)",
           "rgba(255, 34, 17, 0.7)",
           "rgba(255, 21, 10, 0.7)",
           "rgba(255, 9, 4, 0.7)"
          ],
          "label": [
           "speaker_party_IS_DEMOCRAT",
           "general score",
           "outreach",
           "persuasiveness",
           "empathy",
           "authenticity",
           "decorum",
           "tone is professional",
           "resonance",
           "preparation",
           "logical",
           "clarity",
           "egotistical",
           "relevant",
           "contextual awareness",
           "listening skills",
           "civil discourse",
           "coherence",
           "respectfulness",
           "responsiveness",
           "pro neutral",
           "language appropriateness",
           "evasiveness",
           "adherence to rules",
           "factuality",
           "contribution",
           "manipulation",
           "completeness",
           "respect for diverse opinions",
           "sensationalism",
           "use of evidence",
           "objectivity",
           "interruptions",
           "consistency",
           "conciseness",
           "venue respect",
           "accessibility",
           "innovation",
           "relevance",
           "fair play",
           "time management",
           "speaker_num_parts",
           "bias",
           "truthfulness",
           "tone is academic",
           "num_parts",
           "content quality",
           "speaker_num_parts_ratio",
           "balance",
           "quality of sources",
           "speaker_popular_votes_ratio",
           "controversiality",
           "confidence",
           "engagement",
           "speaker_won_election",
           "tone is conversational",
           "emotional appeal",
           "num_tokens",
           "topic predictiveness",
           "speaker_electoral_votes_ratio",
           "speaker_electoral_votes",
           "speaker_quantitative_contribution_ratio",
           "speaker_quantitative_contribution",
           "speaker_popular_votes",
           "speaker_is_vice_president_candidate",
           "speaker_is_president_candidate"
          ],
          "pad": 10
         },
         "type": "sankey"
        }
       ],
       "layout": {
        "template": {
         "data": {
          "bar": [
           {
            "error_x": {
             "color": "#2a3f5f"
            },
            "error_y": {
             "color": "#2a3f5f"
            },
            "marker": {
             "line": {
              "color": "#E5ECF6",
              "width": 0.5
             },
             "pattern": {
              "fillmode": "overlay",
              "size": 10,
              "solidity": 0.2
             }
            },
            "type": "bar"
           }
          ],
          "barpolar": [
           {
            "marker": {
             "line": {
              "color": "#E5ECF6",
              "width": 0.5
             },
             "pattern": {
              "fillmode": "overlay",
              "size": 10,
              "solidity": 0.2
             }
            },
            "type": "barpolar"
           }
          ],
          "carpet": [
           {
            "aaxis": {
             "endlinecolor": "#2a3f5f",
             "gridcolor": "white",
             "linecolor": "white",
             "minorgridcolor": "white",
             "startlinecolor": "#2a3f5f"
            },
            "baxis": {
             "endlinecolor": "#2a3f5f",
             "gridcolor": "white",
             "linecolor": "white",
             "minorgridcolor": "white",
             "startlinecolor": "#2a3f5f"
            },
            "type": "carpet"
           }
          ],
          "choropleth": [
           {
            "colorbar": {
             "outlinewidth": 0,
             "ticks": ""
            },
            "type": "choropleth"
           }
          ],
          "contour": [
           {
            "colorbar": {
             "outlinewidth": 0,
             "ticks": ""
            },
            "colorscale": [
             [
              0,
              "#0d0887"
             ],
             [
              0.1111111111111111,
              "#46039f"
             ],
             [
              0.2222222222222222,
              "#7201a8"
             ],
             [
              0.3333333333333333,
              "#9c179e"
             ],
             [
              0.4444444444444444,
              "#bd3786"
             ],
             [
              0.5555555555555556,
              "#d8576b"
             ],
             [
              0.6666666666666666,
              "#ed7953"
             ],
             [
              0.7777777777777778,
              "#fb9f3a"
             ],
             [
              0.8888888888888888,
              "#fdca26"
             ],
             [
              1,
              "#f0f921"
             ]
            ],
            "type": "contour"
           }
          ],
          "contourcarpet": [
           {
            "colorbar": {
             "outlinewidth": 0,
             "ticks": ""
            },
            "type": "contourcarpet"
           }
          ],
          "heatmap": [
           {
            "colorbar": {
             "outlinewidth": 0,
             "ticks": ""
            },
            "colorscale": [
             [
              0,
              "#0d0887"
             ],
             [
              0.1111111111111111,
              "#46039f"
             ],
             [
              0.2222222222222222,
              "#7201a8"
             ],
             [
              0.3333333333333333,
              "#9c179e"
             ],
             [
              0.4444444444444444,
              "#bd3786"
             ],
             [
              0.5555555555555556,
              "#d8576b"
             ],
             [
              0.6666666666666666,
              "#ed7953"
             ],
             [
              0.7777777777777778,
              "#fb9f3a"
             ],
             [
              0.8888888888888888,
              "#fdca26"
             ],
             [
              1,
              "#f0f921"
             ]
            ],
            "type": "heatmap"
           }
          ],
          "heatmapgl": [
           {
            "colorbar": {
             "outlinewidth": 0,
             "ticks": ""
            },
            "colorscale": [
             [
              0,
              "#0d0887"
             ],
             [
              0.1111111111111111,
              "#46039f"
             ],
             [
              0.2222222222222222,
              "#7201a8"
             ],
             [
              0.3333333333333333,
              "#9c179e"
             ],
             [
              0.4444444444444444,
              "#bd3786"
             ],
             [
              0.5555555555555556,
              "#d8576b"
             ],
             [
              0.6666666666666666,
              "#ed7953"
             ],
             [
              0.7777777777777778,
              "#fb9f3a"
             ],
             [
              0.8888888888888888,
              "#fdca26"
             ],
             [
              1,
              "#f0f921"
             ]
            ],
            "type": "heatmapgl"
           }
          ],
          "histogram": [
           {
            "marker": {
             "pattern": {
              "fillmode": "overlay",
              "size": 10,
              "solidity": 0.2
             }
            },
            "type": "histogram"
           }
          ],
          "histogram2d": [
           {
            "colorbar": {
             "outlinewidth": 0,
             "ticks": ""
            },
            "colorscale": [
             [
              0,
              "#0d0887"
             ],
             [
              0.1111111111111111,
              "#46039f"
             ],
             [
              0.2222222222222222,
              "#7201a8"
             ],
             [
              0.3333333333333333,
              "#9c179e"
             ],
             [
              0.4444444444444444,
              "#bd3786"
             ],
             [
              0.5555555555555556,
              "#d8576b"
             ],
             [
              0.6666666666666666,
              "#ed7953"
             ],
             [
              0.7777777777777778,
              "#fb9f3a"
             ],
             [
              0.8888888888888888,
              "#fdca26"
             ],
             [
              1,
              "#f0f921"
             ]
            ],
            "type": "histogram2d"
           }
          ],
          "histogram2dcontour": [
           {
            "colorbar": {
             "outlinewidth": 0,
             "ticks": ""
            },
            "colorscale": [
             [
              0,
              "#0d0887"
             ],
             [
              0.1111111111111111,
              "#46039f"
             ],
             [
              0.2222222222222222,
              "#7201a8"
             ],
             [
              0.3333333333333333,
              "#9c179e"
             ],
             [
              0.4444444444444444,
              "#bd3786"
             ],
             [
              0.5555555555555556,
              "#d8576b"
             ],
             [
              0.6666666666666666,
              "#ed7953"
             ],
             [
              0.7777777777777778,
              "#fb9f3a"
             ],
             [
              0.8888888888888888,
              "#fdca26"
             ],
             [
              1,
              "#f0f921"
             ]
            ],
            "type": "histogram2dcontour"
           }
          ],
          "mesh3d": [
           {
            "colorbar": {
             "outlinewidth": 0,
             "ticks": ""
            },
            "type": "mesh3d"
           }
          ],
          "parcoords": [
           {
            "line": {
             "colorbar": {
              "outlinewidth": 0,
              "ticks": ""
             }
            },
            "type": "parcoords"
           }
          ],
          "pie": [
           {
            "automargin": true,
            "type": "pie"
           }
          ],
          "scatter": [
           {
            "fillpattern": {
             "fillmode": "overlay",
             "size": 10,
             "solidity": 0.2
            },
            "type": "scatter"
           }
          ],
          "scatter3d": [
           {
            "line": {
             "colorbar": {
              "outlinewidth": 0,
              "ticks": ""
             }
            },
            "marker": {
             "colorbar": {
              "outlinewidth": 0,
              "ticks": ""
             }
            },
            "type": "scatter3d"
           }
          ],
          "scattercarpet": [
           {
            "marker": {
             "colorbar": {
              "outlinewidth": 0,
              "ticks": ""
             }
            },
            "type": "scattercarpet"
           }
          ],
          "scattergeo": [
           {
            "marker": {
             "colorbar": {
              "outlinewidth": 0,
              "ticks": ""
             }
            },
            "type": "scattergeo"
           }
          ],
          "scattergl": [
           {
            "marker": {
             "colorbar": {
              "outlinewidth": 0,
              "ticks": ""
             }
            },
            "type": "scattergl"
           }
          ],
          "scattermapbox": [
           {
            "marker": {
             "colorbar": {
              "outlinewidth": 0,
              "ticks": ""
             }
            },
            "type": "scattermapbox"
           }
          ],
          "scatterpolar": [
           {
            "marker": {
             "colorbar": {
              "outlinewidth": 0,
              "ticks": ""
             }
            },
            "type": "scatterpolar"
           }
          ],
          "scatterpolargl": [
           {
            "marker": {
             "colorbar": {
              "outlinewidth": 0,
              "ticks": ""
             }
            },
            "type": "scatterpolargl"
           }
          ],
          "scatterternary": [
           {
            "marker": {
             "colorbar": {
              "outlinewidth": 0,
              "ticks": ""
             }
            },
            "type": "scatterternary"
           }
          ],
          "surface": [
           {
            "colorbar": {
             "outlinewidth": 0,
             "ticks": ""
            },
            "colorscale": [
             [
              0,
              "#0d0887"
             ],
             [
              0.1111111111111111,
              "#46039f"
             ],
             [
              0.2222222222222222,
              "#7201a8"
             ],
             [
              0.3333333333333333,
              "#9c179e"
             ],
             [
              0.4444444444444444,
              "#bd3786"
             ],
             [
              0.5555555555555556,
              "#d8576b"
             ],
             [
              0.6666666666666666,
              "#ed7953"
             ],
             [
              0.7777777777777778,
              "#fb9f3a"
             ],
             [
              0.8888888888888888,
              "#fdca26"
             ],
             [
              1,
              "#f0f921"
             ]
            ],
            "type": "surface"
           }
          ],
          "table": [
           {
            "cells": {
             "fill": {
              "color": "#EBF0F8"
             },
             "line": {
              "color": "white"
             }
            },
            "header": {
             "fill": {
              "color": "#C8D4E3"
             },
             "line": {
              "color": "white"
             }
            },
            "type": "table"
           }
          ]
         },
         "layout": {
          "annotationdefaults": {
           "arrowcolor": "#2a3f5f",
           "arrowhead": 0,
           "arrowwidth": 1
          },
          "autotypenumbers": "strict",
          "coloraxis": {
           "colorbar": {
            "outlinewidth": 0,
            "ticks": ""
           }
          },
          "colorscale": {
           "diverging": [
            [
             0,
             "#8e0152"
            ],
            [
             0.1,
             "#c51b7d"
            ],
            [
             0.2,
             "#de77ae"
            ],
            [
             0.3,
             "#f1b6da"
            ],
            [
             0.4,
             "#fde0ef"
            ],
            [
             0.5,
             "#f7f7f7"
            ],
            [
             0.6,
             "#e6f5d0"
            ],
            [
             0.7,
             "#b8e186"
            ],
            [
             0.8,
             "#7fbc41"
            ],
            [
             0.9,
             "#4d9221"
            ],
            [
             1,
             "#276419"
            ]
           ],
           "sequential": [
            [
             0,
             "#0d0887"
            ],
            [
             0.1111111111111111,
             "#46039f"
            ],
            [
             0.2222222222222222,
             "#7201a8"
            ],
            [
             0.3333333333333333,
             "#9c179e"
            ],
            [
             0.4444444444444444,
             "#bd3786"
            ],
            [
             0.5555555555555556,
             "#d8576b"
            ],
            [
             0.6666666666666666,
             "#ed7953"
            ],
            [
             0.7777777777777778,
             "#fb9f3a"
            ],
            [
             0.8888888888888888,
             "#fdca26"
            ],
            [
             1,
             "#f0f921"
            ]
           ],
           "sequentialminus": [
            [
             0,
             "#0d0887"
            ],
            [
             0.1111111111111111,
             "#46039f"
            ],
            [
             0.2222222222222222,
             "#7201a8"
            ],
            [
             0.3333333333333333,
             "#9c179e"
            ],
            [
             0.4444444444444444,
             "#bd3786"
            ],
            [
             0.5555555555555556,
             "#d8576b"
            ],
            [
             0.6666666666666666,
             "#ed7953"
            ],
            [
             0.7777777777777778,
             "#fb9f3a"
            ],
            [
             0.8888888888888888,
             "#fdca26"
            ],
            [
             1,
             "#f0f921"
            ]
           ]
          },
          "colorway": [
           "#636efa",
           "#EF553B",
           "#00cc96",
           "#ab63fa",
           "#FFA15A",
           "#19d3f3",
           "#FF6692",
           "#B6E880",
           "#FF97FF",
           "#FECB52"
          ],
          "font": {
           "color": "#2a3f5f"
          },
          "geo": {
           "bgcolor": "white",
           "lakecolor": "white",
           "landcolor": "#E5ECF6",
           "showlakes": true,
           "showland": true,
           "subunitcolor": "white"
          },
          "hoverlabel": {
           "align": "left"
          },
          "hovermode": "closest",
          "mapbox": {
           "style": "light"
          },
          "paper_bgcolor": "white",
          "plot_bgcolor": "#E5ECF6",
          "polar": {
           "angularaxis": {
            "gridcolor": "white",
            "linecolor": "white",
            "ticks": ""
           },
           "bgcolor": "#E5ECF6",
           "radialaxis": {
            "gridcolor": "white",
            "linecolor": "white",
            "ticks": ""
           }
          },
          "scene": {
           "xaxis": {
            "backgroundcolor": "#E5ECF6",
            "gridcolor": "white",
            "gridwidth": 2,
            "linecolor": "white",
            "showbackground": true,
            "ticks": "",
            "zerolinecolor": "white"
           },
           "yaxis": {
            "backgroundcolor": "#E5ECF6",
            "gridcolor": "white",
            "gridwidth": 2,
            "linecolor": "white",
            "showbackground": true,
            "ticks": "",
            "zerolinecolor": "white"
           },
           "zaxis": {
            "backgroundcolor": "#E5ECF6",
            "gridcolor": "white",
            "gridwidth": 2,
            "linecolor": "white",
            "showbackground": true,
            "ticks": "",
            "zerolinecolor": "white"
           }
          },
          "shapedefaults": {
           "line": {
            "color": "#2a3f5f"
           }
          },
          "ternary": {
           "aaxis": {
            "gridcolor": "white",
            "linecolor": "white",
            "ticks": ""
           },
           "baxis": {
            "gridcolor": "white",
            "linecolor": "white",
            "ticks": ""
           },
           "bgcolor": "#E5ECF6",
           "caxis": {
            "gridcolor": "white",
            "linecolor": "white",
            "ticks": ""
           }
          },
          "title": {
           "x": 0.05
          },
          "xaxis": {
           "automargin": true,
           "gridcolor": "white",
           "linecolor": "white",
           "ticks": "",
           "title": {
            "standoff": 15
           },
           "zerolinecolor": "white",
           "zerolinewidth": 2
          },
          "yaxis": {
           "automargin": true,
           "gridcolor": "white",
           "linecolor": "white",
           "ticks": "",
           "title": {
            "standoff": 15
           },
           "zerolinecolor": "white",
           "zerolinewidth": 2
          }
         }
        }
       }
      }
     },
     "metadata": {},
     "output_type": "display_data"
    }
   ],
   "source": [
    "dm = DistanceMatrix(dis_matrix)\n",
    "dm.keep_top_n_links(100)\n",
    "dm.to_go_figure()"
   ]
  },
  {
   "cell_type": "code",
   "execution_count": 29,
   "metadata": {},
   "outputs": [
    {
     "data": {
      "application/vnd.plotly.v1+json": {
       "config": {
        "plotlyServerURL": "https://plot.ly"
       },
       "data": [
        {
         "arrangement": "freeform",
         "link": {
          "arrowlen": 15,
          "color": [
           "rgba(255, 21, 10, 0.3)",
           "rgba(78, 243, 205, 0.3)",
           "rgba(121, 9, 254, 0.3)",
           "rgba(78, 243, 205, 0.3)",
           "rgba(78, 243, 205, 0.3)",
           "rgba(200, 229, 135, 0.3)",
           "rgba(121, 9, 254, 0.3)",
           "rgba(255, 164, 87, 0.3)",
           "rgba(255, 134, 69, 0.3)",
           "rgba(124, 254, 181, 0.3)",
           "rgba(255, 144, 75, 0.3)",
           "rgba(214, 219, 126, 0.3)",
           "rgba(67, 92, 250, 0.3)",
           "rgba(255, 21, 10, 0.3)",
           "rgba(200, 229, 135, 0.3)",
           "rgba(255, 164, 87, 0.3)",
           "rgba(138, 254, 174, 0.3)",
           "rgba(255, 164, 87, 0.3)",
           "rgba(246, 189, 103, 0.3)",
           "rgba(51, 115, 248, 0.3)",
           "rgba(246, 189, 103, 0.3)",
           "rgba(100, 251, 194, 0.3)",
           "rgba(121, 9, 254, 0.3)",
           "rgba(92, 249, 198, 0.3)",
           "rgba(255, 144, 75, 0.3)",
           "rgba(255, 164, 87, 0.3)",
           "rgba(246, 189, 103, 0.3)",
           "rgba(78, 243, 205, 0.3)",
           "rgba(124, 254, 181, 0.3)",
           "rgba(54, 229, 215, 0.3)",
           "rgba(255, 164, 87, 0.3)",
           "rgba(78, 243, 205, 0.3)",
           "rgba(184, 239, 146, 0.3)",
           "rgba(246, 189, 103, 0.3)",
           "rgba(200, 229, 135, 0.3)",
           "rgba(89, 59, 253, 0.3)",
           "rgba(116, 254, 186, 0.3)",
           "rgba(100, 251, 194, 0.3)",
           "rgba(97, 46, 253, 0.3)",
           "rgba(146, 253, 169, 0.3)",
           "rgba(46, 223, 219, 0.3)",
           "rgba(200, 229, 135, 0.3)",
           "rgba(54, 229, 215, 0.3)",
           "rgba(40, 219, 221, 0.3)",
           "rgba(121, 9, 254, 0.3)",
           "rgba(200, 229, 135, 0.3)",
           "rgba(62, 234, 212, 0.3)",
           "rgba(5, 174, 237, 0.3)",
           "rgba(54, 229, 215, 0.3)",
           "rgba(200, 229, 135, 0.3)",
           "rgba(130, 254, 178, 0.3)",
           "rgba(214, 219, 126, 0.3)",
           "rgba(255, 134, 69, 0.3)",
           "rgba(154, 251, 164, 0.3)",
           "rgba(0, 180, 235, 0.3)",
           "rgba(154, 251, 164, 0.3)",
           "rgba(200, 229, 135, 0.3)",
           "rgba(46, 223, 219, 0.3)",
           "rgba(200, 229, 135, 0.3)",
           "rgba(21, 154, 241, 0.3)",
           "rgba(8, 189, 232, 0.3)",
           "rgba(208, 223, 130, 0.3)",
           "rgba(32, 212, 224, 0.3)",
           "rgba(46, 223, 219, 0.3)",
           "rgba(100, 251, 194, 0.3)",
           "rgba(255, 164, 87, 0.3)",
           "rgba(84, 246, 202, 0.3)",
           "rgba(176, 243, 151, 0.3)",
           "rgba(255, 80, 40, 0.3)",
           "rgba(255, 164, 87, 0.3)",
           "rgba(255, 115, 59, 0.3)",
           "rgba(255, 164, 87, 0.3)",
           "rgba(255, 126, 65, 0.3)",
           "rgba(255, 134, 69, 0.3)",
           "rgba(200, 229, 135, 0.3)",
           "rgba(100, 251, 194, 0.3)",
           "rgba(100, 251, 194, 0.3)",
           "rgba(100, 251, 194, 0.3)",
           "rgba(255, 80, 40, 0.3)",
           "rgba(100, 251, 194, 0.3)",
           "rgba(46, 223, 219, 0.3)",
           "rgba(83, 68, 252, 0.3)",
           "rgba(24, 205, 227, 0.3)",
           "rgba(32, 212, 224, 0.3)",
           "rgba(40, 219, 221, 0.3)",
           "rgba(124, 254, 181, 0.3)",
           "rgba(255, 144, 75, 0.3)",
           "rgba(214, 219, 126, 0.3)",
           "rgba(255, 164, 87, 0.3)",
           "rgba(230, 205, 115, 0.3)",
           "rgba(255, 59, 29, 0.3)",
           "rgba(255, 164, 87, 0.3)",
           "rgba(184, 239, 146, 0.3)",
           "rgba(100, 251, 194, 0.3)",
           "rgba(255, 144, 75, 0.3)",
           "rgba(208, 223, 130, 0.3)",
           "rgba(255, 164, 87, 0.3)",
           "rgba(162, 249, 159, 0.3)",
           "rgba(24, 205, 227, 0.3)",
           "rgba(255, 174, 93, 0.3)"
          ],
          "source": [
           64,
           26,
           0,
           26,
           26,
           42,
           0,
           51,
           54,
           32,
           53,
           44,
           7,
           64,
           42,
           51,
           34,
           51,
           48,
           9,
           48,
           29,
           0,
           28,
           53,
           51,
           48,
           26,
           32,
           23,
           51,
           26,
           40,
           48,
           42,
           4,
           31,
           29,
           3,
           35,
           22,
           42,
           23,
           21,
           0,
           42,
           24,
           15,
           23,
           42,
           33,
           44,
           54,
           36,
           16,
           36,
           42,
           22,
           42,
           13,
           17,
           43,
           20,
           22,
           29,
           51,
           27,
           39,
           59,
           51,
           56,
           51,
           55,
           54,
           42,
           29,
           29,
           29,
           59,
           29,
           22,
           5,
           19,
           20,
           21,
           32,
           53,
           44,
           51,
           46,
           61,
           51,
           40,
           29,
           53,
           43,
           51,
           37,
           19,
           50
          ],
          "target": [
           65,
           24,
           32,
           14,
           17,
           16,
           26,
           20,
           32,
           2,
           2,
           22,
           22,
           58,
           8,
           34,
           22,
           33,
           51,
           22,
           12,
           7,
           12,
           22,
           50,
           17,
           32,
           18,
           16,
           26,
           2,
           16,
           42,
           26,
           5,
           22,
           29,
           28,
           22,
           22,
           11,
           18,
           9,
           22,
           42,
           23,
           22,
           22,
           22,
           4,
           22,
           32,
           51,
           42,
           22,
           51,
           31,
           6,
           21,
           22,
           22,
           42,
           22,
           1,
           4,
           21,
           22,
           22,
           64,
           8,
           26,
           14,
           22,
           12,
           39,
           21,
           11,
           6,
           58,
           5,
           2,
           22,
           22,
           26,
           32,
           18,
           36,
           29,
           31,
           61,
           32,
           19,
           32,
           9,
           22,
           22,
           18,
           22,
           32,
           64
          ],
          "value": [
           0.9999976765654416,
           0.9999523506099728,
           0.998333641642593,
           0.9976716554067837,
           0.9973554465376934,
           0.9968077116972324,
           0.9962328041188003,
           0.996221017577013,
           0.9958811236565456,
           0.9955945682115014,
           0.9945409990321326,
           0.9931915525753757,
           0.9904395077561889,
           0.9901306994354454,
           0.9899302887020752,
           0.989596998527692,
           0.989196057990646,
           0.9879652441410406,
           0.987346598351521,
           0.9864715649525453,
           0.9860799603796775,
           0.9853905247085332,
           0.9833256773148202,
           0.9818220696625888,
           0.9816836453005571,
           0.9807759453483599,
           0.9787841315894549,
           0.9781337448980477,
           0.9771066600723274,
           0.975988289361567,
           0.9748620577408377,
           0.9736740805960424,
           0.97295867648675,
           0.9729205107272186,
           0.9712536634187201,
           0.969615769712689,
           0.9690973139804689,
           0.9690763529105744,
           0.9652437286875692,
           0.9640199695414807,
           0.9624539752772009,
           0.9620201445013811,
           0.9605757290705114,
           0.9586404584379182,
           0.9584365939897608,
           0.9580745025670018,
           0.9553840823846793,
           0.9550097828884709,
           0.9545512760740921,
           0.9538872564654564,
           0.9537091346742727,
           0.9524819343994468,
           0.9506836445389185,
           0.9504389027292662,
           0.9496007660453124,
           0.9426884130593636,
           0.9417165070089719,
           0.9411379600388251,
           0.9405933141429489,
           0.9405818321169087,
           0.9404215056497247,
           0.9399386828654811,
           0.9384202861559153,
           0.9348466797387268,
           0.933674005293881,
           0.9335239848859345,
           0.9300187580380129,
           0.9277333224647694,
           0.9273880421358514,
           0.9272461672055304,
           0.9271771348077773,
           0.9265058367363425,
           0.925437737794611,
           0.9249108925227072,
           0.9242218028246258,
           0.9232500385292323,
           0.9199706032482349,
           0.9187688420163305,
           0.9179529281794339,
           0.91568782598522,
           0.9152825506961232,
           0.9149493995658463,
           0.9136458107506511,
           0.9130162280347517,
           0.9124853085343574,
           0.9118886264062115,
           0.9111406253997633,
           0.911094060672472,
           0.9107738171061441,
           0.9068572594613944,
           0.905894364098876,
           0.9049258114804158,
           0.9022331899465381,
           0.9006503440577425,
           0.89985800847191,
           0.8987188557806919,
           0.8968223775148936,
           0.8933136867586604,
           0.8924018722854072,
           0.8913306671080418
          ]
         },
         "node": {
          "color": [
           "rgba(121, 9, 254, 0.7)",
           "rgba(113, 21, 254, 0.7)",
           "rgba(105, 34, 254, 0.7)",
           "rgba(97, 46, 253, 0.7)",
           "rgba(89, 59, 253, 0.7)",
           "rgba(83, 68, 252, 0.7)",
           "rgba(75, 80, 251, 0.7)",
           "rgba(67, 92, 250, 0.7)",
           "rgba(59, 103, 249, 0.7)",
           "rgba(51, 115, 248, 0.7)",
           "rgba(43, 126, 246, 0.7)",
           "rgba(37, 134, 245, 0.7)",
           "rgba(29, 144, 243, 0.7)",
           "rgba(21, 154, 241, 0.7)",
           "rgba(13, 164, 239, 0.7)",
           "rgba(5, 174, 237, 0.7)",
           "rgba(0, 180, 235, 0.7)",
           "rgba(8, 189, 232, 0.7)",
           "rgba(16, 197, 230, 0.7)",
           "rgba(24, 205, 227, 0.7)",
           "rgba(32, 212, 224, 0.7)",
           "rgba(40, 219, 221, 0.7)",
           "rgba(46, 223, 219, 0.7)",
           "rgba(54, 229, 215, 0.7)",
           "rgba(62, 234, 212, 0.7)",
           "rgba(70, 239, 209, 0.7)",
           "rgba(78, 243, 205, 0.7)",
           "rgba(84, 246, 202, 0.7)",
           "rgba(92, 249, 198, 0.7)",
           "rgba(100, 251, 194, 0.7)",
           "rgba(108, 253, 190, 0.7)",
           "rgba(116, 254, 186, 0.7)",
           "rgba(124, 254, 181, 0.7)",
           "rgba(130, 254, 178, 0.7)",
           "rgba(138, 254, 174, 0.7)",
           "rgba(146, 253, 169, 0.7)",
           "rgba(154, 251, 164, 0.7)",
           "rgba(162, 249, 159, 0.7)",
           "rgba(170, 246, 154, 0.7)",
           "rgba(176, 243, 151, 0.7)",
           "rgba(184, 239, 146, 0.7)",
           "rgba(192, 234, 140, 0.7)",
           "rgba(200, 229, 135, 0.7)",
           "rgba(208, 223, 130, 0.7)",
           "rgba(214, 219, 126, 0.7)",
           "rgba(222, 212, 120, 0.7)",
           "rgba(230, 205, 115, 0.7)",
           "rgba(238, 197, 109, 0.7)",
           "rgba(246, 189, 103, 0.7)",
           "rgba(254, 180, 97, 0.7)",
           "rgba(255, 174, 93, 0.7)",
           "rgba(255, 164, 87, 0.7)",
           "rgba(255, 154, 81, 0.7)",
           "rgba(255, 144, 75, 0.7)",
           "rgba(255, 134, 69, 0.7)",
           "rgba(255, 126, 65, 0.7)",
           "rgba(255, 115, 59, 0.7)",
           "rgba(255, 103, 53, 0.7)",
           "rgba(255, 92, 46, 0.7)",
           "rgba(255, 80, 40, 0.7)",
           "rgba(255, 68, 34, 0.7)",
           "rgba(255, 59, 29, 0.7)",
           "rgba(255, 46, 23, 0.7)",
           "rgba(255, 34, 17, 0.7)",
           "rgba(255, 21, 10, 0.7)",
           "rgba(255, 9, 4, 0.7)"
          ],
          "label": [
           "speaker_party_IS_DEMOCRAT",
           "general score",
           "outreach",
           "persuasiveness",
           "empathy",
           "authenticity",
           "decorum",
           "tone is professional",
           "resonance",
           "preparation",
           "logical",
           "clarity",
           "egotistical",
           "relevant",
           "contextual awareness",
           "listening skills",
           "civil discourse",
           "coherence",
           "respectfulness",
           "responsiveness",
           "pro neutral",
           "language appropriateness",
           "evasiveness",
           "adherence to rules",
           "factuality",
           "contribution",
           "manipulation",
           "completeness",
           "respect for diverse opinions",
           "sensationalism",
           "use of evidence",
           "objectivity",
           "interruptions",
           "consistency",
           "conciseness",
           "venue respect",
           "accessibility",
           "innovation",
           "relevance",
           "fair play",
           "time management",
           "speaker_num_parts",
           "bias",
           "truthfulness",
           "tone is academic",
           "num_parts",
           "content quality",
           "speaker_num_parts_ratio",
           "balance",
           "quality of sources",
           "speaker_popular_votes_ratio",
           "controversiality",
           "confidence",
           "engagement",
           "speaker_won_election",
           "tone is conversational",
           "emotional appeal",
           "num_tokens",
           "topic predictiveness",
           "speaker_electoral_votes_ratio",
           "speaker_electoral_votes",
           "speaker_quantitative_contribution_ratio",
           "speaker_quantitative_contribution",
           "speaker_popular_votes",
           "speaker_is_vice_president_candidate",
           "speaker_is_president_candidate"
          ],
          "pad": 10
         },
         "type": "sankey"
        }
       ],
       "layout": {
        "template": {
         "data": {
          "bar": [
           {
            "error_x": {
             "color": "#2a3f5f"
            },
            "error_y": {
             "color": "#2a3f5f"
            },
            "marker": {
             "line": {
              "color": "#E5ECF6",
              "width": 0.5
             },
             "pattern": {
              "fillmode": "overlay",
              "size": 10,
              "solidity": 0.2
             }
            },
            "type": "bar"
           }
          ],
          "barpolar": [
           {
            "marker": {
             "line": {
              "color": "#E5ECF6",
              "width": 0.5
             },
             "pattern": {
              "fillmode": "overlay",
              "size": 10,
              "solidity": 0.2
             }
            },
            "type": "barpolar"
           }
          ],
          "carpet": [
           {
            "aaxis": {
             "endlinecolor": "#2a3f5f",
             "gridcolor": "white",
             "linecolor": "white",
             "minorgridcolor": "white",
             "startlinecolor": "#2a3f5f"
            },
            "baxis": {
             "endlinecolor": "#2a3f5f",
             "gridcolor": "white",
             "linecolor": "white",
             "minorgridcolor": "white",
             "startlinecolor": "#2a3f5f"
            },
            "type": "carpet"
           }
          ],
          "choropleth": [
           {
            "colorbar": {
             "outlinewidth": 0,
             "ticks": ""
            },
            "type": "choropleth"
           }
          ],
          "contour": [
           {
            "colorbar": {
             "outlinewidth": 0,
             "ticks": ""
            },
            "colorscale": [
             [
              0,
              "#0d0887"
             ],
             [
              0.1111111111111111,
              "#46039f"
             ],
             [
              0.2222222222222222,
              "#7201a8"
             ],
             [
              0.3333333333333333,
              "#9c179e"
             ],
             [
              0.4444444444444444,
              "#bd3786"
             ],
             [
              0.5555555555555556,
              "#d8576b"
             ],
             [
              0.6666666666666666,
              "#ed7953"
             ],
             [
              0.7777777777777778,
              "#fb9f3a"
             ],
             [
              0.8888888888888888,
              "#fdca26"
             ],
             [
              1,
              "#f0f921"
             ]
            ],
            "type": "contour"
           }
          ],
          "contourcarpet": [
           {
            "colorbar": {
             "outlinewidth": 0,
             "ticks": ""
            },
            "type": "contourcarpet"
           }
          ],
          "heatmap": [
           {
            "colorbar": {
             "outlinewidth": 0,
             "ticks": ""
            },
            "colorscale": [
             [
              0,
              "#0d0887"
             ],
             [
              0.1111111111111111,
              "#46039f"
             ],
             [
              0.2222222222222222,
              "#7201a8"
             ],
             [
              0.3333333333333333,
              "#9c179e"
             ],
             [
              0.4444444444444444,
              "#bd3786"
             ],
             [
              0.5555555555555556,
              "#d8576b"
             ],
             [
              0.6666666666666666,
              "#ed7953"
             ],
             [
              0.7777777777777778,
              "#fb9f3a"
             ],
             [
              0.8888888888888888,
              "#fdca26"
             ],
             [
              1,
              "#f0f921"
             ]
            ],
            "type": "heatmap"
           }
          ],
          "heatmapgl": [
           {
            "colorbar": {
             "outlinewidth": 0,
             "ticks": ""
            },
            "colorscale": [
             [
              0,
              "#0d0887"
             ],
             [
              0.1111111111111111,
              "#46039f"
             ],
             [
              0.2222222222222222,
              "#7201a8"
             ],
             [
              0.3333333333333333,
              "#9c179e"
             ],
             [
              0.4444444444444444,
              "#bd3786"
             ],
             [
              0.5555555555555556,
              "#d8576b"
             ],
             [
              0.6666666666666666,
              "#ed7953"
             ],
             [
              0.7777777777777778,
              "#fb9f3a"
             ],
             [
              0.8888888888888888,
              "#fdca26"
             ],
             [
              1,
              "#f0f921"
             ]
            ],
            "type": "heatmapgl"
           }
          ],
          "histogram": [
           {
            "marker": {
             "pattern": {
              "fillmode": "overlay",
              "size": 10,
              "solidity": 0.2
             }
            },
            "type": "histogram"
           }
          ],
          "histogram2d": [
           {
            "colorbar": {
             "outlinewidth": 0,
             "ticks": ""
            },
            "colorscale": [
             [
              0,
              "#0d0887"
             ],
             [
              0.1111111111111111,
              "#46039f"
             ],
             [
              0.2222222222222222,
              "#7201a8"
             ],
             [
              0.3333333333333333,
              "#9c179e"
             ],
             [
              0.4444444444444444,
              "#bd3786"
             ],
             [
              0.5555555555555556,
              "#d8576b"
             ],
             [
              0.6666666666666666,
              "#ed7953"
             ],
             [
              0.7777777777777778,
              "#fb9f3a"
             ],
             [
              0.8888888888888888,
              "#fdca26"
             ],
             [
              1,
              "#f0f921"
             ]
            ],
            "type": "histogram2d"
           }
          ],
          "histogram2dcontour": [
           {
            "colorbar": {
             "outlinewidth": 0,
             "ticks": ""
            },
            "colorscale": [
             [
              0,
              "#0d0887"
             ],
             [
              0.1111111111111111,
              "#46039f"
             ],
             [
              0.2222222222222222,
              "#7201a8"
             ],
             [
              0.3333333333333333,
              "#9c179e"
             ],
             [
              0.4444444444444444,
              "#bd3786"
             ],
             [
              0.5555555555555556,
              "#d8576b"
             ],
             [
              0.6666666666666666,
              "#ed7953"
             ],
             [
              0.7777777777777778,
              "#fb9f3a"
             ],
             [
              0.8888888888888888,
              "#fdca26"
             ],
             [
              1,
              "#f0f921"
             ]
            ],
            "type": "histogram2dcontour"
           }
          ],
          "mesh3d": [
           {
            "colorbar": {
             "outlinewidth": 0,
             "ticks": ""
            },
            "type": "mesh3d"
           }
          ],
          "parcoords": [
           {
            "line": {
             "colorbar": {
              "outlinewidth": 0,
              "ticks": ""
             }
            },
            "type": "parcoords"
           }
          ],
          "pie": [
           {
            "automargin": true,
            "type": "pie"
           }
          ],
          "scatter": [
           {
            "fillpattern": {
             "fillmode": "overlay",
             "size": 10,
             "solidity": 0.2
            },
            "type": "scatter"
           }
          ],
          "scatter3d": [
           {
            "line": {
             "colorbar": {
              "outlinewidth": 0,
              "ticks": ""
             }
            },
            "marker": {
             "colorbar": {
              "outlinewidth": 0,
              "ticks": ""
             }
            },
            "type": "scatter3d"
           }
          ],
          "scattercarpet": [
           {
            "marker": {
             "colorbar": {
              "outlinewidth": 0,
              "ticks": ""
             }
            },
            "type": "scattercarpet"
           }
          ],
          "scattergeo": [
           {
            "marker": {
             "colorbar": {
              "outlinewidth": 0,
              "ticks": ""
             }
            },
            "type": "scattergeo"
           }
          ],
          "scattergl": [
           {
            "marker": {
             "colorbar": {
              "outlinewidth": 0,
              "ticks": ""
             }
            },
            "type": "scattergl"
           }
          ],
          "scattermapbox": [
           {
            "marker": {
             "colorbar": {
              "outlinewidth": 0,
              "ticks": ""
             }
            },
            "type": "scattermapbox"
           }
          ],
          "scatterpolar": [
           {
            "marker": {
             "colorbar": {
              "outlinewidth": 0,
              "ticks": ""
             }
            },
            "type": "scatterpolar"
           }
          ],
          "scatterpolargl": [
           {
            "marker": {
             "colorbar": {
              "outlinewidth": 0,
              "ticks": ""
             }
            },
            "type": "scatterpolargl"
           }
          ],
          "scatterternary": [
           {
            "marker": {
             "colorbar": {
              "outlinewidth": 0,
              "ticks": ""
             }
            },
            "type": "scatterternary"
           }
          ],
          "surface": [
           {
            "colorbar": {
             "outlinewidth": 0,
             "ticks": ""
            },
            "colorscale": [
             [
              0,
              "#0d0887"
             ],
             [
              0.1111111111111111,
              "#46039f"
             ],
             [
              0.2222222222222222,
              "#7201a8"
             ],
             [
              0.3333333333333333,
              "#9c179e"
             ],
             [
              0.4444444444444444,
              "#bd3786"
             ],
             [
              0.5555555555555556,
              "#d8576b"
             ],
             [
              0.6666666666666666,
              "#ed7953"
             ],
             [
              0.7777777777777778,
              "#fb9f3a"
             ],
             [
              0.8888888888888888,
              "#fdca26"
             ],
             [
              1,
              "#f0f921"
             ]
            ],
            "type": "surface"
           }
          ],
          "table": [
           {
            "cells": {
             "fill": {
              "color": "#EBF0F8"
             },
             "line": {
              "color": "white"
             }
            },
            "header": {
             "fill": {
              "color": "#C8D4E3"
             },
             "line": {
              "color": "white"
             }
            },
            "type": "table"
           }
          ]
         },
         "layout": {
          "annotationdefaults": {
           "arrowcolor": "#2a3f5f",
           "arrowhead": 0,
           "arrowwidth": 1
          },
          "autotypenumbers": "strict",
          "coloraxis": {
           "colorbar": {
            "outlinewidth": 0,
            "ticks": ""
           }
          },
          "colorscale": {
           "diverging": [
            [
             0,
             "#8e0152"
            ],
            [
             0.1,
             "#c51b7d"
            ],
            [
             0.2,
             "#de77ae"
            ],
            [
             0.3,
             "#f1b6da"
            ],
            [
             0.4,
             "#fde0ef"
            ],
            [
             0.5,
             "#f7f7f7"
            ],
            [
             0.6,
             "#e6f5d0"
            ],
            [
             0.7,
             "#b8e186"
            ],
            [
             0.8,
             "#7fbc41"
            ],
            [
             0.9,
             "#4d9221"
            ],
            [
             1,
             "#276419"
            ]
           ],
           "sequential": [
            [
             0,
             "#0d0887"
            ],
            [
             0.1111111111111111,
             "#46039f"
            ],
            [
             0.2222222222222222,
             "#7201a8"
            ],
            [
             0.3333333333333333,
             "#9c179e"
            ],
            [
             0.4444444444444444,
             "#bd3786"
            ],
            [
             0.5555555555555556,
             "#d8576b"
            ],
            [
             0.6666666666666666,
             "#ed7953"
            ],
            [
             0.7777777777777778,
             "#fb9f3a"
            ],
            [
             0.8888888888888888,
             "#fdca26"
            ],
            [
             1,
             "#f0f921"
            ]
           ],
           "sequentialminus": [
            [
             0,
             "#0d0887"
            ],
            [
             0.1111111111111111,
             "#46039f"
            ],
            [
             0.2222222222222222,
             "#7201a8"
            ],
            [
             0.3333333333333333,
             "#9c179e"
            ],
            [
             0.4444444444444444,
             "#bd3786"
            ],
            [
             0.5555555555555556,
             "#d8576b"
            ],
            [
             0.6666666666666666,
             "#ed7953"
            ],
            [
             0.7777777777777778,
             "#fb9f3a"
            ],
            [
             0.8888888888888888,
             "#fdca26"
            ],
            [
             1,
             "#f0f921"
            ]
           ]
          },
          "colorway": [
           "#636efa",
           "#EF553B",
           "#00cc96",
           "#ab63fa",
           "#FFA15A",
           "#19d3f3",
           "#FF6692",
           "#B6E880",
           "#FF97FF",
           "#FECB52"
          ],
          "font": {
           "color": "#2a3f5f"
          },
          "geo": {
           "bgcolor": "white",
           "lakecolor": "white",
           "landcolor": "#E5ECF6",
           "showlakes": true,
           "showland": true,
           "subunitcolor": "white"
          },
          "hoverlabel": {
           "align": "left"
          },
          "hovermode": "closest",
          "mapbox": {
           "style": "light"
          },
          "paper_bgcolor": "white",
          "plot_bgcolor": "#E5ECF6",
          "polar": {
           "angularaxis": {
            "gridcolor": "white",
            "linecolor": "white",
            "ticks": ""
           },
           "bgcolor": "#E5ECF6",
           "radialaxis": {
            "gridcolor": "white",
            "linecolor": "white",
            "ticks": ""
           }
          },
          "scene": {
           "xaxis": {
            "backgroundcolor": "#E5ECF6",
            "gridcolor": "white",
            "gridwidth": 2,
            "linecolor": "white",
            "showbackground": true,
            "ticks": "",
            "zerolinecolor": "white"
           },
           "yaxis": {
            "backgroundcolor": "#E5ECF6",
            "gridcolor": "white",
            "gridwidth": 2,
            "linecolor": "white",
            "showbackground": true,
            "ticks": "",
            "zerolinecolor": "white"
           },
           "zaxis": {
            "backgroundcolor": "#E5ECF6",
            "gridcolor": "white",
            "gridwidth": 2,
            "linecolor": "white",
            "showbackground": true,
            "ticks": "",
            "zerolinecolor": "white"
           }
          },
          "shapedefaults": {
           "line": {
            "color": "#2a3f5f"
           }
          },
          "ternary": {
           "aaxis": {
            "gridcolor": "white",
            "linecolor": "white",
            "ticks": ""
           },
           "baxis": {
            "gridcolor": "white",
            "linecolor": "white",
            "ticks": ""
           },
           "bgcolor": "#E5ECF6",
           "caxis": {
            "gridcolor": "white",
            "linecolor": "white",
            "ticks": ""
           }
          },
          "title": {
           "x": 0.05
          },
          "xaxis": {
           "automargin": true,
           "gridcolor": "white",
           "linecolor": "white",
           "ticks": "",
           "title": {
            "standoff": 15
           },
           "zerolinecolor": "white",
           "zerolinewidth": 2
          },
          "yaxis": {
           "automargin": true,
           "gridcolor": "white",
           "linecolor": "white",
           "ticks": "",
           "title": {
            "standoff": 15
           },
           "zerolinecolor": "white",
           "zerolinewidth": 2
          }
         }
        }
       }
      }
     },
     "metadata": {},
     "output_type": "display_data"
    }
   ],
   "source": [
    "# cutoff = 0.00\n",
    "# set all entries where abs is below cutoff to 0\n",
    "# pcm = pcm.where(pcm.abs() < cutoff, 0)\n",
    "# set all diagonal entries to 0\n",
    "# pcm = pcm.where(~np.eye(pcm.shape[0], dtype=bool), 0)\n",
    "\n",
    "# take direction from the dis matrix, but strength from the pcm\n",
    "for i in range(pcm.shape[0]):\n",
    "    for j in range(i):\n",
    "        # # if they are both very small then set both to 0\n",
    "        # if abs(pcm.iloc[i,j] - pcm.iloc[j,i]) < 0.01:\n",
    "        #     pcm.iloc[i, j] = 0\n",
    "        #     pcm.iloc[j, i] = 0\n",
    "        #     continue\n",
    "\n",
    "        if dis_matrix.iloc[i, j] > dis_matrix.iloc[j, i]:\n",
    "            pcm.iloc[j, i] = 0\n",
    "        else:\n",
    "            pcm.iloc[i, j] = 0\n",
    "\n",
    "# plot as dist matrix\n",
    "#fig = dis_matrix_to_go_figure(pcm, 'Correlation Network', 100, source='speaker_party_IS_DEMOCRAT')\n",
    "#fig\n",
    "# set all diagonal entries to 0\n",
    "pcm = pcm.where(~np.eye(pcm.shape[0], dtype=bool), 0)\n",
    "dm = DistanceMatrix(pcm)\n",
    "dm.keep_top_n_links(100)\n",
    "dm.to_go_figure()\n",
    "\n",
    "\n",
    "\n",
    "# # plot the graph of the partial correlation matrix\n",
    "# import networkx as nx\n",
    "\n",
    "# G = nx.from_pandas_adjacency(pcm)\n",
    "\n",
    "# plt.figure(figsize=(15, 15))\n",
    "# pos = nx.spring_layout(G)\n",
    "\n",
    "# nx.draw(G, pos, with_labels=True, node_size=3000, node_color='skyblue', font_size=10, font_weight='bold', edge_color='gray', linewidths=1, font_color='black', alpha=0.7)\n",
    "# plt.show()"
   ]
  },
  {
   "cell_type": "code",
   "execution_count": 30,
   "metadata": {},
   "outputs": [
    {
     "data": {
      "application/vnd.plotly.v1+json": {
       "config": {
        "plotlyServerURL": "https://plot.ly"
       },
       "data": [
        {
         "arrangement": "freeform",
         "link": {
          "arrowlen": 15,
          "color": [
           "rgba(78, 243, 205, 0.3)",
           "rgba(121, 9, 254, 0.3)",
           "rgba(78, 243, 205, 0.3)",
           "rgba(78, 243, 205, 0.3)",
           "rgba(200, 229, 135, 0.3)",
           "rgba(121, 9, 254, 0.3)",
           "rgba(124, 254, 181, 0.3)",
           "rgba(67, 92, 250, 0.3)",
           "rgba(200, 229, 135, 0.3)",
           "rgba(51, 115, 248, 0.3)",
           "rgba(100, 251, 194, 0.3)",
           "rgba(121, 9, 254, 0.3)",
           "rgba(92, 249, 198, 0.3)",
           "rgba(78, 243, 205, 0.3)",
           "rgba(124, 254, 181, 0.3)",
           "rgba(54, 229, 215, 0.3)",
           "rgba(78, 243, 205, 0.3)",
           "rgba(200, 229, 135, 0.3)",
           "rgba(89, 59, 253, 0.3)",
           "rgba(116, 254, 186, 0.3)",
           "rgba(100, 251, 194, 0.3)",
           "rgba(46, 223, 219, 0.3)",
           "rgba(200, 229, 135, 0.3)",
           "rgba(54, 229, 215, 0.3)",
           "rgba(40, 219, 221, 0.3)",
           "rgba(121, 9, 254, 0.3)",
           "rgba(200, 229, 135, 0.3)",
           "rgba(62, 234, 212, 0.3)",
           "rgba(54, 229, 215, 0.3)",
           "rgba(200, 229, 135, 0.3)",
           "rgba(0, 180, 235, 0.3)",
           "rgba(200, 229, 135, 0.3)",
           "rgba(46, 223, 219, 0.3)",
           "rgba(200, 229, 135, 0.3)",
           "rgba(8, 189, 232, 0.3)",
           "rgba(46, 223, 219, 0.3)",
           "rgba(100, 251, 194, 0.3)",
           "rgba(176, 243, 151, 0.3)",
           "rgba(200, 229, 135, 0.3)",
           "rgba(100, 251, 194, 0.3)",
           "rgba(100, 251, 194, 0.3)",
           "rgba(100, 251, 194, 0.3)",
           "rgba(100, 251, 194, 0.3)",
           "rgba(46, 223, 219, 0.3)",
           "rgba(83, 68, 252, 0.3)",
           "rgba(40, 219, 221, 0.3)",
           "rgba(124, 254, 181, 0.3)",
           "rgba(100, 251, 194, 0.3)",
           "rgba(29, 144, 243, 0.3)",
           "rgba(100, 251, 194, 0.3)"
          ],
          "source": [
           26,
           0,
           26,
           26,
           42,
           0,
           32,
           7,
           42,
           9,
           29,
           0,
           28,
           26,
           32,
           23,
           26,
           42,
           4,
           31,
           29,
           22,
           42,
           23,
           21,
           0,
           42,
           24,
           23,
           42,
           16,
           42,
           22,
           42,
           17,
           22,
           29,
           39,
           42,
           29,
           29,
           29,
           29,
           22,
           5,
           21,
           32,
           29,
           12,
           29
          ],
          "target": [
           24,
           32,
           14,
           17,
           16,
           26,
           2,
           22,
           8,
           22,
           7,
           12,
           22,
           18,
           16,
           26,
           16,
           5,
           22,
           29,
           28,
           11,
           18,
           9,
           22,
           42,
           23,
           22,
           22,
           4,
           22,
           31,
           6,
           21,
           22,
           1,
           4,
           22,
           39,
           21,
           11,
           6,
           5,
           2,
           22,
           32,
           18,
           9,
           18,
           35
          ],
          "value": [
           0.9999523506099728,
           0.998333641642593,
           0.9976716554067837,
           0.9973554465376934,
           0.9968077116972324,
           0.9962328041188003,
           0.9955945682115014,
           0.9904395077561889,
           0.9899302887020752,
           0.9864715649525453,
           0.9853905247085332,
           0.9833256773148202,
           0.9818220696625888,
           0.9781337448980477,
           0.9771066600723274,
           0.975988289361567,
           0.9736740805960424,
           0.9712536634187201,
           0.969615769712689,
           0.9690973139804689,
           0.9690763529105744,
           0.9624539752772009,
           0.9620201445013811,
           0.9605757290705114,
           0.9586404584379182,
           0.9584365939897608,
           0.9580745025670018,
           0.9553840823846793,
           0.9545512760740921,
           0.9538872564654564,
           0.9496007660453124,
           0.9417165070089719,
           0.9411379600388251,
           0.9405933141429489,
           0.9404215056497247,
           0.9348466797387268,
           0.933674005293881,
           0.9277333224647694,
           0.9242218028246258,
           0.9232500385292323,
           0.9199706032482349,
           0.9187688420163305,
           0.91568782598522,
           0.9152825506961232,
           0.9149493995658463,
           0.9124853085343574,
           0.9118886264062115,
           0.9006503440577425,
           0.8910517949592295,
           0.8880263814210027
          ]
         },
         "node": {
          "color": [
           "rgba(121, 9, 254, 0.7)",
           "rgba(113, 21, 254, 0.7)",
           "rgba(105, 34, 254, 0.7)",
           "rgba(97, 46, 253, 0.7)",
           "rgba(89, 59, 253, 0.7)",
           "rgba(83, 68, 252, 0.7)",
           "rgba(75, 80, 251, 0.7)",
           "rgba(67, 92, 250, 0.7)",
           "rgba(59, 103, 249, 0.7)",
           "rgba(51, 115, 248, 0.7)",
           "rgba(43, 126, 246, 0.7)",
           "rgba(37, 134, 245, 0.7)",
           "rgba(29, 144, 243, 0.7)",
           "rgba(21, 154, 241, 0.7)",
           "rgba(13, 164, 239, 0.7)",
           "rgba(5, 174, 237, 0.7)",
           "rgba(0, 180, 235, 0.7)",
           "rgba(8, 189, 232, 0.7)",
           "rgba(16, 197, 230, 0.7)",
           "rgba(24, 205, 227, 0.7)",
           "rgba(32, 212, 224, 0.7)",
           "rgba(40, 219, 221, 0.7)",
           "rgba(46, 223, 219, 0.7)",
           "rgba(54, 229, 215, 0.7)",
           "rgba(62, 234, 212, 0.7)",
           "rgba(70, 239, 209, 0.7)",
           "rgba(78, 243, 205, 0.7)",
           "rgba(84, 246, 202, 0.7)",
           "rgba(92, 249, 198, 0.7)",
           "rgba(100, 251, 194, 0.7)",
           "rgba(108, 253, 190, 0.7)",
           "rgba(116, 254, 186, 0.7)",
           "rgba(124, 254, 181, 0.7)",
           "rgba(130, 254, 178, 0.7)",
           "rgba(138, 254, 174, 0.7)",
           "rgba(146, 253, 169, 0.7)",
           "rgba(154, 251, 164, 0.7)",
           "rgba(162, 249, 159, 0.7)",
           "rgba(170, 246, 154, 0.7)",
           "rgba(176, 243, 151, 0.7)",
           "rgba(184, 239, 146, 0.7)",
           "rgba(192, 234, 140, 0.7)",
           "rgba(200, 229, 135, 0.7)",
           "rgba(208, 223, 130, 0.7)",
           "rgba(214, 219, 126, 0.7)",
           "rgba(222, 212, 120, 0.7)",
           "rgba(230, 205, 115, 0.7)",
           "rgba(238, 197, 109, 0.7)",
           "rgba(246, 189, 103, 0.7)",
           "rgba(254, 180, 97, 0.7)",
           "rgba(255, 174, 93, 0.7)",
           "rgba(255, 164, 87, 0.7)",
           "rgba(255, 154, 81, 0.7)",
           "rgba(255, 144, 75, 0.7)",
           "rgba(255, 134, 69, 0.7)",
           "rgba(255, 126, 65, 0.7)",
           "rgba(255, 115, 59, 0.7)",
           "rgba(255, 103, 53, 0.7)",
           "rgba(255, 92, 46, 0.7)",
           "rgba(255, 80, 40, 0.7)",
           "rgba(255, 68, 34, 0.7)",
           "rgba(255, 59, 29, 0.7)",
           "rgba(255, 46, 23, 0.7)",
           "rgba(255, 34, 17, 0.7)",
           "rgba(255, 21, 10, 0.7)",
           "rgba(255, 9, 4, 0.7)"
          ],
          "label": [
           "speaker_party_IS_DEMOCRAT",
           "general score",
           "outreach",
           "persuasiveness",
           "empathy",
           "authenticity",
           "decorum",
           "tone is professional",
           "resonance",
           "preparation",
           "logical",
           "clarity",
           "egotistical",
           "relevant",
           "contextual awareness",
           "listening skills",
           "civil discourse",
           "coherence",
           "respectfulness",
           "responsiveness",
           "pro neutral",
           "language appropriateness",
           "evasiveness",
           "adherence to rules",
           "factuality",
           "contribution",
           "manipulation",
           "completeness",
           "respect for diverse opinions",
           "sensationalism",
           "use of evidence",
           "objectivity",
           "interruptions",
           "consistency",
           "conciseness",
           "venue respect",
           "accessibility",
           "innovation",
           "relevance",
           "fair play",
           "time management",
           "speaker_num_parts",
           "bias",
           "truthfulness",
           "tone is academic",
           "num_parts",
           "content quality",
           "speaker_num_parts_ratio",
           "balance",
           "quality of sources",
           "speaker_popular_votes_ratio",
           "controversiality",
           "confidence",
           "engagement",
           "speaker_won_election",
           "tone is conversational",
           "emotional appeal",
           "num_tokens",
           "topic predictiveness",
           "speaker_electoral_votes_ratio",
           "speaker_electoral_votes",
           "speaker_quantitative_contribution_ratio",
           "speaker_quantitative_contribution",
           "speaker_popular_votes",
           "speaker_is_vice_president_candidate",
           "speaker_is_president_candidate"
          ],
          "pad": 10
         },
         "type": "sankey"
        }
       ],
       "layout": {
        "template": {
         "data": {
          "bar": [
           {
            "error_x": {
             "color": "#2a3f5f"
            },
            "error_y": {
             "color": "#2a3f5f"
            },
            "marker": {
             "line": {
              "color": "#E5ECF6",
              "width": 0.5
             },
             "pattern": {
              "fillmode": "overlay",
              "size": 10,
              "solidity": 0.2
             }
            },
            "type": "bar"
           }
          ],
          "barpolar": [
           {
            "marker": {
             "line": {
              "color": "#E5ECF6",
              "width": 0.5
             },
             "pattern": {
              "fillmode": "overlay",
              "size": 10,
              "solidity": 0.2
             }
            },
            "type": "barpolar"
           }
          ],
          "carpet": [
           {
            "aaxis": {
             "endlinecolor": "#2a3f5f",
             "gridcolor": "white",
             "linecolor": "white",
             "minorgridcolor": "white",
             "startlinecolor": "#2a3f5f"
            },
            "baxis": {
             "endlinecolor": "#2a3f5f",
             "gridcolor": "white",
             "linecolor": "white",
             "minorgridcolor": "white",
             "startlinecolor": "#2a3f5f"
            },
            "type": "carpet"
           }
          ],
          "choropleth": [
           {
            "colorbar": {
             "outlinewidth": 0,
             "ticks": ""
            },
            "type": "choropleth"
           }
          ],
          "contour": [
           {
            "colorbar": {
             "outlinewidth": 0,
             "ticks": ""
            },
            "colorscale": [
             [
              0,
              "#0d0887"
             ],
             [
              0.1111111111111111,
              "#46039f"
             ],
             [
              0.2222222222222222,
              "#7201a8"
             ],
             [
              0.3333333333333333,
              "#9c179e"
             ],
             [
              0.4444444444444444,
              "#bd3786"
             ],
             [
              0.5555555555555556,
              "#d8576b"
             ],
             [
              0.6666666666666666,
              "#ed7953"
             ],
             [
              0.7777777777777778,
              "#fb9f3a"
             ],
             [
              0.8888888888888888,
              "#fdca26"
             ],
             [
              1,
              "#f0f921"
             ]
            ],
            "type": "contour"
           }
          ],
          "contourcarpet": [
           {
            "colorbar": {
             "outlinewidth": 0,
             "ticks": ""
            },
            "type": "contourcarpet"
           }
          ],
          "heatmap": [
           {
            "colorbar": {
             "outlinewidth": 0,
             "ticks": ""
            },
            "colorscale": [
             [
              0,
              "#0d0887"
             ],
             [
              0.1111111111111111,
              "#46039f"
             ],
             [
              0.2222222222222222,
              "#7201a8"
             ],
             [
              0.3333333333333333,
              "#9c179e"
             ],
             [
              0.4444444444444444,
              "#bd3786"
             ],
             [
              0.5555555555555556,
              "#d8576b"
             ],
             [
              0.6666666666666666,
              "#ed7953"
             ],
             [
              0.7777777777777778,
              "#fb9f3a"
             ],
             [
              0.8888888888888888,
              "#fdca26"
             ],
             [
              1,
              "#f0f921"
             ]
            ],
            "type": "heatmap"
           }
          ],
          "heatmapgl": [
           {
            "colorbar": {
             "outlinewidth": 0,
             "ticks": ""
            },
            "colorscale": [
             [
              0,
              "#0d0887"
             ],
             [
              0.1111111111111111,
              "#46039f"
             ],
             [
              0.2222222222222222,
              "#7201a8"
             ],
             [
              0.3333333333333333,
              "#9c179e"
             ],
             [
              0.4444444444444444,
              "#bd3786"
             ],
             [
              0.5555555555555556,
              "#d8576b"
             ],
             [
              0.6666666666666666,
              "#ed7953"
             ],
             [
              0.7777777777777778,
              "#fb9f3a"
             ],
             [
              0.8888888888888888,
              "#fdca26"
             ],
             [
              1,
              "#f0f921"
             ]
            ],
            "type": "heatmapgl"
           }
          ],
          "histogram": [
           {
            "marker": {
             "pattern": {
              "fillmode": "overlay",
              "size": 10,
              "solidity": 0.2
             }
            },
            "type": "histogram"
           }
          ],
          "histogram2d": [
           {
            "colorbar": {
             "outlinewidth": 0,
             "ticks": ""
            },
            "colorscale": [
             [
              0,
              "#0d0887"
             ],
             [
              0.1111111111111111,
              "#46039f"
             ],
             [
              0.2222222222222222,
              "#7201a8"
             ],
             [
              0.3333333333333333,
              "#9c179e"
             ],
             [
              0.4444444444444444,
              "#bd3786"
             ],
             [
              0.5555555555555556,
              "#d8576b"
             ],
             [
              0.6666666666666666,
              "#ed7953"
             ],
             [
              0.7777777777777778,
              "#fb9f3a"
             ],
             [
              0.8888888888888888,
              "#fdca26"
             ],
             [
              1,
              "#f0f921"
             ]
            ],
            "type": "histogram2d"
           }
          ],
          "histogram2dcontour": [
           {
            "colorbar": {
             "outlinewidth": 0,
             "ticks": ""
            },
            "colorscale": [
             [
              0,
              "#0d0887"
             ],
             [
              0.1111111111111111,
              "#46039f"
             ],
             [
              0.2222222222222222,
              "#7201a8"
             ],
             [
              0.3333333333333333,
              "#9c179e"
             ],
             [
              0.4444444444444444,
              "#bd3786"
             ],
             [
              0.5555555555555556,
              "#d8576b"
             ],
             [
              0.6666666666666666,
              "#ed7953"
             ],
             [
              0.7777777777777778,
              "#fb9f3a"
             ],
             [
              0.8888888888888888,
              "#fdca26"
             ],
             [
              1,
              "#f0f921"
             ]
            ],
            "type": "histogram2dcontour"
           }
          ],
          "mesh3d": [
           {
            "colorbar": {
             "outlinewidth": 0,
             "ticks": ""
            },
            "type": "mesh3d"
           }
          ],
          "parcoords": [
           {
            "line": {
             "colorbar": {
              "outlinewidth": 0,
              "ticks": ""
             }
            },
            "type": "parcoords"
           }
          ],
          "pie": [
           {
            "automargin": true,
            "type": "pie"
           }
          ],
          "scatter": [
           {
            "fillpattern": {
             "fillmode": "overlay",
             "size": 10,
             "solidity": 0.2
            },
            "type": "scatter"
           }
          ],
          "scatter3d": [
           {
            "line": {
             "colorbar": {
              "outlinewidth": 0,
              "ticks": ""
             }
            },
            "marker": {
             "colorbar": {
              "outlinewidth": 0,
              "ticks": ""
             }
            },
            "type": "scatter3d"
           }
          ],
          "scattercarpet": [
           {
            "marker": {
             "colorbar": {
              "outlinewidth": 0,
              "ticks": ""
             }
            },
            "type": "scattercarpet"
           }
          ],
          "scattergeo": [
           {
            "marker": {
             "colorbar": {
              "outlinewidth": 0,
              "ticks": ""
             }
            },
            "type": "scattergeo"
           }
          ],
          "scattergl": [
           {
            "marker": {
             "colorbar": {
              "outlinewidth": 0,
              "ticks": ""
             }
            },
            "type": "scattergl"
           }
          ],
          "scattermapbox": [
           {
            "marker": {
             "colorbar": {
              "outlinewidth": 0,
              "ticks": ""
             }
            },
            "type": "scattermapbox"
           }
          ],
          "scatterpolar": [
           {
            "marker": {
             "colorbar": {
              "outlinewidth": 0,
              "ticks": ""
             }
            },
            "type": "scatterpolar"
           }
          ],
          "scatterpolargl": [
           {
            "marker": {
             "colorbar": {
              "outlinewidth": 0,
              "ticks": ""
             }
            },
            "type": "scatterpolargl"
           }
          ],
          "scatterternary": [
           {
            "marker": {
             "colorbar": {
              "outlinewidth": 0,
              "ticks": ""
             }
            },
            "type": "scatterternary"
           }
          ],
          "surface": [
           {
            "colorbar": {
             "outlinewidth": 0,
             "ticks": ""
            },
            "colorscale": [
             [
              0,
              "#0d0887"
             ],
             [
              0.1111111111111111,
              "#46039f"
             ],
             [
              0.2222222222222222,
              "#7201a8"
             ],
             [
              0.3333333333333333,
              "#9c179e"
             ],
             [
              0.4444444444444444,
              "#bd3786"
             ],
             [
              0.5555555555555556,
              "#d8576b"
             ],
             [
              0.6666666666666666,
              "#ed7953"
             ],
             [
              0.7777777777777778,
              "#fb9f3a"
             ],
             [
              0.8888888888888888,
              "#fdca26"
             ],
             [
              1,
              "#f0f921"
             ]
            ],
            "type": "surface"
           }
          ],
          "table": [
           {
            "cells": {
             "fill": {
              "color": "#EBF0F8"
             },
             "line": {
              "color": "white"
             }
            },
            "header": {
             "fill": {
              "color": "#C8D4E3"
             },
             "line": {
              "color": "white"
             }
            },
            "type": "table"
           }
          ]
         },
         "layout": {
          "annotationdefaults": {
           "arrowcolor": "#2a3f5f",
           "arrowhead": 0,
           "arrowwidth": 1
          },
          "autotypenumbers": "strict",
          "coloraxis": {
           "colorbar": {
            "outlinewidth": 0,
            "ticks": ""
           }
          },
          "colorscale": {
           "diverging": [
            [
             0,
             "#8e0152"
            ],
            [
             0.1,
             "#c51b7d"
            ],
            [
             0.2,
             "#de77ae"
            ],
            [
             0.3,
             "#f1b6da"
            ],
            [
             0.4,
             "#fde0ef"
            ],
            [
             0.5,
             "#f7f7f7"
            ],
            [
             0.6,
             "#e6f5d0"
            ],
            [
             0.7,
             "#b8e186"
            ],
            [
             0.8,
             "#7fbc41"
            ],
            [
             0.9,
             "#4d9221"
            ],
            [
             1,
             "#276419"
            ]
           ],
           "sequential": [
            [
             0,
             "#0d0887"
            ],
            [
             0.1111111111111111,
             "#46039f"
            ],
            [
             0.2222222222222222,
             "#7201a8"
            ],
            [
             0.3333333333333333,
             "#9c179e"
            ],
            [
             0.4444444444444444,
             "#bd3786"
            ],
            [
             0.5555555555555556,
             "#d8576b"
            ],
            [
             0.6666666666666666,
             "#ed7953"
            ],
            [
             0.7777777777777778,
             "#fb9f3a"
            ],
            [
             0.8888888888888888,
             "#fdca26"
            ],
            [
             1,
             "#f0f921"
            ]
           ],
           "sequentialminus": [
            [
             0,
             "#0d0887"
            ],
            [
             0.1111111111111111,
             "#46039f"
            ],
            [
             0.2222222222222222,
             "#7201a8"
            ],
            [
             0.3333333333333333,
             "#9c179e"
            ],
            [
             0.4444444444444444,
             "#bd3786"
            ],
            [
             0.5555555555555556,
             "#d8576b"
            ],
            [
             0.6666666666666666,
             "#ed7953"
            ],
            [
             0.7777777777777778,
             "#fb9f3a"
            ],
            [
             0.8888888888888888,
             "#fdca26"
            ],
            [
             1,
             "#f0f921"
            ]
           ]
          },
          "colorway": [
           "#636efa",
           "#EF553B",
           "#00cc96",
           "#ab63fa",
           "#FFA15A",
           "#19d3f3",
           "#FF6692",
           "#B6E880",
           "#FF97FF",
           "#FECB52"
          ],
          "font": {
           "color": "#2a3f5f"
          },
          "geo": {
           "bgcolor": "white",
           "lakecolor": "white",
           "landcolor": "#E5ECF6",
           "showlakes": true,
           "showland": true,
           "subunitcolor": "white"
          },
          "hoverlabel": {
           "align": "left"
          },
          "hovermode": "closest",
          "mapbox": {
           "style": "light"
          },
          "paper_bgcolor": "white",
          "plot_bgcolor": "#E5ECF6",
          "polar": {
           "angularaxis": {
            "gridcolor": "white",
            "linecolor": "white",
            "ticks": ""
           },
           "bgcolor": "#E5ECF6",
           "radialaxis": {
            "gridcolor": "white",
            "linecolor": "white",
            "ticks": ""
           }
          },
          "scene": {
           "xaxis": {
            "backgroundcolor": "#E5ECF6",
            "gridcolor": "white",
            "gridwidth": 2,
            "linecolor": "white",
            "showbackground": true,
            "ticks": "",
            "zerolinecolor": "white"
           },
           "yaxis": {
            "backgroundcolor": "#E5ECF6",
            "gridcolor": "white",
            "gridwidth": 2,
            "linecolor": "white",
            "showbackground": true,
            "ticks": "",
            "zerolinecolor": "white"
           },
           "zaxis": {
            "backgroundcolor": "#E5ECF6",
            "gridcolor": "white",
            "gridwidth": 2,
            "linecolor": "white",
            "showbackground": true,
            "ticks": "",
            "zerolinecolor": "white"
           }
          },
          "shapedefaults": {
           "line": {
            "color": "#2a3f5f"
           }
          },
          "ternary": {
           "aaxis": {
            "gridcolor": "white",
            "linecolor": "white",
            "ticks": ""
           },
           "baxis": {
            "gridcolor": "white",
            "linecolor": "white",
            "ticks": ""
           },
           "bgcolor": "#E5ECF6",
           "caxis": {
            "gridcolor": "white",
            "linecolor": "white",
            "ticks": ""
           }
          },
          "title": {
           "x": 0.05
          },
          "xaxis": {
           "automargin": true,
           "gridcolor": "white",
           "linecolor": "white",
           "ticks": "",
           "title": {
            "standoff": 15
           },
           "zerolinecolor": "white",
           "zerolinewidth": 2
          },
          "yaxis": {
           "automargin": true,
           "gridcolor": "white",
           "linecolor": "white",
           "ticks": "",
           "title": {
            "standoff": 15
           },
           "zerolinecolor": "white",
           "zerolinewidth": 2
          }
         }
        }
       }
      }
     },
     "metadata": {},
     "output_type": "display_data"
    }
   ],
   "source": [
    "source = set(['speaker_party_IS_DEMOCRAT'])\n",
    "pcm_max_links = pd.DataFrame(0, index=pcm.index, columns=pcm.columns, dtype=float)\n",
    "\n",
    "\n",
    "# keep all nodes reachable from speaker_party_IS_DEMOCRAT\\\n",
    "# pcm_reachable = pcm.copy()\n",
    "\n",
    "# reachable = set()\n",
    "# cutoff = 0.1\n",
    "# n_steps = 1\n",
    "# reachable.add('speaker_party_IS_DEMOCRAT')\n",
    "# for i in range(n_steps):\n",
    "#     for node in reachable.copy():\n",
    "#         for other in pcm.columns:\n",
    "#             if pcm.loc[node, other] > cutoff:\n",
    "#                 reachable.add(other)\n",
    "# reachable = list(reachable)\n",
    "# pcm_reachable = pcm.loc[reachable, reachable]\n",
    "\n",
    "# always add the strongest link connected to the source\n",
    "n_links = 50\n",
    "for i in range(n_links):\n",
    "    # find the strongest link\n",
    "    max_val = 0\n",
    "    max_i = None\n",
    "    max_j = None\n",
    "    \n",
    "    for i in source:\n",
    "        for j in pcm_max_links.columns:\n",
    "            if pcm_max_links.loc[i, j] > 0:\n",
    "                continue\n",
    "            if pcm.loc[i, j] > max_val:\n",
    "                max_val = pcm.loc[i, j]\n",
    "                max_i = i\n",
    "                max_j = j\n",
    "    \n",
    "    if max_i is None:\n",
    "        break\n",
    "    if max_j not in source:\n",
    "        source.add(max_j)\n",
    "    \n",
    "    pcm_max_links.loc[max_i, max_j] = max_val\n",
    "\n",
    "\n",
    "# plot as dist matrix\n",
    "# set all diagonal entries to 0\n",
    "for i in range(pcm_max_links.shape[0]):\n",
    "    pcm_max_links.iloc[i, i] = 0\n",
    "dm = DistanceMatrix(pcm_max_links)\n",
    "fig = dm.to_go_figure()\n",
    "fig\n",
    "#fig = dis_matrix_to_go_figure(pcm_max_links, 'Correlation Network', 100, source='speaker_party_IS_DEMOCRAT')\n",
    "#fig"
   ]
  },
  {
   "cell_type": "code",
   "execution_count": 22,
   "metadata": {},
   "outputs": [
    {
     "name": "stdout",
     "output_type": "stream",
     "text": [
      "94\n",
      "74\n",
      "52\n",
      "['speaker_party_IS_DEMOCRAT', 'general score', 'outreach', 'persuasiveness', 'empathy', 'authenticity', 'decorum', 'tone is professional', 'resonance', 'preparation', 'logical', 'clarity', 'egotistical', 'relevant', 'contextual awareness', 'listening skills', 'civil discourse', 'coherence', 'respectfulness', 'responsiveness', 'pro neutral', 'language appropriateness', 'evasiveness', 'adherence to rules', 'factuality', 'contribution', 'manipulation', 'completeness', 'respect for diverse opinions', 'sensationalism', 'use of evidence', 'objectivity', 'interruptions', 'consistency', 'conciseness', 'venue respect', 'accessibility', 'innovation', 'relevance', 'fair play', 'time management', 'speaker_num_parts', 'bias', 'truthfulness', 'tone is academic', 'num_parts', 'content quality', 'speaker_num_parts_ratio', 'balance', 'quality of sources', 'speaker_popular_votes_ratio', 'controversiality', 'confidence', 'engagement']\n"
     ]
    }
   ],
   "source": [
    "import pandas as pd\n",
    "import pingouin as pg\n",
    "import networkx as nx\n",
    "import statsmodels.api as sm\n",
    "import matplotlib.pyplot as plt\n",
    "\n",
    "\n",
    "\n",
    "from utils.network_utils import *\n",
    "\n",
    "\n",
    "# remove all with 'impact' in the name\n",
    "# remove all with 'score' in the name\n",
    "blacklist = [column for column in new_corr.columns if 'impact' in column or 'score' in column]\n",
    "\n",
    "\n",
    "\n",
    "# fixed = ['speaker_party_IS_DEMOCRAT', 'general score (argue)']\n",
    "# available_columns = [column for column in corr.columns if column not in fixed]\n",
    "# available_columns = new_corr.loc[:, ['speaker_party_IS_DEMOCRAT', 'general score (argue)']].abs().max(axis=1).sort_values(ascending=False)\n",
    "available_columns = new_corr.loc[:, ['speaker_party_IS_DEMOCRAT', 'general score']].abs().max(axis=1).sort_values(ascending=False)\n",
    "print(len(available_columns))\n",
    "# remove > 0.8 and < 0.2\n",
    "available_columns = available_columns[(available_columns > 0.2) & (available_columns < 0.8)]\n",
    "print(len(available_columns))\n",
    "available_columns = list(available_columns.index)\n",
    "available_columns = [column for column in available_columns if column not in blacklist]\n",
    "print(len(available_columns))\n",
    "\n",
    "# columns = ['speaker_party_IS_DEMOCRAT', 'general score (argue)'] + available_columns\n",
    "columns = ['speaker_party_IS_DEMOCRAT', 'general score'] + available_columns\n",
    "\n",
    "# make first entry the one most correlated to the fixed\n",
    "# columns = [corr.loc[available_columns, fixed].abs().mean(axis=1).sort_values(ascending=False).index[0]]\n",
    "# columns = ['speaker_party_IS_DEMOCRAT', 'general score (argue)', 'manipulation (manipulation)']\n",
    "\n",
    "\n",
    "# n_columns = 20\n",
    "# while len(columns) < n_columns:\n",
    "#     # random choice\n",
    "#     available_columns = [column for column in available_columns if column not in columns]\n",
    "#     columns += [random.choice(available_columns)]\n",
    "\n",
    "\n",
    "# # add columns with lowest correlation to the rest\n",
    "# while len(columns) < n_columns:\n",
    "#     # find the column with the lowest correlation to the rest\n",
    "#     available_columns = [column for column in available_columns if column not in columns]\n",
    "#     sub_corr = corr.loc[available_columns, columns].abs().mean(axis=1).sort_values(ascending=True)\n",
    "#     # get first that is not in columns or fixed\n",
    "#     columns += [sub_corr.index[0]]\n",
    "\n",
    "print(columns)\n",
    "\n",
    "corr_sub = new_corr.loc[columns, columns]\n",
    "dis_matrix, _, _ = compute_distance_matrix_from_df(corr_sub)"
   ]
  },
  {
   "cell_type": "code",
   "execution_count": 1,
   "metadata": {},
   "outputs": [],
   "source": [
    "# fig = dis_matrix_to_go_figure(dis_matrix, 'Correlation Network', 50, source='speaker_party_IS_DEMOCRAT')\n",
    "# fig"
   ]
  },
  {
   "cell_type": "code",
   "execution_count": null,
   "metadata": {},
   "outputs": [],
   "source": []
  },
  {
   "cell_type": "code",
   "execution_count": null,
   "metadata": {},
   "outputs": [],
   "source": []
  }
 ],
 "metadata": {
  "kernelspec": {
   "display_name": "Python 3",
   "language": "python",
   "name": "python3"
  },
  "language_info": {
   "codemirror_mode": {
    "name": "ipython",
    "version": 3
   },
   "file_extension": ".py",
   "mimetype": "text/x-python",
   "name": "python",
   "nbconvert_exporter": "python",
   "pygments_lexer": "ipython3",
   "version": "3.11.8"
  },
  "orig_nbformat": 4
 },
 "nbformat": 4,
 "nbformat_minor": 2
}
