{
 "cells": [
  {
   "cell_type": "code",
   "execution_count": 1,
   "metadata": {},
   "outputs": [],
   "source": [
    "import seaborn as sns\n",
    "import matplotlib.pyplot as plt\n",
    "\n",
    "import os\n",
    "import numpy as np\n",
    "import pandas as pd\n",
    "import random\n",
    "\n",
    "\n",
    "\n",
    "from utils.statistical_test_utils import *\n",
    "\n",
    "\n",
    "\n",
    "experiment_folder = 'datasets/llm_measurements/experiments'"
   ]
  },
  {
   "cell_type": "markdown",
   "metadata": {},
   "source": [
    "# Single Speaker, Single Speaker Variable Measurements"
   ]
  },
  {
   "cell_type": "code",
   "execution_count": 2,
   "metadata": {},
   "outputs": [],
   "source": [
    "n_bootstrap_samples = 300"
   ]
  },
  {
   "cell_type": "code",
   "execution_count": 3,
   "metadata": {},
   "outputs": [
    {
     "name": "stdout",
     "output_type": "stream",
     "text": [
      "Dropping columns: set()\n"
     ]
    },
    {
     "data": {
      "text/plain": [
       "(0.12335490086864971, 0.0, 0.05091180884918469, 0.0023682813446116537)"
      ]
     },
     "execution_count": 3,
     "metadata": {},
     "output_type": "execute_result"
    }
   ],
   "source": [
    "data = pd.read_pickle(f'{experiment_folder}/all_variables_150_slices_single_speaker_single_variable_candidates_only_averaged.pkl')\n",
    "# data = pd.read_pickle(f'{experiment_folder}/all_variables_150_slices_single_speaker_single_variable_candidates_only.pkl')\n",
    "\n",
    "data = data.drop(columns=['slice_id', 'speaker', 'slice_size', 'speaker_is_candidate'])\n",
    "\n",
    "corr = data.corr()\n",
    "corr.dropna(axis=0, how='all', inplace=True)\n",
    "corr.dropna(axis=1, how='all', inplace=True)\n",
    "\n",
    "print(f'Dropping columns: {set(data.columns) - set(corr.columns)}')\n",
    "data.drop(columns=set(data.columns) - set(corr.columns), inplace=True)\n",
    "\n",
    "# calculate the correlation matrix\n",
    "def get_corr_matrix(data):\n",
    "    return data.corr()\n",
    "\n",
    "# run bootstrap\n",
    "bootstrap_std, _, bootstrap_df_of_lists = bootstrap_estimation(data, get_corr_matrix, gen_bootstrap_data, n_experiments=n_bootstrap_samples)\n",
    "bootstrap_std.max().max(), bootstrap_std.min().min(), bootstrap_std.mean().mean(), bootstrap_std.std().std()"
   ]
  },
  {
   "cell_type": "code",
   "execution_count": 4,
   "metadata": {},
   "outputs": [
    {
     "name": "stdout",
     "output_type": "stream",
     "text": [
      "std=0.123 corr=[-0.029; 0.551]\t95% confidence interval=[0.071; 0.482]    \tengagement           -> confidence          \n",
      "std=0.101 corr=[0.063; 0.567]\t95% confidence interval=[0.172; 0.506]    \tobjectivity          -> preparation         \n",
      "std=0.098 corr=[-0.201; 0.287]\t95% confidence interval=[-0.134; 0.206]    \temotional appeal     -> coherence           \n",
      "std=0.094 corr=[-0.281; 0.233]\t95% confidence interval=[-0.126; 0.185]    \tobjectivity          -> positive impact on Russia\n",
      "std=0.092 corr=[-0.623; -0.098]\t95% confidence interval=[-0.527; -0.223]    \tbias                 -> objectivity         \n",
      "std=0.092 corr=[0.115; 0.665]\t95% confidence interval=[0.242; 0.541]    \tobjectivity          -> adherence to rules  \n",
      "std=0.092 corr=[-0.089; 0.393]\t95% confidence interval=[0.011; 0.308]    \tquality of sources   -> engagement          \n",
      "std=0.090 corr=[-0.407; 0.200]\t95% confidence interval=[-0.309; -0.018]    \tbias                 -> impact on environment\n",
      "std=0.090 corr=[-0.567; -0.091]\t95% confidence interval=[-0.475; -0.184]    \tspeaker_num_parts    -> objectivity         \n",
      "std=0.087 corr=[0.149; 0.626]\t95% confidence interval=[0.278; 0.549]    \tobjectivity          -> positive impact on USA\n",
      "std=0.086 corr=[-0.709; -0.253]\t95% confidence interval=[-0.657; -0.369]    \tobjectivity          -> sensationalism      \n",
      "std=0.085 corr=[-0.151; 0.403]\t95% confidence interval=[0.031; 0.289]    \tpositive impact on society -> positive impact on Russia\n",
      "std=0.085 corr=[0.006; 0.520]\t95% confidence interval=[0.028; 0.303]    \tengagement           -> society score       \n",
      "std=0.085 corr=[-0.519; -0.007]\t95% confidence interval=[-0.357; -0.084]    \tbias                 -> society score       \n",
      "std=0.084 corr=[0.240; 0.683]\t95% confidence interval=[0.354; 0.624]    \tobjectivity          -> tone is professional\n",
      "std=0.084 corr=[-0.524; -0.073]\t95% confidence interval=[-0.419; -0.139]    \tnum_parts            -> objectivity         \n",
      "std=0.084 corr=[-0.013; 0.479]\t95% confidence interval=[0.120; 0.399]    \tquality of sources   -> confidence          \n",
      "std=0.083 corr=[0.050; 0.479]\t95% confidence interval=[0.107; 0.378]    \tauthenticity         -> society score       \n",
      "std=0.082 corr=[-0.116; 0.359]\t95% confidence interval=[0.012; 0.294]    \tpositive impact on audience -> positive impact on Russia\n",
      "std=0.081 corr=[-0.226; 0.221]\t95% confidence interval=[-0.164; 0.112]    \temotional appeal     -> consistency         \n"
     ]
    }
   ],
   "source": [
    "# print top 10 stds\n",
    "bootstrap_std_list = []\n",
    "for i in range(bootstrap_std.shape[0]):\n",
    "    for j in range(i+1, bootstrap_std.shape[1]):\n",
    "        bootstrap_std_list.append((bootstrap_std.iloc[i, j], bootstrap_std.columns[i], bootstrap_std.columns[j]))\n",
    "\n",
    "bootstrap_std_list.sort(reverse=True)\n",
    "for i in range(20):\n",
    "    # print(bootstrap_std_list[i])\n",
    "    source = bootstrap_std_list[i][1]\n",
    "    target = bootstrap_std_list[i][2]\n",
    "    value = bootstrap_std_list[i][0]\n",
    "    min_value = bootstrap_df_of_lists[source][target].min()\n",
    "    max_value = bootstrap_df_of_lists[source][target].max()\n",
    "    min_5_percentile = np.percentile(bootstrap_df_of_lists[source][target], 5)\n",
    "    max_95_percentile = np.percentile(bootstrap_df_of_lists[source][target], 95)\n",
    "    print(f'std={value:.3f} corr=[{min_value:.3f}; {max_value:.3f}]\\t95% confidence interval=[{min_5_percentile:.3f}; {max_95_percentile:.3f}]    \\t{source:<20} -> {target:<20}')"
   ]
  },
  {
   "cell_type": "markdown",
   "metadata": {},
   "source": [
    "# ADN Connections"
   ]
  },
  {
   "cell_type": "code",
   "execution_count": 5,
   "metadata": {},
   "outputs": [],
   "source": [
    "from utils.network_utils import *\n",
    "\n",
    "variables_of_interest = ['speaker_party_IS_DEMOCRAT', 'general score', 'outreach',\n",
    "    'persuasiveness', 'empathy', 'authenticity', 'decorum',\n",
    "    'tone is professional', 'resonance', 'preparation', 'logical',\n",
    "    'clarity', 'egotistical', 'relevant', 'contextual awareness',\n",
    "    'listening skills', 'civil discourse', 'coherence', 'respectfulness',\n",
    "    'responsiveness', 'pro neutral', 'language appropriateness',\n",
    "    'evasiveness', 'adherence to rules', 'factuality', 'contribution',\n",
    "    'manipulation', 'completeness', 'respect for diverse opinions',\n",
    "    'sensationalism', 'use of evidence', 'objectivity', 'interruptions',\n",
    "    'consistency', 'conciseness', 'venue respect', 'accessibility',\n",
    "    'innovation', 'relevance', 'fair play', 'time management',\n",
    "    'speaker_num_parts', 'bias', 'truthfulness', 'tone is academic',\n",
    "    'num_parts', 'content quality', 'speaker_num_parts_ratio', 'balance',\n",
    "    'quality of sources', 'speaker_popular_votes_ratio', 'controversiality',\n",
    "    'confidence', 'engagement']\n",
    "\n",
    "data = pd.read_pickle(f'{experiment_folder}/all_variables_150_slices_single_speaker_single_variable_candidates_only_averaged.pkl')\n",
    "\n",
    "data = data[variables_of_interest]"
   ]
  },
  {
   "cell_type": "code",
   "execution_count": 27,
   "metadata": {},
   "outputs": [
    {
     "data": {
      "application/vnd.plotly.v1+json": {
       "config": {
        "plotlyServerURL": "https://plot.ly"
       },
       "data": [
        {
         "arrangement": "freeform",
         "link": {
          "arrowlen": 15,
          "color": [
           "rgba(119, 12, 254, 0.3)"
          ],
          "source": [
           0
          ],
          "target": [
           4
          ],
          "value": [
           0.32493996425749033
          ]
         },
         "node": {
          "color": [
           "rgba(119, 12, 254, 0.7)",
           "rgba(109, 28, 254, 0.7)",
           "rgba(101, 40, 254, 0.7)",
           "rgba(91, 56, 253, 0.7)",
           "rgba(81, 71, 252, 0.7)",
           "rgba(73, 83, 251, 0.7)",
           "rgba(63, 97, 250, 0.7)",
           "rgba(53, 112, 248, 0.7)",
           "rgba(45, 123, 246, 0.7)",
           "rgba(35, 136, 244, 0.7)",
           "rgba(25, 149, 242, 0.7)",
           "rgba(17, 159, 240, 0.7)",
           "rgba(7, 171, 237, 0.7)",
           "rgba(2, 183, 234, 0.7)",
           "rgba(10, 191, 232, 0.7)",
           "rgba(20, 201, 228, 0.7)",
           "rgba(30, 210, 225, 0.7)",
           "rgba(38, 217, 222, 0.7)",
           "rgba(48, 225, 218, 0.7)",
           "rgba(58, 232, 214, 0.7)",
           "rgba(66, 237, 210, 0.7)",
           "rgba(76, 242, 206, 0.7)",
           "rgba(86, 246, 201, 0.7)",
           "rgba(94, 249, 197, 0.7)",
           "rgba(104, 252, 192, 0.7)",
           "rgba(114, 254, 187, 0.7)",
           "rgba(122, 254, 183, 0.7)",
           "rgba(132, 254, 177, 0.7)",
           "rgba(140, 254, 172, 0.7)",
           "rgba(150, 252, 167, 0.7)",
           "rgba(160, 249, 161, 0.7)",
           "rgba(168, 246, 156, 0.7)",
           "rgba(178, 242, 149, 0.7)",
           "rgba(188, 237, 143, 0.7)",
           "rgba(196, 232, 138, 0.7)",
           "rgba(206, 225, 131, 0.7)",
           "rgba(216, 217, 124, 0.7)",
           "rgba(224, 210, 119, 0.7)",
           "rgba(234, 201, 112, 0.7)",
           "rgba(244, 191, 105, 0.7)",
           "rgba(252, 183, 99, 0.7)",
           "rgba(255, 171, 92, 0.7)",
           "rgba(255, 159, 84, 0.7)",
           "rgba(255, 149, 78, 0.7)",
           "rgba(255, 136, 71, 0.7)",
           "rgba(255, 123, 63, 0.7)",
           "rgba(255, 112, 57, 0.7)",
           "rgba(255, 97, 49, 0.7)",
           "rgba(255, 83, 42, 0.7)",
           "rgba(255, 71, 36, 0.7)",
           "rgba(255, 56, 28, 0.7)",
           "rgba(255, 40, 20, 0.7)",
           "rgba(255, 28, 14, 0.7)",
           "rgba(255, 12, 6, 0.7)"
          ],
          "label": [
           "Speaker Party",
           "general score",
           "outreach",
           "persuasiveness",
           "empathy",
           "authenticity",
           "decorum",
           "tone is professional",
           "resonance",
           "preparation",
           "logical",
           "clarity",
           "egotistical",
           "relevant",
           "contextual awareness",
           "listening skills",
           "civil discourse",
           "coherence",
           "respectfulness",
           "responsiveness",
           "pro neutral",
           "language appropriateness",
           "evasiveness",
           "adherence to rules",
           "factuality",
           "contribution",
           "manipulation",
           "completeness",
           "respect for diverse opinions",
           "sensationalism",
           "use of evidence",
           "objectivity",
           "interruptions",
           "consistency",
           "conciseness",
           "venue respect",
           "accessibility",
           "innovation",
           "relevance",
           "fair play",
           "time management",
           "speaker_num_parts",
           "bias",
           "truthfulness",
           "tone is academic",
           "num_parts",
           "content quality",
           "speaker_num_parts_ratio",
           "balance",
           "quality of sources",
           "speaker_popular_votes_ratio",
           "controversiality",
           "confidence",
           "engagement"
          ],
          "pad": 10
         },
         "type": "sankey"
        }
       ],
       "layout": {
        "template": {
         "data": {
          "bar": [
           {
            "error_x": {
             "color": "#2a3f5f"
            },
            "error_y": {
             "color": "#2a3f5f"
            },
            "marker": {
             "line": {
              "color": "#E5ECF6",
              "width": 0.5
             },
             "pattern": {
              "fillmode": "overlay",
              "size": 10,
              "solidity": 0.2
             }
            },
            "type": "bar"
           }
          ],
          "barpolar": [
           {
            "marker": {
             "line": {
              "color": "#E5ECF6",
              "width": 0.5
             },
             "pattern": {
              "fillmode": "overlay",
              "size": 10,
              "solidity": 0.2
             }
            },
            "type": "barpolar"
           }
          ],
          "carpet": [
           {
            "aaxis": {
             "endlinecolor": "#2a3f5f",
             "gridcolor": "white",
             "linecolor": "white",
             "minorgridcolor": "white",
             "startlinecolor": "#2a3f5f"
            },
            "baxis": {
             "endlinecolor": "#2a3f5f",
             "gridcolor": "white",
             "linecolor": "white",
             "minorgridcolor": "white",
             "startlinecolor": "#2a3f5f"
            },
            "type": "carpet"
           }
          ],
          "choropleth": [
           {
            "colorbar": {
             "outlinewidth": 0,
             "ticks": ""
            },
            "type": "choropleth"
           }
          ],
          "contour": [
           {
            "colorbar": {
             "outlinewidth": 0,
             "ticks": ""
            },
            "colorscale": [
             [
              0,
              "#0d0887"
             ],
             [
              0.1111111111111111,
              "#46039f"
             ],
             [
              0.2222222222222222,
              "#7201a8"
             ],
             [
              0.3333333333333333,
              "#9c179e"
             ],
             [
              0.4444444444444444,
              "#bd3786"
             ],
             [
              0.5555555555555556,
              "#d8576b"
             ],
             [
              0.6666666666666666,
              "#ed7953"
             ],
             [
              0.7777777777777778,
              "#fb9f3a"
             ],
             [
              0.8888888888888888,
              "#fdca26"
             ],
             [
              1,
              "#f0f921"
             ]
            ],
            "type": "contour"
           }
          ],
          "contourcarpet": [
           {
            "colorbar": {
             "outlinewidth": 0,
             "ticks": ""
            },
            "type": "contourcarpet"
           }
          ],
          "heatmap": [
           {
            "colorbar": {
             "outlinewidth": 0,
             "ticks": ""
            },
            "colorscale": [
             [
              0,
              "#0d0887"
             ],
             [
              0.1111111111111111,
              "#46039f"
             ],
             [
              0.2222222222222222,
              "#7201a8"
             ],
             [
              0.3333333333333333,
              "#9c179e"
             ],
             [
              0.4444444444444444,
              "#bd3786"
             ],
             [
              0.5555555555555556,
              "#d8576b"
             ],
             [
              0.6666666666666666,
              "#ed7953"
             ],
             [
              0.7777777777777778,
              "#fb9f3a"
             ],
             [
              0.8888888888888888,
              "#fdca26"
             ],
             [
              1,
              "#f0f921"
             ]
            ],
            "type": "heatmap"
           }
          ],
          "heatmapgl": [
           {
            "colorbar": {
             "outlinewidth": 0,
             "ticks": ""
            },
            "colorscale": [
             [
              0,
              "#0d0887"
             ],
             [
              0.1111111111111111,
              "#46039f"
             ],
             [
              0.2222222222222222,
              "#7201a8"
             ],
             [
              0.3333333333333333,
              "#9c179e"
             ],
             [
              0.4444444444444444,
              "#bd3786"
             ],
             [
              0.5555555555555556,
              "#d8576b"
             ],
             [
              0.6666666666666666,
              "#ed7953"
             ],
             [
              0.7777777777777778,
              "#fb9f3a"
             ],
             [
              0.8888888888888888,
              "#fdca26"
             ],
             [
              1,
              "#f0f921"
             ]
            ],
            "type": "heatmapgl"
           }
          ],
          "histogram": [
           {
            "marker": {
             "pattern": {
              "fillmode": "overlay",
              "size": 10,
              "solidity": 0.2
             }
            },
            "type": "histogram"
           }
          ],
          "histogram2d": [
           {
            "colorbar": {
             "outlinewidth": 0,
             "ticks": ""
            },
            "colorscale": [
             [
              0,
              "#0d0887"
             ],
             [
              0.1111111111111111,
              "#46039f"
             ],
             [
              0.2222222222222222,
              "#7201a8"
             ],
             [
              0.3333333333333333,
              "#9c179e"
             ],
             [
              0.4444444444444444,
              "#bd3786"
             ],
             [
              0.5555555555555556,
              "#d8576b"
             ],
             [
              0.6666666666666666,
              "#ed7953"
             ],
             [
              0.7777777777777778,
              "#fb9f3a"
             ],
             [
              0.8888888888888888,
              "#fdca26"
             ],
             [
              1,
              "#f0f921"
             ]
            ],
            "type": "histogram2d"
           }
          ],
          "histogram2dcontour": [
           {
            "colorbar": {
             "outlinewidth": 0,
             "ticks": ""
            },
            "colorscale": [
             [
              0,
              "#0d0887"
             ],
             [
              0.1111111111111111,
              "#46039f"
             ],
             [
              0.2222222222222222,
              "#7201a8"
             ],
             [
              0.3333333333333333,
              "#9c179e"
             ],
             [
              0.4444444444444444,
              "#bd3786"
             ],
             [
              0.5555555555555556,
              "#d8576b"
             ],
             [
              0.6666666666666666,
              "#ed7953"
             ],
             [
              0.7777777777777778,
              "#fb9f3a"
             ],
             [
              0.8888888888888888,
              "#fdca26"
             ],
             [
              1,
              "#f0f921"
             ]
            ],
            "type": "histogram2dcontour"
           }
          ],
          "mesh3d": [
           {
            "colorbar": {
             "outlinewidth": 0,
             "ticks": ""
            },
            "type": "mesh3d"
           }
          ],
          "parcoords": [
           {
            "line": {
             "colorbar": {
              "outlinewidth": 0,
              "ticks": ""
             }
            },
            "type": "parcoords"
           }
          ],
          "pie": [
           {
            "automargin": true,
            "type": "pie"
           }
          ],
          "scatter": [
           {
            "fillpattern": {
             "fillmode": "overlay",
             "size": 10,
             "solidity": 0.2
            },
            "type": "scatter"
           }
          ],
          "scatter3d": [
           {
            "line": {
             "colorbar": {
              "outlinewidth": 0,
              "ticks": ""
             }
            },
            "marker": {
             "colorbar": {
              "outlinewidth": 0,
              "ticks": ""
             }
            },
            "type": "scatter3d"
           }
          ],
          "scattercarpet": [
           {
            "marker": {
             "colorbar": {
              "outlinewidth": 0,
              "ticks": ""
             }
            },
            "type": "scattercarpet"
           }
          ],
          "scattergeo": [
           {
            "marker": {
             "colorbar": {
              "outlinewidth": 0,
              "ticks": ""
             }
            },
            "type": "scattergeo"
           }
          ],
          "scattergl": [
           {
            "marker": {
             "colorbar": {
              "outlinewidth": 0,
              "ticks": ""
             }
            },
            "type": "scattergl"
           }
          ],
          "scattermapbox": [
           {
            "marker": {
             "colorbar": {
              "outlinewidth": 0,
              "ticks": ""
             }
            },
            "type": "scattermapbox"
           }
          ],
          "scatterpolar": [
           {
            "marker": {
             "colorbar": {
              "outlinewidth": 0,
              "ticks": ""
             }
            },
            "type": "scatterpolar"
           }
          ],
          "scatterpolargl": [
           {
            "marker": {
             "colorbar": {
              "outlinewidth": 0,
              "ticks": ""
             }
            },
            "type": "scatterpolargl"
           }
          ],
          "scatterternary": [
           {
            "marker": {
             "colorbar": {
              "outlinewidth": 0,
              "ticks": ""
             }
            },
            "type": "scatterternary"
           }
          ],
          "surface": [
           {
            "colorbar": {
             "outlinewidth": 0,
             "ticks": ""
            },
            "colorscale": [
             [
              0,
              "#0d0887"
             ],
             [
              0.1111111111111111,
              "#46039f"
             ],
             [
              0.2222222222222222,
              "#7201a8"
             ],
             [
              0.3333333333333333,
              "#9c179e"
             ],
             [
              0.4444444444444444,
              "#bd3786"
             ],
             [
              0.5555555555555556,
              "#d8576b"
             ],
             [
              0.6666666666666666,
              "#ed7953"
             ],
             [
              0.7777777777777778,
              "#fb9f3a"
             ],
             [
              0.8888888888888888,
              "#fdca26"
             ],
             [
              1,
              "#f0f921"
             ]
            ],
            "type": "surface"
           }
          ],
          "table": [
           {
            "cells": {
             "fill": {
              "color": "#EBF0F8"
             },
             "line": {
              "color": "white"
             }
            },
            "header": {
             "fill": {
              "color": "#C8D4E3"
             },
             "line": {
              "color": "white"
             }
            },
            "type": "table"
           }
          ]
         },
         "layout": {
          "annotationdefaults": {
           "arrowcolor": "#2a3f5f",
           "arrowhead": 0,
           "arrowwidth": 1
          },
          "autotypenumbers": "strict",
          "coloraxis": {
           "colorbar": {
            "outlinewidth": 0,
            "ticks": ""
           }
          },
          "colorscale": {
           "diverging": [
            [
             0,
             "#8e0152"
            ],
            [
             0.1,
             "#c51b7d"
            ],
            [
             0.2,
             "#de77ae"
            ],
            [
             0.3,
             "#f1b6da"
            ],
            [
             0.4,
             "#fde0ef"
            ],
            [
             0.5,
             "#f7f7f7"
            ],
            [
             0.6,
             "#e6f5d0"
            ],
            [
             0.7,
             "#b8e186"
            ],
            [
             0.8,
             "#7fbc41"
            ],
            [
             0.9,
             "#4d9221"
            ],
            [
             1,
             "#276419"
            ]
           ],
           "sequential": [
            [
             0,
             "#0d0887"
            ],
            [
             0.1111111111111111,
             "#46039f"
            ],
            [
             0.2222222222222222,
             "#7201a8"
            ],
            [
             0.3333333333333333,
             "#9c179e"
            ],
            [
             0.4444444444444444,
             "#bd3786"
            ],
            [
             0.5555555555555556,
             "#d8576b"
            ],
            [
             0.6666666666666666,
             "#ed7953"
            ],
            [
             0.7777777777777778,
             "#fb9f3a"
            ],
            [
             0.8888888888888888,
             "#fdca26"
            ],
            [
             1,
             "#f0f921"
            ]
           ],
           "sequentialminus": [
            [
             0,
             "#0d0887"
            ],
            [
             0.1111111111111111,
             "#46039f"
            ],
            [
             0.2222222222222222,
             "#7201a8"
            ],
            [
             0.3333333333333333,
             "#9c179e"
            ],
            [
             0.4444444444444444,
             "#bd3786"
            ],
            [
             0.5555555555555556,
             "#d8576b"
            ],
            [
             0.6666666666666666,
             "#ed7953"
            ],
            [
             0.7777777777777778,
             "#fb9f3a"
            ],
            [
             0.8888888888888888,
             "#fdca26"
            ],
            [
             1,
             "#f0f921"
            ]
           ]
          },
          "colorway": [
           "#636efa",
           "#EF553B",
           "#00cc96",
           "#ab63fa",
           "#FFA15A",
           "#19d3f3",
           "#FF6692",
           "#B6E880",
           "#FF97FF",
           "#FECB52"
          ],
          "font": {
           "color": "#2a3f5f"
          },
          "geo": {
           "bgcolor": "white",
           "lakecolor": "white",
           "landcolor": "#E5ECF6",
           "showlakes": true,
           "showland": true,
           "subunitcolor": "white"
          },
          "hoverlabel": {
           "align": "left"
          },
          "hovermode": "closest",
          "mapbox": {
           "style": "light"
          },
          "paper_bgcolor": "white",
          "plot_bgcolor": "#E5ECF6",
          "polar": {
           "angularaxis": {
            "gridcolor": "white",
            "linecolor": "white",
            "ticks": ""
           },
           "bgcolor": "#E5ECF6",
           "radialaxis": {
            "gridcolor": "white",
            "linecolor": "white",
            "ticks": ""
           }
          },
          "scene": {
           "xaxis": {
            "backgroundcolor": "#E5ECF6",
            "gridcolor": "white",
            "gridwidth": 2,
            "linecolor": "white",
            "showbackground": true,
            "ticks": "",
            "zerolinecolor": "white"
           },
           "yaxis": {
            "backgroundcolor": "#E5ECF6",
            "gridcolor": "white",
            "gridwidth": 2,
            "linecolor": "white",
            "showbackground": true,
            "ticks": "",
            "zerolinecolor": "white"
           },
           "zaxis": {
            "backgroundcolor": "#E5ECF6",
            "gridcolor": "white",
            "gridwidth": 2,
            "linecolor": "white",
            "showbackground": true,
            "ticks": "",
            "zerolinecolor": "white"
           }
          },
          "shapedefaults": {
           "line": {
            "color": "#2a3f5f"
           }
          },
          "ternary": {
           "aaxis": {
            "gridcolor": "white",
            "linecolor": "white",
            "ticks": ""
           },
           "baxis": {
            "gridcolor": "white",
            "linecolor": "white",
            "ticks": ""
           },
           "bgcolor": "#E5ECF6",
           "caxis": {
            "gridcolor": "white",
            "linecolor": "white",
            "ticks": ""
           }
          },
          "title": {
           "x": 0.05
          },
          "xaxis": {
           "automargin": true,
           "gridcolor": "white",
           "linecolor": "white",
           "ticks": "",
           "title": {
            "standoff": 15
           },
           "zerolinecolor": "white",
           "zerolinewidth": 2
          },
          "yaxis": {
           "automargin": true,
           "gridcolor": "white",
           "linecolor": "white",
           "ticks": "",
           "title": {
            "standoff": 15
           },
           "zerolinecolor": "white",
           "zerolinewidth": 2
          }
         }
        }
       }
      }
     },
     "metadata": {},
     "output_type": "display_data"
    },
    {
     "data": {
      "application/vnd.plotly.v1+json": {
       "config": {
        "plotlyServerURL": "https://plot.ly"
       },
       "data": [
        {
         "arrangement": "freeform",
         "link": {
          "arrowlen": 15,
          "color": [
           "rgba(119, 12, 254, 0.3)",
           "rgba(81, 71, 252, 0.3)"
          ],
          "source": [
           0,
           4
          ],
          "target": [
           4,
           2
          ],
          "value": [
           0.32493996425749033,
           0.26675523046709276
          ]
         },
         "node": {
          "color": [
           "rgba(119, 12, 254, 0.7)",
           "rgba(109, 28, 254, 0.7)",
           "rgba(101, 40, 254, 0.7)",
           "rgba(91, 56, 253, 0.7)",
           "rgba(81, 71, 252, 0.7)",
           "rgba(73, 83, 251, 0.7)",
           "rgba(63, 97, 250, 0.7)",
           "rgba(53, 112, 248, 0.7)",
           "rgba(45, 123, 246, 0.7)",
           "rgba(35, 136, 244, 0.7)",
           "rgba(25, 149, 242, 0.7)",
           "rgba(17, 159, 240, 0.7)",
           "rgba(7, 171, 237, 0.7)",
           "rgba(2, 183, 234, 0.7)",
           "rgba(10, 191, 232, 0.7)",
           "rgba(20, 201, 228, 0.7)",
           "rgba(30, 210, 225, 0.7)",
           "rgba(38, 217, 222, 0.7)",
           "rgba(48, 225, 218, 0.7)",
           "rgba(58, 232, 214, 0.7)",
           "rgba(66, 237, 210, 0.7)",
           "rgba(76, 242, 206, 0.7)",
           "rgba(86, 246, 201, 0.7)",
           "rgba(94, 249, 197, 0.7)",
           "rgba(104, 252, 192, 0.7)",
           "rgba(114, 254, 187, 0.7)",
           "rgba(122, 254, 183, 0.7)",
           "rgba(132, 254, 177, 0.7)",
           "rgba(140, 254, 172, 0.7)",
           "rgba(150, 252, 167, 0.7)",
           "rgba(160, 249, 161, 0.7)",
           "rgba(168, 246, 156, 0.7)",
           "rgba(178, 242, 149, 0.7)",
           "rgba(188, 237, 143, 0.7)",
           "rgba(196, 232, 138, 0.7)",
           "rgba(206, 225, 131, 0.7)",
           "rgba(216, 217, 124, 0.7)",
           "rgba(224, 210, 119, 0.7)",
           "rgba(234, 201, 112, 0.7)",
           "rgba(244, 191, 105, 0.7)",
           "rgba(252, 183, 99, 0.7)",
           "rgba(255, 171, 92, 0.7)",
           "rgba(255, 159, 84, 0.7)",
           "rgba(255, 149, 78, 0.7)",
           "rgba(255, 136, 71, 0.7)",
           "rgba(255, 123, 63, 0.7)",
           "rgba(255, 112, 57, 0.7)",
           "rgba(255, 97, 49, 0.7)",
           "rgba(255, 83, 42, 0.7)",
           "rgba(255, 71, 36, 0.7)",
           "rgba(255, 56, 28, 0.7)",
           "rgba(255, 40, 20, 0.7)",
           "rgba(255, 28, 14, 0.7)",
           "rgba(255, 12, 6, 0.7)"
          ],
          "label": [
           "Speaker Party",
           "general score",
           "outreach",
           "persuasiveness",
           "empathy",
           "authenticity",
           "decorum",
           "tone is professional",
           "resonance",
           "preparation",
           "logical",
           "clarity",
           "egotistical",
           "relevant",
           "contextual awareness",
           "listening skills",
           "civil discourse",
           "coherence",
           "respectfulness",
           "responsiveness",
           "pro neutral",
           "language appropriateness",
           "evasiveness",
           "adherence to rules",
           "factuality",
           "contribution",
           "manipulation",
           "completeness",
           "respect for diverse opinions",
           "sensationalism",
           "use of evidence",
           "objectivity",
           "interruptions",
           "consistency",
           "conciseness",
           "venue respect",
           "accessibility",
           "innovation",
           "relevance",
           "fair play",
           "time management",
           "speaker_num_parts",
           "bias",
           "truthfulness",
           "tone is academic",
           "num_parts",
           "content quality",
           "speaker_num_parts_ratio",
           "balance",
           "quality of sources",
           "speaker_popular_votes_ratio",
           "controversiality",
           "confidence",
           "engagement"
          ],
          "pad": 10
         },
         "type": "sankey"
        }
       ],
       "layout": {
        "template": {
         "data": {
          "bar": [
           {
            "error_x": {
             "color": "#2a3f5f"
            },
            "error_y": {
             "color": "#2a3f5f"
            },
            "marker": {
             "line": {
              "color": "#E5ECF6",
              "width": 0.5
             },
             "pattern": {
              "fillmode": "overlay",
              "size": 10,
              "solidity": 0.2
             }
            },
            "type": "bar"
           }
          ],
          "barpolar": [
           {
            "marker": {
             "line": {
              "color": "#E5ECF6",
              "width": 0.5
             },
             "pattern": {
              "fillmode": "overlay",
              "size": 10,
              "solidity": 0.2
             }
            },
            "type": "barpolar"
           }
          ],
          "carpet": [
           {
            "aaxis": {
             "endlinecolor": "#2a3f5f",
             "gridcolor": "white",
             "linecolor": "white",
             "minorgridcolor": "white",
             "startlinecolor": "#2a3f5f"
            },
            "baxis": {
             "endlinecolor": "#2a3f5f",
             "gridcolor": "white",
             "linecolor": "white",
             "minorgridcolor": "white",
             "startlinecolor": "#2a3f5f"
            },
            "type": "carpet"
           }
          ],
          "choropleth": [
           {
            "colorbar": {
             "outlinewidth": 0,
             "ticks": ""
            },
            "type": "choropleth"
           }
          ],
          "contour": [
           {
            "colorbar": {
             "outlinewidth": 0,
             "ticks": ""
            },
            "colorscale": [
             [
              0,
              "#0d0887"
             ],
             [
              0.1111111111111111,
              "#46039f"
             ],
             [
              0.2222222222222222,
              "#7201a8"
             ],
             [
              0.3333333333333333,
              "#9c179e"
             ],
             [
              0.4444444444444444,
              "#bd3786"
             ],
             [
              0.5555555555555556,
              "#d8576b"
             ],
             [
              0.6666666666666666,
              "#ed7953"
             ],
             [
              0.7777777777777778,
              "#fb9f3a"
             ],
             [
              0.8888888888888888,
              "#fdca26"
             ],
             [
              1,
              "#f0f921"
             ]
            ],
            "type": "contour"
           }
          ],
          "contourcarpet": [
           {
            "colorbar": {
             "outlinewidth": 0,
             "ticks": ""
            },
            "type": "contourcarpet"
           }
          ],
          "heatmap": [
           {
            "colorbar": {
             "outlinewidth": 0,
             "ticks": ""
            },
            "colorscale": [
             [
              0,
              "#0d0887"
             ],
             [
              0.1111111111111111,
              "#46039f"
             ],
             [
              0.2222222222222222,
              "#7201a8"
             ],
             [
              0.3333333333333333,
              "#9c179e"
             ],
             [
              0.4444444444444444,
              "#bd3786"
             ],
             [
              0.5555555555555556,
              "#d8576b"
             ],
             [
              0.6666666666666666,
              "#ed7953"
             ],
             [
              0.7777777777777778,
              "#fb9f3a"
             ],
             [
              0.8888888888888888,
              "#fdca26"
             ],
             [
              1,
              "#f0f921"
             ]
            ],
            "type": "heatmap"
           }
          ],
          "heatmapgl": [
           {
            "colorbar": {
             "outlinewidth": 0,
             "ticks": ""
            },
            "colorscale": [
             [
              0,
              "#0d0887"
             ],
             [
              0.1111111111111111,
              "#46039f"
             ],
             [
              0.2222222222222222,
              "#7201a8"
             ],
             [
              0.3333333333333333,
              "#9c179e"
             ],
             [
              0.4444444444444444,
              "#bd3786"
             ],
             [
              0.5555555555555556,
              "#d8576b"
             ],
             [
              0.6666666666666666,
              "#ed7953"
             ],
             [
              0.7777777777777778,
              "#fb9f3a"
             ],
             [
              0.8888888888888888,
              "#fdca26"
             ],
             [
              1,
              "#f0f921"
             ]
            ],
            "type": "heatmapgl"
           }
          ],
          "histogram": [
           {
            "marker": {
             "pattern": {
              "fillmode": "overlay",
              "size": 10,
              "solidity": 0.2
             }
            },
            "type": "histogram"
           }
          ],
          "histogram2d": [
           {
            "colorbar": {
             "outlinewidth": 0,
             "ticks": ""
            },
            "colorscale": [
             [
              0,
              "#0d0887"
             ],
             [
              0.1111111111111111,
              "#46039f"
             ],
             [
              0.2222222222222222,
              "#7201a8"
             ],
             [
              0.3333333333333333,
              "#9c179e"
             ],
             [
              0.4444444444444444,
              "#bd3786"
             ],
             [
              0.5555555555555556,
              "#d8576b"
             ],
             [
              0.6666666666666666,
              "#ed7953"
             ],
             [
              0.7777777777777778,
              "#fb9f3a"
             ],
             [
              0.8888888888888888,
              "#fdca26"
             ],
             [
              1,
              "#f0f921"
             ]
            ],
            "type": "histogram2d"
           }
          ],
          "histogram2dcontour": [
           {
            "colorbar": {
             "outlinewidth": 0,
             "ticks": ""
            },
            "colorscale": [
             [
              0,
              "#0d0887"
             ],
             [
              0.1111111111111111,
              "#46039f"
             ],
             [
              0.2222222222222222,
              "#7201a8"
             ],
             [
              0.3333333333333333,
              "#9c179e"
             ],
             [
              0.4444444444444444,
              "#bd3786"
             ],
             [
              0.5555555555555556,
              "#d8576b"
             ],
             [
              0.6666666666666666,
              "#ed7953"
             ],
             [
              0.7777777777777778,
              "#fb9f3a"
             ],
             [
              0.8888888888888888,
              "#fdca26"
             ],
             [
              1,
              "#f0f921"
             ]
            ],
            "type": "histogram2dcontour"
           }
          ],
          "mesh3d": [
           {
            "colorbar": {
             "outlinewidth": 0,
             "ticks": ""
            },
            "type": "mesh3d"
           }
          ],
          "parcoords": [
           {
            "line": {
             "colorbar": {
              "outlinewidth": 0,
              "ticks": ""
             }
            },
            "type": "parcoords"
           }
          ],
          "pie": [
           {
            "automargin": true,
            "type": "pie"
           }
          ],
          "scatter": [
           {
            "fillpattern": {
             "fillmode": "overlay",
             "size": 10,
             "solidity": 0.2
            },
            "type": "scatter"
           }
          ],
          "scatter3d": [
           {
            "line": {
             "colorbar": {
              "outlinewidth": 0,
              "ticks": ""
             }
            },
            "marker": {
             "colorbar": {
              "outlinewidth": 0,
              "ticks": ""
             }
            },
            "type": "scatter3d"
           }
          ],
          "scattercarpet": [
           {
            "marker": {
             "colorbar": {
              "outlinewidth": 0,
              "ticks": ""
             }
            },
            "type": "scattercarpet"
           }
          ],
          "scattergeo": [
           {
            "marker": {
             "colorbar": {
              "outlinewidth": 0,
              "ticks": ""
             }
            },
            "type": "scattergeo"
           }
          ],
          "scattergl": [
           {
            "marker": {
             "colorbar": {
              "outlinewidth": 0,
              "ticks": ""
             }
            },
            "type": "scattergl"
           }
          ],
          "scattermapbox": [
           {
            "marker": {
             "colorbar": {
              "outlinewidth": 0,
              "ticks": ""
             }
            },
            "type": "scattermapbox"
           }
          ],
          "scatterpolar": [
           {
            "marker": {
             "colorbar": {
              "outlinewidth": 0,
              "ticks": ""
             }
            },
            "type": "scatterpolar"
           }
          ],
          "scatterpolargl": [
           {
            "marker": {
             "colorbar": {
              "outlinewidth": 0,
              "ticks": ""
             }
            },
            "type": "scatterpolargl"
           }
          ],
          "scatterternary": [
           {
            "marker": {
             "colorbar": {
              "outlinewidth": 0,
              "ticks": ""
             }
            },
            "type": "scatterternary"
           }
          ],
          "surface": [
           {
            "colorbar": {
             "outlinewidth": 0,
             "ticks": ""
            },
            "colorscale": [
             [
              0,
              "#0d0887"
             ],
             [
              0.1111111111111111,
              "#46039f"
             ],
             [
              0.2222222222222222,
              "#7201a8"
             ],
             [
              0.3333333333333333,
              "#9c179e"
             ],
             [
              0.4444444444444444,
              "#bd3786"
             ],
             [
              0.5555555555555556,
              "#d8576b"
             ],
             [
              0.6666666666666666,
              "#ed7953"
             ],
             [
              0.7777777777777778,
              "#fb9f3a"
             ],
             [
              0.8888888888888888,
              "#fdca26"
             ],
             [
              1,
              "#f0f921"
             ]
            ],
            "type": "surface"
           }
          ],
          "table": [
           {
            "cells": {
             "fill": {
              "color": "#EBF0F8"
             },
             "line": {
              "color": "white"
             }
            },
            "header": {
             "fill": {
              "color": "#C8D4E3"
             },
             "line": {
              "color": "white"
             }
            },
            "type": "table"
           }
          ]
         },
         "layout": {
          "annotationdefaults": {
           "arrowcolor": "#2a3f5f",
           "arrowhead": 0,
           "arrowwidth": 1
          },
          "autotypenumbers": "strict",
          "coloraxis": {
           "colorbar": {
            "outlinewidth": 0,
            "ticks": ""
           }
          },
          "colorscale": {
           "diverging": [
            [
             0,
             "#8e0152"
            ],
            [
             0.1,
             "#c51b7d"
            ],
            [
             0.2,
             "#de77ae"
            ],
            [
             0.3,
             "#f1b6da"
            ],
            [
             0.4,
             "#fde0ef"
            ],
            [
             0.5,
             "#f7f7f7"
            ],
            [
             0.6,
             "#e6f5d0"
            ],
            [
             0.7,
             "#b8e186"
            ],
            [
             0.8,
             "#7fbc41"
            ],
            [
             0.9,
             "#4d9221"
            ],
            [
             1,
             "#276419"
            ]
           ],
           "sequential": [
            [
             0,
             "#0d0887"
            ],
            [
             0.1111111111111111,
             "#46039f"
            ],
            [
             0.2222222222222222,
             "#7201a8"
            ],
            [
             0.3333333333333333,
             "#9c179e"
            ],
            [
             0.4444444444444444,
             "#bd3786"
            ],
            [
             0.5555555555555556,
             "#d8576b"
            ],
            [
             0.6666666666666666,
             "#ed7953"
            ],
            [
             0.7777777777777778,
             "#fb9f3a"
            ],
            [
             0.8888888888888888,
             "#fdca26"
            ],
            [
             1,
             "#f0f921"
            ]
           ],
           "sequentialminus": [
            [
             0,
             "#0d0887"
            ],
            [
             0.1111111111111111,
             "#46039f"
            ],
            [
             0.2222222222222222,
             "#7201a8"
            ],
            [
             0.3333333333333333,
             "#9c179e"
            ],
            [
             0.4444444444444444,
             "#bd3786"
            ],
            [
             0.5555555555555556,
             "#d8576b"
            ],
            [
             0.6666666666666666,
             "#ed7953"
            ],
            [
             0.7777777777777778,
             "#fb9f3a"
            ],
            [
             0.8888888888888888,
             "#fdca26"
            ],
            [
             1,
             "#f0f921"
            ]
           ]
          },
          "colorway": [
           "#636efa",
           "#EF553B",
           "#00cc96",
           "#ab63fa",
           "#FFA15A",
           "#19d3f3",
           "#FF6692",
           "#B6E880",
           "#FF97FF",
           "#FECB52"
          ],
          "font": {
           "color": "#2a3f5f"
          },
          "geo": {
           "bgcolor": "white",
           "lakecolor": "white",
           "landcolor": "#E5ECF6",
           "showlakes": true,
           "showland": true,
           "subunitcolor": "white"
          },
          "hoverlabel": {
           "align": "left"
          },
          "hovermode": "closest",
          "mapbox": {
           "style": "light"
          },
          "paper_bgcolor": "white",
          "plot_bgcolor": "#E5ECF6",
          "polar": {
           "angularaxis": {
            "gridcolor": "white",
            "linecolor": "white",
            "ticks": ""
           },
           "bgcolor": "#E5ECF6",
           "radialaxis": {
            "gridcolor": "white",
            "linecolor": "white",
            "ticks": ""
           }
          },
          "scene": {
           "xaxis": {
            "backgroundcolor": "#E5ECF6",
            "gridcolor": "white",
            "gridwidth": 2,
            "linecolor": "white",
            "showbackground": true,
            "ticks": "",
            "zerolinecolor": "white"
           },
           "yaxis": {
            "backgroundcolor": "#E5ECF6",
            "gridcolor": "white",
            "gridwidth": 2,
            "linecolor": "white",
            "showbackground": true,
            "ticks": "",
            "zerolinecolor": "white"
           },
           "zaxis": {
            "backgroundcolor": "#E5ECF6",
            "gridcolor": "white",
            "gridwidth": 2,
            "linecolor": "white",
            "showbackground": true,
            "ticks": "",
            "zerolinecolor": "white"
           }
          },
          "shapedefaults": {
           "line": {
            "color": "#2a3f5f"
           }
          },
          "ternary": {
           "aaxis": {
            "gridcolor": "white",
            "linecolor": "white",
            "ticks": ""
           },
           "baxis": {
            "gridcolor": "white",
            "linecolor": "white",
            "ticks": ""
           },
           "bgcolor": "#E5ECF6",
           "caxis": {
            "gridcolor": "white",
            "linecolor": "white",
            "ticks": ""
           }
          },
          "title": {
           "x": 0.05
          },
          "xaxis": {
           "automargin": true,
           "gridcolor": "white",
           "linecolor": "white",
           "ticks": "",
           "title": {
            "standoff": 15
           },
           "zerolinecolor": "white",
           "zerolinewidth": 2
          },
          "yaxis": {
           "automargin": true,
           "gridcolor": "white",
           "linecolor": "white",
           "ticks": "",
           "title": {
            "standoff": 15
           },
           "zerolinecolor": "white",
           "zerolinewidth": 2
          }
         }
        }
       }
      }
     },
     "metadata": {},
     "output_type": "display_data"
    },
    {
     "data": {
      "application/vnd.plotly.v1+json": {
       "config": {
        "plotlyServerURL": "https://plot.ly"
       },
       "data": [
        {
         "arrangement": "freeform",
         "link": {
          "arrowlen": 15,
          "color": [
           "rgba(119, 12, 254, 0.3)",
           "rgba(81, 71, 252, 0.3)",
           "rgba(101, 40, 254, 0.3)"
          ],
          "source": [
           0,
           4,
           2
          ],
          "target": [
           4,
           2,
           6
          ],
          "value": [
           0.32493996425749033,
           0.26675523046709276,
           0.2407558958943292
          ]
         },
         "node": {
          "color": [
           "rgba(119, 12, 254, 0.7)",
           "rgba(109, 28, 254, 0.7)",
           "rgba(101, 40, 254, 0.7)",
           "rgba(91, 56, 253, 0.7)",
           "rgba(81, 71, 252, 0.7)",
           "rgba(73, 83, 251, 0.7)",
           "rgba(63, 97, 250, 0.7)",
           "rgba(53, 112, 248, 0.7)",
           "rgba(45, 123, 246, 0.7)",
           "rgba(35, 136, 244, 0.7)",
           "rgba(25, 149, 242, 0.7)",
           "rgba(17, 159, 240, 0.7)",
           "rgba(7, 171, 237, 0.7)",
           "rgba(2, 183, 234, 0.7)",
           "rgba(10, 191, 232, 0.7)",
           "rgba(20, 201, 228, 0.7)",
           "rgba(30, 210, 225, 0.7)",
           "rgba(38, 217, 222, 0.7)",
           "rgba(48, 225, 218, 0.7)",
           "rgba(58, 232, 214, 0.7)",
           "rgba(66, 237, 210, 0.7)",
           "rgba(76, 242, 206, 0.7)",
           "rgba(86, 246, 201, 0.7)",
           "rgba(94, 249, 197, 0.7)",
           "rgba(104, 252, 192, 0.7)",
           "rgba(114, 254, 187, 0.7)",
           "rgba(122, 254, 183, 0.7)",
           "rgba(132, 254, 177, 0.7)",
           "rgba(140, 254, 172, 0.7)",
           "rgba(150, 252, 167, 0.7)",
           "rgba(160, 249, 161, 0.7)",
           "rgba(168, 246, 156, 0.7)",
           "rgba(178, 242, 149, 0.7)",
           "rgba(188, 237, 143, 0.7)",
           "rgba(196, 232, 138, 0.7)",
           "rgba(206, 225, 131, 0.7)",
           "rgba(216, 217, 124, 0.7)",
           "rgba(224, 210, 119, 0.7)",
           "rgba(234, 201, 112, 0.7)",
           "rgba(244, 191, 105, 0.7)",
           "rgba(252, 183, 99, 0.7)",
           "rgba(255, 171, 92, 0.7)",
           "rgba(255, 159, 84, 0.7)",
           "rgba(255, 149, 78, 0.7)",
           "rgba(255, 136, 71, 0.7)",
           "rgba(255, 123, 63, 0.7)",
           "rgba(255, 112, 57, 0.7)",
           "rgba(255, 97, 49, 0.7)",
           "rgba(255, 83, 42, 0.7)",
           "rgba(255, 71, 36, 0.7)",
           "rgba(255, 56, 28, 0.7)",
           "rgba(255, 40, 20, 0.7)",
           "rgba(255, 28, 14, 0.7)",
           "rgba(255, 12, 6, 0.7)"
          ],
          "label": [
           "Speaker Party",
           "general score",
           "outreach",
           "persuasiveness",
           "empathy",
           "authenticity",
           "decorum",
           "tone is professional",
           "resonance",
           "preparation",
           "logical",
           "clarity",
           "egotistical",
           "relevant",
           "contextual awareness",
           "listening skills",
           "civil discourse",
           "coherence",
           "respectfulness",
           "responsiveness",
           "pro neutral",
           "language appropriateness",
           "evasiveness",
           "adherence to rules",
           "factuality",
           "contribution",
           "manipulation",
           "completeness",
           "respect for diverse opinions",
           "sensationalism",
           "use of evidence",
           "objectivity",
           "interruptions",
           "consistency",
           "conciseness",
           "venue respect",
           "accessibility",
           "innovation",
           "relevance",
           "fair play",
           "time management",
           "speaker_num_parts",
           "bias",
           "truthfulness",
           "tone is academic",
           "num_parts",
           "content quality",
           "speaker_num_parts_ratio",
           "balance",
           "quality of sources",
           "speaker_popular_votes_ratio",
           "controversiality",
           "confidence",
           "engagement"
          ],
          "pad": 10
         },
         "type": "sankey"
        }
       ],
       "layout": {
        "template": {
         "data": {
          "bar": [
           {
            "error_x": {
             "color": "#2a3f5f"
            },
            "error_y": {
             "color": "#2a3f5f"
            },
            "marker": {
             "line": {
              "color": "#E5ECF6",
              "width": 0.5
             },
             "pattern": {
              "fillmode": "overlay",
              "size": 10,
              "solidity": 0.2
             }
            },
            "type": "bar"
           }
          ],
          "barpolar": [
           {
            "marker": {
             "line": {
              "color": "#E5ECF6",
              "width": 0.5
             },
             "pattern": {
              "fillmode": "overlay",
              "size": 10,
              "solidity": 0.2
             }
            },
            "type": "barpolar"
           }
          ],
          "carpet": [
           {
            "aaxis": {
             "endlinecolor": "#2a3f5f",
             "gridcolor": "white",
             "linecolor": "white",
             "minorgridcolor": "white",
             "startlinecolor": "#2a3f5f"
            },
            "baxis": {
             "endlinecolor": "#2a3f5f",
             "gridcolor": "white",
             "linecolor": "white",
             "minorgridcolor": "white",
             "startlinecolor": "#2a3f5f"
            },
            "type": "carpet"
           }
          ],
          "choropleth": [
           {
            "colorbar": {
             "outlinewidth": 0,
             "ticks": ""
            },
            "type": "choropleth"
           }
          ],
          "contour": [
           {
            "colorbar": {
             "outlinewidth": 0,
             "ticks": ""
            },
            "colorscale": [
             [
              0,
              "#0d0887"
             ],
             [
              0.1111111111111111,
              "#46039f"
             ],
             [
              0.2222222222222222,
              "#7201a8"
             ],
             [
              0.3333333333333333,
              "#9c179e"
             ],
             [
              0.4444444444444444,
              "#bd3786"
             ],
             [
              0.5555555555555556,
              "#d8576b"
             ],
             [
              0.6666666666666666,
              "#ed7953"
             ],
             [
              0.7777777777777778,
              "#fb9f3a"
             ],
             [
              0.8888888888888888,
              "#fdca26"
             ],
             [
              1,
              "#f0f921"
             ]
            ],
            "type": "contour"
           }
          ],
          "contourcarpet": [
           {
            "colorbar": {
             "outlinewidth": 0,
             "ticks": ""
            },
            "type": "contourcarpet"
           }
          ],
          "heatmap": [
           {
            "colorbar": {
             "outlinewidth": 0,
             "ticks": ""
            },
            "colorscale": [
             [
              0,
              "#0d0887"
             ],
             [
              0.1111111111111111,
              "#46039f"
             ],
             [
              0.2222222222222222,
              "#7201a8"
             ],
             [
              0.3333333333333333,
              "#9c179e"
             ],
             [
              0.4444444444444444,
              "#bd3786"
             ],
             [
              0.5555555555555556,
              "#d8576b"
             ],
             [
              0.6666666666666666,
              "#ed7953"
             ],
             [
              0.7777777777777778,
              "#fb9f3a"
             ],
             [
              0.8888888888888888,
              "#fdca26"
             ],
             [
              1,
              "#f0f921"
             ]
            ],
            "type": "heatmap"
           }
          ],
          "heatmapgl": [
           {
            "colorbar": {
             "outlinewidth": 0,
             "ticks": ""
            },
            "colorscale": [
             [
              0,
              "#0d0887"
             ],
             [
              0.1111111111111111,
              "#46039f"
             ],
             [
              0.2222222222222222,
              "#7201a8"
             ],
             [
              0.3333333333333333,
              "#9c179e"
             ],
             [
              0.4444444444444444,
              "#bd3786"
             ],
             [
              0.5555555555555556,
              "#d8576b"
             ],
             [
              0.6666666666666666,
              "#ed7953"
             ],
             [
              0.7777777777777778,
              "#fb9f3a"
             ],
             [
              0.8888888888888888,
              "#fdca26"
             ],
             [
              1,
              "#f0f921"
             ]
            ],
            "type": "heatmapgl"
           }
          ],
          "histogram": [
           {
            "marker": {
             "pattern": {
              "fillmode": "overlay",
              "size": 10,
              "solidity": 0.2
             }
            },
            "type": "histogram"
           }
          ],
          "histogram2d": [
           {
            "colorbar": {
             "outlinewidth": 0,
             "ticks": ""
            },
            "colorscale": [
             [
              0,
              "#0d0887"
             ],
             [
              0.1111111111111111,
              "#46039f"
             ],
             [
              0.2222222222222222,
              "#7201a8"
             ],
             [
              0.3333333333333333,
              "#9c179e"
             ],
             [
              0.4444444444444444,
              "#bd3786"
             ],
             [
              0.5555555555555556,
              "#d8576b"
             ],
             [
              0.6666666666666666,
              "#ed7953"
             ],
             [
              0.7777777777777778,
              "#fb9f3a"
             ],
             [
              0.8888888888888888,
              "#fdca26"
             ],
             [
              1,
              "#f0f921"
             ]
            ],
            "type": "histogram2d"
           }
          ],
          "histogram2dcontour": [
           {
            "colorbar": {
             "outlinewidth": 0,
             "ticks": ""
            },
            "colorscale": [
             [
              0,
              "#0d0887"
             ],
             [
              0.1111111111111111,
              "#46039f"
             ],
             [
              0.2222222222222222,
              "#7201a8"
             ],
             [
              0.3333333333333333,
              "#9c179e"
             ],
             [
              0.4444444444444444,
              "#bd3786"
             ],
             [
              0.5555555555555556,
              "#d8576b"
             ],
             [
              0.6666666666666666,
              "#ed7953"
             ],
             [
              0.7777777777777778,
              "#fb9f3a"
             ],
             [
              0.8888888888888888,
              "#fdca26"
             ],
             [
              1,
              "#f0f921"
             ]
            ],
            "type": "histogram2dcontour"
           }
          ],
          "mesh3d": [
           {
            "colorbar": {
             "outlinewidth": 0,
             "ticks": ""
            },
            "type": "mesh3d"
           }
          ],
          "parcoords": [
           {
            "line": {
             "colorbar": {
              "outlinewidth": 0,
              "ticks": ""
             }
            },
            "type": "parcoords"
           }
          ],
          "pie": [
           {
            "automargin": true,
            "type": "pie"
           }
          ],
          "scatter": [
           {
            "fillpattern": {
             "fillmode": "overlay",
             "size": 10,
             "solidity": 0.2
            },
            "type": "scatter"
           }
          ],
          "scatter3d": [
           {
            "line": {
             "colorbar": {
              "outlinewidth": 0,
              "ticks": ""
             }
            },
            "marker": {
             "colorbar": {
              "outlinewidth": 0,
              "ticks": ""
             }
            },
            "type": "scatter3d"
           }
          ],
          "scattercarpet": [
           {
            "marker": {
             "colorbar": {
              "outlinewidth": 0,
              "ticks": ""
             }
            },
            "type": "scattercarpet"
           }
          ],
          "scattergeo": [
           {
            "marker": {
             "colorbar": {
              "outlinewidth": 0,
              "ticks": ""
             }
            },
            "type": "scattergeo"
           }
          ],
          "scattergl": [
           {
            "marker": {
             "colorbar": {
              "outlinewidth": 0,
              "ticks": ""
             }
            },
            "type": "scattergl"
           }
          ],
          "scattermapbox": [
           {
            "marker": {
             "colorbar": {
              "outlinewidth": 0,
              "ticks": ""
             }
            },
            "type": "scattermapbox"
           }
          ],
          "scatterpolar": [
           {
            "marker": {
             "colorbar": {
              "outlinewidth": 0,
              "ticks": ""
             }
            },
            "type": "scatterpolar"
           }
          ],
          "scatterpolargl": [
           {
            "marker": {
             "colorbar": {
              "outlinewidth": 0,
              "ticks": ""
             }
            },
            "type": "scatterpolargl"
           }
          ],
          "scatterternary": [
           {
            "marker": {
             "colorbar": {
              "outlinewidth": 0,
              "ticks": ""
             }
            },
            "type": "scatterternary"
           }
          ],
          "surface": [
           {
            "colorbar": {
             "outlinewidth": 0,
             "ticks": ""
            },
            "colorscale": [
             [
              0,
              "#0d0887"
             ],
             [
              0.1111111111111111,
              "#46039f"
             ],
             [
              0.2222222222222222,
              "#7201a8"
             ],
             [
              0.3333333333333333,
              "#9c179e"
             ],
             [
              0.4444444444444444,
              "#bd3786"
             ],
             [
              0.5555555555555556,
              "#d8576b"
             ],
             [
              0.6666666666666666,
              "#ed7953"
             ],
             [
              0.7777777777777778,
              "#fb9f3a"
             ],
             [
              0.8888888888888888,
              "#fdca26"
             ],
             [
              1,
              "#f0f921"
             ]
            ],
            "type": "surface"
           }
          ],
          "table": [
           {
            "cells": {
             "fill": {
              "color": "#EBF0F8"
             },
             "line": {
              "color": "white"
             }
            },
            "header": {
             "fill": {
              "color": "#C8D4E3"
             },
             "line": {
              "color": "white"
             }
            },
            "type": "table"
           }
          ]
         },
         "layout": {
          "annotationdefaults": {
           "arrowcolor": "#2a3f5f",
           "arrowhead": 0,
           "arrowwidth": 1
          },
          "autotypenumbers": "strict",
          "coloraxis": {
           "colorbar": {
            "outlinewidth": 0,
            "ticks": ""
           }
          },
          "colorscale": {
           "diverging": [
            [
             0,
             "#8e0152"
            ],
            [
             0.1,
             "#c51b7d"
            ],
            [
             0.2,
             "#de77ae"
            ],
            [
             0.3,
             "#f1b6da"
            ],
            [
             0.4,
             "#fde0ef"
            ],
            [
             0.5,
             "#f7f7f7"
            ],
            [
             0.6,
             "#e6f5d0"
            ],
            [
             0.7,
             "#b8e186"
            ],
            [
             0.8,
             "#7fbc41"
            ],
            [
             0.9,
             "#4d9221"
            ],
            [
             1,
             "#276419"
            ]
           ],
           "sequential": [
            [
             0,
             "#0d0887"
            ],
            [
             0.1111111111111111,
             "#46039f"
            ],
            [
             0.2222222222222222,
             "#7201a8"
            ],
            [
             0.3333333333333333,
             "#9c179e"
            ],
            [
             0.4444444444444444,
             "#bd3786"
            ],
            [
             0.5555555555555556,
             "#d8576b"
            ],
            [
             0.6666666666666666,
             "#ed7953"
            ],
            [
             0.7777777777777778,
             "#fb9f3a"
            ],
            [
             0.8888888888888888,
             "#fdca26"
            ],
            [
             1,
             "#f0f921"
            ]
           ],
           "sequentialminus": [
            [
             0,
             "#0d0887"
            ],
            [
             0.1111111111111111,
             "#46039f"
            ],
            [
             0.2222222222222222,
             "#7201a8"
            ],
            [
             0.3333333333333333,
             "#9c179e"
            ],
            [
             0.4444444444444444,
             "#bd3786"
            ],
            [
             0.5555555555555556,
             "#d8576b"
            ],
            [
             0.6666666666666666,
             "#ed7953"
            ],
            [
             0.7777777777777778,
             "#fb9f3a"
            ],
            [
             0.8888888888888888,
             "#fdca26"
            ],
            [
             1,
             "#f0f921"
            ]
           ]
          },
          "colorway": [
           "#636efa",
           "#EF553B",
           "#00cc96",
           "#ab63fa",
           "#FFA15A",
           "#19d3f3",
           "#FF6692",
           "#B6E880",
           "#FF97FF",
           "#FECB52"
          ],
          "font": {
           "color": "#2a3f5f"
          },
          "geo": {
           "bgcolor": "white",
           "lakecolor": "white",
           "landcolor": "#E5ECF6",
           "showlakes": true,
           "showland": true,
           "subunitcolor": "white"
          },
          "hoverlabel": {
           "align": "left"
          },
          "hovermode": "closest",
          "mapbox": {
           "style": "light"
          },
          "paper_bgcolor": "white",
          "plot_bgcolor": "#E5ECF6",
          "polar": {
           "angularaxis": {
            "gridcolor": "white",
            "linecolor": "white",
            "ticks": ""
           },
           "bgcolor": "#E5ECF6",
           "radialaxis": {
            "gridcolor": "white",
            "linecolor": "white",
            "ticks": ""
           }
          },
          "scene": {
           "xaxis": {
            "backgroundcolor": "#E5ECF6",
            "gridcolor": "white",
            "gridwidth": 2,
            "linecolor": "white",
            "showbackground": true,
            "ticks": "",
            "zerolinecolor": "white"
           },
           "yaxis": {
            "backgroundcolor": "#E5ECF6",
            "gridcolor": "white",
            "gridwidth": 2,
            "linecolor": "white",
            "showbackground": true,
            "ticks": "",
            "zerolinecolor": "white"
           },
           "zaxis": {
            "backgroundcolor": "#E5ECF6",
            "gridcolor": "white",
            "gridwidth": 2,
            "linecolor": "white",
            "showbackground": true,
            "ticks": "",
            "zerolinecolor": "white"
           }
          },
          "shapedefaults": {
           "line": {
            "color": "#2a3f5f"
           }
          },
          "ternary": {
           "aaxis": {
            "gridcolor": "white",
            "linecolor": "white",
            "ticks": ""
           },
           "baxis": {
            "gridcolor": "white",
            "linecolor": "white",
            "ticks": ""
           },
           "bgcolor": "#E5ECF6",
           "caxis": {
            "gridcolor": "white",
            "linecolor": "white",
            "ticks": ""
           }
          },
          "title": {
           "x": 0.05
          },
          "xaxis": {
           "automargin": true,
           "gridcolor": "white",
           "linecolor": "white",
           "ticks": "",
           "title": {
            "standoff": 15
           },
           "zerolinecolor": "white",
           "zerolinewidth": 2
          },
          "yaxis": {
           "automargin": true,
           "gridcolor": "white",
           "linecolor": "white",
           "ticks": "",
           "title": {
            "standoff": 15
           },
           "zerolinecolor": "white",
           "zerolinewidth": 2
          }
         }
        }
       }
      }
     },
     "metadata": {},
     "output_type": "display_data"
    },
    {
     "data": {
      "application/vnd.plotly.v1+json": {
       "config": {
        "plotlyServerURL": "https://plot.ly"
       },
       "data": [
        {
         "arrangement": "freeform",
         "link": {
          "arrowlen": 15,
          "color": [
           "rgba(119, 12, 254, 0.3)",
           "rgba(81, 71, 252, 0.3)",
           "rgba(63, 97, 250, 0.3)",
           "rgba(101, 40, 254, 0.3)",
           "rgba(101, 40, 254, 0.3)"
          ],
          "source": [
           0,
           4,
           6,
           2,
           2
          ],
          "target": [
           4,
           2,
           2,
           6,
           1
          ],
          "value": [
           0.32493996425749033,
           0.26675523046709276,
           0.24944682609136712,
           0.2407558958943292,
           0.22502111102624642
          ]
         },
         "node": {
          "color": [
           "rgba(119, 12, 254, 0.7)",
           "rgba(109, 28, 254, 0.7)",
           "rgba(101, 40, 254, 0.7)",
           "rgba(91, 56, 253, 0.7)",
           "rgba(81, 71, 252, 0.7)",
           "rgba(73, 83, 251, 0.7)",
           "rgba(63, 97, 250, 0.7)",
           "rgba(53, 112, 248, 0.7)",
           "rgba(45, 123, 246, 0.7)",
           "rgba(35, 136, 244, 0.7)",
           "rgba(25, 149, 242, 0.7)",
           "rgba(17, 159, 240, 0.7)",
           "rgba(7, 171, 237, 0.7)",
           "rgba(2, 183, 234, 0.7)",
           "rgba(10, 191, 232, 0.7)",
           "rgba(20, 201, 228, 0.7)",
           "rgba(30, 210, 225, 0.7)",
           "rgba(38, 217, 222, 0.7)",
           "rgba(48, 225, 218, 0.7)",
           "rgba(58, 232, 214, 0.7)",
           "rgba(66, 237, 210, 0.7)",
           "rgba(76, 242, 206, 0.7)",
           "rgba(86, 246, 201, 0.7)",
           "rgba(94, 249, 197, 0.7)",
           "rgba(104, 252, 192, 0.7)",
           "rgba(114, 254, 187, 0.7)",
           "rgba(122, 254, 183, 0.7)",
           "rgba(132, 254, 177, 0.7)",
           "rgba(140, 254, 172, 0.7)",
           "rgba(150, 252, 167, 0.7)",
           "rgba(160, 249, 161, 0.7)",
           "rgba(168, 246, 156, 0.7)",
           "rgba(178, 242, 149, 0.7)",
           "rgba(188, 237, 143, 0.7)",
           "rgba(196, 232, 138, 0.7)",
           "rgba(206, 225, 131, 0.7)",
           "rgba(216, 217, 124, 0.7)",
           "rgba(224, 210, 119, 0.7)",
           "rgba(234, 201, 112, 0.7)",
           "rgba(244, 191, 105, 0.7)",
           "rgba(252, 183, 99, 0.7)",
           "rgba(255, 171, 92, 0.7)",
           "rgba(255, 159, 84, 0.7)",
           "rgba(255, 149, 78, 0.7)",
           "rgba(255, 136, 71, 0.7)",
           "rgba(255, 123, 63, 0.7)",
           "rgba(255, 112, 57, 0.7)",
           "rgba(255, 97, 49, 0.7)",
           "rgba(255, 83, 42, 0.7)",
           "rgba(255, 71, 36, 0.7)",
           "rgba(255, 56, 28, 0.7)",
           "rgba(255, 40, 20, 0.7)",
           "rgba(255, 28, 14, 0.7)",
           "rgba(255, 12, 6, 0.7)"
          ],
          "label": [
           "Speaker Party",
           "general score",
           "outreach",
           "persuasiveness",
           "empathy",
           "authenticity",
           "decorum",
           "tone is professional",
           "resonance",
           "preparation",
           "logical",
           "clarity",
           "egotistical",
           "relevant",
           "contextual awareness",
           "listening skills",
           "civil discourse",
           "coherence",
           "respectfulness",
           "responsiveness",
           "pro neutral",
           "language appropriateness",
           "evasiveness",
           "adherence to rules",
           "factuality",
           "contribution",
           "manipulation",
           "completeness",
           "respect for diverse opinions",
           "sensationalism",
           "use of evidence",
           "objectivity",
           "interruptions",
           "consistency",
           "conciseness",
           "venue respect",
           "accessibility",
           "innovation",
           "relevance",
           "fair play",
           "time management",
           "speaker_num_parts",
           "bias",
           "truthfulness",
           "tone is academic",
           "num_parts",
           "content quality",
           "speaker_num_parts_ratio",
           "balance",
           "quality of sources",
           "speaker_popular_votes_ratio",
           "controversiality",
           "confidence",
           "engagement"
          ],
          "pad": 10
         },
         "type": "sankey"
        }
       ],
       "layout": {
        "template": {
         "data": {
          "bar": [
           {
            "error_x": {
             "color": "#2a3f5f"
            },
            "error_y": {
             "color": "#2a3f5f"
            },
            "marker": {
             "line": {
              "color": "#E5ECF6",
              "width": 0.5
             },
             "pattern": {
              "fillmode": "overlay",
              "size": 10,
              "solidity": 0.2
             }
            },
            "type": "bar"
           }
          ],
          "barpolar": [
           {
            "marker": {
             "line": {
              "color": "#E5ECF6",
              "width": 0.5
             },
             "pattern": {
              "fillmode": "overlay",
              "size": 10,
              "solidity": 0.2
             }
            },
            "type": "barpolar"
           }
          ],
          "carpet": [
           {
            "aaxis": {
             "endlinecolor": "#2a3f5f",
             "gridcolor": "white",
             "linecolor": "white",
             "minorgridcolor": "white",
             "startlinecolor": "#2a3f5f"
            },
            "baxis": {
             "endlinecolor": "#2a3f5f",
             "gridcolor": "white",
             "linecolor": "white",
             "minorgridcolor": "white",
             "startlinecolor": "#2a3f5f"
            },
            "type": "carpet"
           }
          ],
          "choropleth": [
           {
            "colorbar": {
             "outlinewidth": 0,
             "ticks": ""
            },
            "type": "choropleth"
           }
          ],
          "contour": [
           {
            "colorbar": {
             "outlinewidth": 0,
             "ticks": ""
            },
            "colorscale": [
             [
              0,
              "#0d0887"
             ],
             [
              0.1111111111111111,
              "#46039f"
             ],
             [
              0.2222222222222222,
              "#7201a8"
             ],
             [
              0.3333333333333333,
              "#9c179e"
             ],
             [
              0.4444444444444444,
              "#bd3786"
             ],
             [
              0.5555555555555556,
              "#d8576b"
             ],
             [
              0.6666666666666666,
              "#ed7953"
             ],
             [
              0.7777777777777778,
              "#fb9f3a"
             ],
             [
              0.8888888888888888,
              "#fdca26"
             ],
             [
              1,
              "#f0f921"
             ]
            ],
            "type": "contour"
           }
          ],
          "contourcarpet": [
           {
            "colorbar": {
             "outlinewidth": 0,
             "ticks": ""
            },
            "type": "contourcarpet"
           }
          ],
          "heatmap": [
           {
            "colorbar": {
             "outlinewidth": 0,
             "ticks": ""
            },
            "colorscale": [
             [
              0,
              "#0d0887"
             ],
             [
              0.1111111111111111,
              "#46039f"
             ],
             [
              0.2222222222222222,
              "#7201a8"
             ],
             [
              0.3333333333333333,
              "#9c179e"
             ],
             [
              0.4444444444444444,
              "#bd3786"
             ],
             [
              0.5555555555555556,
              "#d8576b"
             ],
             [
              0.6666666666666666,
              "#ed7953"
             ],
             [
              0.7777777777777778,
              "#fb9f3a"
             ],
             [
              0.8888888888888888,
              "#fdca26"
             ],
             [
              1,
              "#f0f921"
             ]
            ],
            "type": "heatmap"
           }
          ],
          "heatmapgl": [
           {
            "colorbar": {
             "outlinewidth": 0,
             "ticks": ""
            },
            "colorscale": [
             [
              0,
              "#0d0887"
             ],
             [
              0.1111111111111111,
              "#46039f"
             ],
             [
              0.2222222222222222,
              "#7201a8"
             ],
             [
              0.3333333333333333,
              "#9c179e"
             ],
             [
              0.4444444444444444,
              "#bd3786"
             ],
             [
              0.5555555555555556,
              "#d8576b"
             ],
             [
              0.6666666666666666,
              "#ed7953"
             ],
             [
              0.7777777777777778,
              "#fb9f3a"
             ],
             [
              0.8888888888888888,
              "#fdca26"
             ],
             [
              1,
              "#f0f921"
             ]
            ],
            "type": "heatmapgl"
           }
          ],
          "histogram": [
           {
            "marker": {
             "pattern": {
              "fillmode": "overlay",
              "size": 10,
              "solidity": 0.2
             }
            },
            "type": "histogram"
           }
          ],
          "histogram2d": [
           {
            "colorbar": {
             "outlinewidth": 0,
             "ticks": ""
            },
            "colorscale": [
             [
              0,
              "#0d0887"
             ],
             [
              0.1111111111111111,
              "#46039f"
             ],
             [
              0.2222222222222222,
              "#7201a8"
             ],
             [
              0.3333333333333333,
              "#9c179e"
             ],
             [
              0.4444444444444444,
              "#bd3786"
             ],
             [
              0.5555555555555556,
              "#d8576b"
             ],
             [
              0.6666666666666666,
              "#ed7953"
             ],
             [
              0.7777777777777778,
              "#fb9f3a"
             ],
             [
              0.8888888888888888,
              "#fdca26"
             ],
             [
              1,
              "#f0f921"
             ]
            ],
            "type": "histogram2d"
           }
          ],
          "histogram2dcontour": [
           {
            "colorbar": {
             "outlinewidth": 0,
             "ticks": ""
            },
            "colorscale": [
             [
              0,
              "#0d0887"
             ],
             [
              0.1111111111111111,
              "#46039f"
             ],
             [
              0.2222222222222222,
              "#7201a8"
             ],
             [
              0.3333333333333333,
              "#9c179e"
             ],
             [
              0.4444444444444444,
              "#bd3786"
             ],
             [
              0.5555555555555556,
              "#d8576b"
             ],
             [
              0.6666666666666666,
              "#ed7953"
             ],
             [
              0.7777777777777778,
              "#fb9f3a"
             ],
             [
              0.8888888888888888,
              "#fdca26"
             ],
             [
              1,
              "#f0f921"
             ]
            ],
            "type": "histogram2dcontour"
           }
          ],
          "mesh3d": [
           {
            "colorbar": {
             "outlinewidth": 0,
             "ticks": ""
            },
            "type": "mesh3d"
           }
          ],
          "parcoords": [
           {
            "line": {
             "colorbar": {
              "outlinewidth": 0,
              "ticks": ""
             }
            },
            "type": "parcoords"
           }
          ],
          "pie": [
           {
            "automargin": true,
            "type": "pie"
           }
          ],
          "scatter": [
           {
            "fillpattern": {
             "fillmode": "overlay",
             "size": 10,
             "solidity": 0.2
            },
            "type": "scatter"
           }
          ],
          "scatter3d": [
           {
            "line": {
             "colorbar": {
              "outlinewidth": 0,
              "ticks": ""
             }
            },
            "marker": {
             "colorbar": {
              "outlinewidth": 0,
              "ticks": ""
             }
            },
            "type": "scatter3d"
           }
          ],
          "scattercarpet": [
           {
            "marker": {
             "colorbar": {
              "outlinewidth": 0,
              "ticks": ""
             }
            },
            "type": "scattercarpet"
           }
          ],
          "scattergeo": [
           {
            "marker": {
             "colorbar": {
              "outlinewidth": 0,
              "ticks": ""
             }
            },
            "type": "scattergeo"
           }
          ],
          "scattergl": [
           {
            "marker": {
             "colorbar": {
              "outlinewidth": 0,
              "ticks": ""
             }
            },
            "type": "scattergl"
           }
          ],
          "scattermapbox": [
           {
            "marker": {
             "colorbar": {
              "outlinewidth": 0,
              "ticks": ""
             }
            },
            "type": "scattermapbox"
           }
          ],
          "scatterpolar": [
           {
            "marker": {
             "colorbar": {
              "outlinewidth": 0,
              "ticks": ""
             }
            },
            "type": "scatterpolar"
           }
          ],
          "scatterpolargl": [
           {
            "marker": {
             "colorbar": {
              "outlinewidth": 0,
              "ticks": ""
             }
            },
            "type": "scatterpolargl"
           }
          ],
          "scatterternary": [
           {
            "marker": {
             "colorbar": {
              "outlinewidth": 0,
              "ticks": ""
             }
            },
            "type": "scatterternary"
           }
          ],
          "surface": [
           {
            "colorbar": {
             "outlinewidth": 0,
             "ticks": ""
            },
            "colorscale": [
             [
              0,
              "#0d0887"
             ],
             [
              0.1111111111111111,
              "#46039f"
             ],
             [
              0.2222222222222222,
              "#7201a8"
             ],
             [
              0.3333333333333333,
              "#9c179e"
             ],
             [
              0.4444444444444444,
              "#bd3786"
             ],
             [
              0.5555555555555556,
              "#d8576b"
             ],
             [
              0.6666666666666666,
              "#ed7953"
             ],
             [
              0.7777777777777778,
              "#fb9f3a"
             ],
             [
              0.8888888888888888,
              "#fdca26"
             ],
             [
              1,
              "#f0f921"
             ]
            ],
            "type": "surface"
           }
          ],
          "table": [
           {
            "cells": {
             "fill": {
              "color": "#EBF0F8"
             },
             "line": {
              "color": "white"
             }
            },
            "header": {
             "fill": {
              "color": "#C8D4E3"
             },
             "line": {
              "color": "white"
             }
            },
            "type": "table"
           }
          ]
         },
         "layout": {
          "annotationdefaults": {
           "arrowcolor": "#2a3f5f",
           "arrowhead": 0,
           "arrowwidth": 1
          },
          "autotypenumbers": "strict",
          "coloraxis": {
           "colorbar": {
            "outlinewidth": 0,
            "ticks": ""
           }
          },
          "colorscale": {
           "diverging": [
            [
             0,
             "#8e0152"
            ],
            [
             0.1,
             "#c51b7d"
            ],
            [
             0.2,
             "#de77ae"
            ],
            [
             0.3,
             "#f1b6da"
            ],
            [
             0.4,
             "#fde0ef"
            ],
            [
             0.5,
             "#f7f7f7"
            ],
            [
             0.6,
             "#e6f5d0"
            ],
            [
             0.7,
             "#b8e186"
            ],
            [
             0.8,
             "#7fbc41"
            ],
            [
             0.9,
             "#4d9221"
            ],
            [
             1,
             "#276419"
            ]
           ],
           "sequential": [
            [
             0,
             "#0d0887"
            ],
            [
             0.1111111111111111,
             "#46039f"
            ],
            [
             0.2222222222222222,
             "#7201a8"
            ],
            [
             0.3333333333333333,
             "#9c179e"
            ],
            [
             0.4444444444444444,
             "#bd3786"
            ],
            [
             0.5555555555555556,
             "#d8576b"
            ],
            [
             0.6666666666666666,
             "#ed7953"
            ],
            [
             0.7777777777777778,
             "#fb9f3a"
            ],
            [
             0.8888888888888888,
             "#fdca26"
            ],
            [
             1,
             "#f0f921"
            ]
           ],
           "sequentialminus": [
            [
             0,
             "#0d0887"
            ],
            [
             0.1111111111111111,
             "#46039f"
            ],
            [
             0.2222222222222222,
             "#7201a8"
            ],
            [
             0.3333333333333333,
             "#9c179e"
            ],
            [
             0.4444444444444444,
             "#bd3786"
            ],
            [
             0.5555555555555556,
             "#d8576b"
            ],
            [
             0.6666666666666666,
             "#ed7953"
            ],
            [
             0.7777777777777778,
             "#fb9f3a"
            ],
            [
             0.8888888888888888,
             "#fdca26"
            ],
            [
             1,
             "#f0f921"
            ]
           ]
          },
          "colorway": [
           "#636efa",
           "#EF553B",
           "#00cc96",
           "#ab63fa",
           "#FFA15A",
           "#19d3f3",
           "#FF6692",
           "#B6E880",
           "#FF97FF",
           "#FECB52"
          ],
          "font": {
           "color": "#2a3f5f"
          },
          "geo": {
           "bgcolor": "white",
           "lakecolor": "white",
           "landcolor": "#E5ECF6",
           "showlakes": true,
           "showland": true,
           "subunitcolor": "white"
          },
          "hoverlabel": {
           "align": "left"
          },
          "hovermode": "closest",
          "mapbox": {
           "style": "light"
          },
          "paper_bgcolor": "white",
          "plot_bgcolor": "#E5ECF6",
          "polar": {
           "angularaxis": {
            "gridcolor": "white",
            "linecolor": "white",
            "ticks": ""
           },
           "bgcolor": "#E5ECF6",
           "radialaxis": {
            "gridcolor": "white",
            "linecolor": "white",
            "ticks": ""
           }
          },
          "scene": {
           "xaxis": {
            "backgroundcolor": "#E5ECF6",
            "gridcolor": "white",
            "gridwidth": 2,
            "linecolor": "white",
            "showbackground": true,
            "ticks": "",
            "zerolinecolor": "white"
           },
           "yaxis": {
            "backgroundcolor": "#E5ECF6",
            "gridcolor": "white",
            "gridwidth": 2,
            "linecolor": "white",
            "showbackground": true,
            "ticks": "",
            "zerolinecolor": "white"
           },
           "zaxis": {
            "backgroundcolor": "#E5ECF6",
            "gridcolor": "white",
            "gridwidth": 2,
            "linecolor": "white",
            "showbackground": true,
            "ticks": "",
            "zerolinecolor": "white"
           }
          },
          "shapedefaults": {
           "line": {
            "color": "#2a3f5f"
           }
          },
          "ternary": {
           "aaxis": {
            "gridcolor": "white",
            "linecolor": "white",
            "ticks": ""
           },
           "baxis": {
            "gridcolor": "white",
            "linecolor": "white",
            "ticks": ""
           },
           "bgcolor": "#E5ECF6",
           "caxis": {
            "gridcolor": "white",
            "linecolor": "white",
            "ticks": ""
           }
          },
          "title": {
           "x": 0.05
          },
          "xaxis": {
           "automargin": true,
           "gridcolor": "white",
           "linecolor": "white",
           "ticks": "",
           "title": {
            "standoff": 15
           },
           "zerolinecolor": "white",
           "zerolinewidth": 2
          },
          "yaxis": {
           "automargin": true,
           "gridcolor": "white",
           "linecolor": "white",
           "ticks": "",
           "title": {
            "standoff": 15
           },
           "zerolinecolor": "white",
           "zerolinewidth": 2
          }
         }
        }
       }
      }
     },
     "metadata": {},
     "output_type": "display_data"
    },
    {
     "data": {
      "application/vnd.plotly.v1+json": {
       "config": {
        "plotlyServerURL": "https://plot.ly"
       },
       "data": [
        {
         "arrangement": "freeform",
         "link": {
          "arrowlen": 15,
          "color": [
           "rgba(119, 12, 254, 0.3)",
           "rgba(109, 28, 254, 0.3)",
           "rgba(81, 71, 252, 0.3)",
           "rgba(109, 28, 254, 0.3)",
           "rgba(63, 97, 250, 0.3)",
           "rgba(101, 40, 254, 0.3)",
           "rgba(101, 40, 254, 0.3)"
          ],
          "source": [
           0,
           1,
           4,
           1,
           6,
           2,
           2
          ],
          "target": [
           4,
           2,
           2,
           6,
           2,
           6,
           1
          ],
          "value": [
           0.32493996425749033,
           0.30794096839223006,
           0.26675523046709276,
           0.25505577727238077,
           0.24944682609136712,
           0.2407558958943292,
           0.22502111102624642
          ]
         },
         "node": {
          "color": [
           "rgba(119, 12, 254, 0.7)",
           "rgba(109, 28, 254, 0.7)",
           "rgba(101, 40, 254, 0.7)",
           "rgba(91, 56, 253, 0.7)",
           "rgba(81, 71, 252, 0.7)",
           "rgba(73, 83, 251, 0.7)",
           "rgba(63, 97, 250, 0.7)",
           "rgba(53, 112, 248, 0.7)",
           "rgba(45, 123, 246, 0.7)",
           "rgba(35, 136, 244, 0.7)",
           "rgba(25, 149, 242, 0.7)",
           "rgba(17, 159, 240, 0.7)",
           "rgba(7, 171, 237, 0.7)",
           "rgba(2, 183, 234, 0.7)",
           "rgba(10, 191, 232, 0.7)",
           "rgba(20, 201, 228, 0.7)",
           "rgba(30, 210, 225, 0.7)",
           "rgba(38, 217, 222, 0.7)",
           "rgba(48, 225, 218, 0.7)",
           "rgba(58, 232, 214, 0.7)",
           "rgba(66, 237, 210, 0.7)",
           "rgba(76, 242, 206, 0.7)",
           "rgba(86, 246, 201, 0.7)",
           "rgba(94, 249, 197, 0.7)",
           "rgba(104, 252, 192, 0.7)",
           "rgba(114, 254, 187, 0.7)",
           "rgba(122, 254, 183, 0.7)",
           "rgba(132, 254, 177, 0.7)",
           "rgba(140, 254, 172, 0.7)",
           "rgba(150, 252, 167, 0.7)",
           "rgba(160, 249, 161, 0.7)",
           "rgba(168, 246, 156, 0.7)",
           "rgba(178, 242, 149, 0.7)",
           "rgba(188, 237, 143, 0.7)",
           "rgba(196, 232, 138, 0.7)",
           "rgba(206, 225, 131, 0.7)",
           "rgba(216, 217, 124, 0.7)",
           "rgba(224, 210, 119, 0.7)",
           "rgba(234, 201, 112, 0.7)",
           "rgba(244, 191, 105, 0.7)",
           "rgba(252, 183, 99, 0.7)",
           "rgba(255, 171, 92, 0.7)",
           "rgba(255, 159, 84, 0.7)",
           "rgba(255, 149, 78, 0.7)",
           "rgba(255, 136, 71, 0.7)",
           "rgba(255, 123, 63, 0.7)",
           "rgba(255, 112, 57, 0.7)",
           "rgba(255, 97, 49, 0.7)",
           "rgba(255, 83, 42, 0.7)",
           "rgba(255, 71, 36, 0.7)",
           "rgba(255, 56, 28, 0.7)",
           "rgba(255, 40, 20, 0.7)",
           "rgba(255, 28, 14, 0.7)",
           "rgba(255, 12, 6, 0.7)"
          ],
          "label": [
           "Speaker Party",
           "general score",
           "outreach",
           "persuasiveness",
           "empathy",
           "authenticity",
           "decorum",
           "tone is professional",
           "resonance",
           "preparation",
           "logical",
           "clarity",
           "egotistical",
           "relevant",
           "contextual awareness",
           "listening skills",
           "civil discourse",
           "coherence",
           "respectfulness",
           "responsiveness",
           "pro neutral",
           "language appropriateness",
           "evasiveness",
           "adherence to rules",
           "factuality",
           "contribution",
           "manipulation",
           "completeness",
           "respect for diverse opinions",
           "sensationalism",
           "use of evidence",
           "objectivity",
           "interruptions",
           "consistency",
           "conciseness",
           "venue respect",
           "accessibility",
           "innovation",
           "relevance",
           "fair play",
           "time management",
           "speaker_num_parts",
           "bias",
           "truthfulness",
           "tone is academic",
           "num_parts",
           "content quality",
           "speaker_num_parts_ratio",
           "balance",
           "quality of sources",
           "speaker_popular_votes_ratio",
           "controversiality",
           "confidence",
           "engagement"
          ],
          "pad": 10
         },
         "type": "sankey"
        }
       ],
       "layout": {
        "template": {
         "data": {
          "bar": [
           {
            "error_x": {
             "color": "#2a3f5f"
            },
            "error_y": {
             "color": "#2a3f5f"
            },
            "marker": {
             "line": {
              "color": "#E5ECF6",
              "width": 0.5
             },
             "pattern": {
              "fillmode": "overlay",
              "size": 10,
              "solidity": 0.2
             }
            },
            "type": "bar"
           }
          ],
          "barpolar": [
           {
            "marker": {
             "line": {
              "color": "#E5ECF6",
              "width": 0.5
             },
             "pattern": {
              "fillmode": "overlay",
              "size": 10,
              "solidity": 0.2
             }
            },
            "type": "barpolar"
           }
          ],
          "carpet": [
           {
            "aaxis": {
             "endlinecolor": "#2a3f5f",
             "gridcolor": "white",
             "linecolor": "white",
             "minorgridcolor": "white",
             "startlinecolor": "#2a3f5f"
            },
            "baxis": {
             "endlinecolor": "#2a3f5f",
             "gridcolor": "white",
             "linecolor": "white",
             "minorgridcolor": "white",
             "startlinecolor": "#2a3f5f"
            },
            "type": "carpet"
           }
          ],
          "choropleth": [
           {
            "colorbar": {
             "outlinewidth": 0,
             "ticks": ""
            },
            "type": "choropleth"
           }
          ],
          "contour": [
           {
            "colorbar": {
             "outlinewidth": 0,
             "ticks": ""
            },
            "colorscale": [
             [
              0,
              "#0d0887"
             ],
             [
              0.1111111111111111,
              "#46039f"
             ],
             [
              0.2222222222222222,
              "#7201a8"
             ],
             [
              0.3333333333333333,
              "#9c179e"
             ],
             [
              0.4444444444444444,
              "#bd3786"
             ],
             [
              0.5555555555555556,
              "#d8576b"
             ],
             [
              0.6666666666666666,
              "#ed7953"
             ],
             [
              0.7777777777777778,
              "#fb9f3a"
             ],
             [
              0.8888888888888888,
              "#fdca26"
             ],
             [
              1,
              "#f0f921"
             ]
            ],
            "type": "contour"
           }
          ],
          "contourcarpet": [
           {
            "colorbar": {
             "outlinewidth": 0,
             "ticks": ""
            },
            "type": "contourcarpet"
           }
          ],
          "heatmap": [
           {
            "colorbar": {
             "outlinewidth": 0,
             "ticks": ""
            },
            "colorscale": [
             [
              0,
              "#0d0887"
             ],
             [
              0.1111111111111111,
              "#46039f"
             ],
             [
              0.2222222222222222,
              "#7201a8"
             ],
             [
              0.3333333333333333,
              "#9c179e"
             ],
             [
              0.4444444444444444,
              "#bd3786"
             ],
             [
              0.5555555555555556,
              "#d8576b"
             ],
             [
              0.6666666666666666,
              "#ed7953"
             ],
             [
              0.7777777777777778,
              "#fb9f3a"
             ],
             [
              0.8888888888888888,
              "#fdca26"
             ],
             [
              1,
              "#f0f921"
             ]
            ],
            "type": "heatmap"
           }
          ],
          "heatmapgl": [
           {
            "colorbar": {
             "outlinewidth": 0,
             "ticks": ""
            },
            "colorscale": [
             [
              0,
              "#0d0887"
             ],
             [
              0.1111111111111111,
              "#46039f"
             ],
             [
              0.2222222222222222,
              "#7201a8"
             ],
             [
              0.3333333333333333,
              "#9c179e"
             ],
             [
              0.4444444444444444,
              "#bd3786"
             ],
             [
              0.5555555555555556,
              "#d8576b"
             ],
             [
              0.6666666666666666,
              "#ed7953"
             ],
             [
              0.7777777777777778,
              "#fb9f3a"
             ],
             [
              0.8888888888888888,
              "#fdca26"
             ],
             [
              1,
              "#f0f921"
             ]
            ],
            "type": "heatmapgl"
           }
          ],
          "histogram": [
           {
            "marker": {
             "pattern": {
              "fillmode": "overlay",
              "size": 10,
              "solidity": 0.2
             }
            },
            "type": "histogram"
           }
          ],
          "histogram2d": [
           {
            "colorbar": {
             "outlinewidth": 0,
             "ticks": ""
            },
            "colorscale": [
             [
              0,
              "#0d0887"
             ],
             [
              0.1111111111111111,
              "#46039f"
             ],
             [
              0.2222222222222222,
              "#7201a8"
             ],
             [
              0.3333333333333333,
              "#9c179e"
             ],
             [
              0.4444444444444444,
              "#bd3786"
             ],
             [
              0.5555555555555556,
              "#d8576b"
             ],
             [
              0.6666666666666666,
              "#ed7953"
             ],
             [
              0.7777777777777778,
              "#fb9f3a"
             ],
             [
              0.8888888888888888,
              "#fdca26"
             ],
             [
              1,
              "#f0f921"
             ]
            ],
            "type": "histogram2d"
           }
          ],
          "histogram2dcontour": [
           {
            "colorbar": {
             "outlinewidth": 0,
             "ticks": ""
            },
            "colorscale": [
             [
              0,
              "#0d0887"
             ],
             [
              0.1111111111111111,
              "#46039f"
             ],
             [
              0.2222222222222222,
              "#7201a8"
             ],
             [
              0.3333333333333333,
              "#9c179e"
             ],
             [
              0.4444444444444444,
              "#bd3786"
             ],
             [
              0.5555555555555556,
              "#d8576b"
             ],
             [
              0.6666666666666666,
              "#ed7953"
             ],
             [
              0.7777777777777778,
              "#fb9f3a"
             ],
             [
              0.8888888888888888,
              "#fdca26"
             ],
             [
              1,
              "#f0f921"
             ]
            ],
            "type": "histogram2dcontour"
           }
          ],
          "mesh3d": [
           {
            "colorbar": {
             "outlinewidth": 0,
             "ticks": ""
            },
            "type": "mesh3d"
           }
          ],
          "parcoords": [
           {
            "line": {
             "colorbar": {
              "outlinewidth": 0,
              "ticks": ""
             }
            },
            "type": "parcoords"
           }
          ],
          "pie": [
           {
            "automargin": true,
            "type": "pie"
           }
          ],
          "scatter": [
           {
            "fillpattern": {
             "fillmode": "overlay",
             "size": 10,
             "solidity": 0.2
            },
            "type": "scatter"
           }
          ],
          "scatter3d": [
           {
            "line": {
             "colorbar": {
              "outlinewidth": 0,
              "ticks": ""
             }
            },
            "marker": {
             "colorbar": {
              "outlinewidth": 0,
              "ticks": ""
             }
            },
            "type": "scatter3d"
           }
          ],
          "scattercarpet": [
           {
            "marker": {
             "colorbar": {
              "outlinewidth": 0,
              "ticks": ""
             }
            },
            "type": "scattercarpet"
           }
          ],
          "scattergeo": [
           {
            "marker": {
             "colorbar": {
              "outlinewidth": 0,
              "ticks": ""
             }
            },
            "type": "scattergeo"
           }
          ],
          "scattergl": [
           {
            "marker": {
             "colorbar": {
              "outlinewidth": 0,
              "ticks": ""
             }
            },
            "type": "scattergl"
           }
          ],
          "scattermapbox": [
           {
            "marker": {
             "colorbar": {
              "outlinewidth": 0,
              "ticks": ""
             }
            },
            "type": "scattermapbox"
           }
          ],
          "scatterpolar": [
           {
            "marker": {
             "colorbar": {
              "outlinewidth": 0,
              "ticks": ""
             }
            },
            "type": "scatterpolar"
           }
          ],
          "scatterpolargl": [
           {
            "marker": {
             "colorbar": {
              "outlinewidth": 0,
              "ticks": ""
             }
            },
            "type": "scatterpolargl"
           }
          ],
          "scatterternary": [
           {
            "marker": {
             "colorbar": {
              "outlinewidth": 0,
              "ticks": ""
             }
            },
            "type": "scatterternary"
           }
          ],
          "surface": [
           {
            "colorbar": {
             "outlinewidth": 0,
             "ticks": ""
            },
            "colorscale": [
             [
              0,
              "#0d0887"
             ],
             [
              0.1111111111111111,
              "#46039f"
             ],
             [
              0.2222222222222222,
              "#7201a8"
             ],
             [
              0.3333333333333333,
              "#9c179e"
             ],
             [
              0.4444444444444444,
              "#bd3786"
             ],
             [
              0.5555555555555556,
              "#d8576b"
             ],
             [
              0.6666666666666666,
              "#ed7953"
             ],
             [
              0.7777777777777778,
              "#fb9f3a"
             ],
             [
              0.8888888888888888,
              "#fdca26"
             ],
             [
              1,
              "#f0f921"
             ]
            ],
            "type": "surface"
           }
          ],
          "table": [
           {
            "cells": {
             "fill": {
              "color": "#EBF0F8"
             },
             "line": {
              "color": "white"
             }
            },
            "header": {
             "fill": {
              "color": "#C8D4E3"
             },
             "line": {
              "color": "white"
             }
            },
            "type": "table"
           }
          ]
         },
         "layout": {
          "annotationdefaults": {
           "arrowcolor": "#2a3f5f",
           "arrowhead": 0,
           "arrowwidth": 1
          },
          "autotypenumbers": "strict",
          "coloraxis": {
           "colorbar": {
            "outlinewidth": 0,
            "ticks": ""
           }
          },
          "colorscale": {
           "diverging": [
            [
             0,
             "#8e0152"
            ],
            [
             0.1,
             "#c51b7d"
            ],
            [
             0.2,
             "#de77ae"
            ],
            [
             0.3,
             "#f1b6da"
            ],
            [
             0.4,
             "#fde0ef"
            ],
            [
             0.5,
             "#f7f7f7"
            ],
            [
             0.6,
             "#e6f5d0"
            ],
            [
             0.7,
             "#b8e186"
            ],
            [
             0.8,
             "#7fbc41"
            ],
            [
             0.9,
             "#4d9221"
            ],
            [
             1,
             "#276419"
            ]
           ],
           "sequential": [
            [
             0,
             "#0d0887"
            ],
            [
             0.1111111111111111,
             "#46039f"
            ],
            [
             0.2222222222222222,
             "#7201a8"
            ],
            [
             0.3333333333333333,
             "#9c179e"
            ],
            [
             0.4444444444444444,
             "#bd3786"
            ],
            [
             0.5555555555555556,
             "#d8576b"
            ],
            [
             0.6666666666666666,
             "#ed7953"
            ],
            [
             0.7777777777777778,
             "#fb9f3a"
            ],
            [
             0.8888888888888888,
             "#fdca26"
            ],
            [
             1,
             "#f0f921"
            ]
           ],
           "sequentialminus": [
            [
             0,
             "#0d0887"
            ],
            [
             0.1111111111111111,
             "#46039f"
            ],
            [
             0.2222222222222222,
             "#7201a8"
            ],
            [
             0.3333333333333333,
             "#9c179e"
            ],
            [
             0.4444444444444444,
             "#bd3786"
            ],
            [
             0.5555555555555556,
             "#d8576b"
            ],
            [
             0.6666666666666666,
             "#ed7953"
            ],
            [
             0.7777777777777778,
             "#fb9f3a"
            ],
            [
             0.8888888888888888,
             "#fdca26"
            ],
            [
             1,
             "#f0f921"
            ]
           ]
          },
          "colorway": [
           "#636efa",
           "#EF553B",
           "#00cc96",
           "#ab63fa",
           "#FFA15A",
           "#19d3f3",
           "#FF6692",
           "#B6E880",
           "#FF97FF",
           "#FECB52"
          ],
          "font": {
           "color": "#2a3f5f"
          },
          "geo": {
           "bgcolor": "white",
           "lakecolor": "white",
           "landcolor": "#E5ECF6",
           "showlakes": true,
           "showland": true,
           "subunitcolor": "white"
          },
          "hoverlabel": {
           "align": "left"
          },
          "hovermode": "closest",
          "mapbox": {
           "style": "light"
          },
          "paper_bgcolor": "white",
          "plot_bgcolor": "#E5ECF6",
          "polar": {
           "angularaxis": {
            "gridcolor": "white",
            "linecolor": "white",
            "ticks": ""
           },
           "bgcolor": "#E5ECF6",
           "radialaxis": {
            "gridcolor": "white",
            "linecolor": "white",
            "ticks": ""
           }
          },
          "scene": {
           "xaxis": {
            "backgroundcolor": "#E5ECF6",
            "gridcolor": "white",
            "gridwidth": 2,
            "linecolor": "white",
            "showbackground": true,
            "ticks": "",
            "zerolinecolor": "white"
           },
           "yaxis": {
            "backgroundcolor": "#E5ECF6",
            "gridcolor": "white",
            "gridwidth": 2,
            "linecolor": "white",
            "showbackground": true,
            "ticks": "",
            "zerolinecolor": "white"
           },
           "zaxis": {
            "backgroundcolor": "#E5ECF6",
            "gridcolor": "white",
            "gridwidth": 2,
            "linecolor": "white",
            "showbackground": true,
            "ticks": "",
            "zerolinecolor": "white"
           }
          },
          "shapedefaults": {
           "line": {
            "color": "#2a3f5f"
           }
          },
          "ternary": {
           "aaxis": {
            "gridcolor": "white",
            "linecolor": "white",
            "ticks": ""
           },
           "baxis": {
            "gridcolor": "white",
            "linecolor": "white",
            "ticks": ""
           },
           "bgcolor": "#E5ECF6",
           "caxis": {
            "gridcolor": "white",
            "linecolor": "white",
            "ticks": ""
           }
          },
          "title": {
           "x": 0.05
          },
          "xaxis": {
           "automargin": true,
           "gridcolor": "white",
           "linecolor": "white",
           "ticks": "",
           "title": {
            "standoff": 15
           },
           "zerolinecolor": "white",
           "zerolinewidth": 2
          },
          "yaxis": {
           "automargin": true,
           "gridcolor": "white",
           "linecolor": "white",
           "ticks": "",
           "title": {
            "standoff": 15
           },
           "zerolinecolor": "white",
           "zerolinewidth": 2
          }
         }
        }
       }
      }
     },
     "metadata": {},
     "output_type": "display_data"
    },
    {
     "data": {
      "application/vnd.plotly.v1+json": {
       "config": {
        "plotlyServerURL": "https://plot.ly"
       },
       "data": [
        {
         "arrangement": "freeform",
         "link": {
          "arrowlen": 15,
          "color": [
           "rgba(119, 12, 254, 0.3)",
           "rgba(109, 28, 254, 0.3)",
           "rgba(81, 71, 252, 0.3)",
           "rgba(109, 28, 254, 0.3)",
           "rgba(63, 97, 250, 0.3)",
           "rgba(101, 40, 254, 0.3)",
           "rgba(101, 40, 254, 0.3)",
           "rgba(119, 12, 254, 0.3)",
           "rgba(101, 40, 254, 0.3)"
          ],
          "source": [
           0,
           1,
           4,
           1,
           6,
           2,
           2,
           0,
           2
          ],
          "target": [
           4,
           2,
           2,
           6,
           2,
           6,
           1,
           2,
           10
          ],
          "value": [
           0.32493996425749033,
           0.30794096839223006,
           0.26675523046709276,
           0.25505577727238077,
           0.24944682609136712,
           0.2407558958943292,
           0.22502111102624642,
           0.22450266279268008,
           0.2138787301204264
          ]
         },
         "node": {
          "color": [
           "rgba(119, 12, 254, 0.7)",
           "rgba(109, 28, 254, 0.7)",
           "rgba(101, 40, 254, 0.7)",
           "rgba(91, 56, 253, 0.7)",
           "rgba(81, 71, 252, 0.7)",
           "rgba(73, 83, 251, 0.7)",
           "rgba(63, 97, 250, 0.7)",
           "rgba(53, 112, 248, 0.7)",
           "rgba(45, 123, 246, 0.7)",
           "rgba(35, 136, 244, 0.7)",
           "rgba(25, 149, 242, 0.7)",
           "rgba(17, 159, 240, 0.7)",
           "rgba(7, 171, 237, 0.7)",
           "rgba(2, 183, 234, 0.7)",
           "rgba(10, 191, 232, 0.7)",
           "rgba(20, 201, 228, 0.7)",
           "rgba(30, 210, 225, 0.7)",
           "rgba(38, 217, 222, 0.7)",
           "rgba(48, 225, 218, 0.7)",
           "rgba(58, 232, 214, 0.7)",
           "rgba(66, 237, 210, 0.7)",
           "rgba(76, 242, 206, 0.7)",
           "rgba(86, 246, 201, 0.7)",
           "rgba(94, 249, 197, 0.7)",
           "rgba(104, 252, 192, 0.7)",
           "rgba(114, 254, 187, 0.7)",
           "rgba(122, 254, 183, 0.7)",
           "rgba(132, 254, 177, 0.7)",
           "rgba(140, 254, 172, 0.7)",
           "rgba(150, 252, 167, 0.7)",
           "rgba(160, 249, 161, 0.7)",
           "rgba(168, 246, 156, 0.7)",
           "rgba(178, 242, 149, 0.7)",
           "rgba(188, 237, 143, 0.7)",
           "rgba(196, 232, 138, 0.7)",
           "rgba(206, 225, 131, 0.7)",
           "rgba(216, 217, 124, 0.7)",
           "rgba(224, 210, 119, 0.7)",
           "rgba(234, 201, 112, 0.7)",
           "rgba(244, 191, 105, 0.7)",
           "rgba(252, 183, 99, 0.7)",
           "rgba(255, 171, 92, 0.7)",
           "rgba(255, 159, 84, 0.7)",
           "rgba(255, 149, 78, 0.7)",
           "rgba(255, 136, 71, 0.7)",
           "rgba(255, 123, 63, 0.7)",
           "rgba(255, 112, 57, 0.7)",
           "rgba(255, 97, 49, 0.7)",
           "rgba(255, 83, 42, 0.7)",
           "rgba(255, 71, 36, 0.7)",
           "rgba(255, 56, 28, 0.7)",
           "rgba(255, 40, 20, 0.7)",
           "rgba(255, 28, 14, 0.7)",
           "rgba(255, 12, 6, 0.7)"
          ],
          "label": [
           "Speaker Party",
           "general score",
           "outreach",
           "persuasiveness",
           "empathy",
           "authenticity",
           "decorum",
           "tone is professional",
           "resonance",
           "preparation",
           "logical",
           "clarity",
           "egotistical",
           "relevant",
           "contextual awareness",
           "listening skills",
           "civil discourse",
           "coherence",
           "respectfulness",
           "responsiveness",
           "pro neutral",
           "language appropriateness",
           "evasiveness",
           "adherence to rules",
           "factuality",
           "contribution",
           "manipulation",
           "completeness",
           "respect for diverse opinions",
           "sensationalism",
           "use of evidence",
           "objectivity",
           "interruptions",
           "consistency",
           "conciseness",
           "venue respect",
           "accessibility",
           "innovation",
           "relevance",
           "fair play",
           "time management",
           "speaker_num_parts",
           "bias",
           "truthfulness",
           "tone is academic",
           "num_parts",
           "content quality",
           "speaker_num_parts_ratio",
           "balance",
           "quality of sources",
           "speaker_popular_votes_ratio",
           "controversiality",
           "confidence",
           "engagement"
          ],
          "pad": 10
         },
         "type": "sankey"
        }
       ],
       "layout": {
        "template": {
         "data": {
          "bar": [
           {
            "error_x": {
             "color": "#2a3f5f"
            },
            "error_y": {
             "color": "#2a3f5f"
            },
            "marker": {
             "line": {
              "color": "#E5ECF6",
              "width": 0.5
             },
             "pattern": {
              "fillmode": "overlay",
              "size": 10,
              "solidity": 0.2
             }
            },
            "type": "bar"
           }
          ],
          "barpolar": [
           {
            "marker": {
             "line": {
              "color": "#E5ECF6",
              "width": 0.5
             },
             "pattern": {
              "fillmode": "overlay",
              "size": 10,
              "solidity": 0.2
             }
            },
            "type": "barpolar"
           }
          ],
          "carpet": [
           {
            "aaxis": {
             "endlinecolor": "#2a3f5f",
             "gridcolor": "white",
             "linecolor": "white",
             "minorgridcolor": "white",
             "startlinecolor": "#2a3f5f"
            },
            "baxis": {
             "endlinecolor": "#2a3f5f",
             "gridcolor": "white",
             "linecolor": "white",
             "minorgridcolor": "white",
             "startlinecolor": "#2a3f5f"
            },
            "type": "carpet"
           }
          ],
          "choropleth": [
           {
            "colorbar": {
             "outlinewidth": 0,
             "ticks": ""
            },
            "type": "choropleth"
           }
          ],
          "contour": [
           {
            "colorbar": {
             "outlinewidth": 0,
             "ticks": ""
            },
            "colorscale": [
             [
              0,
              "#0d0887"
             ],
             [
              0.1111111111111111,
              "#46039f"
             ],
             [
              0.2222222222222222,
              "#7201a8"
             ],
             [
              0.3333333333333333,
              "#9c179e"
             ],
             [
              0.4444444444444444,
              "#bd3786"
             ],
             [
              0.5555555555555556,
              "#d8576b"
             ],
             [
              0.6666666666666666,
              "#ed7953"
             ],
             [
              0.7777777777777778,
              "#fb9f3a"
             ],
             [
              0.8888888888888888,
              "#fdca26"
             ],
             [
              1,
              "#f0f921"
             ]
            ],
            "type": "contour"
           }
          ],
          "contourcarpet": [
           {
            "colorbar": {
             "outlinewidth": 0,
             "ticks": ""
            },
            "type": "contourcarpet"
           }
          ],
          "heatmap": [
           {
            "colorbar": {
             "outlinewidth": 0,
             "ticks": ""
            },
            "colorscale": [
             [
              0,
              "#0d0887"
             ],
             [
              0.1111111111111111,
              "#46039f"
             ],
             [
              0.2222222222222222,
              "#7201a8"
             ],
             [
              0.3333333333333333,
              "#9c179e"
             ],
             [
              0.4444444444444444,
              "#bd3786"
             ],
             [
              0.5555555555555556,
              "#d8576b"
             ],
             [
              0.6666666666666666,
              "#ed7953"
             ],
             [
              0.7777777777777778,
              "#fb9f3a"
             ],
             [
              0.8888888888888888,
              "#fdca26"
             ],
             [
              1,
              "#f0f921"
             ]
            ],
            "type": "heatmap"
           }
          ],
          "heatmapgl": [
           {
            "colorbar": {
             "outlinewidth": 0,
             "ticks": ""
            },
            "colorscale": [
             [
              0,
              "#0d0887"
             ],
             [
              0.1111111111111111,
              "#46039f"
             ],
             [
              0.2222222222222222,
              "#7201a8"
             ],
             [
              0.3333333333333333,
              "#9c179e"
             ],
             [
              0.4444444444444444,
              "#bd3786"
             ],
             [
              0.5555555555555556,
              "#d8576b"
             ],
             [
              0.6666666666666666,
              "#ed7953"
             ],
             [
              0.7777777777777778,
              "#fb9f3a"
             ],
             [
              0.8888888888888888,
              "#fdca26"
             ],
             [
              1,
              "#f0f921"
             ]
            ],
            "type": "heatmapgl"
           }
          ],
          "histogram": [
           {
            "marker": {
             "pattern": {
              "fillmode": "overlay",
              "size": 10,
              "solidity": 0.2
             }
            },
            "type": "histogram"
           }
          ],
          "histogram2d": [
           {
            "colorbar": {
             "outlinewidth": 0,
             "ticks": ""
            },
            "colorscale": [
             [
              0,
              "#0d0887"
             ],
             [
              0.1111111111111111,
              "#46039f"
             ],
             [
              0.2222222222222222,
              "#7201a8"
             ],
             [
              0.3333333333333333,
              "#9c179e"
             ],
             [
              0.4444444444444444,
              "#bd3786"
             ],
             [
              0.5555555555555556,
              "#d8576b"
             ],
             [
              0.6666666666666666,
              "#ed7953"
             ],
             [
              0.7777777777777778,
              "#fb9f3a"
             ],
             [
              0.8888888888888888,
              "#fdca26"
             ],
             [
              1,
              "#f0f921"
             ]
            ],
            "type": "histogram2d"
           }
          ],
          "histogram2dcontour": [
           {
            "colorbar": {
             "outlinewidth": 0,
             "ticks": ""
            },
            "colorscale": [
             [
              0,
              "#0d0887"
             ],
             [
              0.1111111111111111,
              "#46039f"
             ],
             [
              0.2222222222222222,
              "#7201a8"
             ],
             [
              0.3333333333333333,
              "#9c179e"
             ],
             [
              0.4444444444444444,
              "#bd3786"
             ],
             [
              0.5555555555555556,
              "#d8576b"
             ],
             [
              0.6666666666666666,
              "#ed7953"
             ],
             [
              0.7777777777777778,
              "#fb9f3a"
             ],
             [
              0.8888888888888888,
              "#fdca26"
             ],
             [
              1,
              "#f0f921"
             ]
            ],
            "type": "histogram2dcontour"
           }
          ],
          "mesh3d": [
           {
            "colorbar": {
             "outlinewidth": 0,
             "ticks": ""
            },
            "type": "mesh3d"
           }
          ],
          "parcoords": [
           {
            "line": {
             "colorbar": {
              "outlinewidth": 0,
              "ticks": ""
             }
            },
            "type": "parcoords"
           }
          ],
          "pie": [
           {
            "automargin": true,
            "type": "pie"
           }
          ],
          "scatter": [
           {
            "fillpattern": {
             "fillmode": "overlay",
             "size": 10,
             "solidity": 0.2
            },
            "type": "scatter"
           }
          ],
          "scatter3d": [
           {
            "line": {
             "colorbar": {
              "outlinewidth": 0,
              "ticks": ""
             }
            },
            "marker": {
             "colorbar": {
              "outlinewidth": 0,
              "ticks": ""
             }
            },
            "type": "scatter3d"
           }
          ],
          "scattercarpet": [
           {
            "marker": {
             "colorbar": {
              "outlinewidth": 0,
              "ticks": ""
             }
            },
            "type": "scattercarpet"
           }
          ],
          "scattergeo": [
           {
            "marker": {
             "colorbar": {
              "outlinewidth": 0,
              "ticks": ""
             }
            },
            "type": "scattergeo"
           }
          ],
          "scattergl": [
           {
            "marker": {
             "colorbar": {
              "outlinewidth": 0,
              "ticks": ""
             }
            },
            "type": "scattergl"
           }
          ],
          "scattermapbox": [
           {
            "marker": {
             "colorbar": {
              "outlinewidth": 0,
              "ticks": ""
             }
            },
            "type": "scattermapbox"
           }
          ],
          "scatterpolar": [
           {
            "marker": {
             "colorbar": {
              "outlinewidth": 0,
              "ticks": ""
             }
            },
            "type": "scatterpolar"
           }
          ],
          "scatterpolargl": [
           {
            "marker": {
             "colorbar": {
              "outlinewidth": 0,
              "ticks": ""
             }
            },
            "type": "scatterpolargl"
           }
          ],
          "scatterternary": [
           {
            "marker": {
             "colorbar": {
              "outlinewidth": 0,
              "ticks": ""
             }
            },
            "type": "scatterternary"
           }
          ],
          "surface": [
           {
            "colorbar": {
             "outlinewidth": 0,
             "ticks": ""
            },
            "colorscale": [
             [
              0,
              "#0d0887"
             ],
             [
              0.1111111111111111,
              "#46039f"
             ],
             [
              0.2222222222222222,
              "#7201a8"
             ],
             [
              0.3333333333333333,
              "#9c179e"
             ],
             [
              0.4444444444444444,
              "#bd3786"
             ],
             [
              0.5555555555555556,
              "#d8576b"
             ],
             [
              0.6666666666666666,
              "#ed7953"
             ],
             [
              0.7777777777777778,
              "#fb9f3a"
             ],
             [
              0.8888888888888888,
              "#fdca26"
             ],
             [
              1,
              "#f0f921"
             ]
            ],
            "type": "surface"
           }
          ],
          "table": [
           {
            "cells": {
             "fill": {
              "color": "#EBF0F8"
             },
             "line": {
              "color": "white"
             }
            },
            "header": {
             "fill": {
              "color": "#C8D4E3"
             },
             "line": {
              "color": "white"
             }
            },
            "type": "table"
           }
          ]
         },
         "layout": {
          "annotationdefaults": {
           "arrowcolor": "#2a3f5f",
           "arrowhead": 0,
           "arrowwidth": 1
          },
          "autotypenumbers": "strict",
          "coloraxis": {
           "colorbar": {
            "outlinewidth": 0,
            "ticks": ""
           }
          },
          "colorscale": {
           "diverging": [
            [
             0,
             "#8e0152"
            ],
            [
             0.1,
             "#c51b7d"
            ],
            [
             0.2,
             "#de77ae"
            ],
            [
             0.3,
             "#f1b6da"
            ],
            [
             0.4,
             "#fde0ef"
            ],
            [
             0.5,
             "#f7f7f7"
            ],
            [
             0.6,
             "#e6f5d0"
            ],
            [
             0.7,
             "#b8e186"
            ],
            [
             0.8,
             "#7fbc41"
            ],
            [
             0.9,
             "#4d9221"
            ],
            [
             1,
             "#276419"
            ]
           ],
           "sequential": [
            [
             0,
             "#0d0887"
            ],
            [
             0.1111111111111111,
             "#46039f"
            ],
            [
             0.2222222222222222,
             "#7201a8"
            ],
            [
             0.3333333333333333,
             "#9c179e"
            ],
            [
             0.4444444444444444,
             "#bd3786"
            ],
            [
             0.5555555555555556,
             "#d8576b"
            ],
            [
             0.6666666666666666,
             "#ed7953"
            ],
            [
             0.7777777777777778,
             "#fb9f3a"
            ],
            [
             0.8888888888888888,
             "#fdca26"
            ],
            [
             1,
             "#f0f921"
            ]
           ],
           "sequentialminus": [
            [
             0,
             "#0d0887"
            ],
            [
             0.1111111111111111,
             "#46039f"
            ],
            [
             0.2222222222222222,
             "#7201a8"
            ],
            [
             0.3333333333333333,
             "#9c179e"
            ],
            [
             0.4444444444444444,
             "#bd3786"
            ],
            [
             0.5555555555555556,
             "#d8576b"
            ],
            [
             0.6666666666666666,
             "#ed7953"
            ],
            [
             0.7777777777777778,
             "#fb9f3a"
            ],
            [
             0.8888888888888888,
             "#fdca26"
            ],
            [
             1,
             "#f0f921"
            ]
           ]
          },
          "colorway": [
           "#636efa",
           "#EF553B",
           "#00cc96",
           "#ab63fa",
           "#FFA15A",
           "#19d3f3",
           "#FF6692",
           "#B6E880",
           "#FF97FF",
           "#FECB52"
          ],
          "font": {
           "color": "#2a3f5f"
          },
          "geo": {
           "bgcolor": "white",
           "lakecolor": "white",
           "landcolor": "#E5ECF6",
           "showlakes": true,
           "showland": true,
           "subunitcolor": "white"
          },
          "hoverlabel": {
           "align": "left"
          },
          "hovermode": "closest",
          "mapbox": {
           "style": "light"
          },
          "paper_bgcolor": "white",
          "plot_bgcolor": "#E5ECF6",
          "polar": {
           "angularaxis": {
            "gridcolor": "white",
            "linecolor": "white",
            "ticks": ""
           },
           "bgcolor": "#E5ECF6",
           "radialaxis": {
            "gridcolor": "white",
            "linecolor": "white",
            "ticks": ""
           }
          },
          "scene": {
           "xaxis": {
            "backgroundcolor": "#E5ECF6",
            "gridcolor": "white",
            "gridwidth": 2,
            "linecolor": "white",
            "showbackground": true,
            "ticks": "",
            "zerolinecolor": "white"
           },
           "yaxis": {
            "backgroundcolor": "#E5ECF6",
            "gridcolor": "white",
            "gridwidth": 2,
            "linecolor": "white",
            "showbackground": true,
            "ticks": "",
            "zerolinecolor": "white"
           },
           "zaxis": {
            "backgroundcolor": "#E5ECF6",
            "gridcolor": "white",
            "gridwidth": 2,
            "linecolor": "white",
            "showbackground": true,
            "ticks": "",
            "zerolinecolor": "white"
           }
          },
          "shapedefaults": {
           "line": {
            "color": "#2a3f5f"
           }
          },
          "ternary": {
           "aaxis": {
            "gridcolor": "white",
            "linecolor": "white",
            "ticks": ""
           },
           "baxis": {
            "gridcolor": "white",
            "linecolor": "white",
            "ticks": ""
           },
           "bgcolor": "#E5ECF6",
           "caxis": {
            "gridcolor": "white",
            "linecolor": "white",
            "ticks": ""
           }
          },
          "title": {
           "x": 0.05
          },
          "xaxis": {
           "automargin": true,
           "gridcolor": "white",
           "linecolor": "white",
           "ticks": "",
           "title": {
            "standoff": 15
           },
           "zerolinecolor": "white",
           "zerolinewidth": 2
          },
          "yaxis": {
           "automargin": true,
           "gridcolor": "white",
           "linecolor": "white",
           "ticks": "",
           "title": {
            "standoff": 15
           },
           "zerolinecolor": "white",
           "zerolinewidth": 2
          }
         }
        }
       }
      }
     },
     "metadata": {},
     "output_type": "display_data"
    },
    {
     "data": {
      "application/vnd.plotly.v1+json": {
       "config": {
        "plotlyServerURL": "https://plot.ly"
       },
       "data": [
        {
         "arrangement": "freeform",
         "link": {
          "arrowlen": 15,
          "color": [
           "rgba(119, 12, 254, 0.3)",
           "rgba(73, 83, 251, 0.3)",
           "rgba(109, 28, 254, 0.3)",
           "rgba(81, 71, 252, 0.3)",
           "rgba(30, 210, 225, 0.3)",
           "rgba(25, 149, 242, 0.3)",
           "rgba(109, 28, 254, 0.3)",
           "rgba(73, 83, 251, 0.3)",
           "rgba(63, 97, 250, 0.3)",
           "rgba(73, 83, 251, 0.3)",
           "rgba(101, 40, 254, 0.3)",
           "rgba(25, 149, 242, 0.3)",
           "rgba(30, 210, 225, 0.3)",
           "rgba(30, 210, 225, 0.3)",
           "rgba(101, 40, 254, 0.3)",
           "rgba(119, 12, 254, 0.3)",
           "rgba(101, 40, 254, 0.3)",
           "rgba(109, 28, 254, 0.3)",
           "rgba(81, 71, 252, 0.3)",
           "rgba(81, 71, 252, 0.3)"
          ],
          "source": [
           0,
           5,
           1,
           4,
           16,
           10,
           1,
           5,
           6,
           5,
           2,
           10,
           16,
           16,
           2,
           0,
           2,
           1,
           4,
           4
          ],
          "target": [
           4,
           6,
           2,
           2,
           2,
           2,
           6,
           2,
           2,
           1,
           6,
           6,
           4,
           10,
           1,
           2,
           10,
           5,
           10,
           16
          ],
          "value": [
           0.32493996425749033,
           0.3207855186266905,
           0.30794096839223006,
           0.26675523046709276,
           0.26540942443269605,
           0.25756730804405137,
           0.25505577727238077,
           0.2547311625609413,
           0.24944682609136712,
           0.24901549773611387,
           0.2407558958943292,
           0.2307024295564584,
           0.22946006770683886,
           0.22630638428765798,
           0.22502111102624642,
           0.22450266279268008,
           0.2138787301204264,
           0.2132725013963437,
           0.2121318032152368,
           0.20655616773419108
          ]
         },
         "node": {
          "color": [
           "rgba(119, 12, 254, 0.7)",
           "rgba(109, 28, 254, 0.7)",
           "rgba(101, 40, 254, 0.7)",
           "rgba(91, 56, 253, 0.7)",
           "rgba(81, 71, 252, 0.7)",
           "rgba(73, 83, 251, 0.7)",
           "rgba(63, 97, 250, 0.7)",
           "rgba(53, 112, 248, 0.7)",
           "rgba(45, 123, 246, 0.7)",
           "rgba(35, 136, 244, 0.7)",
           "rgba(25, 149, 242, 0.7)",
           "rgba(17, 159, 240, 0.7)",
           "rgba(7, 171, 237, 0.7)",
           "rgba(2, 183, 234, 0.7)",
           "rgba(10, 191, 232, 0.7)",
           "rgba(20, 201, 228, 0.7)",
           "rgba(30, 210, 225, 0.7)",
           "rgba(38, 217, 222, 0.7)",
           "rgba(48, 225, 218, 0.7)",
           "rgba(58, 232, 214, 0.7)",
           "rgba(66, 237, 210, 0.7)",
           "rgba(76, 242, 206, 0.7)",
           "rgba(86, 246, 201, 0.7)",
           "rgba(94, 249, 197, 0.7)",
           "rgba(104, 252, 192, 0.7)",
           "rgba(114, 254, 187, 0.7)",
           "rgba(122, 254, 183, 0.7)",
           "rgba(132, 254, 177, 0.7)",
           "rgba(140, 254, 172, 0.7)",
           "rgba(150, 252, 167, 0.7)",
           "rgba(160, 249, 161, 0.7)",
           "rgba(168, 246, 156, 0.7)",
           "rgba(178, 242, 149, 0.7)",
           "rgba(188, 237, 143, 0.7)",
           "rgba(196, 232, 138, 0.7)",
           "rgba(206, 225, 131, 0.7)",
           "rgba(216, 217, 124, 0.7)",
           "rgba(224, 210, 119, 0.7)",
           "rgba(234, 201, 112, 0.7)",
           "rgba(244, 191, 105, 0.7)",
           "rgba(252, 183, 99, 0.7)",
           "rgba(255, 171, 92, 0.7)",
           "rgba(255, 159, 84, 0.7)",
           "rgba(255, 149, 78, 0.7)",
           "rgba(255, 136, 71, 0.7)",
           "rgba(255, 123, 63, 0.7)",
           "rgba(255, 112, 57, 0.7)",
           "rgba(255, 97, 49, 0.7)",
           "rgba(255, 83, 42, 0.7)",
           "rgba(255, 71, 36, 0.7)",
           "rgba(255, 56, 28, 0.7)",
           "rgba(255, 40, 20, 0.7)",
           "rgba(255, 28, 14, 0.7)",
           "rgba(255, 12, 6, 0.7)"
          ],
          "label": [
           "Speaker Party",
           "general score",
           "outreach",
           "persuasiveness",
           "empathy",
           "authenticity",
           "decorum",
           "tone is professional",
           "resonance",
           "preparation",
           "logical",
           "clarity",
           "egotistical",
           "relevant",
           "contextual awareness",
           "listening skills",
           "civil discourse",
           "coherence",
           "respectfulness",
           "responsiveness",
           "pro neutral",
           "language appropriateness",
           "evasiveness",
           "adherence to rules",
           "factuality",
           "contribution",
           "manipulation",
           "completeness",
           "respect for diverse opinions",
           "sensationalism",
           "use of evidence",
           "objectivity",
           "interruptions",
           "consistency",
           "conciseness",
           "venue respect",
           "accessibility",
           "innovation",
           "relevance",
           "fair play",
           "time management",
           "speaker_num_parts",
           "bias",
           "truthfulness",
           "tone is academic",
           "num_parts",
           "content quality",
           "speaker_num_parts_ratio",
           "balance",
           "quality of sources",
           "speaker_popular_votes_ratio",
           "controversiality",
           "confidence",
           "engagement"
          ],
          "pad": 10
         },
         "type": "sankey"
        }
       ],
       "layout": {
        "template": {
         "data": {
          "bar": [
           {
            "error_x": {
             "color": "#2a3f5f"
            },
            "error_y": {
             "color": "#2a3f5f"
            },
            "marker": {
             "line": {
              "color": "#E5ECF6",
              "width": 0.5
             },
             "pattern": {
              "fillmode": "overlay",
              "size": 10,
              "solidity": 0.2
             }
            },
            "type": "bar"
           }
          ],
          "barpolar": [
           {
            "marker": {
             "line": {
              "color": "#E5ECF6",
              "width": 0.5
             },
             "pattern": {
              "fillmode": "overlay",
              "size": 10,
              "solidity": 0.2
             }
            },
            "type": "barpolar"
           }
          ],
          "carpet": [
           {
            "aaxis": {
             "endlinecolor": "#2a3f5f",
             "gridcolor": "white",
             "linecolor": "white",
             "minorgridcolor": "white",
             "startlinecolor": "#2a3f5f"
            },
            "baxis": {
             "endlinecolor": "#2a3f5f",
             "gridcolor": "white",
             "linecolor": "white",
             "minorgridcolor": "white",
             "startlinecolor": "#2a3f5f"
            },
            "type": "carpet"
           }
          ],
          "choropleth": [
           {
            "colorbar": {
             "outlinewidth": 0,
             "ticks": ""
            },
            "type": "choropleth"
           }
          ],
          "contour": [
           {
            "colorbar": {
             "outlinewidth": 0,
             "ticks": ""
            },
            "colorscale": [
             [
              0,
              "#0d0887"
             ],
             [
              0.1111111111111111,
              "#46039f"
             ],
             [
              0.2222222222222222,
              "#7201a8"
             ],
             [
              0.3333333333333333,
              "#9c179e"
             ],
             [
              0.4444444444444444,
              "#bd3786"
             ],
             [
              0.5555555555555556,
              "#d8576b"
             ],
             [
              0.6666666666666666,
              "#ed7953"
             ],
             [
              0.7777777777777778,
              "#fb9f3a"
             ],
             [
              0.8888888888888888,
              "#fdca26"
             ],
             [
              1,
              "#f0f921"
             ]
            ],
            "type": "contour"
           }
          ],
          "contourcarpet": [
           {
            "colorbar": {
             "outlinewidth": 0,
             "ticks": ""
            },
            "type": "contourcarpet"
           }
          ],
          "heatmap": [
           {
            "colorbar": {
             "outlinewidth": 0,
             "ticks": ""
            },
            "colorscale": [
             [
              0,
              "#0d0887"
             ],
             [
              0.1111111111111111,
              "#46039f"
             ],
             [
              0.2222222222222222,
              "#7201a8"
             ],
             [
              0.3333333333333333,
              "#9c179e"
             ],
             [
              0.4444444444444444,
              "#bd3786"
             ],
             [
              0.5555555555555556,
              "#d8576b"
             ],
             [
              0.6666666666666666,
              "#ed7953"
             ],
             [
              0.7777777777777778,
              "#fb9f3a"
             ],
             [
              0.8888888888888888,
              "#fdca26"
             ],
             [
              1,
              "#f0f921"
             ]
            ],
            "type": "heatmap"
           }
          ],
          "heatmapgl": [
           {
            "colorbar": {
             "outlinewidth": 0,
             "ticks": ""
            },
            "colorscale": [
             [
              0,
              "#0d0887"
             ],
             [
              0.1111111111111111,
              "#46039f"
             ],
             [
              0.2222222222222222,
              "#7201a8"
             ],
             [
              0.3333333333333333,
              "#9c179e"
             ],
             [
              0.4444444444444444,
              "#bd3786"
             ],
             [
              0.5555555555555556,
              "#d8576b"
             ],
             [
              0.6666666666666666,
              "#ed7953"
             ],
             [
              0.7777777777777778,
              "#fb9f3a"
             ],
             [
              0.8888888888888888,
              "#fdca26"
             ],
             [
              1,
              "#f0f921"
             ]
            ],
            "type": "heatmapgl"
           }
          ],
          "histogram": [
           {
            "marker": {
             "pattern": {
              "fillmode": "overlay",
              "size": 10,
              "solidity": 0.2
             }
            },
            "type": "histogram"
           }
          ],
          "histogram2d": [
           {
            "colorbar": {
             "outlinewidth": 0,
             "ticks": ""
            },
            "colorscale": [
             [
              0,
              "#0d0887"
             ],
             [
              0.1111111111111111,
              "#46039f"
             ],
             [
              0.2222222222222222,
              "#7201a8"
             ],
             [
              0.3333333333333333,
              "#9c179e"
             ],
             [
              0.4444444444444444,
              "#bd3786"
             ],
             [
              0.5555555555555556,
              "#d8576b"
             ],
             [
              0.6666666666666666,
              "#ed7953"
             ],
             [
              0.7777777777777778,
              "#fb9f3a"
             ],
             [
              0.8888888888888888,
              "#fdca26"
             ],
             [
              1,
              "#f0f921"
             ]
            ],
            "type": "histogram2d"
           }
          ],
          "histogram2dcontour": [
           {
            "colorbar": {
             "outlinewidth": 0,
             "ticks": ""
            },
            "colorscale": [
             [
              0,
              "#0d0887"
             ],
             [
              0.1111111111111111,
              "#46039f"
             ],
             [
              0.2222222222222222,
              "#7201a8"
             ],
             [
              0.3333333333333333,
              "#9c179e"
             ],
             [
              0.4444444444444444,
              "#bd3786"
             ],
             [
              0.5555555555555556,
              "#d8576b"
             ],
             [
              0.6666666666666666,
              "#ed7953"
             ],
             [
              0.7777777777777778,
              "#fb9f3a"
             ],
             [
              0.8888888888888888,
              "#fdca26"
             ],
             [
              1,
              "#f0f921"
             ]
            ],
            "type": "histogram2dcontour"
           }
          ],
          "mesh3d": [
           {
            "colorbar": {
             "outlinewidth": 0,
             "ticks": ""
            },
            "type": "mesh3d"
           }
          ],
          "parcoords": [
           {
            "line": {
             "colorbar": {
              "outlinewidth": 0,
              "ticks": ""
             }
            },
            "type": "parcoords"
           }
          ],
          "pie": [
           {
            "automargin": true,
            "type": "pie"
           }
          ],
          "scatter": [
           {
            "fillpattern": {
             "fillmode": "overlay",
             "size": 10,
             "solidity": 0.2
            },
            "type": "scatter"
           }
          ],
          "scatter3d": [
           {
            "line": {
             "colorbar": {
              "outlinewidth": 0,
              "ticks": ""
             }
            },
            "marker": {
             "colorbar": {
              "outlinewidth": 0,
              "ticks": ""
             }
            },
            "type": "scatter3d"
           }
          ],
          "scattercarpet": [
           {
            "marker": {
             "colorbar": {
              "outlinewidth": 0,
              "ticks": ""
             }
            },
            "type": "scattercarpet"
           }
          ],
          "scattergeo": [
           {
            "marker": {
             "colorbar": {
              "outlinewidth": 0,
              "ticks": ""
             }
            },
            "type": "scattergeo"
           }
          ],
          "scattergl": [
           {
            "marker": {
             "colorbar": {
              "outlinewidth": 0,
              "ticks": ""
             }
            },
            "type": "scattergl"
           }
          ],
          "scattermapbox": [
           {
            "marker": {
             "colorbar": {
              "outlinewidth": 0,
              "ticks": ""
             }
            },
            "type": "scattermapbox"
           }
          ],
          "scatterpolar": [
           {
            "marker": {
             "colorbar": {
              "outlinewidth": 0,
              "ticks": ""
             }
            },
            "type": "scatterpolar"
           }
          ],
          "scatterpolargl": [
           {
            "marker": {
             "colorbar": {
              "outlinewidth": 0,
              "ticks": ""
             }
            },
            "type": "scatterpolargl"
           }
          ],
          "scatterternary": [
           {
            "marker": {
             "colorbar": {
              "outlinewidth": 0,
              "ticks": ""
             }
            },
            "type": "scatterternary"
           }
          ],
          "surface": [
           {
            "colorbar": {
             "outlinewidth": 0,
             "ticks": ""
            },
            "colorscale": [
             [
              0,
              "#0d0887"
             ],
             [
              0.1111111111111111,
              "#46039f"
             ],
             [
              0.2222222222222222,
              "#7201a8"
             ],
             [
              0.3333333333333333,
              "#9c179e"
             ],
             [
              0.4444444444444444,
              "#bd3786"
             ],
             [
              0.5555555555555556,
              "#d8576b"
             ],
             [
              0.6666666666666666,
              "#ed7953"
             ],
             [
              0.7777777777777778,
              "#fb9f3a"
             ],
             [
              0.8888888888888888,
              "#fdca26"
             ],
             [
              1,
              "#f0f921"
             ]
            ],
            "type": "surface"
           }
          ],
          "table": [
           {
            "cells": {
             "fill": {
              "color": "#EBF0F8"
             },
             "line": {
              "color": "white"
             }
            },
            "header": {
             "fill": {
              "color": "#C8D4E3"
             },
             "line": {
              "color": "white"
             }
            },
            "type": "table"
           }
          ]
         },
         "layout": {
          "annotationdefaults": {
           "arrowcolor": "#2a3f5f",
           "arrowhead": 0,
           "arrowwidth": 1
          },
          "autotypenumbers": "strict",
          "coloraxis": {
           "colorbar": {
            "outlinewidth": 0,
            "ticks": ""
           }
          },
          "colorscale": {
           "diverging": [
            [
             0,
             "#8e0152"
            ],
            [
             0.1,
             "#c51b7d"
            ],
            [
             0.2,
             "#de77ae"
            ],
            [
             0.3,
             "#f1b6da"
            ],
            [
             0.4,
             "#fde0ef"
            ],
            [
             0.5,
             "#f7f7f7"
            ],
            [
             0.6,
             "#e6f5d0"
            ],
            [
             0.7,
             "#b8e186"
            ],
            [
             0.8,
             "#7fbc41"
            ],
            [
             0.9,
             "#4d9221"
            ],
            [
             1,
             "#276419"
            ]
           ],
           "sequential": [
            [
             0,
             "#0d0887"
            ],
            [
             0.1111111111111111,
             "#46039f"
            ],
            [
             0.2222222222222222,
             "#7201a8"
            ],
            [
             0.3333333333333333,
             "#9c179e"
            ],
            [
             0.4444444444444444,
             "#bd3786"
            ],
            [
             0.5555555555555556,
             "#d8576b"
            ],
            [
             0.6666666666666666,
             "#ed7953"
            ],
            [
             0.7777777777777778,
             "#fb9f3a"
            ],
            [
             0.8888888888888888,
             "#fdca26"
            ],
            [
             1,
             "#f0f921"
            ]
           ],
           "sequentialminus": [
            [
             0,
             "#0d0887"
            ],
            [
             0.1111111111111111,
             "#46039f"
            ],
            [
             0.2222222222222222,
             "#7201a8"
            ],
            [
             0.3333333333333333,
             "#9c179e"
            ],
            [
             0.4444444444444444,
             "#bd3786"
            ],
            [
             0.5555555555555556,
             "#d8576b"
            ],
            [
             0.6666666666666666,
             "#ed7953"
            ],
            [
             0.7777777777777778,
             "#fb9f3a"
            ],
            [
             0.8888888888888888,
             "#fdca26"
            ],
            [
             1,
             "#f0f921"
            ]
           ]
          },
          "colorway": [
           "#636efa",
           "#EF553B",
           "#00cc96",
           "#ab63fa",
           "#FFA15A",
           "#19d3f3",
           "#FF6692",
           "#B6E880",
           "#FF97FF",
           "#FECB52"
          ],
          "font": {
           "color": "#2a3f5f"
          },
          "geo": {
           "bgcolor": "white",
           "lakecolor": "white",
           "landcolor": "#E5ECF6",
           "showlakes": true,
           "showland": true,
           "subunitcolor": "white"
          },
          "hoverlabel": {
           "align": "left"
          },
          "hovermode": "closest",
          "mapbox": {
           "style": "light"
          },
          "paper_bgcolor": "white",
          "plot_bgcolor": "#E5ECF6",
          "polar": {
           "angularaxis": {
            "gridcolor": "white",
            "linecolor": "white",
            "ticks": ""
           },
           "bgcolor": "#E5ECF6",
           "radialaxis": {
            "gridcolor": "white",
            "linecolor": "white",
            "ticks": ""
           }
          },
          "scene": {
           "xaxis": {
            "backgroundcolor": "#E5ECF6",
            "gridcolor": "white",
            "gridwidth": 2,
            "linecolor": "white",
            "showbackground": true,
            "ticks": "",
            "zerolinecolor": "white"
           },
           "yaxis": {
            "backgroundcolor": "#E5ECF6",
            "gridcolor": "white",
            "gridwidth": 2,
            "linecolor": "white",
            "showbackground": true,
            "ticks": "",
            "zerolinecolor": "white"
           },
           "zaxis": {
            "backgroundcolor": "#E5ECF6",
            "gridcolor": "white",
            "gridwidth": 2,
            "linecolor": "white",
            "showbackground": true,
            "ticks": "",
            "zerolinecolor": "white"
           }
          },
          "shapedefaults": {
           "line": {
            "color": "#2a3f5f"
           }
          },
          "ternary": {
           "aaxis": {
            "gridcolor": "white",
            "linecolor": "white",
            "ticks": ""
           },
           "baxis": {
            "gridcolor": "white",
            "linecolor": "white",
            "ticks": ""
           },
           "bgcolor": "#E5ECF6",
           "caxis": {
            "gridcolor": "white",
            "linecolor": "white",
            "ticks": ""
           }
          },
          "title": {
           "x": 0.05
          },
          "xaxis": {
           "automargin": true,
           "gridcolor": "white",
           "linecolor": "white",
           "ticks": "",
           "title": {
            "standoff": 15
           },
           "zerolinecolor": "white",
           "zerolinewidth": 2
          },
          "yaxis": {
           "automargin": true,
           "gridcolor": "white",
           "linecolor": "white",
           "ticks": "",
           "title": {
            "standoff": 15
           },
           "zerolinecolor": "white",
           "zerolinewidth": 2
          }
         }
        }
       }
      }
     },
     "metadata": {},
     "output_type": "display_data"
    },
    {
     "data": {
      "application/vnd.plotly.v1+json": {
       "config": {
        "plotlyServerURL": "https://plot.ly"
       },
       "data": [
        {
         "arrangement": "freeform",
         "link": {
          "arrowlen": 15,
          "color": [
           "rgba(119, 12, 254, 0.3)",
           "rgba(73, 83, 251, 0.3)",
           "rgba(109, 28, 254, 0.3)",
           "rgba(53, 112, 248, 0.3)",
           "rgba(81, 71, 252, 0.3)",
           "rgba(30, 210, 225, 0.3)",
           "rgba(48, 225, 218, 0.3)",
           "rgba(25, 149, 242, 0.3)",
           "rgba(109, 28, 254, 0.3)",
           "rgba(73, 83, 251, 0.3)",
           "rgba(17, 159, 240, 0.3)",
           "rgba(63, 97, 250, 0.3)",
           "rgba(73, 83, 251, 0.3)",
           "rgba(48, 225, 218, 0.3)",
           "rgba(101, 40, 254, 0.3)",
           "rgba(25, 149, 242, 0.3)",
           "rgba(30, 210, 225, 0.3)",
           "rgba(30, 210, 225, 0.3)",
           "rgba(53, 112, 248, 0.3)",
           "rgba(53, 112, 248, 0.3)",
           "rgba(101, 40, 254, 0.3)",
           "rgba(119, 12, 254, 0.3)",
           "rgba(48, 225, 218, 0.3)",
           "rgba(17, 159, 240, 0.3)",
           "rgba(101, 40, 254, 0.3)",
           "rgba(109, 28, 254, 0.3)",
           "rgba(81, 71, 252, 0.3)",
           "rgba(17, 159, 240, 0.3)",
           "rgba(81, 71, 252, 0.3)",
           "rgba(81, 71, 252, 0.3)",
           "rgba(63, 97, 250, 0.3)",
           "rgba(63, 97, 250, 0.3)",
           "rgba(63, 97, 250, 0.3)",
           "rgba(30, 210, 225, 0.3)",
           "rgba(63, 97, 250, 0.3)",
           "rgba(53, 112, 248, 0.3)",
           "rgba(109, 28, 254, 0.3)",
           "rgba(109, 28, 254, 0.3)",
           "rgba(48, 225, 218, 0.3)",
           "rgba(73, 83, 251, 0.3)",
           "rgba(119, 12, 254, 0.3)",
           "rgba(73, 83, 251, 0.3)",
           "rgba(53, 112, 248, 0.3)",
           "rgba(81, 71, 252, 0.3)",
           "rgba(101, 40, 254, 0.3)",
           "rgba(17, 159, 240, 0.3)",
           "rgba(63, 97, 250, 0.3)",
           "rgba(63, 97, 250, 0.3)",
           "rgba(30, 210, 225, 0.3)",
           "rgba(25, 149, 242, 0.3)"
          ],
          "source": [
           0,
           5,
           1,
           7,
           4,
           16,
           18,
           10,
           1,
           5,
           11,
           6,
           5,
           18,
           2,
           10,
           16,
           16,
           7,
           7,
           2,
           0,
           18,
           11,
           2,
           1,
           4,
           11,
           4,
           4,
           6,
           6,
           6,
           16,
           6,
           7,
           1,
           1,
           18,
           5,
           0,
           5,
           7,
           4,
           2,
           11,
           6,
           6,
           16,
           10
          ],
          "target": [
           4,
           6,
           2,
           6,
           2,
           2,
           6,
           2,
           6,
           2,
           6,
           2,
           1,
           2,
           6,
           6,
           4,
           10,
           2,
           1,
           1,
           2,
           10,
           2,
           10,
           5,
           10,
           10,
           16,
           6,
           5,
           1,
           10,
           18,
           7,
           11,
           7,
           10,
           4,
           7,
           16,
           10,
           5,
           18,
           4,
           1,
           18,
           11,
           6,
           18
          ],
          "value": [
           0.32493996425749033,
           0.3207855186266905,
           0.30794096839223006,
           0.29991274320070826,
           0.26675523046709276,
           0.26540942443269605,
           0.2613426370418391,
           0.25756730804405137,
           0.25505577727238077,
           0.2547311625609413,
           0.2528653656546081,
           0.24944682609136712,
           0.24901549773611387,
           0.24544890062869074,
           0.2407558958943292,
           0.2307024295564584,
           0.22946006770683886,
           0.22630638428765798,
           0.22586291164398695,
           0.22569191910263275,
           0.22502111102624642,
           0.22450266279268008,
           0.2197872099920523,
           0.2187006680252896,
           0.2138787301204264,
           0.2132725013963437,
           0.2121318032152368,
           0.207618436438786,
           0.20655616773419108,
           0.20574196342167603,
           0.2045011032602613,
           0.20245603694183925,
           0.20099986173294657,
           0.1995701332082888,
           0.1983138982872756,
           0.19783464036103557,
           0.19723632690165835,
           0.19710248962359397,
           0.19632500516462573,
           0.19602525753456648,
           0.19583813828529514,
           0.195744347350252,
           0.1945336605430952,
           0.19217047541464735,
           0.1915980784481597,
           0.19155689922796165,
           0.19030435805984192,
           0.1895735858111378,
           0.18920164563259878,
           0.18795790541579227
          ]
         },
         "node": {
          "color": [
           "rgba(119, 12, 254, 0.7)",
           "rgba(109, 28, 254, 0.7)",
           "rgba(101, 40, 254, 0.7)",
           "rgba(91, 56, 253, 0.7)",
           "rgba(81, 71, 252, 0.7)",
           "rgba(73, 83, 251, 0.7)",
           "rgba(63, 97, 250, 0.7)",
           "rgba(53, 112, 248, 0.7)",
           "rgba(45, 123, 246, 0.7)",
           "rgba(35, 136, 244, 0.7)",
           "rgba(25, 149, 242, 0.7)",
           "rgba(17, 159, 240, 0.7)",
           "rgba(7, 171, 237, 0.7)",
           "rgba(2, 183, 234, 0.7)",
           "rgba(10, 191, 232, 0.7)",
           "rgba(20, 201, 228, 0.7)",
           "rgba(30, 210, 225, 0.7)",
           "rgba(38, 217, 222, 0.7)",
           "rgba(48, 225, 218, 0.7)",
           "rgba(58, 232, 214, 0.7)",
           "rgba(66, 237, 210, 0.7)",
           "rgba(76, 242, 206, 0.7)",
           "rgba(86, 246, 201, 0.7)",
           "rgba(94, 249, 197, 0.7)",
           "rgba(104, 252, 192, 0.7)",
           "rgba(114, 254, 187, 0.7)",
           "rgba(122, 254, 183, 0.7)",
           "rgba(132, 254, 177, 0.7)",
           "rgba(140, 254, 172, 0.7)",
           "rgba(150, 252, 167, 0.7)",
           "rgba(160, 249, 161, 0.7)",
           "rgba(168, 246, 156, 0.7)",
           "rgba(178, 242, 149, 0.7)",
           "rgba(188, 237, 143, 0.7)",
           "rgba(196, 232, 138, 0.7)",
           "rgba(206, 225, 131, 0.7)",
           "rgba(216, 217, 124, 0.7)",
           "rgba(224, 210, 119, 0.7)",
           "rgba(234, 201, 112, 0.7)",
           "rgba(244, 191, 105, 0.7)",
           "rgba(252, 183, 99, 0.7)",
           "rgba(255, 171, 92, 0.7)",
           "rgba(255, 159, 84, 0.7)",
           "rgba(255, 149, 78, 0.7)",
           "rgba(255, 136, 71, 0.7)",
           "rgba(255, 123, 63, 0.7)",
           "rgba(255, 112, 57, 0.7)",
           "rgba(255, 97, 49, 0.7)",
           "rgba(255, 83, 42, 0.7)",
           "rgba(255, 71, 36, 0.7)",
           "rgba(255, 56, 28, 0.7)",
           "rgba(255, 40, 20, 0.7)",
           "rgba(255, 28, 14, 0.7)",
           "rgba(255, 12, 6, 0.7)"
          ],
          "label": [
           "Speaker Party",
           "general score",
           "outreach",
           "persuasiveness",
           "empathy",
           "authenticity",
           "decorum",
           "tone is professional",
           "resonance",
           "preparation",
           "logical",
           "clarity",
           "egotistical",
           "relevant",
           "contextual awareness",
           "listening skills",
           "civil discourse",
           "coherence",
           "respectfulness",
           "responsiveness",
           "pro neutral",
           "language appropriateness",
           "evasiveness",
           "adherence to rules",
           "factuality",
           "contribution",
           "manipulation",
           "completeness",
           "respect for diverse opinions",
           "sensationalism",
           "use of evidence",
           "objectivity",
           "interruptions",
           "consistency",
           "conciseness",
           "venue respect",
           "accessibility",
           "innovation",
           "relevance",
           "fair play",
           "time management",
           "speaker_num_parts",
           "bias",
           "truthfulness",
           "tone is academic",
           "num_parts",
           "content quality",
           "speaker_num_parts_ratio",
           "balance",
           "quality of sources",
           "speaker_popular_votes_ratio",
           "controversiality",
           "confidence",
           "engagement"
          ],
          "pad": 10
         },
         "type": "sankey"
        }
       ],
       "layout": {
        "template": {
         "data": {
          "bar": [
           {
            "error_x": {
             "color": "#2a3f5f"
            },
            "error_y": {
             "color": "#2a3f5f"
            },
            "marker": {
             "line": {
              "color": "#E5ECF6",
              "width": 0.5
             },
             "pattern": {
              "fillmode": "overlay",
              "size": 10,
              "solidity": 0.2
             }
            },
            "type": "bar"
           }
          ],
          "barpolar": [
           {
            "marker": {
             "line": {
              "color": "#E5ECF6",
              "width": 0.5
             },
             "pattern": {
              "fillmode": "overlay",
              "size": 10,
              "solidity": 0.2
             }
            },
            "type": "barpolar"
           }
          ],
          "carpet": [
           {
            "aaxis": {
             "endlinecolor": "#2a3f5f",
             "gridcolor": "white",
             "linecolor": "white",
             "minorgridcolor": "white",
             "startlinecolor": "#2a3f5f"
            },
            "baxis": {
             "endlinecolor": "#2a3f5f",
             "gridcolor": "white",
             "linecolor": "white",
             "minorgridcolor": "white",
             "startlinecolor": "#2a3f5f"
            },
            "type": "carpet"
           }
          ],
          "choropleth": [
           {
            "colorbar": {
             "outlinewidth": 0,
             "ticks": ""
            },
            "type": "choropleth"
           }
          ],
          "contour": [
           {
            "colorbar": {
             "outlinewidth": 0,
             "ticks": ""
            },
            "colorscale": [
             [
              0,
              "#0d0887"
             ],
             [
              0.1111111111111111,
              "#46039f"
             ],
             [
              0.2222222222222222,
              "#7201a8"
             ],
             [
              0.3333333333333333,
              "#9c179e"
             ],
             [
              0.4444444444444444,
              "#bd3786"
             ],
             [
              0.5555555555555556,
              "#d8576b"
             ],
             [
              0.6666666666666666,
              "#ed7953"
             ],
             [
              0.7777777777777778,
              "#fb9f3a"
             ],
             [
              0.8888888888888888,
              "#fdca26"
             ],
             [
              1,
              "#f0f921"
             ]
            ],
            "type": "contour"
           }
          ],
          "contourcarpet": [
           {
            "colorbar": {
             "outlinewidth": 0,
             "ticks": ""
            },
            "type": "contourcarpet"
           }
          ],
          "heatmap": [
           {
            "colorbar": {
             "outlinewidth": 0,
             "ticks": ""
            },
            "colorscale": [
             [
              0,
              "#0d0887"
             ],
             [
              0.1111111111111111,
              "#46039f"
             ],
             [
              0.2222222222222222,
              "#7201a8"
             ],
             [
              0.3333333333333333,
              "#9c179e"
             ],
             [
              0.4444444444444444,
              "#bd3786"
             ],
             [
              0.5555555555555556,
              "#d8576b"
             ],
             [
              0.6666666666666666,
              "#ed7953"
             ],
             [
              0.7777777777777778,
              "#fb9f3a"
             ],
             [
              0.8888888888888888,
              "#fdca26"
             ],
             [
              1,
              "#f0f921"
             ]
            ],
            "type": "heatmap"
           }
          ],
          "heatmapgl": [
           {
            "colorbar": {
             "outlinewidth": 0,
             "ticks": ""
            },
            "colorscale": [
             [
              0,
              "#0d0887"
             ],
             [
              0.1111111111111111,
              "#46039f"
             ],
             [
              0.2222222222222222,
              "#7201a8"
             ],
             [
              0.3333333333333333,
              "#9c179e"
             ],
             [
              0.4444444444444444,
              "#bd3786"
             ],
             [
              0.5555555555555556,
              "#d8576b"
             ],
             [
              0.6666666666666666,
              "#ed7953"
             ],
             [
              0.7777777777777778,
              "#fb9f3a"
             ],
             [
              0.8888888888888888,
              "#fdca26"
             ],
             [
              1,
              "#f0f921"
             ]
            ],
            "type": "heatmapgl"
           }
          ],
          "histogram": [
           {
            "marker": {
             "pattern": {
              "fillmode": "overlay",
              "size": 10,
              "solidity": 0.2
             }
            },
            "type": "histogram"
           }
          ],
          "histogram2d": [
           {
            "colorbar": {
             "outlinewidth": 0,
             "ticks": ""
            },
            "colorscale": [
             [
              0,
              "#0d0887"
             ],
             [
              0.1111111111111111,
              "#46039f"
             ],
             [
              0.2222222222222222,
              "#7201a8"
             ],
             [
              0.3333333333333333,
              "#9c179e"
             ],
             [
              0.4444444444444444,
              "#bd3786"
             ],
             [
              0.5555555555555556,
              "#d8576b"
             ],
             [
              0.6666666666666666,
              "#ed7953"
             ],
             [
              0.7777777777777778,
              "#fb9f3a"
             ],
             [
              0.8888888888888888,
              "#fdca26"
             ],
             [
              1,
              "#f0f921"
             ]
            ],
            "type": "histogram2d"
           }
          ],
          "histogram2dcontour": [
           {
            "colorbar": {
             "outlinewidth": 0,
             "ticks": ""
            },
            "colorscale": [
             [
              0,
              "#0d0887"
             ],
             [
              0.1111111111111111,
              "#46039f"
             ],
             [
              0.2222222222222222,
              "#7201a8"
             ],
             [
              0.3333333333333333,
              "#9c179e"
             ],
             [
              0.4444444444444444,
              "#bd3786"
             ],
             [
              0.5555555555555556,
              "#d8576b"
             ],
             [
              0.6666666666666666,
              "#ed7953"
             ],
             [
              0.7777777777777778,
              "#fb9f3a"
             ],
             [
              0.8888888888888888,
              "#fdca26"
             ],
             [
              1,
              "#f0f921"
             ]
            ],
            "type": "histogram2dcontour"
           }
          ],
          "mesh3d": [
           {
            "colorbar": {
             "outlinewidth": 0,
             "ticks": ""
            },
            "type": "mesh3d"
           }
          ],
          "parcoords": [
           {
            "line": {
             "colorbar": {
              "outlinewidth": 0,
              "ticks": ""
             }
            },
            "type": "parcoords"
           }
          ],
          "pie": [
           {
            "automargin": true,
            "type": "pie"
           }
          ],
          "scatter": [
           {
            "fillpattern": {
             "fillmode": "overlay",
             "size": 10,
             "solidity": 0.2
            },
            "type": "scatter"
           }
          ],
          "scatter3d": [
           {
            "line": {
             "colorbar": {
              "outlinewidth": 0,
              "ticks": ""
             }
            },
            "marker": {
             "colorbar": {
              "outlinewidth": 0,
              "ticks": ""
             }
            },
            "type": "scatter3d"
           }
          ],
          "scattercarpet": [
           {
            "marker": {
             "colorbar": {
              "outlinewidth": 0,
              "ticks": ""
             }
            },
            "type": "scattercarpet"
           }
          ],
          "scattergeo": [
           {
            "marker": {
             "colorbar": {
              "outlinewidth": 0,
              "ticks": ""
             }
            },
            "type": "scattergeo"
           }
          ],
          "scattergl": [
           {
            "marker": {
             "colorbar": {
              "outlinewidth": 0,
              "ticks": ""
             }
            },
            "type": "scattergl"
           }
          ],
          "scattermapbox": [
           {
            "marker": {
             "colorbar": {
              "outlinewidth": 0,
              "ticks": ""
             }
            },
            "type": "scattermapbox"
           }
          ],
          "scatterpolar": [
           {
            "marker": {
             "colorbar": {
              "outlinewidth": 0,
              "ticks": ""
             }
            },
            "type": "scatterpolar"
           }
          ],
          "scatterpolargl": [
           {
            "marker": {
             "colorbar": {
              "outlinewidth": 0,
              "ticks": ""
             }
            },
            "type": "scatterpolargl"
           }
          ],
          "scatterternary": [
           {
            "marker": {
             "colorbar": {
              "outlinewidth": 0,
              "ticks": ""
             }
            },
            "type": "scatterternary"
           }
          ],
          "surface": [
           {
            "colorbar": {
             "outlinewidth": 0,
             "ticks": ""
            },
            "colorscale": [
             [
              0,
              "#0d0887"
             ],
             [
              0.1111111111111111,
              "#46039f"
             ],
             [
              0.2222222222222222,
              "#7201a8"
             ],
             [
              0.3333333333333333,
              "#9c179e"
             ],
             [
              0.4444444444444444,
              "#bd3786"
             ],
             [
              0.5555555555555556,
              "#d8576b"
             ],
             [
              0.6666666666666666,
              "#ed7953"
             ],
             [
              0.7777777777777778,
              "#fb9f3a"
             ],
             [
              0.8888888888888888,
              "#fdca26"
             ],
             [
              1,
              "#f0f921"
             ]
            ],
            "type": "surface"
           }
          ],
          "table": [
           {
            "cells": {
             "fill": {
              "color": "#EBF0F8"
             },
             "line": {
              "color": "white"
             }
            },
            "header": {
             "fill": {
              "color": "#C8D4E3"
             },
             "line": {
              "color": "white"
             }
            },
            "type": "table"
           }
          ]
         },
         "layout": {
          "annotationdefaults": {
           "arrowcolor": "#2a3f5f",
           "arrowhead": 0,
           "arrowwidth": 1
          },
          "autotypenumbers": "strict",
          "coloraxis": {
           "colorbar": {
            "outlinewidth": 0,
            "ticks": ""
           }
          },
          "colorscale": {
           "diverging": [
            [
             0,
             "#8e0152"
            ],
            [
             0.1,
             "#c51b7d"
            ],
            [
             0.2,
             "#de77ae"
            ],
            [
             0.3,
             "#f1b6da"
            ],
            [
             0.4,
             "#fde0ef"
            ],
            [
             0.5,
             "#f7f7f7"
            ],
            [
             0.6,
             "#e6f5d0"
            ],
            [
             0.7,
             "#b8e186"
            ],
            [
             0.8,
             "#7fbc41"
            ],
            [
             0.9,
             "#4d9221"
            ],
            [
             1,
             "#276419"
            ]
           ],
           "sequential": [
            [
             0,
             "#0d0887"
            ],
            [
             0.1111111111111111,
             "#46039f"
            ],
            [
             0.2222222222222222,
             "#7201a8"
            ],
            [
             0.3333333333333333,
             "#9c179e"
            ],
            [
             0.4444444444444444,
             "#bd3786"
            ],
            [
             0.5555555555555556,
             "#d8576b"
            ],
            [
             0.6666666666666666,
             "#ed7953"
            ],
            [
             0.7777777777777778,
             "#fb9f3a"
            ],
            [
             0.8888888888888888,
             "#fdca26"
            ],
            [
             1,
             "#f0f921"
            ]
           ],
           "sequentialminus": [
            [
             0,
             "#0d0887"
            ],
            [
             0.1111111111111111,
             "#46039f"
            ],
            [
             0.2222222222222222,
             "#7201a8"
            ],
            [
             0.3333333333333333,
             "#9c179e"
            ],
            [
             0.4444444444444444,
             "#bd3786"
            ],
            [
             0.5555555555555556,
             "#d8576b"
            ],
            [
             0.6666666666666666,
             "#ed7953"
            ],
            [
             0.7777777777777778,
             "#fb9f3a"
            ],
            [
             0.8888888888888888,
             "#fdca26"
            ],
            [
             1,
             "#f0f921"
            ]
           ]
          },
          "colorway": [
           "#636efa",
           "#EF553B",
           "#00cc96",
           "#ab63fa",
           "#FFA15A",
           "#19d3f3",
           "#FF6692",
           "#B6E880",
           "#FF97FF",
           "#FECB52"
          ],
          "font": {
           "color": "#2a3f5f"
          },
          "geo": {
           "bgcolor": "white",
           "lakecolor": "white",
           "landcolor": "#E5ECF6",
           "showlakes": true,
           "showland": true,
           "subunitcolor": "white"
          },
          "hoverlabel": {
           "align": "left"
          },
          "hovermode": "closest",
          "mapbox": {
           "style": "light"
          },
          "paper_bgcolor": "white",
          "plot_bgcolor": "#E5ECF6",
          "polar": {
           "angularaxis": {
            "gridcolor": "white",
            "linecolor": "white",
            "ticks": ""
           },
           "bgcolor": "#E5ECF6",
           "radialaxis": {
            "gridcolor": "white",
            "linecolor": "white",
            "ticks": ""
           }
          },
          "scene": {
           "xaxis": {
            "backgroundcolor": "#E5ECF6",
            "gridcolor": "white",
            "gridwidth": 2,
            "linecolor": "white",
            "showbackground": true,
            "ticks": "",
            "zerolinecolor": "white"
           },
           "yaxis": {
            "backgroundcolor": "#E5ECF6",
            "gridcolor": "white",
            "gridwidth": 2,
            "linecolor": "white",
            "showbackground": true,
            "ticks": "",
            "zerolinecolor": "white"
           },
           "zaxis": {
            "backgroundcolor": "#E5ECF6",
            "gridcolor": "white",
            "gridwidth": 2,
            "linecolor": "white",
            "showbackground": true,
            "ticks": "",
            "zerolinecolor": "white"
           }
          },
          "shapedefaults": {
           "line": {
            "color": "#2a3f5f"
           }
          },
          "ternary": {
           "aaxis": {
            "gridcolor": "white",
            "linecolor": "white",
            "ticks": ""
           },
           "baxis": {
            "gridcolor": "white",
            "linecolor": "white",
            "ticks": ""
           },
           "bgcolor": "#E5ECF6",
           "caxis": {
            "gridcolor": "white",
            "linecolor": "white",
            "ticks": ""
           }
          },
          "title": {
           "x": 0.05
          },
          "xaxis": {
           "automargin": true,
           "gridcolor": "white",
           "linecolor": "white",
           "ticks": "",
           "title": {
            "standoff": 15
           },
           "zerolinecolor": "white",
           "zerolinewidth": 2
          },
          "yaxis": {
           "automargin": true,
           "gridcolor": "white",
           "linecolor": "white",
           "ticks": "",
           "title": {
            "standoff": 15
           },
           "zerolinecolor": "white",
           "zerolinewidth": 2
          }
         }
        }
       }
      }
     },
     "metadata": {},
     "output_type": "display_data"
    },
    {
     "data": {
      "application/vnd.plotly.v1+json": {
       "config": {
        "plotlyServerURL": "https://plot.ly"
       },
       "data": [
        {
         "arrangement": "freeform",
         "link": {
          "arrowlen": 15,
          "color": [
           "rgba(119, 12, 254, 0.3)",
           "rgba(45, 123, 246, 0.3)",
           "rgba(73, 83, 251, 0.3)",
           "rgba(109, 28, 254, 0.3)",
           "rgba(91, 56, 253, 0.3)",
           "rgba(53, 112, 248, 0.3)",
           "rgba(91, 56, 253, 0.3)",
           "rgba(81, 71, 252, 0.3)",
           "rgba(30, 210, 225, 0.3)",
           "rgba(48, 225, 218, 0.3)",
           "rgba(25, 149, 242, 0.3)",
           "rgba(109, 28, 254, 0.3)",
           "rgba(73, 83, 251, 0.3)",
           "rgba(17, 159, 240, 0.3)",
           "rgba(63, 97, 250, 0.3)",
           "rgba(73, 83, 251, 0.3)",
           "rgba(48, 225, 218, 0.3)",
           "rgba(101, 40, 254, 0.3)",
           "rgba(20, 201, 228, 0.3)",
           "rgba(25, 149, 242, 0.3)",
           "rgba(30, 210, 225, 0.3)",
           "rgba(30, 210, 225, 0.3)",
           "rgba(53, 112, 248, 0.3)",
           "rgba(53, 112, 248, 0.3)",
           "rgba(101, 40, 254, 0.3)",
           "rgba(119, 12, 254, 0.3)",
           "rgba(45, 123, 246, 0.3)",
           "rgba(45, 123, 246, 0.3)",
           "rgba(48, 225, 218, 0.3)",
           "rgba(17, 159, 240, 0.3)",
           "rgba(20, 201, 228, 0.3)",
           "rgba(101, 40, 254, 0.3)",
           "rgba(109, 28, 254, 0.3)",
           "rgba(81, 71, 252, 0.3)",
           "rgba(91, 56, 253, 0.3)",
           "rgba(17, 159, 240, 0.3)",
           "rgba(45, 123, 246, 0.3)",
           "rgba(81, 71, 252, 0.3)",
           "rgba(81, 71, 252, 0.3)",
           "rgba(63, 97, 250, 0.3)",
           "rgba(63, 97, 250, 0.3)",
           "rgba(20, 201, 228, 0.3)",
           "rgba(63, 97, 250, 0.3)",
           "rgba(20, 201, 228, 0.3)",
           "rgba(30, 210, 225, 0.3)",
           "rgba(63, 97, 250, 0.3)",
           "rgba(53, 112, 248, 0.3)",
           "rgba(45, 123, 246, 0.3)",
           "rgba(109, 28, 254, 0.3)",
           "rgba(109, 28, 254, 0.3)",
           "rgba(48, 225, 218, 0.3)",
           "rgba(73, 83, 251, 0.3)",
           "rgba(119, 12, 254, 0.3)",
           "rgba(91, 56, 253, 0.3)",
           "rgba(73, 83, 251, 0.3)",
           "rgba(53, 112, 248, 0.3)",
           "rgba(81, 71, 252, 0.3)",
           "rgba(101, 40, 254, 0.3)",
           "rgba(17, 159, 240, 0.3)",
           "rgba(63, 97, 250, 0.3)",
           "rgba(20, 201, 228, 0.3)",
           "rgba(63, 97, 250, 0.3)",
           "rgba(45, 123, 246, 0.3)",
           "rgba(30, 210, 225, 0.3)",
           "rgba(25, 149, 242, 0.3)",
           "rgba(119, 12, 254, 0.3)",
           "rgba(25, 149, 242, 0.3)",
           "rgba(17, 159, 240, 0.3)",
           "rgba(48, 225, 218, 0.3)",
           "rgba(45, 123, 246, 0.3)",
           "rgba(91, 56, 253, 0.3)",
           "rgba(53, 112, 248, 0.3)",
           "rgba(25, 149, 242, 0.3)",
           "rgba(25, 149, 242, 0.3)",
           "rgba(45, 123, 246, 0.3)",
           "rgba(73, 83, 251, 0.3)",
           "rgba(109, 28, 254, 0.3)",
           "rgba(25, 149, 242, 0.3)",
           "rgba(91, 56, 253, 0.3)",
           "rgba(101, 40, 254, 0.3)",
           "rgba(81, 71, 252, 0.3)",
           "rgba(119, 12, 254, 0.3)",
           "rgba(101, 40, 254, 0.3)",
           "rgba(81, 71, 252, 0.3)",
           "rgba(73, 83, 251, 0.3)",
           "rgba(101, 40, 254, 0.3)",
           "rgba(20, 201, 228, 0.3)",
           "rgba(20, 201, 228, 0.3)",
           "rgba(109, 28, 254, 0.3)",
           "rgba(53, 112, 248, 0.3)",
           "rgba(119, 12, 254, 0.3)",
           "rgba(48, 225, 218, 0.3)",
           "rgba(91, 56, 253, 0.3)",
           "rgba(81, 71, 252, 0.3)",
           "rgba(101, 40, 254, 0.3)",
           "rgba(91, 56, 253, 0.3)",
           "rgba(109, 28, 254, 0.3)",
           "rgba(17, 159, 240, 0.3)",
           "rgba(73, 83, 251, 0.3)",
           "rgba(109, 28, 254, 0.3)"
          ],
          "source": [
           0,
           8,
           5,
           1,
           3,
           7,
           3,
           4,
           16,
           18,
           10,
           1,
           5,
           11,
           6,
           5,
           18,
           2,
           15,
           10,
           16,
           16,
           7,
           7,
           2,
           0,
           8,
           8,
           18,
           11,
           15,
           2,
           1,
           4,
           3,
           11,
           8,
           4,
           4,
           6,
           6,
           15,
           6,
           15,
           16,
           6,
           7,
           8,
           1,
           1,
           18,
           5,
           0,
           3,
           5,
           7,
           4,
           2,
           11,
           6,
           15,
           6,
           8,
           16,
           10,
           0,
           10,
           11,
           18,
           8,
           3,
           7,
           10,
           10,
           8,
           5,
           1,
           10,
           3,
           2,
           4,
           0,
           2,
           4,
           5,
           2,
           15,
           15,
           1,
           7,
           0,
           18,
           3,
           4,
           2,
           3,
           1,
           11,
           5,
           1
          ],
          "target": [
           4,
           2,
           6,
           2,
           2,
           6,
           1,
           2,
           2,
           6,
           2,
           6,
           2,
           6,
           2,
           1,
           2,
           6,
           2,
           6,
           4,
           10,
           2,
           1,
           1,
           2,
           4,
           1,
           10,
           2,
           10,
           10,
           5,
           10,
           6,
           10,
           6,
           16,
           6,
           5,
           1,
           6,
           10,
           4,
           18,
           7,
           11,
           10,
           7,
           10,
           4,
           7,
           16,
           10,
           10,
           5,
           18,
           4,
           1,
           18,
           1,
           11,
           18,
           6,
           18,
           15,
           4,
           7,
           16,
           16,
           8,
           10,
           1,
           11,
           5,
           4,
           11,
           16,
           5,
           18,
           8,
           10,
           16,
           1,
           18,
           5,
           18,
           11,
           3,
           18,
           8,
           11,
           4,
           5,
           8,
           11,
           8,
           18,
           11,
           4
          ],
          "value": [
           0.32493996425749033,
           0.32400505015790704,
           0.3207855186266905,
           0.30794096839223006,
           0.3004369780176998,
           0.29991274320070826,
           0.28545431598945964,
           0.26675523046709276,
           0.26540942443269605,
           0.2613426370418391,
           0.25756730804405137,
           0.25505577727238077,
           0.2547311625609413,
           0.2528653656546081,
           0.24944682609136712,
           0.24901549773611387,
           0.24544890062869074,
           0.2407558958943292,
           0.2333528667172327,
           0.2307024295564584,
           0.22946006770683886,
           0.22630638428765798,
           0.22586291164398695,
           0.22569191910263275,
           0.22502111102624642,
           0.22450266279268008,
           0.22357447487550158,
           0.2221477693266736,
           0.2197872099920523,
           0.2187006680252896,
           0.21754392594049196,
           0.2138787301204264,
           0.2132725013963437,
           0.2121318032152368,
           0.20893024775667102,
           0.207618436438786,
           0.20721666282022652,
           0.20655616773419108,
           0.20574196342167603,
           0.2045011032602613,
           0.20245603694183925,
           0.2021075917731529,
           0.20099986173294657,
           0.2004645712161642,
           0.1995701332082888,
           0.1983138982872756,
           0.19783464036103557,
           0.1973866766346177,
           0.19723632690165835,
           0.19710248962359397,
           0.19632500516462573,
           0.19602525753456648,
           0.19583813828529514,
           0.19581795972282195,
           0.195744347350252,
           0.1945336605430952,
           0.19217047541464735,
           0.1915980784481597,
           0.19155689922796165,
           0.19030435805984192,
           0.1902754368304795,
           0.1895735858111378,
           0.18956579171296895,
           0.18920164563259878,
           0.18795790541579227,
           0.1879191617420692,
           0.18592916090022757,
           0.1858699683286522,
           0.18573484440359903,
           0.18547585210128587,
           0.18526254080927737,
           0.18367552917076435,
           0.1827577621362719,
           0.18211142307478803,
           0.18125299356631833,
           0.18105897300253226,
           0.18088593932478947,
           0.17960775931368989,
           0.17817579516759102,
           0.1763119361258571,
           0.17628945420447706,
           0.17424599373075267,
           0.17394808521803992,
           0.17326889828373396,
           0.1732185540208919,
           0.17227484004599247,
           0.17122517165249015,
           0.17096325869784615,
           0.17021088810139487,
           0.1697173221051291,
           0.16970958847941015,
           0.16898683103099021,
           0.16872720219970777,
           0.16864843007517696,
           0.16718847242816554,
           0.16672011957811636,
           0.16624065086179982,
           0.1659723519979922,
           0.16528183788877085,
           0.1652408850646301
          ]
         },
         "node": {
          "color": [
           "rgba(119, 12, 254, 0.7)",
           "rgba(109, 28, 254, 0.7)",
           "rgba(101, 40, 254, 0.7)",
           "rgba(91, 56, 253, 0.7)",
           "rgba(81, 71, 252, 0.7)",
           "rgba(73, 83, 251, 0.7)",
           "rgba(63, 97, 250, 0.7)",
           "rgba(53, 112, 248, 0.7)",
           "rgba(45, 123, 246, 0.7)",
           "rgba(35, 136, 244, 0.7)",
           "rgba(25, 149, 242, 0.7)",
           "rgba(17, 159, 240, 0.7)",
           "rgba(7, 171, 237, 0.7)",
           "rgba(2, 183, 234, 0.7)",
           "rgba(10, 191, 232, 0.7)",
           "rgba(20, 201, 228, 0.7)",
           "rgba(30, 210, 225, 0.7)",
           "rgba(38, 217, 222, 0.7)",
           "rgba(48, 225, 218, 0.7)",
           "rgba(58, 232, 214, 0.7)",
           "rgba(66, 237, 210, 0.7)",
           "rgba(76, 242, 206, 0.7)",
           "rgba(86, 246, 201, 0.7)",
           "rgba(94, 249, 197, 0.7)",
           "rgba(104, 252, 192, 0.7)",
           "rgba(114, 254, 187, 0.7)",
           "rgba(122, 254, 183, 0.7)",
           "rgba(132, 254, 177, 0.7)",
           "rgba(140, 254, 172, 0.7)",
           "rgba(150, 252, 167, 0.7)",
           "rgba(160, 249, 161, 0.7)",
           "rgba(168, 246, 156, 0.7)",
           "rgba(178, 242, 149, 0.7)",
           "rgba(188, 237, 143, 0.7)",
           "rgba(196, 232, 138, 0.7)",
           "rgba(206, 225, 131, 0.7)",
           "rgba(216, 217, 124, 0.7)",
           "rgba(224, 210, 119, 0.7)",
           "rgba(234, 201, 112, 0.7)",
           "rgba(244, 191, 105, 0.7)",
           "rgba(252, 183, 99, 0.7)",
           "rgba(255, 171, 92, 0.7)",
           "rgba(255, 159, 84, 0.7)",
           "rgba(255, 149, 78, 0.7)",
           "rgba(255, 136, 71, 0.7)",
           "rgba(255, 123, 63, 0.7)",
           "rgba(255, 112, 57, 0.7)",
           "rgba(255, 97, 49, 0.7)",
           "rgba(255, 83, 42, 0.7)",
           "rgba(255, 71, 36, 0.7)",
           "rgba(255, 56, 28, 0.7)",
           "rgba(255, 40, 20, 0.7)",
           "rgba(255, 28, 14, 0.7)",
           "rgba(255, 12, 6, 0.7)"
          ],
          "label": [
           "Speaker Party",
           "general score",
           "outreach",
           "persuasiveness",
           "empathy",
           "authenticity",
           "decorum",
           "tone is professional",
           "resonance",
           "preparation",
           "logical",
           "clarity",
           "egotistical",
           "relevant",
           "contextual awareness",
           "listening skills",
           "civil discourse",
           "coherence",
           "respectfulness",
           "responsiveness",
           "pro neutral",
           "language appropriateness",
           "evasiveness",
           "adherence to rules",
           "factuality",
           "contribution",
           "manipulation",
           "completeness",
           "respect for diverse opinions",
           "sensationalism",
           "use of evidence",
           "objectivity",
           "interruptions",
           "consistency",
           "conciseness",
           "venue respect",
           "accessibility",
           "innovation",
           "relevance",
           "fair play",
           "time management",
           "speaker_num_parts",
           "bias",
           "truthfulness",
           "tone is academic",
           "num_parts",
           "content quality",
           "speaker_num_parts_ratio",
           "balance",
           "quality of sources",
           "speaker_popular_votes_ratio",
           "controversiality",
           "confidence",
           "engagement"
          ],
          "pad": 10
         },
         "type": "sankey"
        }
       ],
       "layout": {
        "template": {
         "data": {
          "bar": [
           {
            "error_x": {
             "color": "#2a3f5f"
            },
            "error_y": {
             "color": "#2a3f5f"
            },
            "marker": {
             "line": {
              "color": "#E5ECF6",
              "width": 0.5
             },
             "pattern": {
              "fillmode": "overlay",
              "size": 10,
              "solidity": 0.2
             }
            },
            "type": "bar"
           }
          ],
          "barpolar": [
           {
            "marker": {
             "line": {
              "color": "#E5ECF6",
              "width": 0.5
             },
             "pattern": {
              "fillmode": "overlay",
              "size": 10,
              "solidity": 0.2
             }
            },
            "type": "barpolar"
           }
          ],
          "carpet": [
           {
            "aaxis": {
             "endlinecolor": "#2a3f5f",
             "gridcolor": "white",
             "linecolor": "white",
             "minorgridcolor": "white",
             "startlinecolor": "#2a3f5f"
            },
            "baxis": {
             "endlinecolor": "#2a3f5f",
             "gridcolor": "white",
             "linecolor": "white",
             "minorgridcolor": "white",
             "startlinecolor": "#2a3f5f"
            },
            "type": "carpet"
           }
          ],
          "choropleth": [
           {
            "colorbar": {
             "outlinewidth": 0,
             "ticks": ""
            },
            "type": "choropleth"
           }
          ],
          "contour": [
           {
            "colorbar": {
             "outlinewidth": 0,
             "ticks": ""
            },
            "colorscale": [
             [
              0,
              "#0d0887"
             ],
             [
              0.1111111111111111,
              "#46039f"
             ],
             [
              0.2222222222222222,
              "#7201a8"
             ],
             [
              0.3333333333333333,
              "#9c179e"
             ],
             [
              0.4444444444444444,
              "#bd3786"
             ],
             [
              0.5555555555555556,
              "#d8576b"
             ],
             [
              0.6666666666666666,
              "#ed7953"
             ],
             [
              0.7777777777777778,
              "#fb9f3a"
             ],
             [
              0.8888888888888888,
              "#fdca26"
             ],
             [
              1,
              "#f0f921"
             ]
            ],
            "type": "contour"
           }
          ],
          "contourcarpet": [
           {
            "colorbar": {
             "outlinewidth": 0,
             "ticks": ""
            },
            "type": "contourcarpet"
           }
          ],
          "heatmap": [
           {
            "colorbar": {
             "outlinewidth": 0,
             "ticks": ""
            },
            "colorscale": [
             [
              0,
              "#0d0887"
             ],
             [
              0.1111111111111111,
              "#46039f"
             ],
             [
              0.2222222222222222,
              "#7201a8"
             ],
             [
              0.3333333333333333,
              "#9c179e"
             ],
             [
              0.4444444444444444,
              "#bd3786"
             ],
             [
              0.5555555555555556,
              "#d8576b"
             ],
             [
              0.6666666666666666,
              "#ed7953"
             ],
             [
              0.7777777777777778,
              "#fb9f3a"
             ],
             [
              0.8888888888888888,
              "#fdca26"
             ],
             [
              1,
              "#f0f921"
             ]
            ],
            "type": "heatmap"
           }
          ],
          "heatmapgl": [
           {
            "colorbar": {
             "outlinewidth": 0,
             "ticks": ""
            },
            "colorscale": [
             [
              0,
              "#0d0887"
             ],
             [
              0.1111111111111111,
              "#46039f"
             ],
             [
              0.2222222222222222,
              "#7201a8"
             ],
             [
              0.3333333333333333,
              "#9c179e"
             ],
             [
              0.4444444444444444,
              "#bd3786"
             ],
             [
              0.5555555555555556,
              "#d8576b"
             ],
             [
              0.6666666666666666,
              "#ed7953"
             ],
             [
              0.7777777777777778,
              "#fb9f3a"
             ],
             [
              0.8888888888888888,
              "#fdca26"
             ],
             [
              1,
              "#f0f921"
             ]
            ],
            "type": "heatmapgl"
           }
          ],
          "histogram": [
           {
            "marker": {
             "pattern": {
              "fillmode": "overlay",
              "size": 10,
              "solidity": 0.2
             }
            },
            "type": "histogram"
           }
          ],
          "histogram2d": [
           {
            "colorbar": {
             "outlinewidth": 0,
             "ticks": ""
            },
            "colorscale": [
             [
              0,
              "#0d0887"
             ],
             [
              0.1111111111111111,
              "#46039f"
             ],
             [
              0.2222222222222222,
              "#7201a8"
             ],
             [
              0.3333333333333333,
              "#9c179e"
             ],
             [
              0.4444444444444444,
              "#bd3786"
             ],
             [
              0.5555555555555556,
              "#d8576b"
             ],
             [
              0.6666666666666666,
              "#ed7953"
             ],
             [
              0.7777777777777778,
              "#fb9f3a"
             ],
             [
              0.8888888888888888,
              "#fdca26"
             ],
             [
              1,
              "#f0f921"
             ]
            ],
            "type": "histogram2d"
           }
          ],
          "histogram2dcontour": [
           {
            "colorbar": {
             "outlinewidth": 0,
             "ticks": ""
            },
            "colorscale": [
             [
              0,
              "#0d0887"
             ],
             [
              0.1111111111111111,
              "#46039f"
             ],
             [
              0.2222222222222222,
              "#7201a8"
             ],
             [
              0.3333333333333333,
              "#9c179e"
             ],
             [
              0.4444444444444444,
              "#bd3786"
             ],
             [
              0.5555555555555556,
              "#d8576b"
             ],
             [
              0.6666666666666666,
              "#ed7953"
             ],
             [
              0.7777777777777778,
              "#fb9f3a"
             ],
             [
              0.8888888888888888,
              "#fdca26"
             ],
             [
              1,
              "#f0f921"
             ]
            ],
            "type": "histogram2dcontour"
           }
          ],
          "mesh3d": [
           {
            "colorbar": {
             "outlinewidth": 0,
             "ticks": ""
            },
            "type": "mesh3d"
           }
          ],
          "parcoords": [
           {
            "line": {
             "colorbar": {
              "outlinewidth": 0,
              "ticks": ""
             }
            },
            "type": "parcoords"
           }
          ],
          "pie": [
           {
            "automargin": true,
            "type": "pie"
           }
          ],
          "scatter": [
           {
            "fillpattern": {
             "fillmode": "overlay",
             "size": 10,
             "solidity": 0.2
            },
            "type": "scatter"
           }
          ],
          "scatter3d": [
           {
            "line": {
             "colorbar": {
              "outlinewidth": 0,
              "ticks": ""
             }
            },
            "marker": {
             "colorbar": {
              "outlinewidth": 0,
              "ticks": ""
             }
            },
            "type": "scatter3d"
           }
          ],
          "scattercarpet": [
           {
            "marker": {
             "colorbar": {
              "outlinewidth": 0,
              "ticks": ""
             }
            },
            "type": "scattercarpet"
           }
          ],
          "scattergeo": [
           {
            "marker": {
             "colorbar": {
              "outlinewidth": 0,
              "ticks": ""
             }
            },
            "type": "scattergeo"
           }
          ],
          "scattergl": [
           {
            "marker": {
             "colorbar": {
              "outlinewidth": 0,
              "ticks": ""
             }
            },
            "type": "scattergl"
           }
          ],
          "scattermapbox": [
           {
            "marker": {
             "colorbar": {
              "outlinewidth": 0,
              "ticks": ""
             }
            },
            "type": "scattermapbox"
           }
          ],
          "scatterpolar": [
           {
            "marker": {
             "colorbar": {
              "outlinewidth": 0,
              "ticks": ""
             }
            },
            "type": "scatterpolar"
           }
          ],
          "scatterpolargl": [
           {
            "marker": {
             "colorbar": {
              "outlinewidth": 0,
              "ticks": ""
             }
            },
            "type": "scatterpolargl"
           }
          ],
          "scatterternary": [
           {
            "marker": {
             "colorbar": {
              "outlinewidth": 0,
              "ticks": ""
             }
            },
            "type": "scatterternary"
           }
          ],
          "surface": [
           {
            "colorbar": {
             "outlinewidth": 0,
             "ticks": ""
            },
            "colorscale": [
             [
              0,
              "#0d0887"
             ],
             [
              0.1111111111111111,
              "#46039f"
             ],
             [
              0.2222222222222222,
              "#7201a8"
             ],
             [
              0.3333333333333333,
              "#9c179e"
             ],
             [
              0.4444444444444444,
              "#bd3786"
             ],
             [
              0.5555555555555556,
              "#d8576b"
             ],
             [
              0.6666666666666666,
              "#ed7953"
             ],
             [
              0.7777777777777778,
              "#fb9f3a"
             ],
             [
              0.8888888888888888,
              "#fdca26"
             ],
             [
              1,
              "#f0f921"
             ]
            ],
            "type": "surface"
           }
          ],
          "table": [
           {
            "cells": {
             "fill": {
              "color": "#EBF0F8"
             },
             "line": {
              "color": "white"
             }
            },
            "header": {
             "fill": {
              "color": "#C8D4E3"
             },
             "line": {
              "color": "white"
             }
            },
            "type": "table"
           }
          ]
         },
         "layout": {
          "annotationdefaults": {
           "arrowcolor": "#2a3f5f",
           "arrowhead": 0,
           "arrowwidth": 1
          },
          "autotypenumbers": "strict",
          "coloraxis": {
           "colorbar": {
            "outlinewidth": 0,
            "ticks": ""
           }
          },
          "colorscale": {
           "diverging": [
            [
             0,
             "#8e0152"
            ],
            [
             0.1,
             "#c51b7d"
            ],
            [
             0.2,
             "#de77ae"
            ],
            [
             0.3,
             "#f1b6da"
            ],
            [
             0.4,
             "#fde0ef"
            ],
            [
             0.5,
             "#f7f7f7"
            ],
            [
             0.6,
             "#e6f5d0"
            ],
            [
             0.7,
             "#b8e186"
            ],
            [
             0.8,
             "#7fbc41"
            ],
            [
             0.9,
             "#4d9221"
            ],
            [
             1,
             "#276419"
            ]
           ],
           "sequential": [
            [
             0,
             "#0d0887"
            ],
            [
             0.1111111111111111,
             "#46039f"
            ],
            [
             0.2222222222222222,
             "#7201a8"
            ],
            [
             0.3333333333333333,
             "#9c179e"
            ],
            [
             0.4444444444444444,
             "#bd3786"
            ],
            [
             0.5555555555555556,
             "#d8576b"
            ],
            [
             0.6666666666666666,
             "#ed7953"
            ],
            [
             0.7777777777777778,
             "#fb9f3a"
            ],
            [
             0.8888888888888888,
             "#fdca26"
            ],
            [
             1,
             "#f0f921"
            ]
           ],
           "sequentialminus": [
            [
             0,
             "#0d0887"
            ],
            [
             0.1111111111111111,
             "#46039f"
            ],
            [
             0.2222222222222222,
             "#7201a8"
            ],
            [
             0.3333333333333333,
             "#9c179e"
            ],
            [
             0.4444444444444444,
             "#bd3786"
            ],
            [
             0.5555555555555556,
             "#d8576b"
            ],
            [
             0.6666666666666666,
             "#ed7953"
            ],
            [
             0.7777777777777778,
             "#fb9f3a"
            ],
            [
             0.8888888888888888,
             "#fdca26"
            ],
            [
             1,
             "#f0f921"
            ]
           ]
          },
          "colorway": [
           "#636efa",
           "#EF553B",
           "#00cc96",
           "#ab63fa",
           "#FFA15A",
           "#19d3f3",
           "#FF6692",
           "#B6E880",
           "#FF97FF",
           "#FECB52"
          ],
          "font": {
           "color": "#2a3f5f"
          },
          "geo": {
           "bgcolor": "white",
           "lakecolor": "white",
           "landcolor": "#E5ECF6",
           "showlakes": true,
           "showland": true,
           "subunitcolor": "white"
          },
          "hoverlabel": {
           "align": "left"
          },
          "hovermode": "closest",
          "mapbox": {
           "style": "light"
          },
          "paper_bgcolor": "white",
          "plot_bgcolor": "#E5ECF6",
          "polar": {
           "angularaxis": {
            "gridcolor": "white",
            "linecolor": "white",
            "ticks": ""
           },
           "bgcolor": "#E5ECF6",
           "radialaxis": {
            "gridcolor": "white",
            "linecolor": "white",
            "ticks": ""
           }
          },
          "scene": {
           "xaxis": {
            "backgroundcolor": "#E5ECF6",
            "gridcolor": "white",
            "gridwidth": 2,
            "linecolor": "white",
            "showbackground": true,
            "ticks": "",
            "zerolinecolor": "white"
           },
           "yaxis": {
            "backgroundcolor": "#E5ECF6",
            "gridcolor": "white",
            "gridwidth": 2,
            "linecolor": "white",
            "showbackground": true,
            "ticks": "",
            "zerolinecolor": "white"
           },
           "zaxis": {
            "backgroundcolor": "#E5ECF6",
            "gridcolor": "white",
            "gridwidth": 2,
            "linecolor": "white",
            "showbackground": true,
            "ticks": "",
            "zerolinecolor": "white"
           }
          },
          "shapedefaults": {
           "line": {
            "color": "#2a3f5f"
           }
          },
          "ternary": {
           "aaxis": {
            "gridcolor": "white",
            "linecolor": "white",
            "ticks": ""
           },
           "baxis": {
            "gridcolor": "white",
            "linecolor": "white",
            "ticks": ""
           },
           "bgcolor": "#E5ECF6",
           "caxis": {
            "gridcolor": "white",
            "linecolor": "white",
            "ticks": ""
           }
          },
          "title": {
           "x": 0.05
          },
          "xaxis": {
           "automargin": true,
           "gridcolor": "white",
           "linecolor": "white",
           "ticks": "",
           "title": {
            "standoff": 15
           },
           "zerolinecolor": "white",
           "zerolinewidth": 2
          },
          "yaxis": {
           "automargin": true,
           "gridcolor": "white",
           "linecolor": "white",
           "ticks": "",
           "title": {
            "standoff": 15
           },
           "zerolinecolor": "white",
           "zerolinewidth": 2
          }
         }
        }
       }
      }
     },
     "metadata": {},
     "output_type": "display_data"
    }
   ],
   "source": [
    "source = 'Speaker Party'\n",
    "target = 'general score'\n",
    "\n",
    "sub_data = data.copy()\n",
    "sub_data = sub_data.rename(columns={'speaker_party_IS_DEMOCRAT': 'Speaker Party'})\n",
    "\n",
    "corr = sub_data.corr()\n",
    "sub_columns = corr.loc[:, [source, target]].abs().max(axis=1)\n",
    "sub_columns = sub_columns[(sub_columns > 0.2) & (sub_columns < 0.8)]\n",
    "sub_columns = [source, target] + list(sub_columns.index)\n",
    "\n",
    "sub_data = sub_data[sub_columns]\n",
    "\n",
    "for n_connections in [1, 2, 3, 5, 7, 9, 20, 50, 100]:\n",
    "    dis_matrix, _, _ = compute_distance_matrix_from_df(sub_data)\n",
    "    dm = DistanceMatrix(dis_matrix)\n",
    "    dm.keep_strongest_outgoing_influence(n_connections, 'Speaker Party')\n",
    "    fig = dm.to_go_figure()\n",
    "    fig.show()"
   ]
  },
  {
   "cell_type": "code",
   "execution_count": null,
   "metadata": {},
   "outputs": [
    {
     "data": {
      "text/plain": [
       "(0.041647683739242505, 0.0, 0.016345568892927993, 0.0011174992191413276)"
      ]
     },
     "execution_count": 9,
     "metadata": {},
     "output_type": "execute_result"
    }
   ],
   "source": [
    "n_bootstrap_samples = 2000\n",
    "\n",
    "def get_dis_matrix(data):\n",
    "    dis_matrix, _, _ = compute_distance_matrix_from_df(data)\n",
    "    return dis_matrix\n",
    "\n",
    "# run bootstrap\n",
    "bootstrap_std, bootstrap_raw_measurements, _ = bootstrap_estimation(data, get_dis_matrix, gen_bootstrap_data, n_experiments=n_bootstrap_samples)\n",
    "bootstrap_std.max().max(), bootstrap_std.min().min(), bootstrap_std.mean().mean(), bootstrap_std.std().std()"
   ]
  },
  {
   "cell_type": "code",
   "execution_count": null,
   "metadata": {},
   "outputs": [
    {
     "data": {
      "text/plain": [
       "(1.0, 0.0, 0.9512431412894377, 0.04633601320566756)"
      ]
     },
     "execution_count": 10,
     "metadata": {},
     "output_type": "execute_result"
    }
   ],
   "source": [
    "# we check in how many cases a connection is present in the bootstrap samples\n",
    "def convert_to_flags(data):\n",
    "    data = data.copy()\n",
    "    data[data > 0] = 1\n",
    "    data[data < 0] = 0\n",
    "    return data\n",
    "\n",
    "bootstrap_connection_values = [\n",
    "    convert_to_flags(bootstrap_raw_measurements[i])\n",
    "    for i in range(n_bootstrap_samples)\n",
    "]\n",
    "# group into a new df\n",
    "def list_of_dfs_to_df_of_lists(list_of_dfs):\n",
    "    df = pd.DataFrame(index=list_of_dfs[0].index, columns=list_of_dfs[0].columns, dtype=object)\n",
    "    for row in df.index:\n",
    "        for col in df.columns:\n",
    "            vals = [list_of_dfs[i].loc[row, col] for i in range(n_bootstrap_samples)]\n",
    "            vals = [v for v in vals if v is not None]\n",
    "            df.loc[row, col] = vals\n",
    "            n_nan = n_bootstrap_samples - len(df.loc[row, col])\n",
    "            if n_nan > 0:\n",
    "                print(f\"[WARNING]: {n_nan} of {n_bootstrap_samples} values in the results are NAN for {row}, {col}. Removing them.\")\n",
    "    return df\n",
    "\n",
    "bootstrap_connection_values = list_of_dfs_to_df_of_lists(bootstrap_connection_values)\n",
    "bootstrap_connection_percentage = bootstrap_connection_values.applymap(np.mean)\n",
    "bootstrap_connection_percentage.max().max(), bootstrap_connection_percentage.min().min(), bootstrap_connection_percentage.mean().mean(), bootstrap_connection_percentage.std().std()"
   ]
  },
  {
   "cell_type": "code",
   "execution_count": null,
   "metadata": {},
   "outputs": [
    {
     "name": "stdout",
     "output_type": "stream",
     "text": [
      "Connections: 10\tActive Connections: 79\n",
      "\tconsistency: max: 1.00000, min: 0.57000, mean: 0.99885, std: 0.01466\n",
      "\tConsistency of at least once active connections: max: 0.99950, min: 0.57000, mean: 0.95758, std: 0.08564\n",
      "\tConnection Strength: max: 0.32399, min: -0.03260, mean: 0.07853, std: 0.01365\n",
      "\tMean of connection strength for at least once active connections: 0.23140\n",
      "\tStd of connection strength for at least once active connections: max std: 0.03850, min std: 0.01744, mean std: 0.02464, std of stds: 0.00409\n",
      "\tTop Connections: Mean Strengths: 0.29820920543661533, Mean STDS: 0.02585657571193852, Mean Consisntency: 0.8503000000000001\n",
      "Connections: 50\tActive Connections: 276\n",
      "\tconsistency: max: 1.00000, min: 0.50150, mean: 0.99223, std: 0.03953\n",
      "\tConsistency of at least once active connections: max: 1.00000, min: 0.50150, mean: 0.91791, std: 0.13211\n",
      "\tConnection Strength: max: 0.32399, min: -0.03260, mean: 0.07853, std: 0.01365\n",
      "\tMean of connection strength for at least once active connections: 0.19305\n",
      "\tStd of connection strength for at least once active connections: max std: 0.04164, min std: 0.01632, mean std: 0.02362, std of stds: 0.00393\n",
      "\tTop Connections: Mean Strengths: 0.24881022473857992, Mean STDS: 0.024356609887664988, Mean Consisntency: 0.77813\n",
      "Connections: 100\tActive Connections: 444\n",
      "\tconsistency: max: 1.00000, min: 0.50250, mean: 0.98569, std: 0.04774\n",
      "\tConsistency of at least once active connections: max: 1.00000, min: 0.50250, mean: 0.90599, std: 0.13217\n",
      "\tConnection Strength: max: 0.32399, min: -0.03260, mean: 0.07853, std: 0.01365\n",
      "\tMean of connection strength for at least once active connections: 0.17620\n",
      "\tStd of connection strength for at least once active connections: max std: 0.04164, min std: 0.01586, mean std: 0.02300, std of stds: 0.00371\n",
      "\tTop Connections: Mean Strengths: 0.22794594478523428, Mean STDS: 0.023711659769434634, Mean Consisntency: 0.8030300000000001\n",
      "Connections: 1000\tActive Connections: 1995\n",
      "\tconsistency: max: 1.00000, min: 0.50050, mean: 0.93271, std: 0.05776\n",
      "\tConsistency of at least once active connections: max: 1.00000, min: 0.50050, mean: 0.90165, std: 0.13502\n",
      "\tConnection Strength: max: 0.32399, min: -0.03260, mean: 0.07853, std: 0.01365\n",
      "\tMean of connection strength for at least once active connections: 0.10456\n",
      "\tStd of connection strength for at least once active connections: max std: 0.04164, min std: 0.01011, mean std: 0.01903, std of stds: 0.00421\n",
      "\tTop Connections: Mean Strengths: 0.1425861580763732, Mean STDS: 0.021054886553572974, Mean Consisntency: 0.9019725000000001\n"
     ]
    }
   ],
   "source": [
    "# we check in how often consistent the connections that are kept for plotting are in the bootstrap samples\n",
    "# num_edges_to_check = [10, 20, 50, 100, 200, 500, 1000] # max is 54*54, but for plotting we only keep very few\n",
    "num_edges_to_check = [10, 50, 100, 1000] # max is 54*54, but for plotting we only keep very few\n",
    "\n",
    "def keep_only_strongest_connections(dis_matrix, num_edges):\n",
    "    assert(list(dis_matrix.columns) == list(dis_matrix.index))\n",
    "    dis_matrix = dis_matrix.copy()\n",
    "    # links = []\n",
    "    edges = sorted([(s, t, dis_matrix.loc[s, t]) for i, s in enumerate(dis_matrix.columns) for j, t in enumerate(dis_matrix.columns) if s != t and dis_matrix.loc[s][t] > 0.], key=lambda x: x[2], reverse=True)\n",
    "    # for s, t, d in edges[:num_edges]:\n",
    "    #     links.append(dict(source=s, target=j, value=d))\n",
    "    \n",
    "    for s, t, _ in edges[num_edges:]:\n",
    "        dis_matrix.loc[s, t] = 0.\n",
    "    \n",
    "    # set remaining values to 0\n",
    "    dis_matrix = dis_matrix.applymap(lambda x: 0. if x <= 0. else x)\n",
    "\n",
    "    assert(np.sum(dis_matrix.applymap(lambda x: 1 if x > 0. else 0).values) <= num_edges)\n",
    "\n",
    "    return dis_matrix\n",
    "\n",
    "for num_edges in num_edges_to_check:\n",
    "    bootstrap_all_connection_values = list_of_dfs_to_df_of_lists(bootstrap_raw_measurements)\n",
    "\n",
    "    bootstrap_connection_values = [\n",
    "        keep_only_strongest_connections(bootstrap_raw_measurements[i], num_edges)\n",
    "        for i in range(n_bootstrap_samples)\n",
    "    ]\n",
    "\n",
    "    average_dis_matrix = bootstrap_all_connection_values.applymap(np.mean)\n",
    "    average_dis_matrix = keep_only_strongest_connections(average_dis_matrix, num_edges)\n",
    "    top_average_connections = []\n",
    "    for i, s in enumerate(average_dis_matrix.columns):\n",
    "        for j, t in enumerate(average_dis_matrix.columns):\n",
    "            if i != j and average_dis_matrix.loc[s, t] > 0.:\n",
    "                top_average_connections.append((s, t, average_dis_matrix.loc[s, t]))\n",
    "    assert(len(top_average_connections) <= num_edges)\n",
    "\n",
    "    bootstrap_connection_values = list_of_dfs_to_df_of_lists(bootstrap_connection_values)\n",
    "    bootstrap_connection_flags = bootstrap_connection_values.applymap(lambda x: [1. if v > 0. else 0. for v in x])\n",
    "    bootstrap_connection_percentage = bootstrap_connection_flags.applymap(np.mean)\n",
    "    # bootstrap_connection_consistency = bootstrap_connection_percentage.applymap(lambda x: max(np.mean(x), 1-np.mean(x)))\n",
    "    bootstrap_connection_consistency = bootstrap_connection_percentage.applymap(lambda x: max(x, 1-x))\n",
    "    bootstrap_active_connection_consistency_values = []\n",
    "    # go through all connections with percentage > 0\n",
    "    for i, s in enumerate(bootstrap_connection_percentage.columns):\n",
    "        for j, t in enumerate(bootstrap_connection_percentage.columns):\n",
    "            if i != j and bootstrap_connection_percentage.loc[s, t] > 0.:\n",
    "                bootstrap_active_connection_consistency_values.append(bootstrap_connection_consistency.loc[s, t])\n",
    "    bootstrap_active_connection_consistency_values = np.array(bootstrap_active_connection_consistency_values)\n",
    "\n",
    "    bootstrap_connection_strength = bootstrap_all_connection_values.applymap(np.mean) # lambda x: np.mean([v for v in x if v >= 0.]))\n",
    "\n",
    "    bootstrap_connection_stds = bootstrap_all_connection_values.applymap(np.std)\n",
    "    # assert no nan values\n",
    "    assert not bootstrap_connection_stds.isna().any().any()\n",
    "\n",
    "    bootstrap_active_connection_stds = []\n",
    "    # go through all connections with percentage > 0\n",
    "    for i, s in enumerate(bootstrap_connection_percentage.columns):\n",
    "        for j, t in enumerate(bootstrap_connection_percentage.columns):\n",
    "            if i != j and bootstrap_connection_percentage.loc[s, t] > 0.:\n",
    "                bootstrap_active_connection_stds.append(bootstrap_connection_stds.loc[s, t])\n",
    "    bootstrap_active_connection_stds = np.array(bootstrap_active_connection_stds)\n",
    "\n",
    "    bootstrap_active_connection_means = []\n",
    "    # go through all connections with percentage > 0\n",
    "    for i, s in enumerate(bootstrap_connection_percentage.columns):\n",
    "        for j, t in enumerate(bootstrap_connection_percentage.columns):\n",
    "            if i != j and bootstrap_connection_percentage.loc[s, t] > 0.:\n",
    "                bootstrap_active_connection_means.append(bootstrap_connection_strength.loc[s, t])\n",
    "    bootstrap_active_connection_means = np.array(bootstrap_active_connection_means)\n",
    "\n",
    "    bootstrap_top_connections_consistencies = []\n",
    "    bootstrap_top_connections_stds = []\n",
    "    bootstrap_top_connections_strengths = []\n",
    "    for s, t, d in top_average_connections:\n",
    "        bootstrap_top_connections_stds.append(bootstrap_connection_stds.loc[s, t])\n",
    "        bootstrap_top_connections_consistencies.append(bootstrap_connection_consistency.loc[s,t])\n",
    "        bootstrap_top_connections_strengths.append(bootstrap_connection_strength.loc[s,t])\n",
    "    bootstrap_top_connections_strengths = np.array(bootstrap_top_connections_strengths)\n",
    "    bootstrap_top_connections_consistencies = np.array(bootstrap_top_connections_consistencies)\n",
    "    bootstrap_top_connections_stds = np.array(bootstrap_top_connections_stds)\n",
    "\n",
    "    print(f'Connections: {num_edges}\\tActive Connections: {len(bootstrap_active_connection_consistency_values)}\\n\\tconsistency: max: {bootstrap_connection_consistency.max().max():.5f}, min: {bootstrap_connection_consistency.min().min():.5f}, mean: {bootstrap_connection_consistency.mean().mean():.5f}, std: {bootstrap_connection_consistency.std().std():.5f}')\n",
    "    print(f'\\tConsistency of at least once active connections: max: {bootstrap_active_connection_consistency_values.max():.5f}, min: {bootstrap_active_connection_consistency_values.min():.5f}, mean: {bootstrap_active_connection_consistency_values.mean():.5f}, std: {bootstrap_active_connection_consistency_values.std():.5f}')\n",
    "    print(f'\\tConnection Strength: max: {bootstrap_connection_strength.max().max():.5f}, min: {bootstrap_connection_strength.min().min():.5f}, mean: {bootstrap_connection_strength.mean().mean():.5f}, std: {bootstrap_connection_strength.std().std():.5f}')\n",
    "    print(f'\\tMean of connection strength for at least once active connections: {bootstrap_active_connection_means.mean():.5f}')\n",
    "    print(f'\\tStd of connection strength for at least once active connections: max std: {bootstrap_active_connection_stds.max():.5f}, min std: {bootstrap_active_connection_stds.min():.5f}, mean std: {bootstrap_active_connection_stds.mean():.5f}, std of stds: {bootstrap_active_connection_stds.std():.5f}')\n",
    "    print(f'\\tTop Connections: Mean Strengths: {bootstrap_top_connections_strengths.mean()}, Mean STDS: {bootstrap_top_connections_stds.mean()}, Mean Consisntency: {bootstrap_top_connections_consistencies.mean()}')\n",
    "    # print(f'Connections: {num_edges}, max: {bootstrap_connection_percentage.max().max():.5f}, min: {bootstrap_connection_percentage.min().min():.5f}, mean: {bootstrap_connection_percentage.mean().mean():.5f}, std: {bootstrap_connection_percentage.std().std():.5f}')"
   ]
  },
  {
   "cell_type": "code",
   "execution_count": null,
   "metadata": {},
   "outputs": [],
   "source": []
  }
 ],
 "metadata": {
  "kernelspec": {
   "display_name": ".venv",
   "language": "python",
   "name": "python3"
  },
  "language_info": {
   "codemirror_mode": {
    "name": "ipython",
    "version": 3
   },
   "file_extension": ".py",
   "mimetype": "text/x-python",
   "name": "python",
   "nbconvert_exporter": "python",
   "pygments_lexer": "ipython3",
   "version": "3.11.8"
  },
  "orig_nbformat": 4
 },
 "nbformat": 4,
 "nbformat_minor": 2
}
